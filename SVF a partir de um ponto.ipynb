{
 "cells": [
  {
   "cell_type": "code",
   "execution_count": 162,
   "metadata": {},
   "outputs": [
    {
     "data": {
      "text/html": [
       "<pre>✔️ 2.3 ms (2021-01-29T15:45:04/2021-01-29T15:45:04)</pre>"
      ],
      "text/plain": [
       "<IPython.core.display.HTML object>"
      ]
     },
     "metadata": {},
     "output_type": "display_data"
    }
   ],
   "source": [
    "import pdal\n",
    "import numpy as np"
   ]
  },
  {
   "cell_type": "code",
   "execution_count": 163,
   "metadata": {},
   "outputs": [
    {
     "data": {
      "text/html": [
       "<pre>✔️ 2.85 ms (2021-01-29T15:45:05/2021-01-29T15:45:05)</pre>"
      ],
      "text/plain": [
       "<IPython.core.display.HTML object>"
      ]
     },
     "metadata": {},
     "output_type": "display_data"
    },
    {
     "name": "stdout",
     "output_type": "stream",
     "text": [
      "The autotime extension is already loaded. To reload it, use:\n",
      "  %reload_ext autotime\n"
     ]
    }
   ],
   "source": [
    "%load_ext autotime"
   ]
  },
  {
   "cell_type": "code",
   "execution_count": 164,
   "metadata": {},
   "outputs": [
    {
     "data": {
      "text/html": [
       "<pre>✔️ 276 µs (2021-01-29T15:45:05/2021-01-29T15:45:05)</pre>"
      ],
      "text/plain": [
       "<IPython.core.display.HTML object>"
      ]
     },
     "metadata": {},
     "output_type": "display_data"
    }
   ],
   "source": [
    "pipeline=\"\"\"{\n",
    "  \"pipeline\": [\n",
    "    {\n",
    "        \"type\": \"readers.las\",\n",
    "        \"filename\": \"arquivos/MDS/MDS_3314-231.laz\"\n",
    "    },\n",
    "    {\n",
    "        \"type\": \"filters.sample\",\n",
    "        \"radius\": 5\n",
    "    }\n",
    "  ]\n",
    "}\"\"\""
   ]
  },
  {
   "cell_type": "code",
   "execution_count": 165,
   "metadata": {},
   "outputs": [
    {
     "data": {
      "text/html": [
       "<pre>✔️ 8.88 s (2021-01-29T15:45:05/2021-01-29T15:45:14)</pre>"
      ],
      "text/plain": [
       "<IPython.core.display.HTML object>"
      ]
     },
     "metadata": {},
     "output_type": "display_data"
    }
   ],
   "source": [
    "r = pdal.Pipeline(pipeline)\n",
    "r.validate()\n",
    "r.execute()\n",
    "pts = r.arrays[0]"
   ]
  },
  {
   "cell_type": "code",
   "execution_count": 166,
   "metadata": {},
   "outputs": [
    {
     "data": {
      "text/html": [
       "<pre>✔️ 3.7 ms (2021-01-29T15:45:14/2021-01-29T15:45:14)</pre>"
      ],
      "text/plain": [
       "<IPython.core.display.HTML object>"
      ]
     },
     "metadata": {},
     "output_type": "display_data"
    },
    {
     "data": {
      "text/plain": [
       "array([(333499.29, 7395564.35, 735.34, 18, 1, 1, 0, 0,  6, -14., 17, 6, 356569.36606547),\n",
       "       (333499.1 , 7395569.68, 735.3 , 17, 1, 1, 0, 0,  6, -15., 17, 6, 356569.36615345),\n",
       "       (333499.29, 7395521.99, 751.69, 10, 1, 1, 0, 0,  6, -11., 17, 6, 356569.38359445),\n",
       "       ...,\n",
       "       (333520.06, 7395558.13, 729.85,  2, 1, 2, 1, 0, 19,  13., 40, 6, 363044.03373891),\n",
       "       (333587.32, 7395563.87, 744.67, 14, 1, 1, 1, 0,  6,   7., 40, 6, 363044.06873989),\n",
       "       (333563.24, 7395571.79, 729.03,  5, 2, 2, 0, 0,  6,   9., 40, 6, 363044.3104589 )],\n",
       "      dtype=[('X', '<f8'), ('Y', '<f8'), ('Z', '<f8'), ('Intensity', '<u2'), ('ReturnNumber', 'u1'), ('NumberOfReturns', 'u1'), ('ScanDirectionFlag', 'u1'), ('EdgeOfFlightLine', 'u1'), ('Classification', 'u1'), ('ScanAngleRank', '<f4'), ('UserData', 'u1'), ('PointSourceId', '<u2'), ('GpsTime', '<f8')])"
      ]
     },
     "execution_count": 166,
     "metadata": {},
     "output_type": "execute_result"
    }
   ],
   "source": [
    "pts"
   ]
  },
  {
   "cell_type": "code",
   "execution_count": 167,
   "metadata": {},
   "outputs": [
    {
     "data": {
      "text/html": [
       "<pre>✔️ 2.57 ms (2021-01-29T15:45:14/2021-01-29T15:45:14)</pre>"
      ],
      "text/plain": [
       "<IPython.core.display.HTML object>"
      ]
     },
     "metadata": {},
     "output_type": "display_data"
    },
    {
     "data": {
      "text/plain": [
       "18835"
      ]
     },
     "execution_count": 167,
     "metadata": {},
     "output_type": "execute_result"
    }
   ],
   "source": [
    "pt_edif = pts['Classification'] == 6\n",
    "len(pts[pt_edif])"
   ]
  },
  {
   "cell_type": "code",
   "execution_count": 168,
   "metadata": {},
   "outputs": [
    {
     "data": {
      "text/html": [
       "<pre>✔️ 2.61 ms (2021-01-29T15:45:14/2021-01-29T15:45:14)</pre>"
      ],
      "text/plain": [
       "<IPython.core.display.HTML object>"
      ]
     },
     "metadata": {},
     "output_type": "display_data"
    },
    {
     "data": {
      "text/plain": [
       "983"
      ]
     },
     "execution_count": 168,
     "metadata": {},
     "output_type": "execute_result"
    }
   ],
   "source": [
    "pt_ground = pts['Classification'] == 2\n",
    "len(pts[pt_ground])"
   ]
  },
  {
   "cell_type": "code",
   "execution_count": 169,
   "metadata": {},
   "outputs": [
    {
     "data": {
      "text/html": [
       "<pre>✔️ 2.08 ms (2021-01-29T15:45:14/2021-01-29T15:45:14)</pre>"
      ],
      "text/plain": [
       "<IPython.core.display.HTML object>"
      ]
     },
     "metadata": {},
     "output_type": "display_data"
    },
    {
     "data": {
      "text/plain": [
       "19818"
      ]
     },
     "execution_count": 169,
     "metadata": {},
     "output_type": "execute_result"
    }
   ],
   "source": [
    "len(pts[pt_ground | pt_edif])"
   ]
  },
  {
   "cell_type": "code",
   "execution_count": 232,
   "metadata": {},
   "outputs": [
    {
     "data": {
      "text/html": [
       "<pre>✔️ 2.67 ms (2021-01-29T16:29:45/2021-01-29T16:29:45)</pre>"
      ],
      "text/plain": [
       "<IPython.core.display.HTML object>"
      ]
     },
     "metadata": {},
     "output_type": "display_data"
    }
   ],
   "source": [
    "# Escolhendo um ponto aleatório no Ground\n",
    "\n",
    "pt = np.random.choice(pts[pt_ground])"
   ]
  },
  {
   "cell_type": "code",
   "execution_count": 233,
   "metadata": {},
   "outputs": [
    {
     "data": {
      "text/html": [
       "<pre>✔️ 346 µs (2021-01-29T16:29:45/2021-01-29T16:29:45)</pre>"
      ],
      "text/plain": [
       "<IPython.core.display.HTML object>"
      ]
     },
     "metadata": {},
     "output_type": "display_data"
    }
   ],
   "source": [
    "coord = ['X', 'Y', 'Z']"
   ]
  },
  {
   "cell_type": "code",
   "execution_count": 234,
   "metadata": {},
   "outputs": [
    {
     "data": {
      "text/html": [
       "<pre>✔️ 2.05 ms (2021-01-29T16:29:45/2021-01-29T16:29:45)</pre>"
      ],
      "text/plain": [
       "<IPython.core.display.HTML object>"
      ]
     },
     "metadata": {},
     "output_type": "display_data"
    },
    {
     "data": {
      "text/plain": [
       "(333413.2, 7395008.12, 726.62)"
      ]
     },
     "execution_count": 234,
     "metadata": {},
     "output_type": "execute_result"
    }
   ],
   "source": [
    "pt[coord]"
   ]
  },
  {
   "cell_type": "code",
   "execution_count": 235,
   "metadata": {},
   "outputs": [
    {
     "data": {
      "text/html": [
       "<pre>✔️ 2.02 ms (2021-01-29T16:29:45/2021-01-29T16:29:45)</pre>"
      ],
      "text/plain": [
       "<IPython.core.display.HTML object>"
      ]
     },
     "metadata": {},
     "output_type": "display_data"
    }
   ],
   "source": [
    "# Centralizando a visão em 1.5 metros acima do solo do ponto escolhido\n",
    "\n",
    "pts_0 = np.array([pts[pt_ground | pt_edif]['X'] - pt['X'],\n",
    "         pts[pt_ground | pt_edif]['Y'] - pt['Y'],\n",
    "         pts[pt_ground | pt_edif]['Z'] - (pt['Z'] + 1.5)]).T"
   ]
  },
  {
   "cell_type": "code",
   "execution_count": 236,
   "metadata": {},
   "outputs": [
    {
     "data": {
      "text/html": [
       "<pre>✔️ 1.98 ms (2021-01-29T16:29:46/2021-01-29T16:29:46)</pre>"
      ],
      "text/plain": [
       "<IPython.core.display.HTML object>"
      ]
     },
     "metadata": {},
     "output_type": "display_data"
    }
   ],
   "source": [
    "pts_0 = pts_0[pts_0[:, 2] >= 0.0]"
   ]
  },
  {
   "cell_type": "code",
   "execution_count": 237,
   "metadata": {},
   "outputs": [
    {
     "data": {
      "text/html": [
       "<pre>✔️ 2.92 ms (2021-01-29T16:29:46/2021-01-29T16:29:46)</pre>"
      ],
      "text/plain": [
       "<IPython.core.display.HTML object>"
      ]
     },
     "metadata": {},
     "output_type": "display_data"
    },
    {
     "data": {
      "text/plain": [
       "array([ 90.,   0., -90., 180.])"
      ]
     },
     "execution_count": 237,
     "metadata": {},
     "output_type": "execute_result"
    }
   ],
   "source": [
    "# Calcluando Azimute, ou melhor, um angulo começando Leste \n",
    "# crescendo no sentido anti-horario e negativo para todo Y < 0\n",
    "\n",
    "teste_az = [[0., 1],\n",
    "           [1., 0.],\n",
    "           [0., -1.],\n",
    "           [-1., 0.]]\n",
    "\n",
    "teste_az = np.array(teste_az)\n",
    "\n",
    "az = np.arctan2(teste_az[:, 1], teste_az[:, 0]) * 180 / np.pi\n",
    "az"
   ]
  },
  {
   "cell_type": "code",
   "execution_count": 238,
   "metadata": {},
   "outputs": [
    {
     "data": {
      "text/html": [
       "<pre>✔️ 7.17 ms (2021-01-29T16:29:46/2021-01-29T16:29:46)</pre>"
      ],
      "text/plain": [
       "<IPython.core.display.HTML object>"
      ]
     },
     "metadata": {},
     "output_type": "display_data"
    }
   ],
   "source": [
    "# Calculando o angulo de orientação de cada ponto\n",
    "\n",
    "orient = np.arctan2(pts_0[:, 1], pts_0[:, 0]) * 180 / np.pi\n",
    "# orient"
   ]
  },
  {
   "cell_type": "code",
   "execution_count": 239,
   "metadata": {},
   "outputs": [
    {
     "data": {
      "text/html": [
       "<pre>✔️ 2.33 ms (2021-01-29T16:29:46/2021-01-29T16:29:46)</pre>"
      ],
      "text/plain": [
       "<IPython.core.display.HTML object>"
      ]
     },
     "metadata": {},
     "output_type": "display_data"
    }
   ],
   "source": [
    "# Calculando o angulo de altura de cada ponto\n",
    "\n",
    "# np.arctan2(10, 1000) * 180 / np.pi\n",
    "# np.sqrt(np.square(4) + np.square(3))\n",
    "\n",
    "inclin = np.arctan2(pts_0[:, 2], np.sqrt(np.square(pts_0[:, 0]) + np.square(pts_0[:, 1]))) * 180 / np.pi"
   ]
  },
  {
   "cell_type": "code",
   "execution_count": 240,
   "metadata": {},
   "outputs": [
    {
     "data": {
      "text/html": [
       "<pre>✔️ 3.05 ms (2021-01-29T16:29:47/2021-01-29T16:29:47)</pre>"
      ],
      "text/plain": [
       "<IPython.core.display.HTML object>"
      ]
     },
     "metadata": {},
     "output_type": "display_data"
    }
   ],
   "source": [
    "# sorted(inclin, reverse=True)"
   ]
  },
  {
   "cell_type": "code",
   "execution_count": 241,
   "metadata": {},
   "outputs": [
    {
     "data": {
      "text/html": [
       "<pre>✔️ 8.92 ms (2021-01-29T16:29:47/2021-01-29T16:29:47)</pre>"
      ],
      "text/plain": [
       "<IPython.core.display.HTML object>"
      ]
     },
     "metadata": {},
     "output_type": "display_data"
    },
    {
     "data": {
      "text/plain": [
       "array([81.20190666, 81.30306617, 80.48940871, ..., 75.26820266,\n",
       "       72.60389532, 75.09439854])"
      ]
     },
     "execution_count": 241,
     "metadata": {},
     "output_type": "execute_result"
    }
   ],
   "source": [
    "orient\n"
   ]
  },
  {
   "cell_type": "code",
   "execution_count": 310,
   "metadata": {},
   "outputs": [
    {
     "data": {
      "text/html": [
       "<pre>✔️ 4.28 ms (2021-01-29T17:27:09/2021-01-29T17:27:09)</pre>"
      ],
      "text/plain": [
       "<IPython.core.display.HTML object>"
      ]
     },
     "metadata": {},
     "output_type": "display_data"
    }
   ],
   "source": [
    "# Separando em fases\n",
    "\n",
    "qt_fases = 60\n",
    "fases = np.arange(-180., 180., 360./qt_fases)\n",
    "\n",
    "pt_bins = np.digitize(orient, fases)"
   ]
  },
  {
   "cell_type": "code",
   "execution_count": 266,
   "metadata": {},
   "outputs": [
    {
     "data": {
      "text/html": [
       "<pre>✔️ 10.1 ms (2021-01-29T16:51:49/2021-01-29T16:51:49)</pre>"
      ],
      "text/plain": [
       "<IPython.core.display.HTML object>"
      ]
     },
     "metadata": {},
     "output_type": "display_data"
    },
    {
     "data": {
      "text/plain": [
       "(array([ 552,  153,    7,    2,    1,    0,    0,    0,    0,    0,    0,\n",
       "           0,    0,    0,    0,    0,    0,    0,    0,    0,    0,    0,\n",
       "           0,    0,    0,    0,    0,   35,   82,   73,   87,   49,   27,\n",
       "          33,   69,   16,   13,    0,    1,    7,  265,  412,  841,  746,\n",
       "        1089,  748, 1127, 1082, 1344, 1343, 1417,  755,  802, 1069, 1161,\n",
       "         972, 1145,  744,  548]),\n",
       " array([-180., -174., -168., -162., -156., -150., -144., -138., -132.,\n",
       "        -126., -120., -114., -108., -102.,  -96.,  -90.,  -84.,  -78.,\n",
       "         -72.,  -66.,  -60.,  -54.,  -48.,  -42.,  -36.,  -30.,  -24.,\n",
       "         -18.,  -12.,   -6.,    0.,    6.,   12.,   18.,   24.,   30.,\n",
       "          36.,   42.,   48.,   54.,   60.,   66.,   72.,   78.,   84.,\n",
       "          90.,   96.,  102.,  108.,  114.,  120.,  126.,  132.,  138.,\n",
       "         144.,  150.,  156.,  162.,  168.,  174.]))"
      ]
     },
     "execution_count": 266,
     "metadata": {},
     "output_type": "execute_result"
    }
   ],
   "source": [
    "np.histogram(orient, fases)"
   ]
  },
  {
   "cell_type": "code",
   "execution_count": 313,
   "metadata": {},
   "outputs": [
    {
     "data": {
      "text/html": [
       "<pre>✔️ 9.99 ms (2021-01-29T17:28:32/2021-01-29T17:28:32)</pre>"
      ],
      "text/plain": [
       "<IPython.core.display.HTML object>"
      ]
     },
     "metadata": {},
     "output_type": "display_data"
    },
    {
     "data": {
      "text/plain": [
       "array([ 1,  2,  3,  4,  5, 28, 29, 30, 31, 32, 33, 34, 35, 36, 37, 39, 40,\n",
       "       41, 42, 43, 44, 45, 46, 47, 48, 49, 50, 51, 52, 53, 54, 55, 56, 57,\n",
       "       58, 59, 60])"
      ]
     },
     "execution_count": 313,
     "metadata": {},
     "output_type": "execute_result"
    }
   ],
   "source": [
    "np.unique(pt_bins)"
   ]
  },
  {
   "cell_type": "code",
   "execution_count": 314,
   "metadata": {},
   "outputs": [
    {
     "data": {
      "text/html": [
       "<pre>✔️ 6.55 ms (2021-01-29T17:28:36/2021-01-29T17:28:36)</pre>"
      ],
      "text/plain": [
       "<IPython.core.display.HTML object>"
      ]
     },
     "metadata": {},
     "output_type": "display_data"
    },
    {
     "data": {
      "text/plain": [
       "array([ 1,  2,  3,  4,  5,  6,  7,  8,  9, 10, 11, 12, 13, 14, 15, 16, 17,\n",
       "       18, 19, 20, 21, 22, 23, 24, 25, 26, 27, 28, 29, 30, 31, 32, 33, 34,\n",
       "       35, 36, 37, 38, 39, 40, 41, 42, 43, 44, 45, 46, 47, 48, 49, 50, 51,\n",
       "       52, 53, 54, 55, 56, 57, 58, 59, 60])"
      ]
     },
     "execution_count": 314,
     "metadata": {},
     "output_type": "execute_result"
    }
   ],
   "source": [
    "np.arange(1, qt_fases + 1)"
   ]
  },
  {
   "cell_type": "code",
   "execution_count": 315,
   "metadata": {},
   "outputs": [
    {
     "data": {
      "text/html": [
       "<pre>✔️ 16 ms (2021-01-29T17:28:48/2021-01-29T17:28:48)</pre>"
      ],
      "text/plain": [
       "<IPython.core.display.HTML object>"
      ]
     },
     "metadata": {},
     "output_type": "display_data"
    },
    {
     "data": {
      "text/plain": [
       "[[1, 27.868341628413496],\n",
       " [2, 30.788736481309538],\n",
       " [3, 9.000224766748621],\n",
       " [4, 5.315984535693404],\n",
       " [5, 2.580021660032749],\n",
       " [6, 0.0],\n",
       " [7, 0.0],\n",
       " [8, 0.0],\n",
       " [9, 0.0],\n",
       " [10, 0.0],\n",
       " [11, 0.0],\n",
       " [12, 0.0],\n",
       " [13, 0.0],\n",
       " [14, 0.0],\n",
       " [15, 0.0],\n",
       " [16, 0.0],\n",
       " [17, 0.0],\n",
       " [18, 0.0],\n",
       " [19, 0.0],\n",
       " [20, 0.0],\n",
       " [21, 0.0],\n",
       " [22, 0.0],\n",
       " [23, 0.0],\n",
       " [24, 0.0],\n",
       " [25, 0.0],\n",
       " [26, 0.0],\n",
       " [27, 0.0],\n",
       " [28, 42.09735579929636],\n",
       " [29, 43.45868586412693],\n",
       " [30, 44.718430420285344],\n",
       " [31, 43.371536196258134],\n",
       " [32, 11.55562907426191],\n",
       " [33, 11.438820029681969],\n",
       " [34, 7.282389601492088],\n",
       " [35, 8.366632884649908],\n",
       " [36, 9.100219579976116],\n",
       " [37, 6.0340936007551855],\n",
       " [38, 0.0],\n",
       " [39, 1.0476413422467141],\n",
       " [40, 1.935566626524035],\n",
       " [41, 5.586191505779991],\n",
       " [42, 6.424686464399003],\n",
       " [43, 8.175254345632721],\n",
       " [44, 6.51884059837617],\n",
       " [45, 8.868369121716592],\n",
       " [46, 10.10215427090378],\n",
       " [47, 11.097043474002499],\n",
       " [48, 16.368009992092002],\n",
       " [49, 37.604749226173396],\n",
       " [50, 39.82748847613857],\n",
       " [51, 42.79340922954283],\n",
       " [52, 43.51318598242524],\n",
       " [53, 44.613044654173336],\n",
       " [54, 42.21938270808557],\n",
       " [55, 40.82883808950365],\n",
       " [56, 38.876810002185884],\n",
       " [57, 38.972204280647716],\n",
       " [58, 35.156969905240814],\n",
       " [59, 29.54151203156756],\n",
       " [60, 27.70953745997526]]"
      ]
     },
     "execution_count": 315,
     "metadata": {},
     "output_type": "execute_result"
    }
   ],
   "source": [
    "list(map(lambda x: [x, np.nanmax(inclin[pt_bins == x])] if len(inclin[pt_bins == x]) > 0 else [x, 0.], np.arange(1, qt_fases + 1)))\n",
    "# list(map(lambda x: len(orient[pt_bins == x]), fases))\n",
    "# np.nanmax(inclin[pt_bins == 3]) if len(inclin[pt_bins == 3]) > 0"
   ]
  },
  {
   "cell_type": "code",
   "execution_count": 247,
   "metadata": {},
   "outputs": [
    {
     "data": {
      "text/html": [
       "<pre>✔️ 6.45 ms (2021-01-29T16:40:41/2021-01-29T16:40:41)</pre>"
      ],
      "text/plain": [
       "<IPython.core.display.HTML object>"
      ]
     },
     "metadata": {},
     "output_type": "display_data"
    },
    {
     "data": {
      "text/plain": [
       "array([ True,  True,  True, ..., False, False, False])"
      ]
     },
     "execution_count": 247,
     "metadata": {},
     "output_type": "execute_result"
    }
   ],
   "source": []
  },
  {
   "cell_type": "code",
   "execution_count": null,
   "metadata": {},
   "outputs": [],
   "source": []
  }
 ],
 "metadata": {
  "kernelspec": {
   "display_name": "Python 3",
   "language": "python",
   "name": "python3"
  },
  "language_info": {
   "codemirror_mode": {
    "name": "ipython",
    "version": 3
   },
   "file_extension": ".py",
   "mimetype": "text/x-python",
   "name": "python",
   "nbconvert_exporter": "python",
   "pygments_lexer": "ipython3",
   "version": "3.8.6"
  }
 },
 "nbformat": 4,
 "nbformat_minor": 4
}
