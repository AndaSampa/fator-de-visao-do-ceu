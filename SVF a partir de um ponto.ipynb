{
 "cells": [
  {
   "cell_type": "code",
   "execution_count": 1,
   "metadata": {},
   "outputs": [],
   "source": [
    "import pdal\n",
    "import numpy as np"
   ]
  },
  {
   "cell_type": "code",
   "execution_count": 2,
   "metadata": {},
   "outputs": [
    {
     "data": {
      "text/html": [
       "<pre>✔️ 471 µs (2021-02-02T15:52:39/2021-02-02T15:52:39)</pre>"
      ],
      "text/plain": [
       "<IPython.core.display.HTML object>"
      ]
     },
     "metadata": {},
     "output_type": "display_data"
    }
   ],
   "source": [
    "%load_ext autotime"
   ]
  },
  {
   "cell_type": "code",
   "execution_count": 3,
   "metadata": {},
   "outputs": [
    {
     "data": {
      "text/html": [
       "<pre>✔️ 1.06 ms (2021-02-02T15:52:39/2021-02-02T15:52:39)</pre>"
      ],
      "text/plain": [
       "<IPython.core.display.HTML object>"
      ]
     },
     "metadata": {},
     "output_type": "display_data"
    }
   ],
   "source": [
    "pipeline=\"\"\"{\n",
    "  \"pipeline\": [\n",
    "    {\n",
    "        \"type\": \"readers.las\",\n",
    "        \"filename\": \"arquivos/MDS/MDS_3314-231.laz\"\n",
    "    },\n",
    "    {\n",
    "        \"type\": \"filters.sample\",\n",
    "        \"radius\": 1\n",
    "    }\n",
    "  ]\n",
    "}\"\"\""
   ]
  },
  {
   "cell_type": "code",
   "execution_count": 4,
   "metadata": {},
   "outputs": [
    {
     "data": {
      "text/html": [
       "<pre>✔️ 9.99 s (2021-02-02T15:52:42/2021-02-02T15:52:52)</pre>"
      ],
      "text/plain": [
       "<IPython.core.display.HTML object>"
      ]
     },
     "metadata": {},
     "output_type": "display_data"
    }
   ],
   "source": [
    "r = pdal.Pipeline(pipeline)\n",
    "r.validate()\n",
    "r.execute()\n",
    "pts = r.arrays[0]"
   ]
  },
  {
   "cell_type": "code",
   "execution_count": 5,
   "metadata": {},
   "outputs": [
    {
     "data": {
      "text/html": [
       "<pre>✔️ 5.33 ms (2021-02-02T15:52:52/2021-02-02T15:52:52)</pre>"
      ],
      "text/plain": [
       "<IPython.core.display.HTML object>"
      ]
     },
     "metadata": {},
     "output_type": "display_data"
    },
    {
     "data": {
      "text/plain": [
       "array([(333499.29, 7395564.35, 735.34, 18, 1, 1, 0, 0, 6, -14., 17, 6, 356569.36606547),\n",
       "       (333499.23, 7395565.79, 735.41, 18, 1, 1, 0, 0, 6, -14., 17, 6, 356569.36609045),\n",
       "       (333499.2 , 7395566.79, 735.25, 15, 1, 1, 0, 0, 6, -14., 17, 6, 356569.36610547),\n",
       "       ...,\n",
       "       (333520.96, 7395571.  , 732.5 ,  8, 1, 1, 1, 0, 6,  13., 40, 6, 363044.34273991),\n",
       "       (333521.09, 7395571.84, 731.83, 18, 1, 1, 1, 0, 6,  13., 40, 6, 363044.3609089 ),\n",
       "       (333520.95, 7395571.91, 729.86, 18, 1, 1, 0, 0, 6,  13., 40, 6, 363044.36412489)],\n",
       "      dtype=[('X', '<f8'), ('Y', '<f8'), ('Z', '<f8'), ('Intensity', '<u2'), ('ReturnNumber', 'u1'), ('NumberOfReturns', 'u1'), ('ScanDirectionFlag', 'u1'), ('EdgeOfFlightLine', 'u1'), ('Classification', 'u1'), ('ScanAngleRank', '<f4'), ('UserData', 'u1'), ('PointSourceId', '<u2'), ('GpsTime', '<f8')])"
      ]
     },
     "execution_count": 5,
     "metadata": {},
     "output_type": "execute_result"
    }
   ],
   "source": [
    "pts"
   ]
  },
  {
   "cell_type": "code",
   "execution_count": 6,
   "metadata": {},
   "outputs": [
    {
     "data": {
      "text/html": [
       "<pre>✔️ 6.94 ms (2021-02-02T15:52:52/2021-02-02T15:52:52)</pre>"
      ],
      "text/plain": [
       "<IPython.core.display.HTML object>"
      ]
     },
     "metadata": {},
     "output_type": "display_data"
    },
    {
     "data": {
      "text/plain": [
       "300792"
      ]
     },
     "execution_count": 6,
     "metadata": {},
     "output_type": "execute_result"
    }
   ],
   "source": [
    "pt_edif = pts['Classification'] == 6\n",
    "len(pts[pt_edif])"
   ]
  },
  {
   "cell_type": "code",
   "execution_count": 7,
   "metadata": {},
   "outputs": [
    {
     "data": {
      "text/html": [
       "<pre>✔️ 12.9 ms (2021-02-02T15:52:56/2021-02-02T15:52:56)</pre>"
      ],
      "text/plain": [
       "<IPython.core.display.HTML object>"
      ]
     },
     "metadata": {},
     "output_type": "display_data"
    },
    {
     "data": {
      "text/plain": [
       "15890"
      ]
     },
     "execution_count": 7,
     "metadata": {},
     "output_type": "execute_result"
    }
   ],
   "source": [
    "pt_ground = pts['Classification'] == 2\n",
    "len(pts[pt_ground])"
   ]
  },
  {
   "cell_type": "code",
   "execution_count": 8,
   "metadata": {},
   "outputs": [
    {
     "data": {
      "text/html": [
       "<pre>✔️ 12.3 ms (2021-02-02T15:52:56/2021-02-02T15:52:56)</pre>"
      ],
      "text/plain": [
       "<IPython.core.display.HTML object>"
      ]
     },
     "metadata": {},
     "output_type": "display_data"
    },
    {
     "data": {
      "text/plain": [
       "316682"
      ]
     },
     "execution_count": 8,
     "metadata": {},
     "output_type": "execute_result"
    }
   ],
   "source": [
    "len(pts[pt_ground | pt_edif])"
   ]
  },
  {
   "cell_type": "code",
   "execution_count": 9,
   "metadata": {},
   "outputs": [
    {
     "data": {
      "text/html": [
       "<pre>✔️ 6.82 ms (2021-02-02T15:52:57/2021-02-02T15:52:57)</pre>"
      ],
      "text/plain": [
       "<IPython.core.display.HTML object>"
      ]
     },
     "metadata": {},
     "output_type": "display_data"
    }
   ],
   "source": [
    "# Escolhendo um ponto aleatório no Ground\n",
    "\n",
    "pt = np.random.choice(pts[pt_ground])"
   ]
  },
  {
   "cell_type": "code",
   "execution_count": 10,
   "metadata": {},
   "outputs": [
    {
     "data": {
      "text/html": [
       "<pre>✔️ 2.15 ms (2021-02-02T15:52:59/2021-02-02T15:52:59)</pre>"
      ],
      "text/plain": [
       "<IPython.core.display.HTML object>"
      ]
     },
     "metadata": {},
     "output_type": "display_data"
    }
   ],
   "source": [
    "coord = ['X', 'Y', 'Z']"
   ]
  },
  {
   "cell_type": "code",
   "execution_count": 11,
   "metadata": {},
   "outputs": [
    {
     "data": {
      "text/html": [
       "<pre>✔️ 8.02 ms (2021-02-02T15:52:59/2021-02-02T15:52:59)</pre>"
      ],
      "text/plain": [
       "<IPython.core.display.HTML object>"
      ]
     },
     "metadata": {},
     "output_type": "display_data"
    },
    {
     "data": {
      "text/plain": [
       "(333064.64, 7395475.68, 729.97)"
      ]
     },
     "execution_count": 11,
     "metadata": {},
     "output_type": "execute_result"
    }
   ],
   "source": [
    "pt[coord]"
   ]
  },
  {
   "cell_type": "code",
   "execution_count": 12,
   "metadata": {},
   "outputs": [
    {
     "data": {
      "text/html": [
       "<pre>✔️ 23 ms (2021-02-02T15:53:01/2021-02-02T15:53:01)</pre>"
      ],
      "text/plain": [
       "<IPython.core.display.HTML object>"
      ]
     },
     "metadata": {},
     "output_type": "display_data"
    }
   ],
   "source": [
    "# Centralizando a visão em 1.5 metros acima do solo do ponto escolhido\n",
    "\n",
    "pts_0 = np.array([pts[pt_ground | pt_edif]['X'] - pt['X'],\n",
    "         pts[pt_ground | pt_edif]['Y'] - pt['Y'],\n",
    "         pts[pt_ground | pt_edif]['Z'] - (pt['Z'] + 1.5)]).T"
   ]
  },
  {
   "cell_type": "code",
   "execution_count": 28,
   "metadata": {},
   "outputs": [
    {
     "data": {
      "text/html": [
       "<pre>✔️ 1.16 ms (2021-02-02T15:56:14/2021-02-02T15:56:14)</pre>"
      ],
      "text/plain": [
       "<IPython.core.display.HTML object>"
      ]
     },
     "metadata": {},
     "output_type": "display_data"
    }
   ],
   "source": [
    "## TODO\n",
    "# Reprojetar os pontos para a circunferência da terra"
   ]
  },
  {
   "cell_type": "code",
   "execution_count": 29,
   "metadata": {},
   "outputs": [
    {
     "data": {
      "text/html": [
       "<pre>✔️ 8.02 ms (2021-02-02T15:57:40/2021-02-02T15:57:40)</pre>"
      ],
      "text/plain": [
       "<IPython.core.display.HTML object>"
      ]
     },
     "metadata": {},
     "output_type": "display_data"
    }
   ],
   "source": [
    "## Filtrando pontos acima da visão horizontal\n",
    "\n",
    "pts_0 = pts_0[pts_0[:, 2] >= 0.0]"
   ]
  },
  {
   "cell_type": "code",
   "execution_count": 31,
   "metadata": {},
   "outputs": [
    {
     "data": {
      "text/html": [
       "<pre>✔️ 1.44 ms (2021-02-02T15:58:40/2021-02-02T15:58:40)</pre>"
      ],
      "text/plain": [
       "<IPython.core.display.HTML object>"
      ]
     },
     "metadata": {},
     "output_type": "display_data"
    },
    {
     "data": {
      "text/plain": [
       "296297"
      ]
     },
     "execution_count": 31,
     "metadata": {},
     "output_type": "execute_result"
    }
   ],
   "source": [
    "len(pts_0)"
   ]
  },
  {
   "cell_type": "code",
   "execution_count": 30,
   "metadata": {},
   "outputs": [
    {
     "data": {
      "text/html": [
       "<pre>✔️ 5.71 ms (2021-02-02T15:57:40/2021-02-02T15:57:40)</pre>"
      ],
      "text/plain": [
       "<IPython.core.display.HTML object>"
      ]
     },
     "metadata": {},
     "output_type": "display_data"
    },
    {
     "data": {
      "text/plain": [
       "array([ 90.,   0., -90., 180.])"
      ]
     },
     "execution_count": 30,
     "metadata": {},
     "output_type": "execute_result"
    }
   ],
   "source": [
    "# Calcluando Azimute, ou melhor, um angulo começando Leste \n",
    "# crescendo no sentido anti-horario e negativo para todo Y < 0\n",
    "\n",
    "teste_az = [[0., 1],\n",
    "           [1., 0.],\n",
    "           [0., -1.],\n",
    "           [-1., 0.]]\n",
    "\n",
    "teste_az = np.array(teste_az)\n",
    "\n",
    "az = np.arctan2(teste_az[:, 1], teste_az[:, 0]) * 180 / np.pi\n",
    "az"
   ]
  },
  {
   "cell_type": "code",
   "execution_count": 15,
   "metadata": {},
   "outputs": [
    {
     "data": {
      "text/html": [
       "<pre>✔️ 10.4 ms (2021-02-02T15:53:02/2021-02-02T15:53:02)</pre>"
      ],
      "text/plain": [
       "<IPython.core.display.HTML object>"
      ]
     },
     "metadata": {},
     "output_type": "display_data"
    }
   ],
   "source": [
    "# Calculando o angulo de orientação de cada ponto\n",
    "\n",
    "orient = np.arctan2(pts_0[:, 1], pts_0[:, 0]) * 180 / np.pi\n",
    "# orient"
   ]
  },
  {
   "cell_type": "code",
   "execution_count": 16,
   "metadata": {},
   "outputs": [
    {
     "data": {
      "text/html": [
       "<pre>✔️ 14.2 ms (2021-02-02T15:53:02/2021-02-02T15:53:02)</pre>"
      ],
      "text/plain": [
       "<IPython.core.display.HTML object>"
      ]
     },
     "metadata": {},
     "output_type": "display_data"
    }
   ],
   "source": [
    "# Calculando o angulo de altura de cada ponto\n",
    "\n",
    "# np.arctan2(10, 1000) * 180 / np.pi\n",
    "# np.sqrt(np.square(4) + np.square(3))\n",
    "\n",
    "inclin = np.arctan2(pts_0[:, 2], np.sqrt(np.square(pts_0[:, 0]) + np.square(pts_0[:, 1]))) * 180 / np.pi"
   ]
  },
  {
   "cell_type": "code",
   "execution_count": 40,
   "metadata": {},
   "outputs": [
    {
     "data": {
      "text/html": [
       "<pre>✔️ 6.41 ms (2021-02-02T16:14:42/2021-02-02T16:14:42)</pre>"
      ],
      "text/plain": [
       "<IPython.core.display.HTML object>"
      ]
     },
     "metadata": {},
     "output_type": "display_data"
    },
    {
     "data": {
      "text/plain": [
       "10.099504938362077"
      ]
     },
     "execution_count": 40,
     "metadata": {},
     "output_type": "execute_result"
    }
   ],
   "source": [
    "# Calculando a distância até o ponto\n",
    "\n",
    "np.sqrt(np.square(1) + np.square(1) + np.square(10))"
   ]
  },
  {
   "cell_type": "code",
   "execution_count": 33,
   "metadata": {},
   "outputs": [
    {
     "data": {
      "text/html": [
       "<pre>✔️ 2.37 ms (2021-02-02T16:00:05/2021-02-02T16:00:05)</pre>"
      ],
      "text/plain": [
       "<IPython.core.display.HTML object>"
      ]
     },
     "metadata": {},
     "output_type": "display_data"
    }
   ],
   "source": [
    "# sorted(inclin, reverse=True)"
   ]
  },
  {
   "cell_type": "code",
   "execution_count": 34,
   "metadata": {},
   "outputs": [
    {
     "data": {
      "text/html": [
       "<pre>✔️ 9.53 ms (2021-02-02T16:00:09/2021-02-02T16:00:09)</pre>"
      ],
      "text/plain": [
       "<IPython.core.display.HTML object>"
      ]
     },
     "metadata": {},
     "output_type": "display_data"
    },
    {
     "data": {
      "text/plain": [
       "array([11.53030756, 11.71399842, 11.84113908, ..., 11.08668748,\n",
       "       11.79877106, 11.89650228])"
      ]
     },
     "execution_count": 34,
     "metadata": {},
     "output_type": "execute_result"
    }
   ],
   "source": [
    "orient"
   ]
  },
  {
   "cell_type": "code",
   "execution_count": 35,
   "metadata": {},
   "outputs": [
    {
     "data": {
      "text/html": [
       "<pre>✔️ 15 ms (2021-02-02T16:00:35/2021-02-02T16:00:35)</pre>"
      ],
      "text/plain": [
       "<IPython.core.display.HTML object>"
      ]
     },
     "metadata": {},
     "output_type": "display_data"
    }
   ],
   "source": [
    "# Separando em fases\n",
    "\n",
    "qt_fases = 60\n",
    "fases = np.arange(-180., 180., 360./qt_fases)\n",
    "\n",
    "pt_bins = np.digitize(orient, fases)"
   ]
  },
  {
   "cell_type": "code",
   "execution_count": 36,
   "metadata": {},
   "outputs": [
    {
     "data": {
      "text/html": [
       "<pre>✔️ 15.4 ms (2021-02-02T16:00:37/2021-02-02T16:00:37)</pre>"
      ],
      "text/plain": [
       "<IPython.core.display.HTML object>"
      ]
     },
     "metadata": {},
     "output_type": "display_data"
    },
    {
     "data": {
      "text/plain": [
       "(array([    0,     0,     0,     0,     0,     0,     0,     0,     0,\n",
       "            0,     0,     0,     0,     0,  3119, 16676, 20158, 15686,\n",
       "        23031, 17544, 20379, 18257, 18341, 13456, 15111, 13979, 11506,\n",
       "        12495, 14029, 12125, 15287, 13432,  8327,  3562,  1826,   839,\n",
       "          505,   471,   979,  1203,  1004,   728,   512,   459,   430,\n",
       "          525,   260,    56,     0,     0,     0,     0,     0,     0,\n",
       "            0,     0,     0,     0,     0]),\n",
       " array([-180., -174., -168., -162., -156., -150., -144., -138., -132.,\n",
       "        -126., -120., -114., -108., -102.,  -96.,  -90.,  -84.,  -78.,\n",
       "         -72.,  -66.,  -60.,  -54.,  -48.,  -42.,  -36.,  -30.,  -24.,\n",
       "         -18.,  -12.,   -6.,    0.,    6.,   12.,   18.,   24.,   30.,\n",
       "          36.,   42.,   48.,   54.,   60.,   66.,   72.,   78.,   84.,\n",
       "          90.,   96.,  102.,  108.,  114.,  120.,  126.,  132.,  138.,\n",
       "         144.,  150.,  156.,  162.,  168.,  174.]))"
      ]
     },
     "execution_count": 36,
     "metadata": {},
     "output_type": "execute_result"
    }
   ],
   "source": [
    "np.histogram(orient, fases)"
   ]
  },
  {
   "cell_type": "code",
   "execution_count": 21,
   "metadata": {},
   "outputs": [
    {
     "data": {
      "text/html": [
       "<pre>✔️ 5.55 ms (2021-02-02T15:53:08/2021-02-02T15:53:08)</pre>"
      ],
      "text/plain": [
       "<IPython.core.display.HTML object>"
      ]
     },
     "metadata": {},
     "output_type": "display_data"
    },
    {
     "data": {
      "text/plain": [
       "array([15, 16, 17, 18, 19, 20, 21, 22, 23, 24, 25, 26, 27, 28, 29, 30, 31,\n",
       "       32, 33, 34, 35, 36, 37, 38, 39, 40, 41, 42, 43, 44, 45, 46, 47, 48])"
      ]
     },
     "execution_count": 21,
     "metadata": {},
     "output_type": "execute_result"
    }
   ],
   "source": [
    "np.unique(pt_bins)"
   ]
  },
  {
   "cell_type": "code",
   "execution_count": 22,
   "metadata": {},
   "outputs": [
    {
     "data": {
      "text/html": [
       "<pre>✔️ 9.41 ms (2021-02-02T15:53:09/2021-02-02T15:53:09)</pre>"
      ],
      "text/plain": [
       "<IPython.core.display.HTML object>"
      ]
     },
     "metadata": {},
     "output_type": "display_data"
    },
    {
     "data": {
      "text/plain": [
       "array([ 1,  2,  3,  4,  5,  6,  7,  8,  9, 10, 11, 12, 13, 14, 15, 16, 17,\n",
       "       18, 19, 20, 21, 22, 23, 24, 25, 26, 27, 28, 29, 30, 31, 32, 33, 34,\n",
       "       35, 36, 37, 38, 39, 40, 41, 42, 43, 44, 45, 46, 47, 48, 49, 50, 51,\n",
       "       52, 53, 54, 55, 56, 57, 58, 59, 60])"
      ]
     },
     "execution_count": 22,
     "metadata": {},
     "output_type": "execute_result"
    }
   ],
   "source": [
    "np.arange(1, qt_fases + 1)"
   ]
  },
  {
   "cell_type": "code",
   "execution_count": 23,
   "metadata": {},
   "outputs": [
    {
     "data": {
      "text/html": [
       "<pre>✔️ 29.9 ms (2021-02-02T15:53:11/2021-02-02T15:53:11)</pre>"
      ],
      "text/plain": [
       "<IPython.core.display.HTML object>"
      ]
     },
     "metadata": {},
     "output_type": "display_data"
    },
    {
     "data": {
      "text/plain": [
       "[[1, 0.0],\n",
       " [2, 0.0],\n",
       " [3, 0.0],\n",
       " [4, 0.0],\n",
       " [5, 0.0],\n",
       " [6, 0.0],\n",
       " [7, 0.0],\n",
       " [8, 0.0],\n",
       " [9, 0.0],\n",
       " [10, 0.0],\n",
       " [11, 0.0],\n",
       " [12, 0.0],\n",
       " [13, 0.0],\n",
       " [14, 0.0],\n",
       " [15, 17.85252259855616],\n",
       " [16, 25.242791922406763],\n",
       " [17, 28.310030340545957],\n",
       " [18, 27.473663021422563],\n",
       " [19, 24.616393958775653],\n",
       " [20, 17.97870653728566],\n",
       " [21, 42.27715651756928],\n",
       " [22, 43.48967957835123],\n",
       " [23, 43.44146757212334],\n",
       " [24, 24.543818073798022],\n",
       " [25, 21.359016523485682],\n",
       " [26, 17.37704264015881],\n",
       " [27, 15.00709332322732],\n",
       " [28, 15.34345248514329],\n",
       " [29, 17.515664772161053],\n",
       " [30, 21.147536723316357],\n",
       " [31, 20.97885858094463],\n",
       " [32, 20.210493108236516],\n",
       " [33, 12.779385339468524],\n",
       " [34, 78.73296507375849],\n",
       " [35, 79.65176865762436],\n",
       " [36, 80.45533363934106],\n",
       " [37, 80.76959476052899],\n",
       " [38, 81.89933452746641],\n",
       " [39, 81.45847743058506],\n",
       " [40, 81.75303286892346],\n",
       " [41, 81.82725992851574],\n",
       " [42, 81.74255440808165],\n",
       " [43, 81.68605377333371],\n",
       " [44, 81.60827912822228],\n",
       " [45, 81.38967576208],\n",
       " [46, 80.98670161655853],\n",
       " [47, 80.43535663419618],\n",
       " [48, 79.94360146233879],\n",
       " [49, 0.0],\n",
       " [50, 0.0],\n",
       " [51, 0.0],\n",
       " [52, 0.0],\n",
       " [53, 0.0],\n",
       " [54, 0.0],\n",
       " [55, 0.0],\n",
       " [56, 0.0],\n",
       " [57, 0.0],\n",
       " [58, 0.0],\n",
       " [59, 0.0],\n",
       " [60, 0.0]]"
      ]
     },
     "execution_count": 23,
     "metadata": {},
     "output_type": "execute_result"
    }
   ],
   "source": [
    "list(map(lambda x: [x, np.nanmax(inclin[pt_bins == x])] if len(inclin[pt_bins == x]) > 0 else [x, 0.], np.arange(1, qt_fases + 1)))\n",
    "# list(map(lambda x: len(orient[pt_bins == x]), fases))\n",
    "# np.nanmax(inclin[pt_bins == 3]) if len(inclin[pt_bins == 3]) > 0"
   ]
  },
  {
   "cell_type": "code",
   "execution_count": 49,
   "metadata": {},
   "outputs": [
    {
     "data": {
      "text/html": [
       "<pre>✔️ 18.8 ms (2021-02-02T16:22:40/2021-02-02T16:22:40)</pre>"
      ],
      "text/plain": [
       "<IPython.core.display.HTML object>"
      ]
     },
     "metadata": {},
     "output_type": "display_data"
    },
    {
     "data": {
      "text/plain": [
       "array([0.12915527, 0.12908778, 0.12903739, ..., 0.11497785, 0.12290731,\n",
       "       0.12282861])"
      ]
     },
     "execution_count": 49,
     "metadata": {},
     "output_type": "execute_result"
    }
   ],
   "source": [
    "# A relação entre a densidade de pontos e a distância para obstrução do céu visível\n",
    "# Quanto mais próximo um ponto está do observador, maior a obstrução que ele deve promover\n",
    "# Os parâmetros portanto são distância ao observador e a distância máxima entre pontos\n",
    "\n",
    "# Os bins então vão responder não mais a um angulo, mas uma faixa de angulos\n",
    "\n",
    "# o Angulo é dado por arctan2(dist_max_entre_pontos/2, distancia_do_observador)\n",
    "\n",
    "# densidade em raio\n",
    "raio = 1\n",
    "\n",
    "desvio_graus = np.degrees(np.arctan2(raio/2, \\\n",
    "                      np.sqrt(np.square(pts_0[:, 0]) + \\\n",
    "                              np.square(pts_0[:, 1]) + \\\n",
    "                              np.square(pts_0[:, 2]))) * 2)\n",
    "\n",
    "desvio_graus\n",
    "\n",
    "# Depois refatorar a função de máximo ângulo da fase"
   ]
  },
  {
   "cell_type": "code",
   "execution_count": 91,
   "metadata": {},
   "outputs": [
    {
     "data": {
      "text/html": [
       "<pre>✔️ 8.68 ms (2021-02-02T16:43:53/2021-02-02T16:43:53)</pre>"
      ],
      "text/plain": [
       "<IPython.core.display.HTML object>"
      ]
     },
     "metadata": {},
     "output_type": "display_data"
    },
    {
     "data": {
      "text/plain": [
       "14278"
      ]
     },
     "execution_count": 91,
     "metadata": {},
     "output_type": "execute_result"
    }
   ],
   "source": [
    "# Refatorando o calculo das fases\n",
    "\n",
    "# list(map(lambda x: \\\n",
    "#          [x, np.nanmax(inclin[pt_bins == x])] if len(inclin[pt_bins == x]) > 0 else [x, 0.], np.arange(1, qt_fases + 1)))\n",
    "\n",
    "orient + desvio_graus\n",
    "list(map(lambda x: x, fases))\n",
    "\n",
    "len(pts_0[((orient + desvio_graus >= 6.) | (orient - desvio_graus >= 6.) ) & ((orient + desvio_graus < 6. + 6) | (orient - desvio_graus < 6. + 6) ) ])"
   ]
  },
  {
   "cell_type": "code",
   "execution_count": 87,
   "metadata": {},
   "outputs": [
    {
     "data": {
      "text/html": [
       "<pre>✔️ 5.09 ms (2021-02-02T16:42:32/2021-02-02T16:42:32)</pre>"
      ],
      "text/plain": [
       "<IPython.core.display.HTML object>"
      ]
     },
     "metadata": {},
     "output_type": "display_data"
    },
    {
     "data": {
      "text/plain": [
       "array([ True,  True])"
      ]
     },
     "execution_count": 87,
     "metadata": {},
     "output_type": "execute_result"
    }
   ],
   "source": [
    "np.array([True, True]) | np.array([False, True])"
   ]
  },
  {
   "cell_type": "code",
   "execution_count": 25,
   "metadata": {},
   "outputs": [
    {
     "data": {
      "text/html": [
       "<pre>✔️ 803 µs (2021-02-02T15:53:22/2021-02-02T15:53:22)</pre>"
      ],
      "text/plain": [
       "<IPython.core.display.HTML object>"
      ]
     },
     "metadata": {},
     "output_type": "display_data"
    }
   ],
   "source": [
    "# Calcular o percentual de cada fuso\n",
    "# Sendo que a área do fuso é a área da esfera 4 x Pi x r x r dividido pela quantidade de fusos\n",
    "# em cada fuso subtrair a quantidade de céu visível, dao pela fórmula da calota da esfera\n",
    "# 2 x Pi x r x h (sendo necessário calcular h e considenrando r constante)"
   ]
  },
  {
   "cell_type": "code",
   "execution_count": null,
   "metadata": {},
   "outputs": [],
   "source": [
    "## TODO\n",
    "# Pensar em como iterar sobre as folhas!"
   ]
  },
  {
   "cell_type": "code",
   "execution_count": 27,
   "metadata": {},
   "outputs": [
    {
     "data": {
      "text/html": [
       "<pre>✔️ 9.24 ms (2021-02-02T15:54:11/2021-02-02T15:54:11)</pre>"
      ],
      "text/plain": [
       "<IPython.core.display.HTML object>"
      ]
     },
     "metadata": {},
     "output_type": "display_data"
    },
    {
     "data": {
      "text/plain": [
       "array([(333499.29, 7395564.35, 735.34, 18, 1, 1, 0, 0, 6, -14., 17, 6, 356569.36606547),\n",
       "       (333499.23, 7395565.79, 735.41, 18, 1, 1, 0, 0, 6, -14., 17, 6, 356569.36609045),\n",
       "       (333499.2 , 7395566.79, 735.25, 15, 1, 1, 0, 0, 6, -14., 17, 6, 356569.36610547),\n",
       "       ...,\n",
       "       (333520.96, 7395571.  , 732.5 ,  8, 1, 1, 1, 0, 6,  13., 40, 6, 363044.34273991),\n",
       "       (333521.09, 7395571.84, 731.83, 18, 1, 1, 1, 0, 6,  13., 40, 6, 363044.3609089 ),\n",
       "       (333520.95, 7395571.91, 729.86, 18, 1, 1, 0, 0, 6,  13., 40, 6, 363044.36412489)],\n",
       "      dtype=[('X', '<f8'), ('Y', '<f8'), ('Z', '<f8'), ('Intensity', '<u2'), ('ReturnNumber', 'u1'), ('NumberOfReturns', 'u1'), ('ScanDirectionFlag', 'u1'), ('EdgeOfFlightLine', 'u1'), ('Classification', 'u1'), ('ScanAngleRank', '<f4'), ('UserData', 'u1'), ('PointSourceId', '<u2'), ('GpsTime', '<f8')])"
      ]
     },
     "execution_count": 27,
     "metadata": {},
     "output_type": "execute_result"
    }
   ],
   "source": []
  },
  {
   "cell_type": "code",
   "execution_count": null,
   "metadata": {},
   "outputs": [],
   "source": []
  }
 ],
 "metadata": {
  "kernelspec": {
   "display_name": "Python 3",
   "language": "python",
   "name": "python3"
  },
  "language_info": {
   "codemirror_mode": {
    "name": "ipython",
    "version": 3
   },
   "file_extension": ".py",
   "mimetype": "text/x-python",
   "name": "python",
   "nbconvert_exporter": "python",
   "pygments_lexer": "ipython3",
   "version": "3.8.6"
  }
 },
 "nbformat": 4,
 "nbformat_minor": 4
}
