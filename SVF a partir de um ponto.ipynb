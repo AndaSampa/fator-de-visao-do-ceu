{
 "cells": [
  {
   "cell_type": "code",
   "execution_count": 1,
   "metadata": {},
   "outputs": [],
   "source": [
    "import pdal\n",
    "import numpy as np"
   ]
  },
  {
   "cell_type": "code",
   "execution_count": 2,
   "metadata": {},
   "outputs": [
    {
     "data": {
      "text/html": [
       "<pre>✔️ 1.88 ms (2021-05-10T10:32:05/2021-05-10T10:32:05)</pre>"
      ],
      "text/plain": [
       "<IPython.core.display.HTML object>"
      ]
     },
     "metadata": {},
     "output_type": "display_data"
    }
   ],
   "source": [
    "%load_ext autotime"
   ]
  },
  {
   "cell_type": "code",
   "execution_count": 3,
   "metadata": {},
   "outputs": [
    {
     "data": {
      "text/html": [
       "<pre>✔️ 272 µs (2021-05-10T10:32:09/2021-05-10T10:32:09)</pre>"
      ],
      "text/plain": [
       "<IPython.core.display.HTML object>"
      ]
     },
     "metadata": {},
     "output_type": "display_data"
    }
   ],
   "source": [
    "pipeline=\"\"\"{\n",
    "  \"pipeline\": [\n",
    "    {\n",
    "        \"type\": \"readers.las\",\n",
    "        \"filename\": \"arquivos/MDS/MDS_3314-231.laz\"\n",
    "    },\n",
    "    {\n",
    "        \"type\": \"filters.sample\",\n",
    "        \"radius\": 1\n",
    "    }\n",
    "  ]\n",
    "}\"\"\""
   ]
  },
  {
   "cell_type": "code",
   "execution_count": 4,
   "metadata": {},
   "outputs": [
    {
     "data": {
      "text/html": [
       "<pre>✔️ 9.77 s (2021-05-10T10:32:10/2021-05-10T10:32:20)</pre>"
      ],
      "text/plain": [
       "<IPython.core.display.HTML object>"
      ]
     },
     "metadata": {},
     "output_type": "display_data"
    }
   ],
   "source": [
    "r = pdal.Pipeline(pipeline)\n",
    "r.validate()\n",
    "r.execute()\n",
    "pts = r.arrays[0]"
   ]
  },
  {
   "cell_type": "code",
   "execution_count": 5,
   "metadata": {},
   "outputs": [
    {
     "data": {
      "text/html": [
       "<pre>✔️ 4.63 ms (2021-05-10T10:32:20/2021-05-10T10:32:20)</pre>"
      ],
      "text/plain": [
       "<IPython.core.display.HTML object>"
      ]
     },
     "metadata": {},
     "output_type": "display_data"
    },
    {
     "data": {
      "text/plain": [
       "array([(333499.29, 7395564.35, 735.34, 18, 1, 1, 0, 0, 6, -14., 17, 6, 356569.36606547),\n",
       "       (333499.23, 7395565.79, 735.41, 18, 1, 1, 0, 0, 6, -14., 17, 6, 356569.36609045),\n",
       "       (333499.2 , 7395566.79, 735.25, 15, 1, 1, 0, 0, 6, -14., 17, 6, 356569.36610547),\n",
       "       ...,\n",
       "       (333520.96, 7395571.  , 732.5 ,  8, 1, 1, 1, 0, 6,  13., 40, 6, 363044.34273991),\n",
       "       (333521.09, 7395571.84, 731.83, 18, 1, 1, 1, 0, 6,  13., 40, 6, 363044.3609089 ),\n",
       "       (333520.95, 7395571.91, 729.86, 18, 1, 1, 0, 0, 6,  13., 40, 6, 363044.36412489)],\n",
       "      dtype=[('X', '<f8'), ('Y', '<f8'), ('Z', '<f8'), ('Intensity', '<u2'), ('ReturnNumber', 'u1'), ('NumberOfReturns', 'u1'), ('ScanDirectionFlag', 'u1'), ('EdgeOfFlightLine', 'u1'), ('Classification', 'u1'), ('ScanAngleRank', '<f4'), ('UserData', 'u1'), ('PointSourceId', '<u2'), ('GpsTime', '<f8')])"
      ]
     },
     "execution_count": 5,
     "metadata": {},
     "output_type": "execute_result"
    }
   ],
   "source": [
    "pts"
   ]
  },
  {
   "cell_type": "code",
   "execution_count": 6,
   "metadata": {},
   "outputs": [
    {
     "data": {
      "text/html": [
       "<pre>✔️ 10.9 ms (2021-05-10T10:32:20/2021-05-10T10:32:20)</pre>"
      ],
      "text/plain": [
       "<IPython.core.display.HTML object>"
      ]
     },
     "metadata": {},
     "output_type": "display_data"
    },
    {
     "data": {
      "text/plain": [
       "300792"
      ]
     },
     "execution_count": 6,
     "metadata": {},
     "output_type": "execute_result"
    }
   ],
   "source": [
    "pt_edif = pts['Classification'] == 6\n",
    "len(pts[pt_edif])"
   ]
  },
  {
   "cell_type": "code",
   "execution_count": 7,
   "metadata": {},
   "outputs": [
    {
     "data": {
      "text/html": [
       "<pre>✔️ 4.85 ms (2021-05-10T10:32:23/2021-05-10T10:32:23)</pre>"
      ],
      "text/plain": [
       "<IPython.core.display.HTML object>"
      ]
     },
     "metadata": {},
     "output_type": "display_data"
    },
    {
     "data": {
      "text/plain": [
       "15890"
      ]
     },
     "execution_count": 7,
     "metadata": {},
     "output_type": "execute_result"
    }
   ],
   "source": [
    "pt_ground = pts['Classification'] == 2\n",
    "len(pts[pt_ground])"
   ]
  },
  {
   "cell_type": "code",
   "execution_count": 8,
   "metadata": {},
   "outputs": [
    {
     "data": {
      "text/html": [
       "<pre>✔️ 1.79 ms (2021-05-10T10:34:43/2021-05-10T10:34:43)</pre>"
      ],
      "text/plain": [
       "<IPython.core.display.HTML object>"
      ]
     },
     "metadata": {},
     "output_type": "display_data"
    },
    {
     "data": {
      "text/plain": [
       "471962"
      ]
     },
     "execution_count": 8,
     "metadata": {},
     "output_type": "execute_result"
    }
   ],
   "source": [
    "len(pts)"
   ]
  },
  {
   "cell_type": "code",
   "execution_count": 9,
   "metadata": {},
   "outputs": [
    {
     "data": {
      "text/html": [
       "<pre>✔️ 16.8 ms (2021-05-10T10:35:11/2021-05-10T10:35:11)</pre>"
      ],
      "text/plain": [
       "<IPython.core.display.HTML object>"
      ]
     },
     "metadata": {},
     "output_type": "display_data"
    },
    {
     "data": {
      "text/plain": [
       "316682"
      ]
     },
     "execution_count": 9,
     "metadata": {},
     "output_type": "execute_result"
    }
   ],
   "source": [
    "len(pts[pt_ground | pt_edif])"
   ]
  },
  {
   "cell_type": "code",
   "execution_count": 10,
   "metadata": {},
   "outputs": [
    {
     "data": {
      "text/html": [
       "<pre>✔️ 2.43 ms (2021-05-10T10:35:13/2021-05-10T10:35:13)</pre>"
      ],
      "text/plain": [
       "<IPython.core.display.HTML object>"
      ]
     },
     "metadata": {},
     "output_type": "display_data"
    }
   ],
   "source": [
    "# Escolhendo um ponto aleatório no Ground\n",
    "\n",
    "pt = np.random.choice(pts[pt_ground])"
   ]
  },
  {
   "cell_type": "code",
   "execution_count": 11,
   "metadata": {},
   "outputs": [
    {
     "data": {
      "text/html": [
       "<pre>✔️ 747 µs (2021-05-10T10:35:16/2021-05-10T10:35:16)</pre>"
      ],
      "text/plain": [
       "<IPython.core.display.HTML object>"
      ]
     },
     "metadata": {},
     "output_type": "display_data"
    }
   ],
   "source": [
    "coord = ['X', 'Y', 'Z']"
   ]
  },
  {
   "cell_type": "code",
   "execution_count": 12,
   "metadata": {},
   "outputs": [
    {
     "data": {
      "text/html": [
       "<pre>✔️ 2.58 ms (2021-05-10T10:35:23/2021-05-10T10:35:23)</pre>"
      ],
      "text/plain": [
       "<IPython.core.display.HTML object>"
      ]
     },
     "metadata": {},
     "output_type": "display_data"
    },
    {
     "data": {
      "text/plain": [
       "(333340.48, 7395505.53, 730.03)"
      ]
     },
     "execution_count": 12,
     "metadata": {},
     "output_type": "execute_result"
    }
   ],
   "source": [
    "pt[coord]"
   ]
  },
  {
   "cell_type": "code",
   "execution_count": 13,
   "metadata": {},
   "outputs": [
    {
     "data": {
      "text/html": [
       "<pre>✔️ 13.5 ms (2021-05-10T10:35:45/2021-05-10T10:35:45)</pre>"
      ],
      "text/plain": [
       "<IPython.core.display.HTML object>"
      ]
     },
     "metadata": {},
     "output_type": "display_data"
    }
   ],
   "source": [
    "# Centralizando a visão em 1.5 metros acima do solo do ponto escolhido\n",
    "\n",
    "pts_0 = np.array([pts[pt_ground | pt_edif]['X'] - pt['X'],\n",
    "         pts[pt_ground | pt_edif]['Y'] - pt['Y'],\n",
    "         pts[pt_ground | pt_edif]['Z'] - (pt['Z'] + 1.5)]).T"
   ]
  },
  {
   "cell_type": "code",
   "execution_count": 14,
   "metadata": {},
   "outputs": [
    {
     "data": {
      "text/html": [
       "<pre>✔️ 587 µs (2021-05-10T10:35:49/2021-05-10T10:35:49)</pre>"
      ],
      "text/plain": [
       "<IPython.core.display.HTML object>"
      ]
     },
     "metadata": {},
     "output_type": "display_data"
    }
   ],
   "source": [
    "## TODO\n",
    "# Reprojetar os pontos para a circunferência da terra"
   ]
  },
  {
   "cell_type": "code",
   "execution_count": 15,
   "metadata": {},
   "outputs": [
    {
     "data": {
      "text/html": [
       "<pre>✔️ 8.32 ms (2021-05-10T10:35:55/2021-05-10T10:35:55)</pre>"
      ],
      "text/plain": [
       "<IPython.core.display.HTML object>"
      ]
     },
     "metadata": {},
     "output_type": "display_data"
    }
   ],
   "source": [
    "## Filtrando pontos acima da visão horizontal\n",
    "\n",
    "pts_0 = pts_0[pts_0[:, 2] >= 0.0]"
   ]
  },
  {
   "cell_type": "code",
   "execution_count": 16,
   "metadata": {},
   "outputs": [
    {
     "data": {
      "text/html": [
       "<pre>✔️ 9.38 ms (2021-05-10T10:35:56/2021-05-10T10:35:56)</pre>"
      ],
      "text/plain": [
       "<IPython.core.display.HTML object>"
      ]
     },
     "metadata": {},
     "output_type": "display_data"
    },
    {
     "data": {
      "text/plain": [
       "295911"
      ]
     },
     "execution_count": 16,
     "metadata": {},
     "output_type": "execute_result"
    }
   ],
   "source": [
    "len(pts_0)"
   ]
  },
  {
   "cell_type": "code",
   "execution_count": 17,
   "metadata": {},
   "outputs": [
    {
     "data": {
      "text/html": [
       "<pre>✔️ 3.55 ms (2021-05-10T10:36:06/2021-05-10T10:36:06)</pre>"
      ],
      "text/plain": [
       "<IPython.core.display.HTML object>"
      ]
     },
     "metadata": {},
     "output_type": "display_data"
    },
    {
     "data": {
      "text/plain": [
       "array([ 90.,   0., -90., 180.])"
      ]
     },
     "execution_count": 17,
     "metadata": {},
     "output_type": "execute_result"
    }
   ],
   "source": [
    "# Calcluando Azimute, ou melhor, um angulo começando Leste \n",
    "# crescendo no sentido anti-horario e negativo para todo Y < 0\n",
    "\n",
    "teste_az = [[0., 1],\n",
    "           [1., 0.],\n",
    "           [0., -1.],\n",
    "           [-1., 0.]]\n",
    "\n",
    "teste_az = np.array(teste_az)\n",
    "\n",
    "az = np.arctan2(teste_az[:, 1], teste_az[:, 0]) * 180 / np.pi\n",
    "az"
   ]
  },
  {
   "cell_type": "code",
   "execution_count": 21,
   "metadata": {},
   "outputs": [
    {
     "data": {
      "text/html": [
       "<pre>✔️ 21.3 ms (2021-05-10T10:36:38/2021-05-10T10:36:38)</pre>"
      ],
      "text/plain": [
       "<IPython.core.display.HTML object>"
      ]
     },
     "metadata": {},
     "output_type": "display_data"
    }
   ],
   "source": [
    "# Calculando o angulo de orientação de cada ponto\n",
    "\n",
    "orient = np.arctan2(pts_0[:, 1], pts_0[:, 0]) * 180 / np.pi\n",
    "# len(orient)"
   ]
  },
  {
   "cell_type": "code",
   "execution_count": 22,
   "metadata": {},
   "outputs": [
    {
     "data": {
      "text/html": [
       "<pre>✔️ 32.3 ms (2021-05-10T10:36:44/2021-05-10T10:36:44)</pre>"
      ],
      "text/plain": [
       "<IPython.core.display.HTML object>"
      ]
     },
     "metadata": {},
     "output_type": "display_data"
    }
   ],
   "source": [
    "# Calculando o angulo de altura de cada ponto\n",
    "\n",
    "# np.arctan2(10, 1000) * 180 / np.pi\n",
    "# np.sqrt(np.square(4) + np.square(3))\n",
    "\n",
    "inclin = np.arctan2(pts_0[:, 2], np.sqrt(np.square(pts_0[:, 0]) + np.square(pts_0[:, 1]))) * 180 / np.pi"
   ]
  },
  {
   "cell_type": "code",
   "execution_count": 23,
   "metadata": {},
   "outputs": [
    {
     "data": {
      "text/html": [
       "<pre>✔️ 2.45 ms (2021-05-10T10:36:49/2021-05-10T10:36:49)</pre>"
      ],
      "text/plain": [
       "<IPython.core.display.HTML object>"
      ]
     },
     "metadata": {},
     "output_type": "display_data"
    },
    {
     "data": {
      "text/plain": [
       "10.099504938362077"
      ]
     },
     "execution_count": 23,
     "metadata": {},
     "output_type": "execute_result"
    }
   ],
   "source": [
    "# Calculando a distância até o ponto\n",
    "\n",
    "np.sqrt(np.square(1) + np.square(1) + np.square(10))"
   ]
  },
  {
   "cell_type": "code",
   "execution_count": 24,
   "metadata": {},
   "outputs": [
    {
     "data": {
      "text/html": [
       "<pre>✔️ 385 µs (2021-05-10T10:37:03/2021-05-10T10:37:03)</pre>"
      ],
      "text/plain": [
       "<IPython.core.display.HTML object>"
      ]
     },
     "metadata": {},
     "output_type": "display_data"
    }
   ],
   "source": [
    "# sorted(inclin, reverse=True)"
   ]
  },
  {
   "cell_type": "code",
   "execution_count": 25,
   "metadata": {},
   "outputs": [
    {
     "data": {
      "text/html": [
       "<pre>✔️ 2.05 ms (2021-05-10T10:37:03/2021-05-10T10:37:03)</pre>"
      ],
      "text/plain": [
       "<IPython.core.display.HTML object>"
      ]
     },
     "metadata": {},
     "output_type": "display_data"
    },
    {
     "data": {
      "text/plain": [
       "array([20.32360685, 20.78628867, 21.10472835, ..., 17.1965555 ,\n",
       "       19.93848683, 20.16044186])"
      ]
     },
     "execution_count": 25,
     "metadata": {},
     "output_type": "execute_result"
    }
   ],
   "source": [
    "orient"
   ]
  },
  {
   "cell_type": "code",
   "execution_count": 26,
   "metadata": {},
   "outputs": [
    {
     "data": {
      "text/html": [
       "<pre>✔️ 6.62 ms (2021-05-10T10:37:18/2021-05-10T10:37:18)</pre>"
      ],
      "text/plain": [
       "<IPython.core.display.HTML object>"
      ]
     },
     "metadata": {},
     "output_type": "display_data"
    }
   ],
   "source": [
    "# Separando em fases\n",
    "\n",
    "qt_fases = 60\n",
    "fases = np.arange(-180., 180., 360./qt_fases)\n",
    "\n",
    "pt_bins = np.digitize(orient, fases)"
   ]
  },
  {
   "cell_type": "code",
   "execution_count": 27,
   "metadata": {},
   "outputs": [
    {
     "data": {
      "text/html": [
       "<pre>✔️ 18.8 ms (2021-05-10T10:37:19/2021-05-10T10:37:19)</pre>"
      ],
      "text/plain": [
       "<IPython.core.display.HTML object>"
      ]
     },
     "metadata": {},
     "output_type": "display_data"
    },
    {
     "data": {
      "text/plain": [
       "(array([ 4846,  2218,  1689,  3287,  3529,  2806,  5649,  6983, 12856,\n",
       "        20260, 24715, 26459, 22437, 21586, 23244, 13736,  7653,  7406,\n",
       "         6132,  6957,  7650,  4120,  3405,  3106,  3875,  3315,  3597,\n",
       "         2928,  4300,  2549,  2797,  3847,  2618,  1304,  1184,   803,\n",
       "          564,   362,   340,   456,   378,   433,   559,   495,   496,\n",
       "          480,   447,   280,   162,   241,   374,   418,   461,   594,\n",
       "          798,  1286,  1089,  3047,  1842]),\n",
       " array([-180., -174., -168., -162., -156., -150., -144., -138., -132.,\n",
       "        -126., -120., -114., -108., -102.,  -96.,  -90.,  -84.,  -78.,\n",
       "         -72.,  -66.,  -60.,  -54.,  -48.,  -42.,  -36.,  -30.,  -24.,\n",
       "         -18.,  -12.,   -6.,    0.,    6.,   12.,   18.,   24.,   30.,\n",
       "          36.,   42.,   48.,   54.,   60.,   66.,   72.,   78.,   84.,\n",
       "          90.,   96.,  102.,  108.,  114.,  120.,  126.,  132.,  138.,\n",
       "         144.,  150.,  156.,  162.,  168.,  174.]))"
      ]
     },
     "execution_count": 27,
     "metadata": {},
     "output_type": "execute_result"
    }
   ],
   "source": [
    "np.histogram(orient, fases)"
   ]
  },
  {
   "cell_type": "code",
   "execution_count": 28,
   "metadata": {},
   "outputs": [
    {
     "data": {
      "text/html": [
       "<pre>✔️ 6.38 ms (2021-05-10T10:37:29/2021-05-10T10:37:29)</pre>"
      ],
      "text/plain": [
       "<IPython.core.display.HTML object>"
      ]
     },
     "metadata": {},
     "output_type": "display_data"
    },
    {
     "data": {
      "text/plain": [
       "array([ 1,  2,  3,  4,  5,  6,  7,  8,  9, 10, 11, 12, 13, 14, 15, 16, 17,\n",
       "       18, 19, 20, 21, 22, 23, 24, 25, 26, 27, 28, 29, 30, 31, 32, 33, 34,\n",
       "       35, 36, 37, 38, 39, 40, 41, 42, 43, 44, 45, 46, 47, 48, 49, 50, 51,\n",
       "       52, 53, 54, 55, 56, 57, 58, 59, 60])"
      ]
     },
     "execution_count": 28,
     "metadata": {},
     "output_type": "execute_result"
    }
   ],
   "source": [
    "np.unique(pt_bins)"
   ]
  },
  {
   "cell_type": "code",
   "execution_count": 29,
   "metadata": {},
   "outputs": [
    {
     "data": {
      "text/html": [
       "<pre>✔️ 2.25 ms (2021-05-10T10:37:35/2021-05-10T10:37:35)</pre>"
      ],
      "text/plain": [
       "<IPython.core.display.HTML object>"
      ]
     },
     "metadata": {},
     "output_type": "display_data"
    },
    {
     "data": {
      "text/plain": [
       "array([ 1,  2,  3,  4,  5,  6,  7,  8,  9, 10, 11, 12, 13, 14, 15, 16, 17,\n",
       "       18, 19, 20, 21, 22, 23, 24, 25, 26, 27, 28, 29, 30, 31, 32, 33, 34,\n",
       "       35, 36, 37, 38, 39, 40, 41, 42, 43, 44, 45, 46, 47, 48, 49, 50, 51,\n",
       "       52, 53, 54, 55, 56, 57, 58, 59, 60])"
      ]
     },
     "execution_count": 29,
     "metadata": {},
     "output_type": "execute_result"
    }
   ],
   "source": [
    "np.arange(1, qt_fases + 1)"
   ]
  },
  {
   "cell_type": "code",
   "execution_count": 30,
   "metadata": {},
   "outputs": [
    {
     "data": {
      "text/html": [
       "<pre>✔️ 28.4 ms (2021-05-10T10:37:44/2021-05-10T10:37:44)</pre>"
      ],
      "text/plain": [
       "<IPython.core.display.HTML object>"
      ]
     },
     "metadata": {},
     "output_type": "display_data"
    },
    {
     "data": {
      "text/plain": [
       "[[1, 85.91739960637011],\n",
       " [2, 85.05915229442553],\n",
       " [3, 84.52537566717291],\n",
       " [4, 85.33186915597976],\n",
       " [5, 85.51559985524625],\n",
       " [6, 83.04968789000661],\n",
       " [7, 87.8564090357346],\n",
       " [8, 88.17239229742398],\n",
       " [9, 77.67213585666134],\n",
       " [10, 88.09681517678403],\n",
       " [11, 76.89440942142657],\n",
       " [12, 84.99299446930976],\n",
       " [13, 87.30860816567726],\n",
       " [14, 85.31419603160214],\n",
       " [15, 86.90817485389135],\n",
       " [16, 86.1356492145282],\n",
       " [17, 81.57397906825868],\n",
       " [18, 86.73438157819683],\n",
       " [19, 84.46275940780555],\n",
       " [20, 88.05554478926817],\n",
       " [21, 81.11864936952624],\n",
       " [22, 83.8110749206603],\n",
       " [23, 85.97071640972874],\n",
       " [24, 86.10574476479249],\n",
       " [25, 86.24398978021787],\n",
       " [26, 83.06157895565384],\n",
       " [27, 81.02520861089025],\n",
       " [28, 68.39057862785269],\n",
       " [29, 22.69477472380728],\n",
       " [30, 21.692195247900756],\n",
       " [31, 23.154874232007113],\n",
       " [32, 24.38189574291941],\n",
       " [33, 29.723144118527358],\n",
       " [34, 26.4134524209064],\n",
       " [35, 31.133313182160038],\n",
       " [36, 28.79369536649014],\n",
       " [37, 28.072675713570145],\n",
       " [38, 26.970295372336196],\n",
       " [39, 23.270752121040584],\n",
       " [40, 79.01436286903535],\n",
       " [41, 77.87241657192025],\n",
       " [42, 79.62791727146177],\n",
       " [43, 76.07332813167828],\n",
       " [44, 74.05260119817946],\n",
       " [45, 68.20473199065108],\n",
       " [46, 79.04341990929764],\n",
       " [47, 74.44132712491479],\n",
       " [48, 70.18002982110777],\n",
       " [49, 76.86909758032331],\n",
       " [50, 70.55611601685143],\n",
       " [51, 71.1861331254034],\n",
       " [52, 73.88272654340801],\n",
       " [53, 69.66754407937798],\n",
       " [54, 71.07313241351193],\n",
       " [55, 60.54857420328367],\n",
       " [56, 53.31036698359054],\n",
       " [57, 45.508074907532155],\n",
       " [58, 64.80381030320457],\n",
       " [59, 77.850650809868],\n",
       " [60, 83.46468748633467]]"
      ]
     },
     "execution_count": 30,
     "metadata": {},
     "output_type": "execute_result"
    }
   ],
   "source": [
    "list(map(lambda x: [x, np.nanmax(inclin[pt_bins == x])] if len(inclin[pt_bins == x]) > 0 else [x, 0.], np.arange(1, qt_fases + 1)))\n",
    "# list(map(lambda x: len(orient[pt_bins == x]), fases))\n",
    "# np.nanmax(inclin[pt_bins == 3]) if len(inclin[pt_bins == 3]) > 0"
   ]
  },
  {
   "cell_type": "code",
   "execution_count": null,
   "metadata": {},
   "outputs": [],
   "source": []
  },
  {
   "cell_type": "code",
   "execution_count": 27,
   "metadata": {},
   "outputs": [
    {
     "data": {
      "text/html": [
       "<pre>✔️ 22.4 ms (2021-02-03T15:18:59/2021-02-03T15:18:59)</pre>"
      ],
      "text/plain": [
       "<IPython.core.display.HTML object>"
      ]
     },
     "metadata": {},
     "output_type": "display_data"
    },
    {
     "data": {
      "text/plain": [
       "array([0.19749032, 0.19660078, 0.19598865, ..., 0.18791985, 0.18742728,\n",
       "       0.18744317])"
      ]
     },
     "execution_count": 27,
     "metadata": {},
     "output_type": "execute_result"
    }
   ],
   "source": [
    "# A relação entre a densidade de pontos e a distância para obstrução do céu visível\n",
    "# Quanto mais próximo um ponto está do observador, maior a obstrução que ele deve promover\n",
    "# Os parâmetros portanto são distância ao observador e a distância máxima entre pontos\n",
    "\n",
    "# Os bins então vão responder não mais a um angulo, mas uma faixa de angulos\n",
    "\n",
    "# o Angulo é dado por arctan2(dist_max_entre_pontos/2, distancia_do_observador)\n",
    "\n",
    "# densidade em raio\n",
    "raio = 1\n",
    "\n",
    "desvio_graus = np.degrees(np.arctan2(raio/2, \\\n",
    "                      np.sqrt(np.square(pts_0[:, 0]) + \\\n",
    "                              np.square(pts_0[:, 1]) + \\\n",
    "                              np.square(pts_0[:, 2]))) * 2)\n",
    "\n",
    "desvio_graus\n",
    "\n",
    "# Depois refatorar a função de máximo ângulo da fase"
   ]
  },
  {
   "cell_type": "code",
   "execution_count": 28,
   "metadata": {},
   "outputs": [
    {
     "data": {
      "text/html": [
       "<pre>✔️ 6.97 ms (2021-02-03T15:19:00/2021-02-03T15:19:00)</pre>"
      ],
      "text/plain": [
       "<IPython.core.display.HTML object>"
      ]
     },
     "metadata": {},
     "output_type": "display_data"
    },
    {
     "data": {
      "text/plain": [
       "2677"
      ]
     },
     "execution_count": 28,
     "metadata": {},
     "output_type": "execute_result"
    }
   ],
   "source": [
    "# Refatorando o calculo das fases\n",
    "\n",
    "# list(map(lambda x: \\\n",
    "#          [x, np.nanmax(inclin[pt_bins == x])] if len(inclin[pt_bins == x]) > 0 else [x, 0.], np.arange(1, qt_fases + 1)))\n",
    "\n",
    "orient + desvio_graus\n",
    "list(map(lambda x: x, fases))\n",
    "\n",
    "len(pts_0[((orient + desvio_graus >= 6.) | (orient - desvio_graus >= 6.) ) & ((orient + desvio_graus < 6. + 6) | (orient - desvio_graus < 6. + 6) ) ])"
   ]
  },
  {
   "cell_type": "code",
   "execution_count": null,
   "metadata": {},
   "outputs": [],
   "source": []
  },
  {
   "cell_type": "code",
   "execution_count": null,
   "metadata": {},
   "outputs": [],
   "source": [
    "# Calcular o percentual de cada fuso\n",
    "# Sendo que a área do fuso é a área da esfera 4 x Pi x r x r dividido pela quantidade de fusos\n",
    "# em cada fuso subtrair a quantidade de céu visível, dao pela fórmula da calota da esfera\n",
    "# 2 x Pi x r x h (sendo necessário calcular h e considenrando r constante)"
   ]
  },
  {
   "cell_type": "code",
   "execution_count": null,
   "metadata": {},
   "outputs": [],
   "source": [
    "## TODO\n",
    "# Pensar em como iterar sobre as folhas!"
   ]
  },
  {
   "cell_type": "code",
   "execution_count": 38,
   "metadata": {},
   "outputs": [
    {
     "data": {
      "text/html": [
       "<pre>✔️ 2.7 ms (2021-02-03T15:35:13/2021-02-03T15:35:13)</pre>"
      ],
      "text/plain": [
       "<IPython.core.display.HTML object>"
      ]
     },
     "metadata": {},
     "output_type": "display_data"
    }
   ],
   "source": [
    "np.set_printoptions(formatter={'float': lambda x: \"{0:0.6f}\".format(x)})"
   ]
  },
  {
   "cell_type": "code",
   "execution_count": 39,
   "metadata": {},
   "outputs": [
    {
     "data": {
      "text/html": [
       "<pre>✔️ 6.45 ms (2021-02-03T15:35:15/2021-02-03T15:35:15)</pre>"
      ],
      "text/plain": [
       "<IPython.core.display.HTML object>"
      ]
     },
     "metadata": {},
     "output_type": "display_data"
    },
    {
     "data": {
      "text/plain": [
       "array([0.105, 1.045, 10.453, 52.264, 104.528, 1045.285])"
      ]
     },
     "execution_count": 39,
     "metadata": {},
     "output_type": "execute_result"
    }
   ],
   "source": [
    "# Verificando a resolução mínima\n",
    "# O tamanho em ângulo do fuso e a distância ao ponto do observador são parâmetros\n",
    "\n",
    "angulo_fase = 360. / qt_fases\n",
    "angulo_fase\n",
    "\n",
    "distancia = np.array([1, 10, 100, 500, 1000, 10000])\n",
    "\n",
    "np.sin(np.deg2rad(angulo_fase)) * distancia"
   ]
  },
  {
   "cell_type": "code",
   "execution_count": null,
   "metadata": {},
   "outputs": [],
   "source": []
  }
 ],
 "metadata": {
  "kernelspec": {
   "display_name": "Python 3",
   "language": "python",
   "name": "python3"
  },
  "language_info": {
   "codemirror_mode": {
    "name": "ipython",
    "version": 3
   },
   "file_extension": ".py",
   "mimetype": "text/x-python",
   "name": "python",
   "nbconvert_exporter": "python",
   "pygments_lexer": "ipython3",
   "version": "3.8.5"
  }
 },
 "nbformat": 4,
 "nbformat_minor": 4
}
