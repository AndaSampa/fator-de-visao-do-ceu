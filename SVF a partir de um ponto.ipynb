{
 "cells": [
  {
   "cell_type": "code",
   "execution_count": 1,
   "metadata": {},
   "outputs": [],
   "source": [
    "import pdal\n",
    "import numpy as np"
   ]
  },
  {
   "cell_type": "code",
   "execution_count": 2,
   "metadata": {},
   "outputs": [
    {
     "data": {
      "text/html": [
       "<pre>✔️ 226 µs (2021-02-03T15:16:14/2021-02-03T15:16:14)</pre>"
      ],
      "text/plain": [
       "<IPython.core.display.HTML object>"
      ]
     },
     "metadata": {},
     "output_type": "display_data"
    }
   ],
   "source": [
    "%load_ext autotime"
   ]
  },
  {
   "cell_type": "code",
   "execution_count": 3,
   "metadata": {},
   "outputs": [
    {
     "data": {
      "text/html": [
       "<pre>✔️ 668 µs (2021-02-03T15:16:14/2021-02-03T15:16:14)</pre>"
      ],
      "text/plain": [
       "<IPython.core.display.HTML object>"
      ]
     },
     "metadata": {},
     "output_type": "display_data"
    }
   ],
   "source": [
    "pipeline=\"\"\"{\n",
    "  \"pipeline\": [\n",
    "    {\n",
    "        \"type\": \"readers.las\",\n",
    "        \"filename\": \"arquivos/MDS/MDS_3314-231.laz\"\n",
    "    },\n",
    "    {\n",
    "        \"type\": \"filters.sample\",\n",
    "        \"radius\": 1\n",
    "    }\n",
    "  ]\n",
    "}\"\"\""
   ]
  },
  {
   "cell_type": "code",
   "execution_count": 4,
   "metadata": {},
   "outputs": [
    {
     "data": {
      "text/html": [
       "<pre>✔️ 10 s (2021-02-03T15:16:17/2021-02-03T15:16:27)</pre>"
      ],
      "text/plain": [
       "<IPython.core.display.HTML object>"
      ]
     },
     "metadata": {},
     "output_type": "display_data"
    }
   ],
   "source": [
    "r = pdal.Pipeline(pipeline)\n",
    "r.validate()\n",
    "r.execute()\n",
    "pts = r.arrays[0]"
   ]
  },
  {
   "cell_type": "code",
   "execution_count": 5,
   "metadata": {},
   "outputs": [
    {
     "data": {
      "text/html": [
       "<pre>✔️ 3.02 ms (2021-02-03T15:16:27/2021-02-03T15:16:27)</pre>"
      ],
      "text/plain": [
       "<IPython.core.display.HTML object>"
      ]
     },
     "metadata": {},
     "output_type": "display_data"
    },
    {
     "data": {
      "text/plain": [
       "array([(333499.29, 7395564.35, 735.34, 18, 1, 1, 0, 0, 6, -14., 17, 6, 356569.36606547),\n",
       "       (333499.23, 7395565.79, 735.41, 18, 1, 1, 0, 0, 6, -14., 17, 6, 356569.36609045),\n",
       "       (333499.2 , 7395566.79, 735.25, 15, 1, 1, 0, 0, 6, -14., 17, 6, 356569.36610547),\n",
       "       ...,\n",
       "       (333520.96, 7395571.  , 732.5 ,  8, 1, 1, 1, 0, 6,  13., 40, 6, 363044.34273991),\n",
       "       (333521.09, 7395571.84, 731.83, 18, 1, 1, 1, 0, 6,  13., 40, 6, 363044.3609089 ),\n",
       "       (333520.95, 7395571.91, 729.86, 18, 1, 1, 0, 0, 6,  13., 40, 6, 363044.36412489)],\n",
       "      dtype=[('X', '<f8'), ('Y', '<f8'), ('Z', '<f8'), ('Intensity', '<u2'), ('ReturnNumber', 'u1'), ('NumberOfReturns', 'u1'), ('ScanDirectionFlag', 'u1'), ('EdgeOfFlightLine', 'u1'), ('Classification', 'u1'), ('ScanAngleRank', '<f4'), ('UserData', 'u1'), ('PointSourceId', '<u2'), ('GpsTime', '<f8')])"
      ]
     },
     "execution_count": 5,
     "metadata": {},
     "output_type": "execute_result"
    }
   ],
   "source": [
    "pts"
   ]
  },
  {
   "cell_type": "code",
   "execution_count": 6,
   "metadata": {},
   "outputs": [
    {
     "data": {
      "text/html": [
       "<pre>✔️ 6.56 ms (2021-02-03T15:16:27/2021-02-03T15:16:27)</pre>"
      ],
      "text/plain": [
       "<IPython.core.display.HTML object>"
      ]
     },
     "metadata": {},
     "output_type": "display_data"
    },
    {
     "data": {
      "text/plain": [
       "300792"
      ]
     },
     "execution_count": 6,
     "metadata": {},
     "output_type": "execute_result"
    }
   ],
   "source": [
    "pt_edif = pts['Classification'] == 6\n",
    "len(pts[pt_edif])"
   ]
  },
  {
   "cell_type": "code",
   "execution_count": 7,
   "metadata": {},
   "outputs": [
    {
     "data": {
      "text/html": [
       "<pre>✔️ 3.28 ms (2021-02-03T15:16:27/2021-02-03T15:16:27)</pre>"
      ],
      "text/plain": [
       "<IPython.core.display.HTML object>"
      ]
     },
     "metadata": {},
     "output_type": "display_data"
    },
    {
     "data": {
      "text/plain": [
       "15890"
      ]
     },
     "execution_count": 7,
     "metadata": {},
     "output_type": "execute_result"
    }
   ],
   "source": [
    "pt_ground = pts['Classification'] == 2\n",
    "len(pts[pt_ground])"
   ]
  },
  {
   "cell_type": "code",
   "execution_count": 40,
   "metadata": {},
   "outputs": [
    {
     "data": {
      "text/html": [
       "<pre>✔️ 6.89 ms (2021-02-03T15:39:06/2021-02-03T15:39:06)</pre>"
      ],
      "text/plain": [
       "<IPython.core.display.HTML object>"
      ]
     },
     "metadata": {},
     "output_type": "display_data"
    },
    {
     "data": {
      "text/plain": [
       "471962"
      ]
     },
     "execution_count": 40,
     "metadata": {},
     "output_type": "execute_result"
    }
   ],
   "source": [
    "len(pts)"
   ]
  },
  {
   "cell_type": "code",
   "execution_count": 8,
   "metadata": {},
   "outputs": [
    {
     "data": {
      "text/html": [
       "<pre>✔️ 4.59 ms (2021-02-03T15:16:27/2021-02-03T15:16:27)</pre>"
      ],
      "text/plain": [
       "<IPython.core.display.HTML object>"
      ]
     },
     "metadata": {},
     "output_type": "display_data"
    },
    {
     "data": {
      "text/plain": [
       "316682"
      ]
     },
     "execution_count": 8,
     "metadata": {},
     "output_type": "execute_result"
    }
   ],
   "source": [
    "len(pts[pt_ground | pt_edif])"
   ]
  },
  {
   "cell_type": "code",
   "execution_count": 9,
   "metadata": {},
   "outputs": [
    {
     "data": {
      "text/html": [
       "<pre>✔️ 1.43 ms (2021-02-03T15:16:27/2021-02-03T15:16:27)</pre>"
      ],
      "text/plain": [
       "<IPython.core.display.HTML object>"
      ]
     },
     "metadata": {},
     "output_type": "display_data"
    }
   ],
   "source": [
    "# Escolhendo um ponto aleatório no Ground\n",
    "\n",
    "pt = np.random.choice(pts[pt_ground])"
   ]
  },
  {
   "cell_type": "code",
   "execution_count": 10,
   "metadata": {},
   "outputs": [
    {
     "data": {
      "text/html": [
       "<pre>✔️ 376 µs (2021-02-03T15:16:27/2021-02-03T15:16:27)</pre>"
      ],
      "text/plain": [
       "<IPython.core.display.HTML object>"
      ]
     },
     "metadata": {},
     "output_type": "display_data"
    }
   ],
   "source": [
    "coord = ['X', 'Y', 'Z']"
   ]
  },
  {
   "cell_type": "code",
   "execution_count": 11,
   "metadata": {},
   "outputs": [
    {
     "data": {
      "text/html": [
       "<pre>✔️ 2.44 ms (2021-02-03T15:16:27/2021-02-03T15:16:27)</pre>"
      ],
      "text/plain": [
       "<IPython.core.display.HTML object>"
      ]
     },
     "metadata": {},
     "output_type": "display_data"
    },
    {
     "data": {
      "text/plain": [
       "(333389.69, 7395295.88, 724.85)"
      ]
     },
     "execution_count": 11,
     "metadata": {},
     "output_type": "execute_result"
    }
   ],
   "source": [
    "pt[coord]"
   ]
  },
  {
   "cell_type": "code",
   "execution_count": 12,
   "metadata": {},
   "outputs": [
    {
     "data": {
      "text/html": [
       "<pre>✔️ 14.4 ms (2021-02-03T15:16:50/2021-02-03T15:16:50)</pre>"
      ],
      "text/plain": [
       "<IPython.core.display.HTML object>"
      ]
     },
     "metadata": {},
     "output_type": "display_data"
    }
   ],
   "source": [
    "# Centralizando a visão em 1.5 metros acima do solo do ponto escolhido\n",
    "\n",
    "pts_0 = np.array([pts[pt_ground | pt_edif]['X'] - pt['X'],\n",
    "         pts[pt_ground | pt_edif]['Y'] - pt['Y'],\n",
    "         pts[pt_ground | pt_edif]['Z'] - (pt['Z'] + 1.5)]).T"
   ]
  },
  {
   "cell_type": "code",
   "execution_count": 13,
   "metadata": {},
   "outputs": [
    {
     "data": {
      "text/html": [
       "<pre>✔️ 767 µs (2021-02-03T15:16:51/2021-02-03T15:16:51)</pre>"
      ],
      "text/plain": [
       "<IPython.core.display.HTML object>"
      ]
     },
     "metadata": {},
     "output_type": "display_data"
    }
   ],
   "source": [
    "## TODO\n",
    "# Reprojetar os pontos para a circunferência da terra"
   ]
  },
  {
   "cell_type": "code",
   "execution_count": 14,
   "metadata": {},
   "outputs": [
    {
     "data": {
      "text/html": [
       "<pre>✔️ 16.5 ms (2021-02-03T15:16:52/2021-02-03T15:16:52)</pre>"
      ],
      "text/plain": [
       "<IPython.core.display.HTML object>"
      ]
     },
     "metadata": {},
     "output_type": "display_data"
    }
   ],
   "source": [
    "## Filtrando pontos acima da visão horizontal\n",
    "\n",
    "pts_0 = pts_0[pts_0[:, 2] >= 0.0]"
   ]
  },
  {
   "cell_type": "code",
   "execution_count": 15,
   "metadata": {},
   "outputs": [
    {
     "data": {
      "text/html": [
       "<pre>✔️ 2.15 ms (2021-02-03T15:16:52/2021-02-03T15:16:52)</pre>"
      ],
      "text/plain": [
       "<IPython.core.display.HTML object>"
      ]
     },
     "metadata": {},
     "output_type": "display_data"
    },
    {
     "data": {
      "text/plain": [
       "310874"
      ]
     },
     "execution_count": 15,
     "metadata": {},
     "output_type": "execute_result"
    }
   ],
   "source": [
    "len(pts_0)"
   ]
  },
  {
   "cell_type": "code",
   "execution_count": 16,
   "metadata": {},
   "outputs": [
    {
     "data": {
      "text/html": [
       "<pre>✔️ 9.57 ms (2021-02-03T15:16:54/2021-02-03T15:16:54)</pre>"
      ],
      "text/plain": [
       "<IPython.core.display.HTML object>"
      ]
     },
     "metadata": {},
     "output_type": "display_data"
    },
    {
     "data": {
      "text/plain": [
       "array([ 90.,   0., -90., 180.])"
      ]
     },
     "execution_count": 16,
     "metadata": {},
     "output_type": "execute_result"
    }
   ],
   "source": [
    "# Calcluando Azimute, ou melhor, um angulo começando Leste \n",
    "# crescendo no sentido anti-horario e negativo para todo Y < 0\n",
    "\n",
    "teste_az = [[0., 1],\n",
    "           [1., 0.],\n",
    "           [0., -1.],\n",
    "           [-1., 0.]]\n",
    "\n",
    "teste_az = np.array(teste_az)\n",
    "\n",
    "az = np.arctan2(teste_az[:, 1], teste_az[:, 0]) * 180 / np.pi\n",
    "az"
   ]
  },
  {
   "cell_type": "code",
   "execution_count": 17,
   "metadata": {},
   "outputs": [
    {
     "data": {
      "text/html": [
       "<pre>✔️ 9.11 ms (2021-02-03T15:16:56/2021-02-03T15:16:56)</pre>"
      ],
      "text/plain": [
       "<IPython.core.display.HTML object>"
      ]
     },
     "metadata": {},
     "output_type": "display_data"
    }
   ],
   "source": [
    "# Calculando o angulo de orientação de cada ponto\n",
    "\n",
    "orient = np.arctan2(pts_0[:, 1], pts_0[:, 0]) * 180 / np.pi\n",
    "# orient"
   ]
  },
  {
   "cell_type": "code",
   "execution_count": 18,
   "metadata": {},
   "outputs": [
    {
     "data": {
      "text/html": [
       "<pre>✔️ 31.1 ms (2021-02-03T15:16:57/2021-02-03T15:16:57)</pre>"
      ],
      "text/plain": [
       "<IPython.core.display.HTML object>"
      ]
     },
     "metadata": {},
     "output_type": "display_data"
    }
   ],
   "source": [
    "# Calculando o angulo de altura de cada ponto\n",
    "\n",
    "# np.arctan2(10, 1000) * 180 / np.pi\n",
    "# np.sqrt(np.square(4) + np.square(3))\n",
    "\n",
    "inclin = np.arctan2(pts_0[:, 2], np.sqrt(np.square(pts_0[:, 0]) + np.square(pts_0[:, 1]))) * 180 / np.pi"
   ]
  },
  {
   "cell_type": "code",
   "execution_count": 19,
   "metadata": {},
   "outputs": [
    {
     "data": {
      "text/html": [
       "<pre>✔️ 3.71 ms (2021-02-03T15:17:03/2021-02-03T15:17:03)</pre>"
      ],
      "text/plain": [
       "<IPython.core.display.HTML object>"
      ]
     },
     "metadata": {},
     "output_type": "display_data"
    },
    {
     "data": {
      "text/plain": [
       "10.099504938362077"
      ]
     },
     "execution_count": 19,
     "metadata": {},
     "output_type": "execute_result"
    }
   ],
   "source": [
    "# Calculando a distância até o ponto\n",
    "\n",
    "np.sqrt(np.square(1) + np.square(1) + np.square(10))"
   ]
  },
  {
   "cell_type": "code",
   "execution_count": 20,
   "metadata": {},
   "outputs": [
    {
     "data": {
      "text/html": [
       "<pre>✔️ 1.18 ms (2021-02-03T15:17:05/2021-02-03T15:17:05)</pre>"
      ],
      "text/plain": [
       "<IPython.core.display.HTML object>"
      ]
     },
     "metadata": {},
     "output_type": "display_data"
    }
   ],
   "source": [
    "# sorted(inclin, reverse=True)"
   ]
  },
  {
   "cell_type": "code",
   "execution_count": 21,
   "metadata": {},
   "outputs": [
    {
     "data": {
      "text/html": [
       "<pre>✔️ 6.29 ms (2021-02-03T15:17:05/2021-02-03T15:17:05)</pre>"
      ],
      "text/plain": [
       "<IPython.core.display.HTML object>"
      ]
     },
     "metadata": {},
     "output_type": "display_data"
    },
    {
     "data": {
      "text/plain": [
       "array([67.79278812, 67.91076805, 67.9899545 , ..., 64.4924521 ,\n",
       "       64.53826682, 64.56760284])"
      ]
     },
     "execution_count": 21,
     "metadata": {},
     "output_type": "execute_result"
    }
   ],
   "source": [
    "orient"
   ]
  },
  {
   "cell_type": "code",
   "execution_count": 22,
   "metadata": {},
   "outputs": [
    {
     "data": {
      "text/html": [
       "<pre>✔️ 14.9 ms (2021-02-03T15:17:16/2021-02-03T15:17:16)</pre>"
      ],
      "text/plain": [
       "<IPython.core.display.HTML object>"
      ]
     },
     "metadata": {},
     "output_type": "display_data"
    }
   ],
   "source": [
    "# Separando em fases\n",
    "\n",
    "qt_fases = 60\n",
    "fases = np.arange(-180., 180., 360./qt_fases)\n",
    "\n",
    "pt_bins = np.digitize(orient, fases)"
   ]
  },
  {
   "cell_type": "code",
   "execution_count": 23,
   "metadata": {},
   "outputs": [
    {
     "data": {
      "text/html": [
       "<pre>✔️ 38.1 ms (2021-02-03T15:17:17/2021-02-03T15:17:17)</pre>"
      ],
      "text/plain": [
       "<IPython.core.display.HTML object>"
      ]
     },
     "metadata": {},
     "output_type": "display_data"
    },
    {
     "data": {
      "text/plain": [
       "(array([ 4876,  8001,  9183,  9692, 11324, 12515, 12949, 16920, 13098,\n",
       "        10766, 10623,  9439,  7431,  6342,  3941,  2185,   787,   932,\n",
       "         4409,  1571,  2575,  1820,  1153,  1310,  1606,  1759,  1931,\n",
       "         1120,   592,   835,  1608,  2294,  2452,  1954,  2192,  2560,\n",
       "         2845,  3143,  6267,  7933,  6236,  5841,  5141,  2262,  3254,\n",
       "         2641,  5287,  5694,  5278,  5163,  5387,  6797,  7251,  5170,\n",
       "         9847,  4460,  5710,  4367,  4888]),\n",
       " array([-180., -174., -168., -162., -156., -150., -144., -138., -132.,\n",
       "        -126., -120., -114., -108., -102.,  -96.,  -90.,  -84.,  -78.,\n",
       "         -72.,  -66.,  -60.,  -54.,  -48.,  -42.,  -36.,  -30.,  -24.,\n",
       "         -18.,  -12.,   -6.,    0.,    6.,   12.,   18.,   24.,   30.,\n",
       "          36.,   42.,   48.,   54.,   60.,   66.,   72.,   78.,   84.,\n",
       "          90.,   96.,  102.,  108.,  114.,  120.,  126.,  132.,  138.,\n",
       "         144.,  150.,  156.,  162.,  168.,  174.]))"
      ]
     },
     "execution_count": 23,
     "metadata": {},
     "output_type": "execute_result"
    }
   ],
   "source": [
    "np.histogram(orient, fases)"
   ]
  },
  {
   "cell_type": "code",
   "execution_count": 24,
   "metadata": {},
   "outputs": [
    {
     "data": {
      "text/html": [
       "<pre>✔️ 13.3 ms (2021-02-03T15:17:43/2021-02-03T15:17:43)</pre>"
      ],
      "text/plain": [
       "<IPython.core.display.HTML object>"
      ]
     },
     "metadata": {},
     "output_type": "display_data"
    },
    {
     "data": {
      "text/plain": [
       "array([ 1,  2,  3,  4,  5,  6,  7,  8,  9, 10, 11, 12, 13, 14, 15, 16, 17,\n",
       "       18, 19, 20, 21, 22, 23, 24, 25, 26, 27, 28, 29, 30, 31, 32, 33, 34,\n",
       "       35, 36, 37, 38, 39, 40, 41, 42, 43, 44, 45, 46, 47, 48, 49, 50, 51,\n",
       "       52, 53, 54, 55, 56, 57, 58, 59, 60])"
      ]
     },
     "execution_count": 24,
     "metadata": {},
     "output_type": "execute_result"
    }
   ],
   "source": [
    "np.unique(pt_bins)"
   ]
  },
  {
   "cell_type": "code",
   "execution_count": 25,
   "metadata": {},
   "outputs": [
    {
     "data": {
      "text/html": [
       "<pre>✔️ 7.98 ms (2021-02-03T15:17:46/2021-02-03T15:17:46)</pre>"
      ],
      "text/plain": [
       "<IPython.core.display.HTML object>"
      ]
     },
     "metadata": {},
     "output_type": "display_data"
    },
    {
     "data": {
      "text/plain": [
       "array([ 1,  2,  3,  4,  5,  6,  7,  8,  9, 10, 11, 12, 13, 14, 15, 16, 17,\n",
       "       18, 19, 20, 21, 22, 23, 24, 25, 26, 27, 28, 29, 30, 31, 32, 33, 34,\n",
       "       35, 36, 37, 38, 39, 40, 41, 42, 43, 44, 45, 46, 47, 48, 49, 50, 51,\n",
       "       52, 53, 54, 55, 56, 57, 58, 59, 60])"
      ]
     },
     "execution_count": 25,
     "metadata": {},
     "output_type": "execute_result"
    }
   ],
   "source": [
    "np.arange(1, qt_fases + 1)"
   ]
  },
  {
   "cell_type": "code",
   "execution_count": 26,
   "metadata": {},
   "outputs": [
    {
     "data": {
      "text/html": [
       "<pre>✔️ 40 ms (2021-02-03T15:18:39/2021-02-03T15:18:39)</pre>"
      ],
      "text/plain": [
       "<IPython.core.display.HTML object>"
      ]
     },
     "metadata": {},
     "output_type": "display_data"
    },
    {
     "data": {
      "text/plain": [
       "[[1, 87.23457482742756],\n",
       " [2, 88.28779775920128],\n",
       " [3, 85.64946501088734],\n",
       " [4, 80.82520021528272],\n",
       " [5, 77.61386609654319],\n",
       " [6, 83.59051147862816],\n",
       " [7, 83.48652530209377],\n",
       " [8, 87.3511654485775],\n",
       " [9, 88.12870881993935],\n",
       " [10, 85.5613183981472],\n",
       " [11, 86.02265215815055],\n",
       " [12, 84.75620497002537],\n",
       " [13, 83.6768889618891],\n",
       " [14, 58.06801821951705],\n",
       " [15, 58.981738649834405],\n",
       " [16, 59.15738894175871],\n",
       " [17, 58.42641040013317],\n",
       " [18, 58.26539199780908],\n",
       " [19, 57.86651896084473],\n",
       " [20, 56.724520521989824],\n",
       " [21, 44.43999411827913],\n",
       " [22, 49.22216179046435],\n",
       " [23, 49.96466336549253],\n",
       " [24, 47.65160507423045],\n",
       " [25, 45.07097533013519],\n",
       " [26, 42.87699345847303],\n",
       " [27, 45.822550257077104],\n",
       " [28, 44.37490792935809],\n",
       " [29, 46.375223248873446],\n",
       " [30, 44.54036921980339],\n",
       " [31, 45.85606266242904],\n",
       " [32, 44.417952614442775],\n",
       " [33, 44.08171971527613],\n",
       " [34, 41.66352155798598],\n",
       " [35, 39.93054657308328],\n",
       " [36, 39.42554944058596],\n",
       " [37, 40.057638291598764],\n",
       " [38, 41.06061585905323],\n",
       " [39, 42.94982053154953],\n",
       " [40, 44.37432094159048],\n",
       " [41, 42.54276794476192],\n",
       " [42, 34.39974659154031],\n",
       " [43, 19.74280117880637],\n",
       " [44, 40.62919230276214],\n",
       " [45, 61.521767659728056],\n",
       " [46, 60.29271797593595],\n",
       " [47, 85.21838786799813],\n",
       " [48, 87.00226903600942],\n",
       " [49, 85.93252536389731],\n",
       " [50, 87.01003940472104],\n",
       " [51, 85.88607918764887],\n",
       " [52, 81.6922566264019],\n",
       " [53, 84.2129283007488],\n",
       " [54, 87.93371981720198],\n",
       " [55, 86.83470996535034],\n",
       " [56, 87.75144978910993],\n",
       " [57, 85.8629897906198],\n",
       " [58, 88.501891997322],\n",
       " [59, 85.28306099317656],\n",
       " [60, 86.47974558462006]]"
      ]
     },
     "execution_count": 26,
     "metadata": {},
     "output_type": "execute_result"
    }
   ],
   "source": [
    "list(map(lambda x: [x, np.nanmax(inclin[pt_bins == x])] if len(inclin[pt_bins == x]) > 0 else [x, 0.], np.arange(1, qt_fases + 1)))\n",
    "# list(map(lambda x: len(orient[pt_bins == x]), fases))\n",
    "# np.nanmax(inclin[pt_bins == 3]) if len(inclin[pt_bins == 3]) > 0"
   ]
  },
  {
   "cell_type": "code",
   "execution_count": null,
   "metadata": {},
   "outputs": [],
   "source": []
  },
  {
   "cell_type": "code",
   "execution_count": 27,
   "metadata": {},
   "outputs": [
    {
     "data": {
      "text/html": [
       "<pre>✔️ 22.4 ms (2021-02-03T15:18:59/2021-02-03T15:18:59)</pre>"
      ],
      "text/plain": [
       "<IPython.core.display.HTML object>"
      ]
     },
     "metadata": {},
     "output_type": "display_data"
    },
    {
     "data": {
      "text/plain": [
       "array([0.19749032, 0.19660078, 0.19598865, ..., 0.18791985, 0.18742728,\n",
       "       0.18744317])"
      ]
     },
     "execution_count": 27,
     "metadata": {},
     "output_type": "execute_result"
    }
   ],
   "source": [
    "# A relação entre a densidade de pontos e a distância para obstrução do céu visível\n",
    "# Quanto mais próximo um ponto está do observador, maior a obstrução que ele deve promover\n",
    "# Os parâmetros portanto são distância ao observador e a distância máxima entre pontos\n",
    "\n",
    "# Os bins então vão responder não mais a um angulo, mas uma faixa de angulos\n",
    "\n",
    "# o Angulo é dado por arctan2(dist_max_entre_pontos/2, distancia_do_observador)\n",
    "\n",
    "# densidade em raio\n",
    "raio = 1\n",
    "\n",
    "desvio_graus = np.degrees(np.arctan2(raio/2, \\\n",
    "                      np.sqrt(np.square(pts_0[:, 0]) + \\\n",
    "                              np.square(pts_0[:, 1]) + \\\n",
    "                              np.square(pts_0[:, 2]))) * 2)\n",
    "\n",
    "desvio_graus\n",
    "\n",
    "# Depois refatorar a função de máximo ângulo da fase"
   ]
  },
  {
   "cell_type": "code",
   "execution_count": 28,
   "metadata": {},
   "outputs": [
    {
     "data": {
      "text/html": [
       "<pre>✔️ 6.97 ms (2021-02-03T15:19:00/2021-02-03T15:19:00)</pre>"
      ],
      "text/plain": [
       "<IPython.core.display.HTML object>"
      ]
     },
     "metadata": {},
     "output_type": "display_data"
    },
    {
     "data": {
      "text/plain": [
       "2677"
      ]
     },
     "execution_count": 28,
     "metadata": {},
     "output_type": "execute_result"
    }
   ],
   "source": [
    "# Refatorando o calculo das fases\n",
    "\n",
    "# list(map(lambda x: \\\n",
    "#          [x, np.nanmax(inclin[pt_bins == x])] if len(inclin[pt_bins == x]) > 0 else [x, 0.], np.arange(1, qt_fases + 1)))\n",
    "\n",
    "orient + desvio_graus\n",
    "list(map(lambda x: x, fases))\n",
    "\n",
    "len(pts_0[((orient + desvio_graus >= 6.) | (orient - desvio_graus >= 6.) ) & ((orient + desvio_graus < 6. + 6) | (orient - desvio_graus < 6. + 6) ) ])"
   ]
  },
  {
   "cell_type": "code",
   "execution_count": null,
   "metadata": {},
   "outputs": [],
   "source": []
  },
  {
   "cell_type": "code",
   "execution_count": null,
   "metadata": {},
   "outputs": [],
   "source": [
    "# Calcular o percentual de cada fuso\n",
    "# Sendo que a área do fuso é a área da esfera 4 x Pi x r x r dividido pela quantidade de fusos\n",
    "# em cada fuso subtrair a quantidade de céu visível, dao pela fórmula da calota da esfera\n",
    "# 2 x Pi x r x h (sendo necessário calcular h e considenrando r constante)"
   ]
  },
  {
   "cell_type": "code",
   "execution_count": null,
   "metadata": {},
   "outputs": [],
   "source": [
    "## TODO\n",
    "# Pensar em como iterar sobre as folhas!"
   ]
  },
  {
   "cell_type": "code",
   "execution_count": 38,
   "metadata": {},
   "outputs": [
    {
     "data": {
      "text/html": [
       "<pre>✔️ 2.7 ms (2021-02-03T15:35:13/2021-02-03T15:35:13)</pre>"
      ],
      "text/plain": [
       "<IPython.core.display.HTML object>"
      ]
     },
     "metadata": {},
     "output_type": "display_data"
    }
   ],
   "source": [
    "np.set_printoptions(formatter={'float': lambda x: \"{0:0.6f}\".format(x)})"
   ]
  },
  {
   "cell_type": "code",
   "execution_count": 39,
   "metadata": {},
   "outputs": [
    {
     "data": {
      "text/html": [
       "<pre>✔️ 6.45 ms (2021-02-03T15:35:15/2021-02-03T15:35:15)</pre>"
      ],
      "text/plain": [
       "<IPython.core.display.HTML object>"
      ]
     },
     "metadata": {},
     "output_type": "display_data"
    },
    {
     "data": {
      "text/plain": [
       "array([0.105, 1.045, 10.453, 52.264, 104.528, 1045.285])"
      ]
     },
     "execution_count": 39,
     "metadata": {},
     "output_type": "execute_result"
    }
   ],
   "source": [
    "# Verificando a resolução mínima\n",
    "# O tamanho em ângulo do fuso e a distância ao ponto do observador são parâmetros\n",
    "\n",
    "angulo_fase = 360. / qt_fases\n",
    "angulo_fase\n",
    "\n",
    "distancia = np.array([1, 10, 100, 500, 1000, 10000])\n",
    "\n",
    "np.sin(np.deg2rad(angulo_fase)) * distancia"
   ]
  },
  {
   "cell_type": "code",
   "execution_count": null,
   "metadata": {},
   "outputs": [],
   "source": []
  }
 ],
 "metadata": {
  "kernelspec": {
   "display_name": "Python 3",
   "language": "python",
   "name": "python3"
  },
  "language_info": {
   "codemirror_mode": {
    "name": "ipython",
    "version": 3
   },
   "file_extension": ".py",
   "mimetype": "text/x-python",
   "name": "python",
   "nbconvert_exporter": "python",
   "pygments_lexer": "ipython3",
   "version": "3.8.6"
  }
 },
 "nbformat": 4,
 "nbformat_minor": 4
}
