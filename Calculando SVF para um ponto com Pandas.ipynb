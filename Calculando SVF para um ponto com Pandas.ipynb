{
 "cells": [
  {
   "cell_type": "markdown",
   "id": "f86f68b1",
   "metadata": {},
   "source": [
    "# Calculando SVF para um ponto com Pandas\n",
    "\n",
    "Neste experimento vamos calcular para um ponto definido o SVF utilizando Pandas. Para isso será utilizado uma técnica de calcular para cada ponto o $\\theta$ e o $\\phi$ a partir do ponto escolhido e então agrupar pelo particionamento da semiesfera definida"
   ]
  },
  {
   "cell_type": "code",
   "execution_count": 1,
   "id": "f0dc0fa7",
   "metadata": {},
   "outputs": [
    {
     "ename": "ModuleNotFoundError",
     "evalue": "No module named 'geopandas'",
     "output_type": "error",
     "traceback": [
      "\u001b[0;31m---------------------------------------------------------------------------\u001b[0m",
      "\u001b[0;31mModuleNotFoundError\u001b[0m                       Traceback (most recent call last)",
      "\u001b[0;32m<ipython-input-1-de82b06cf824>\u001b[0m in \u001b[0;36m<module>\u001b[0;34m\u001b[0m\n\u001b[1;32m      1\u001b[0m \u001b[0;32mimport\u001b[0m \u001b[0mpandas\u001b[0m \u001b[0;32mas\u001b[0m \u001b[0mpd\u001b[0m\u001b[0;34m\u001b[0m\u001b[0;34m\u001b[0m\u001b[0m\n\u001b[0;32m----> 2\u001b[0;31m \u001b[0;32mimport\u001b[0m \u001b[0mgeopandas\u001b[0m \u001b[0;32mas\u001b[0m \u001b[0mgpd\u001b[0m\u001b[0;34m\u001b[0m\u001b[0;34m\u001b[0m\u001b[0m\n\u001b[0m\u001b[1;32m      3\u001b[0m \u001b[0;32mimport\u001b[0m \u001b[0mpdal\u001b[0m\u001b[0;34m\u001b[0m\u001b[0;34m\u001b[0m\u001b[0m\n\u001b[1;32m      4\u001b[0m \u001b[0;32mimport\u001b[0m \u001b[0mnumpy\u001b[0m \u001b[0;32mas\u001b[0m \u001b[0mnp\u001b[0m\u001b[0;34m\u001b[0m\u001b[0;34m\u001b[0m\u001b[0m\n",
      "\u001b[0;31mModuleNotFoundError\u001b[0m: No module named 'geopandas'"
     ]
    }
   ],
   "source": [
    "import pandas as pd\n",
    "import geopandas as gpd\n",
    "import pdal\n",
    "import numpy as np"
   ]
  },
  {
   "cell_type": "code",
   "execution_count": 223,
   "id": "b91d2d83",
   "metadata": {},
   "outputs": [
    {
     "data": {
      "text/html": [
       "<pre>✔️ 1.35 ms (2021-05-24T17:06:54/2021-05-24T17:06:54)</pre>"
      ],
      "text/plain": [
       "<IPython.core.display.HTML object>"
      ]
     },
     "metadata": {},
     "output_type": "display_data"
    },
    {
     "name": "stdout",
     "output_type": "stream",
     "text": [
      "The autotime extension is already loaded. To reload it, use:\n",
      "  %reload_ext autotime\n"
     ]
    }
   ],
   "source": [
    "%load_ext autotime"
   ]
  },
  {
   "cell_type": "code",
   "execution_count": 225,
   "id": "5231981e",
   "metadata": {},
   "outputs": [
    {
     "data": {
      "text/html": [
       "<pre>✔️ 963 µs (2021-05-24T17:07:03/2021-05-24T17:07:03)</pre>"
      ],
      "text/plain": [
       "<IPython.core.display.HTML object>"
      ]
     },
     "metadata": {},
     "output_type": "display_data"
    }
   ],
   "source": [
    "pipeline=\"\"\"{\n",
    "  \"pipeline\": [\n",
    "    {\n",
    "        \"type\": \"readers.las\",\n",
    "        \"filename\": \"arquivos/MDS/MDS_3314-231.laz\"\n",
    "    },\n",
    "    {\n",
    "        \"type\": \"filters.sample\",\n",
    "        \"radius\": 1\n",
    "    }\n",
    "  ]\n",
    "}\"\"\"\n",
    "\n",
    "# pipeline=\"\"\"{\n",
    "#   \"pipeline\": [\n",
    "#     {\n",
    "#         \"type\": \"readers.las\",\n",
    "#         \"filename\": \"arquivos/MDS/MDS_3314-231.laz\"\n",
    "#     }\n",
    "#   ]\n",
    "# }\"\"\""
   ]
  },
  {
   "cell_type": "code",
   "execution_count": 226,
   "id": "0b57968a",
   "metadata": {},
   "outputs": [
    {
     "data": {
      "text/html": [
       "<pre>✔️ 68 ms (2021-05-24T17:07:04/2021-05-24T17:07:04)</pre>"
      ],
      "text/plain": [
       "<IPython.core.display.HTML object>"
      ]
     },
     "metadata": {},
     "output_type": "display_data"
    }
   ],
   "source": [
    "gdf_observ = gpd.read_file('arquivos/pontos_validacao/pontos_preliminares.gpkg')"
   ]
  },
  {
   "cell_type": "code",
   "execution_count": 227,
   "id": "449ebbed",
   "metadata": {},
   "outputs": [
    {
     "data": {
      "text/html": [
       "<pre>✔️ 1.94 ms (2021-05-24T17:07:04/2021-05-24T17:07:04)</pre>"
      ],
      "text/plain": [
       "<IPython.core.display.HTML object>"
      ]
     },
     "metadata": {},
     "output_type": "display_data"
    }
   ],
   "source": [
    "# gdf_observ = gdf_observ.to_crs(31983)"
   ]
  },
  {
   "cell_type": "code",
   "execution_count": 228,
   "id": "23f7659c",
   "metadata": {},
   "outputs": [
    {
     "data": {
      "text/html": [
       "<pre>✔️ 23.7 ms (2021-05-24T17:07:05/2021-05-24T17:07:05)</pre>"
      ],
      "text/plain": [
       "<IPython.core.display.HTML object>"
      ]
     },
     "metadata": {},
     "output_type": "display_data"
    },
    {
     "data": {
      "text/html": [
       "<div>\n",
       "<style scoped>\n",
       "    .dataframe tbody tr th:only-of-type {\n",
       "        vertical-align: middle;\n",
       "    }\n",
       "\n",
       "    .dataframe tbody tr th {\n",
       "        vertical-align: top;\n",
       "    }\n",
       "\n",
       "    .dataframe thead th {\n",
       "        text-align: right;\n",
       "    }\n",
       "</style>\n",
       "<table border=\"1\" class=\"dataframe\">\n",
       "  <thead>\n",
       "    <tr style=\"text-align: right;\">\n",
       "      <th></th>\n",
       "      <th>SCM</th>\n",
       "      <th>geometry</th>\n",
       "    </tr>\n",
       "  </thead>\n",
       "  <tbody>\n",
       "    <tr>\n",
       "      <th>0</th>\n",
       "      <td>3314-231</td>\n",
       "      <td>POINT Z (333344.322 7395282.674 724.891)</td>\n",
       "    </tr>\n",
       "    <tr>\n",
       "      <th>1</th>\n",
       "      <td>3331-132</td>\n",
       "      <td>POINT Z (324531.390 7385905.216 757.406)</td>\n",
       "    </tr>\n",
       "    <tr>\n",
       "      <th>2</th>\n",
       "      <td>4431-222</td>\n",
       "      <td>POINT Z (352135.100 7386243.508 789.996)</td>\n",
       "    </tr>\n",
       "    <tr>\n",
       "      <th>3</th>\n",
       "      <td>3314-231</td>\n",
       "      <td>POINT Z (333349.447 7395315.760 724.728)</td>\n",
       "    </tr>\n",
       "    <tr>\n",
       "      <th>4</th>\n",
       "      <td>3314-231</td>\n",
       "      <td>POINT Z (333353.608 7395345.881 724.915)</td>\n",
       "    </tr>\n",
       "    <tr>\n",
       "      <th>5</th>\n",
       "      <td>3314-231</td>\n",
       "      <td>POINT Z (333367.084 7395363.517 724.698)</td>\n",
       "    </tr>\n",
       "    <tr>\n",
       "      <th>6</th>\n",
       "      <td>3314-231</td>\n",
       "      <td>POINT Z (333354.996 7395284.648 724.802)</td>\n",
       "    </tr>\n",
       "    <tr>\n",
       "      <th>7</th>\n",
       "      <td>3314-231</td>\n",
       "      <td>POINT Z (333357.175 7395273.947 724.968)</td>\n",
       "    </tr>\n",
       "    <tr>\n",
       "      <th>8</th>\n",
       "      <td>3314-231</td>\n",
       "      <td>POINT Z (333347.862 7395272.560 724.917)</td>\n",
       "    </tr>\n",
       "    <tr>\n",
       "      <th>9</th>\n",
       "      <td>3314-231</td>\n",
       "      <td>POINT Z (333361.337 7395326.659 724.808)</td>\n",
       "    </tr>\n",
       "    <tr>\n",
       "      <th>10</th>\n",
       "      <td>3314-231</td>\n",
       "      <td>POINT Z (333399.384 7395358.365 724.752)</td>\n",
       "    </tr>\n",
       "    <tr>\n",
       "      <th>11</th>\n",
       "      <td>3314-231</td>\n",
       "      <td>POINT Z (333403.546 7395323.488 724.803)</td>\n",
       "    </tr>\n",
       "    <tr>\n",
       "      <th>12</th>\n",
       "      <td>3314-231</td>\n",
       "      <td>POINT Z (333409.689 7395362.527 724.963)</td>\n",
       "    </tr>\n",
       "    <tr>\n",
       "      <th>13</th>\n",
       "      <td>3314-231</td>\n",
       "      <td>POINT Z (333398.195 7395286.630 724.802)</td>\n",
       "    </tr>\n",
       "    <tr>\n",
       "      <th>14</th>\n",
       "      <td>3314-231</td>\n",
       "      <td>POINT Z (333388.683 7395285.837 724.789)</td>\n",
       "    </tr>\n",
       "    <tr>\n",
       "      <th>15</th>\n",
       "      <td>3314-231</td>\n",
       "      <td>POINT Z (333395.421 7395324.083 724.485)</td>\n",
       "    </tr>\n",
       "    <tr>\n",
       "      <th>16</th>\n",
       "      <td>3314-231</td>\n",
       "      <td>POINT Z (333297.132 7395248.582 732.816)</td>\n",
       "    </tr>\n",
       "    <tr>\n",
       "      <th>17</th>\n",
       "      <td>3314-231</td>\n",
       "      <td>POINT Z (333278.752 7395273.204 733.648)</td>\n",
       "    </tr>\n",
       "    <tr>\n",
       "      <th>18</th>\n",
       "      <td>3314-231</td>\n",
       "      <td>POINT Z (333315.511 7395366.490 732.297)</td>\n",
       "    </tr>\n",
       "    <tr>\n",
       "      <th>19</th>\n",
       "      <td>3314-231</td>\n",
       "      <td>POINT Z (333355.342 7395357.275 724.759)</td>\n",
       "    </tr>\n",
       "    <tr>\n",
       "      <th>20</th>\n",
       "      <td>3314-231</td>\n",
       "      <td>POINT Z (333297.578 7395383.334 737.970)</td>\n",
       "    </tr>\n",
       "    <tr>\n",
       "      <th>21</th>\n",
       "      <td>3314-231</td>\n",
       "      <td>POINT Z (333389.129 7395201.816 724.964)</td>\n",
       "    </tr>\n",
       "    <tr>\n",
       "      <th>22</th>\n",
       "      <td>3314-231</td>\n",
       "      <td>POINT Z (333382.194 7395193.493 724.968)</td>\n",
       "    </tr>\n",
       "    <tr>\n",
       "      <th>23</th>\n",
       "      <td>3314-231</td>\n",
       "      <td>POINT Z (333394.083 7395191.907 725.206)</td>\n",
       "    </tr>\n",
       "  </tbody>\n",
       "</table>\n",
       "</div>"
      ],
      "text/plain": [
       "         SCM                                  geometry\n",
       "0   3314-231  POINT Z (333344.322 7395282.674 724.891)\n",
       "1   3331-132  POINT Z (324531.390 7385905.216 757.406)\n",
       "2   4431-222  POINT Z (352135.100 7386243.508 789.996)\n",
       "3   3314-231  POINT Z (333349.447 7395315.760 724.728)\n",
       "4   3314-231  POINT Z (333353.608 7395345.881 724.915)\n",
       "5   3314-231  POINT Z (333367.084 7395363.517 724.698)\n",
       "6   3314-231  POINT Z (333354.996 7395284.648 724.802)\n",
       "7   3314-231  POINT Z (333357.175 7395273.947 724.968)\n",
       "8   3314-231  POINT Z (333347.862 7395272.560 724.917)\n",
       "9   3314-231  POINT Z (333361.337 7395326.659 724.808)\n",
       "10  3314-231  POINT Z (333399.384 7395358.365 724.752)\n",
       "11  3314-231  POINT Z (333403.546 7395323.488 724.803)\n",
       "12  3314-231  POINT Z (333409.689 7395362.527 724.963)\n",
       "13  3314-231  POINT Z (333398.195 7395286.630 724.802)\n",
       "14  3314-231  POINT Z (333388.683 7395285.837 724.789)\n",
       "15  3314-231  POINT Z (333395.421 7395324.083 724.485)\n",
       "16  3314-231  POINT Z (333297.132 7395248.582 732.816)\n",
       "17  3314-231  POINT Z (333278.752 7395273.204 733.648)\n",
       "18  3314-231  POINT Z (333315.511 7395366.490 732.297)\n",
       "19  3314-231  POINT Z (333355.342 7395357.275 724.759)\n",
       "20  3314-231  POINT Z (333297.578 7395383.334 737.970)\n",
       "21  3314-231  POINT Z (333389.129 7395201.816 724.964)\n",
       "22  3314-231  POINT Z (333382.194 7395193.493 724.968)\n",
       "23  3314-231  POINT Z (333394.083 7395191.907 725.206)"
      ]
     },
     "execution_count": 228,
     "metadata": {},
     "output_type": "execute_result"
    }
   ],
   "source": [
    "gdf_observ"
   ]
  },
  {
   "cell_type": "code",
   "execution_count": 229,
   "id": "e57b4cb2",
   "metadata": {},
   "outputs": [
    {
     "data": {
      "text/html": [
       "<pre>✔️ 8.84 ms (2021-05-24T17:07:05/2021-05-24T17:07:05)</pre>"
      ],
      "text/plain": [
       "<IPython.core.display.HTML object>"
      ]
     },
     "metadata": {},
     "output_type": "display_data"
    },
    {
     "data": {
      "text/plain": [
       "[724.8905029296875,\n",
       " 757.4063110351562,\n",
       " 789.9957275390625,\n",
       " 724.7280883789062,\n",
       " 724.9146118164062,\n",
       " 724.698486328125,\n",
       " 724.8023071289062,\n",
       " 724.9680786132812,\n",
       " 724.916748046875,\n",
       " 724.8078002929688,\n",
       " 724.7515258789062,\n",
       " 724.8031005859375,\n",
       " 724.9634399414062,\n",
       " 724.8020629882812,\n",
       " 724.7892456054688,\n",
       " 724.4847412109375,\n",
       " 732.81640625,\n",
       " 733.6478271484375,\n",
       " 732.2969360351562,\n",
       " 724.7593383789062,\n",
       " 737.9701538085938,\n",
       " 724.9641723632812,\n",
       " 724.968017578125,\n",
       " 725.2062377929688]"
      ]
     },
     "execution_count": 229,
     "metadata": {},
     "output_type": "execute_result"
    }
   ],
   "source": [
    "[list(x.coords)[0][2] for x in gdf_observ.geometry]"
   ]
  },
  {
   "cell_type": "code",
   "execution_count": 230,
   "id": "960a6e05",
   "metadata": {},
   "outputs": [
    {
     "data": {
      "text/html": [
       "<pre>✔️ 17.8 ms (2021-05-24T17:07:06/2021-05-24T17:07:06)</pre>"
      ],
      "text/plain": [
       "<IPython.core.display.HTML object>"
      ]
     },
     "metadata": {},
     "output_type": "display_data"
    }
   ],
   "source": [
    "pt_obs = gdf_observ[gdf_observ.SCM == '3314-231'].geometry#.coords[:]"
   ]
  },
  {
   "cell_type": "code",
   "execution_count": 231,
   "id": "0157b41f",
   "metadata": {},
   "outputs": [
    {
     "data": {
      "text/html": [
       "<pre>✔️ 8.51 ms (2021-05-24T17:07:06/2021-05-24T17:07:06)</pre>"
      ],
      "text/plain": [
       "<IPython.core.display.HTML object>"
      ]
     },
     "metadata": {},
     "output_type": "display_data"
    },
    {
     "data": {
      "text/plain": [
       "[(333344.32172328787, 7395282.674381973, 724.8905029296875),\n",
       " (333349.4469259395, 7395315.759854813, 724.7280883789062),\n",
       " (333353.60836743616, 7395345.880764694, 724.9146118164062),\n",
       " (333367.0835113299, 7395363.517350084, 724.698486328125),\n",
       " (333354.99551460164, 7395284.648125529, 724.8023071289062),\n",
       " (333357.17531729036, 7395273.947275966, 724.9680786132812),\n",
       " (333347.8616148932, 7395272.5601288015, 724.916748046875),\n",
       " (333361.336758787, 7395326.658868257, 724.8078002929688),\n",
       " (333399.3842238988, 7395358.365089184, 724.7515258789062),\n",
       " (333403.5456653954, 7395323.488246164, 724.8031005859375),\n",
       " (333409.68874569994, 7395362.52653068, 724.9634399414062),\n",
       " (333398.19524061406, 7395286.629764337, 724.8020629882812),\n",
       " (333388.6833743361, 7395285.837108814, 724.7892456054688),\n",
       " (333395.420946283, 7395324.082737806, 724.4847412109375),\n",
       " (333297.13166141073, 7395248.582299229, 732.81640625),\n",
       " (333278.7519614674, 7395273.204161419, 733.6478271484375),\n",
       " (333315.5113613541, 7395366.489808304, 732.2969360351562),\n",
       " (333355.34230139304, 7395357.275187847, 724.7593383789062),\n",
       " (333297.57753014256, 7395383.3337381715, 737.9701538085938),\n",
       " (333389.1292430679, 7395201.815623365, 724.9641723632812),\n",
       " (333382.1935072402, 7395193.492740372, 724.968017578125),\n",
       " (333394.0833400877, 7395191.907429325, 725.2062377929688)]"
      ]
     },
     "execution_count": 231,
     "metadata": {},
     "output_type": "execute_result"
    }
   ],
   "source": [
    "[list(x.coords)[0] for x in pt_obs.geometry]"
   ]
  },
  {
   "cell_type": "code",
   "execution_count": 232,
   "id": "abad9b81",
   "metadata": {},
   "outputs": [
    {
     "data": {
      "text/html": [
       "<pre>✔️ 1.64 ms (2021-05-24T17:07:06/2021-05-24T17:07:06)</pre>"
      ],
      "text/plain": [
       "<IPython.core.display.HTML object>"
      ]
     },
     "metadata": {},
     "output_type": "display_data"
    }
   ],
   "source": [
    "# pt_obs"
   ]
  },
  {
   "cell_type": "markdown",
   "id": "58f94657",
   "metadata": {},
   "source": [
    "## Carregando dados LiDAR 3D"
   ]
  },
  {
   "cell_type": "code",
   "execution_count": 233,
   "id": "3bbc8640",
   "metadata": {},
   "outputs": [
    {
     "data": {
      "text/html": [
       "<pre>✔️ 10.7 s (2021-05-24T17:07:07/2021-05-24T17:07:18)</pre>"
      ],
      "text/plain": [
       "<IPython.core.display.HTML object>"
      ]
     },
     "metadata": {},
     "output_type": "display_data"
    }
   ],
   "source": [
    "r = pdal.Pipeline(pipeline)\n",
    "r.validate()\n",
    "r.execute()\n",
    "arrays = r.arrays"
   ]
  },
  {
   "cell_type": "code",
   "execution_count": 234,
   "id": "542da262",
   "metadata": {},
   "outputs": [
    {
     "data": {
      "text/html": [
       "<pre>✔️ 34 ms (2021-05-24T17:07:18/2021-05-24T17:07:18)</pre>"
      ],
      "text/plain": [
       "<IPython.core.display.HTML object>"
      ]
     },
     "metadata": {},
     "output_type": "display_data"
    }
   ],
   "source": [
    "df = pd.DataFrame(arrays[0])"
   ]
  },
  {
   "cell_type": "code",
   "execution_count": 235,
   "id": "e3e07a7b",
   "metadata": {},
   "outputs": [
    {
     "data": {
      "text/html": [
       "<pre>✔️ 17.7 ms (2021-05-24T17:07:18/2021-05-24T17:07:18)</pre>"
      ],
      "text/plain": [
       "<IPython.core.display.HTML object>"
      ]
     },
     "metadata": {},
     "output_type": "display_data"
    }
   ],
   "source": [
    "df_mds = \\\n",
    "df[(df.Classification == 2) | (df.Classification == 6)]\\\n",
    "                          [['X', 'Y', 'Z']]#\\\n",
    "# .astype({'X': 'int32', \\\n",
    "#         'Y': 'int32', \\\n",
    "#         'Z': 'int16'})"
   ]
  },
  {
   "cell_type": "code",
   "execution_count": 236,
   "id": "bfdeff57",
   "metadata": {},
   "outputs": [
    {
     "data": {
      "text/html": [
       "<pre>✔️ 4.61 ms (2021-05-24T17:07:18/2021-05-24T17:07:18)</pre>"
      ],
      "text/plain": [
       "<IPython.core.display.HTML object>"
      ]
     },
     "metadata": {},
     "output_type": "display_data"
    }
   ],
   "source": [
    "df_mdt = \\\n",
    "df[df.Classification == 2][['X', 'Y', 'Z']]"
   ]
  },
  {
   "cell_type": "code",
   "execution_count": 237,
   "id": "25183a25",
   "metadata": {},
   "outputs": [
    {
     "data": {
      "text/html": [
       "<pre>✔️ 16.7 ms (2021-05-24T17:07:18/2021-05-24T17:07:18)</pre>"
      ],
      "text/plain": [
       "<IPython.core.display.HTML object>"
      ]
     },
     "metadata": {},
     "output_type": "display_data"
    },
    {
     "data": {
      "text/html": [
       "<div>\n",
       "<style scoped>\n",
       "    .dataframe tbody tr th:only-of-type {\n",
       "        vertical-align: middle;\n",
       "    }\n",
       "\n",
       "    .dataframe tbody tr th {\n",
       "        vertical-align: top;\n",
       "    }\n",
       "\n",
       "    .dataframe thead th {\n",
       "        text-align: right;\n",
       "    }\n",
       "</style>\n",
       "<table border=\"1\" class=\"dataframe\">\n",
       "  <thead>\n",
       "    <tr style=\"text-align: right;\">\n",
       "      <th></th>\n",
       "      <th>X</th>\n",
       "      <th>Y</th>\n",
       "      <th>Z</th>\n",
       "      <th>Intensity</th>\n",
       "      <th>ReturnNumber</th>\n",
       "      <th>NumberOfReturns</th>\n",
       "      <th>ScanDirectionFlag</th>\n",
       "      <th>EdgeOfFlightLine</th>\n",
       "      <th>Classification</th>\n",
       "      <th>ScanAngleRank</th>\n",
       "      <th>UserData</th>\n",
       "      <th>PointSourceId</th>\n",
       "      <th>GpsTime</th>\n",
       "    </tr>\n",
       "  </thead>\n",
       "  <tbody>\n",
       "    <tr>\n",
       "      <th>0</th>\n",
       "      <td>333499.29</td>\n",
       "      <td>7395564.35</td>\n",
       "      <td>735.34</td>\n",
       "      <td>18</td>\n",
       "      <td>1</td>\n",
       "      <td>1</td>\n",
       "      <td>0</td>\n",
       "      <td>0</td>\n",
       "      <td>6</td>\n",
       "      <td>-14.0</td>\n",
       "      <td>17</td>\n",
       "      <td>6</td>\n",
       "      <td>356569.366065</td>\n",
       "    </tr>\n",
       "    <tr>\n",
       "      <th>1</th>\n",
       "      <td>333499.23</td>\n",
       "      <td>7395565.79</td>\n",
       "      <td>735.41</td>\n",
       "      <td>18</td>\n",
       "      <td>1</td>\n",
       "      <td>1</td>\n",
       "      <td>0</td>\n",
       "      <td>0</td>\n",
       "      <td>6</td>\n",
       "      <td>-14.0</td>\n",
       "      <td>17</td>\n",
       "      <td>6</td>\n",
       "      <td>356569.366090</td>\n",
       "    </tr>\n",
       "    <tr>\n",
       "      <th>2</th>\n",
       "      <td>333499.20</td>\n",
       "      <td>7395566.79</td>\n",
       "      <td>735.25</td>\n",
       "      <td>15</td>\n",
       "      <td>1</td>\n",
       "      <td>1</td>\n",
       "      <td>0</td>\n",
       "      <td>0</td>\n",
       "      <td>6</td>\n",
       "      <td>-14.0</td>\n",
       "      <td>17</td>\n",
       "      <td>6</td>\n",
       "      <td>356569.366105</td>\n",
       "    </tr>\n",
       "    <tr>\n",
       "      <th>3</th>\n",
       "      <td>333499.15</td>\n",
       "      <td>7395568.21</td>\n",
       "      <td>735.37</td>\n",
       "      <td>14</td>\n",
       "      <td>1</td>\n",
       "      <td>1</td>\n",
       "      <td>0</td>\n",
       "      <td>0</td>\n",
       "      <td>6</td>\n",
       "      <td>-14.0</td>\n",
       "      <td>17</td>\n",
       "      <td>6</td>\n",
       "      <td>356569.366129</td>\n",
       "    </tr>\n",
       "    <tr>\n",
       "      <th>4</th>\n",
       "      <td>333499.10</td>\n",
       "      <td>7395569.68</td>\n",
       "      <td>735.30</td>\n",
       "      <td>17</td>\n",
       "      <td>1</td>\n",
       "      <td>1</td>\n",
       "      <td>0</td>\n",
       "      <td>0</td>\n",
       "      <td>6</td>\n",
       "      <td>-15.0</td>\n",
       "      <td>17</td>\n",
       "      <td>6</td>\n",
       "      <td>356569.366153</td>\n",
       "    </tr>\n",
       "    <tr>\n",
       "      <th>...</th>\n",
       "      <td>...</td>\n",
       "      <td>...</td>\n",
       "      <td>...</td>\n",
       "      <td>...</td>\n",
       "      <td>...</td>\n",
       "      <td>...</td>\n",
       "      <td>...</td>\n",
       "      <td>...</td>\n",
       "      <td>...</td>\n",
       "      <td>...</td>\n",
       "      <td>...</td>\n",
       "      <td>...</td>\n",
       "      <td>...</td>\n",
       "    </tr>\n",
       "    <tr>\n",
       "      <th>471957</th>\n",
       "      <td>333523.36</td>\n",
       "      <td>7395570.78</td>\n",
       "      <td>735.52</td>\n",
       "      <td>2</td>\n",
       "      <td>1</td>\n",
       "      <td>2</td>\n",
       "      <td>1</td>\n",
       "      <td>0</td>\n",
       "      <td>19</td>\n",
       "      <td>13.0</td>\n",
       "      <td>40</td>\n",
       "      <td>6</td>\n",
       "      <td>363044.324524</td>\n",
       "    </tr>\n",
       "    <tr>\n",
       "      <th>471958</th>\n",
       "      <td>333521.03</td>\n",
       "      <td>7395570.91</td>\n",
       "      <td>731.07</td>\n",
       "      <td>5</td>\n",
       "      <td>1</td>\n",
       "      <td>1</td>\n",
       "      <td>1</td>\n",
       "      <td>0</td>\n",
       "      <td>6</td>\n",
       "      <td>13.0</td>\n",
       "      <td>40</td>\n",
       "      <td>6</td>\n",
       "      <td>363044.342732</td>\n",
       "    </tr>\n",
       "    <tr>\n",
       "      <th>471959</th>\n",
       "      <td>333520.96</td>\n",
       "      <td>7395571.00</td>\n",
       "      <td>732.50</td>\n",
       "      <td>8</td>\n",
       "      <td>1</td>\n",
       "      <td>1</td>\n",
       "      <td>1</td>\n",
       "      <td>0</td>\n",
       "      <td>6</td>\n",
       "      <td>13.0</td>\n",
       "      <td>40</td>\n",
       "      <td>6</td>\n",
       "      <td>363044.342740</td>\n",
       "    </tr>\n",
       "    <tr>\n",
       "      <th>471960</th>\n",
       "      <td>333521.09</td>\n",
       "      <td>7395571.84</td>\n",
       "      <td>731.83</td>\n",
       "      <td>18</td>\n",
       "      <td>1</td>\n",
       "      <td>1</td>\n",
       "      <td>1</td>\n",
       "      <td>0</td>\n",
       "      <td>6</td>\n",
       "      <td>13.0</td>\n",
       "      <td>40</td>\n",
       "      <td>6</td>\n",
       "      <td>363044.360909</td>\n",
       "    </tr>\n",
       "    <tr>\n",
       "      <th>471961</th>\n",
       "      <td>333520.95</td>\n",
       "      <td>7395571.91</td>\n",
       "      <td>729.86</td>\n",
       "      <td>18</td>\n",
       "      <td>1</td>\n",
       "      <td>1</td>\n",
       "      <td>0</td>\n",
       "      <td>0</td>\n",
       "      <td>6</td>\n",
       "      <td>13.0</td>\n",
       "      <td>40</td>\n",
       "      <td>6</td>\n",
       "      <td>363044.364125</td>\n",
       "    </tr>\n",
       "  </tbody>\n",
       "</table>\n",
       "<p>471962 rows × 13 columns</p>\n",
       "</div>"
      ],
      "text/plain": [
       "                X           Y       Z  Intensity  ReturnNumber  \\\n",
       "0       333499.29  7395564.35  735.34         18             1   \n",
       "1       333499.23  7395565.79  735.41         18             1   \n",
       "2       333499.20  7395566.79  735.25         15             1   \n",
       "3       333499.15  7395568.21  735.37         14             1   \n",
       "4       333499.10  7395569.68  735.30         17             1   \n",
       "...           ...         ...     ...        ...           ...   \n",
       "471957  333523.36  7395570.78  735.52          2             1   \n",
       "471958  333521.03  7395570.91  731.07          5             1   \n",
       "471959  333520.96  7395571.00  732.50          8             1   \n",
       "471960  333521.09  7395571.84  731.83         18             1   \n",
       "471961  333520.95  7395571.91  729.86         18             1   \n",
       "\n",
       "        NumberOfReturns  ScanDirectionFlag  EdgeOfFlightLine  Classification  \\\n",
       "0                     1                  0                 0               6   \n",
       "1                     1                  0                 0               6   \n",
       "2                     1                  0                 0               6   \n",
       "3                     1                  0                 0               6   \n",
       "4                     1                  0                 0               6   \n",
       "...                 ...                ...               ...             ...   \n",
       "471957                2                  1                 0              19   \n",
       "471958                1                  1                 0               6   \n",
       "471959                1                  1                 0               6   \n",
       "471960                1                  1                 0               6   \n",
       "471961                1                  0                 0               6   \n",
       "\n",
       "        ScanAngleRank  UserData  PointSourceId        GpsTime  \n",
       "0               -14.0        17              6  356569.366065  \n",
       "1               -14.0        17              6  356569.366090  \n",
       "2               -14.0        17              6  356569.366105  \n",
       "3               -14.0        17              6  356569.366129  \n",
       "4               -15.0        17              6  356569.366153  \n",
       "...               ...       ...            ...            ...  \n",
       "471957           13.0        40              6  363044.324524  \n",
       "471958           13.0        40              6  363044.342732  \n",
       "471959           13.0        40              6  363044.342740  \n",
       "471960           13.0        40              6  363044.360909  \n",
       "471961           13.0        40              6  363044.364125  \n",
       "\n",
       "[471962 rows x 13 columns]"
      ]
     },
     "execution_count": 237,
     "metadata": {},
     "output_type": "execute_result"
    }
   ],
   "source": [
    "df"
   ]
  },
  {
   "cell_type": "code",
   "execution_count": 238,
   "id": "0d3d92f4",
   "metadata": {},
   "outputs": [
    {
     "data": {
      "text/html": [
       "<pre>✔️ 1.04 ms (2021-05-24T17:07:18/2021-05-24T17:07:18)</pre>"
      ],
      "text/plain": [
       "<IPython.core.display.HTML object>"
      ]
     },
     "metadata": {},
     "output_type": "display_data"
    }
   ],
   "source": [
    "# distance = np.sqrt((df_mdt.X - pt_obs[0])**2 + (df_mdt.Y - pt_obs[1])**2)"
   ]
  },
  {
   "cell_type": "code",
   "execution_count": 239,
   "id": "92f1ea64",
   "metadata": {},
   "outputs": [
    {
     "data": {
      "text/html": [
       "<pre>✔️ 316 µs (2021-05-24T17:07:19/2021-05-24T17:07:19)</pre>"
      ],
      "text/plain": [
       "<IPython.core.display.HTML object>"
      ]
     },
     "metadata": {},
     "output_type": "display_data"
    }
   ],
   "source": [
    "# distance.sort_values()[:3].index"
   ]
  },
  {
   "cell_type": "code",
   "execution_count": 240,
   "id": "4a805e0f",
   "metadata": {
    "scrolled": true
   },
   "outputs": [
    {
     "data": {
      "text/html": [
       "<pre>✔️ 792 µs (2021-05-24T17:07:19/2021-05-24T17:07:19)</pre>"
      ],
      "text/plain": [
       "<IPython.core.display.HTML object>"
      ]
     },
     "metadata": {},
     "output_type": "display_data"
    }
   ],
   "source": [
    "# df_mdt"
   ]
  },
  {
   "cell_type": "markdown",
   "id": "e11809f8",
   "metadata": {},
   "source": [
    "## Dividindo o domo celeste"
   ]
  },
  {
   "cell_type": "code",
   "execution_count": 241,
   "id": "5821f39b",
   "metadata": {},
   "outputs": [
    {
     "data": {
      "text/html": [
       "<pre>✔️ 1.09 ms (2021-05-24T17:07:19/2021-05-24T17:07:19)</pre>"
      ],
      "text/plain": [
       "<IPython.core.display.HTML object>"
      ]
     },
     "metadata": {},
     "output_type": "display_data"
    }
   ],
   "source": [
    "fusos = 60\n",
    "meridianos = 30"
   ]
  },
  {
   "cell_type": "code",
   "execution_count": 242,
   "id": "9f7c2ea7",
   "metadata": {},
   "outputs": [
    {
     "data": {
      "text/html": [
       "<pre>✔️ 3.76 ms (2021-05-24T17:07:19/2021-05-24T17:07:19)</pre>"
      ],
      "text/plain": [
       "<IPython.core.display.HTML object>"
      ]
     },
     "metadata": {},
     "output_type": "display_data"
    },
    {
     "data": {
      "text/plain": [
       "array([-3.14159265, -3.0368729 , -2.93215314, -2.82743339, -2.72271363,\n",
       "       -2.61799388, -2.51327412, -2.40855437, -2.30383461, -2.19911486,\n",
       "       -2.0943951 , -1.98967535, -1.88495559, -1.78023584, -1.67551608,\n",
       "       -1.57079633, -1.46607657, -1.36135682, -1.25663706, -1.15191731,\n",
       "       -1.04719755, -0.9424778 , -0.83775804, -0.73303829, -0.62831853,\n",
       "       -0.52359878, -0.41887902, -0.31415927, -0.20943951, -0.10471976,\n",
       "        0.        ,  0.10471976,  0.20943951,  0.31415927,  0.41887902,\n",
       "        0.52359878,  0.62831853,  0.73303829,  0.83775804,  0.9424778 ,\n",
       "        1.04719755,  1.15191731,  1.25663706,  1.36135682,  1.46607657,\n",
       "        1.57079633,  1.67551608,  1.78023584,  1.88495559,  1.98967535,\n",
       "        2.0943951 ,  2.19911486,  2.30383461,  2.40855437,  2.51327412,\n",
       "        2.61799388,  2.72271363,  2.82743339,  2.93215314,  3.0368729 ])"
      ]
     },
     "execution_count": 242,
     "metadata": {},
     "output_type": "execute_result"
    }
   ],
   "source": [
    "thetas, delta_theta = np.linspace(-np.pi, np.pi, fusos, retstep=True, endpoint=False)\n",
    "thetas"
   ]
  },
  {
   "cell_type": "code",
   "execution_count": 243,
   "id": "a9ea3747",
   "metadata": {},
   "outputs": [
    {
     "data": {
      "text/html": [
       "<pre>✔️ 3.28 ms (2021-05-24T17:07:19/2021-05-24T17:07:19)</pre>"
      ],
      "text/plain": [
       "<IPython.core.display.HTML object>"
      ]
     },
     "metadata": {},
     "output_type": "display_data"
    },
    {
     "data": {
      "text/plain": [
       "(array([1.        , 0.96666667, 0.93333333, 0.9       , 0.86666667,\n",
       "        0.83333333, 0.8       , 0.76666667, 0.73333333, 0.7       ,\n",
       "        0.66666667, 0.63333333, 0.6       , 0.56666667, 0.53333333,\n",
       "        0.5       , 0.46666667, 0.43333333, 0.4       , 0.36666667,\n",
       "        0.33333333, 0.3       , 0.26666667, 0.23333333, 0.2       ,\n",
       "        0.16666667, 0.13333333, 0.1       , 0.06666667, 0.03333333]),\n",
       " -0.03333333333333333)"
      ]
     },
     "execution_count": 243,
     "metadata": {},
     "output_type": "execute_result"
    }
   ],
   "source": [
    "phis = np.linspace(1., 0., meridianos, retstep=True, endpoint=False)\n",
    "phis"
   ]
  },
  {
   "cell_type": "code",
   "execution_count": 244,
   "id": "c411ce24",
   "metadata": {},
   "outputs": [
    {
     "data": {
      "text/html": [
       "<pre>✔️ 2.68 ms (2021-05-24T17:07:19/2021-05-24T17:07:19)</pre>"
      ],
      "text/plain": [
       "<IPython.core.display.HTML object>"
      ]
     },
     "metadata": {},
     "output_type": "display_data"
    },
    {
     "data": {
      "text/plain": [
       "array([0.        , 0.25892154, 0.36720802, 0.45102681, 0.52231482,\n",
       "       0.58568554, 0.64350111, 0.69716313, 0.74758435, 0.79539883,\n",
       "       0.84106867, 0.88494336, 0.92729522, 0.96834169, 1.00826008,\n",
       "       1.04719755, 1.0852782 , 1.12260819, 1.15927948, 1.19537272,\n",
       "       1.23095942, 1.26610367, 1.30086353, 1.33529209, 1.36943841,\n",
       "       1.40334825, 1.43706474, 1.47062891, 1.50408018, 1.53745682])"
      ]
     },
     "execution_count": 244,
     "metadata": {},
     "output_type": "execute_result"
    }
   ],
   "source": [
    "np.arccos(phis[0])"
   ]
  },
  {
   "cell_type": "markdown",
   "id": "38fd8de1",
   "metadata": {},
   "source": [
    "## Discretizando $\\theta$ e $\\phi$"
   ]
  },
  {
   "cell_type": "code",
   "execution_count": 245,
   "id": "c0c06b91",
   "metadata": {},
   "outputs": [
    {
     "data": {
      "text/html": [
       "<pre>✔️ 7.2 ms (2021-05-24T17:07:23/2021-05-24T17:07:23)</pre>"
      ],
      "text/plain": [
       "<IPython.core.display.HTML object>"
      ]
     },
     "metadata": {},
     "output_type": "display_data"
    },
    {
     "data": {
      "text/plain": [
       "60"
      ]
     },
     "execution_count": 245,
     "metadata": {},
     "output_type": "execute_result"
    }
   ],
   "source": [
    "## Dado um angulo theta t em radianos qual seu indice em \n",
    "## uma divisão de fusos a cada delta_theta\n",
    "\n",
    "t = np.pi - 0.000000001\n",
    "t = np.arctan2(0,-1)\n",
    "np.floor((t + np.pi)/delta_theta).astype('int')"
   ]
  },
  {
   "cell_type": "code",
   "execution_count": 246,
   "id": "64503265",
   "metadata": {},
   "outputs": [
    {
     "data": {
      "text/html": [
       "<pre>✔️ 6.43 ms (2021-05-24T17:07:24/2021-05-24T17:07:24)</pre>"
      ],
      "text/plain": [
       "<IPython.core.display.HTML object>"
      ]
     },
     "metadata": {},
     "output_type": "display_data"
    },
    {
     "data": {
      "text/plain": [
       "29"
      ]
     },
     "execution_count": 246,
     "metadata": {},
     "output_type": "execute_result"
    }
   ],
   "source": [
    "## Dado um angulo phi f em radianos qual seu indice em\n",
    "## uma divisão de meridianos\n",
    "\n",
    "f = np.pi/2\n",
    "indice = np.floor(meridianos - (np.cos(f) / (1 / meridianos))).astype('int')\n",
    "indice"
   ]
  },
  {
   "cell_type": "markdown",
   "id": "31e22257",
   "metadata": {},
   "source": [
    "## Calculando $\\theta$ e $\\phi$ para todos os pontos\n",
    "\n",
    "Método por contagem de numero de grupos de $\\theta$ e $\\phi$"
   ]
  },
  {
   "cell_type": "code",
   "execution_count": 247,
   "id": "35a03b81",
   "metadata": {},
   "outputs": [
    {
     "data": {
      "text/html": [
       "<pre>✔️ 2.76 ms (2021-05-24T17:07:25/2021-05-24T17:07:25)</pre>"
      ],
      "text/plain": [
       "<IPython.core.display.HTML object>"
      ]
     },
     "metadata": {},
     "output_type": "display_data"
    }
   ],
   "source": [
    "def svf_observ(x):\n",
    "    coords = x.coords\n",
    "    \n",
    "    x_mds = df_mds.loc[df_mds.Z >= coords[0][2]].reset_index()\n",
    "    \n",
    "    x_mds['theta_idx'] = \\\n",
    "    np.floor(np.arctan2(\\\n",
    "              x_mds.X - coords[0][0],\n",
    "              x_mds.Y - coords[0][1])/delta_theta).astype('int')\n",
    "    \n",
    "    x_mds['phi_idx'] = \\\n",
    "    np.floor(meridianos - (np.cos(\\\n",
    "    np.arctan2(\\\n",
    "               np.sqrt((x_mds.X - coords[0][0])**2 + \\\n",
    "                       (x_mds.Y - coords[0][1])**2), \\\n",
    "               x_mds.Z - coords[0][2])) / \\\n",
    "                           (1 / meridianos))).astype('int')\n",
    "\n",
    "    \n",
    "    svf = 1. - (x_mds.groupby(['theta_idx', 'phi_idx'])\\\n",
    "                .ngroups / (fusos * meridianos))\n",
    "    \n",
    "    return svf"
   ]
  },
  {
   "cell_type": "code",
   "execution_count": 248,
   "id": "a1d35cc3",
   "metadata": {},
   "outputs": [
    {
     "data": {
      "text/html": [
       "<pre>✔️ 873 ms (2021-05-24T17:07:27/2021-05-24T17:07:27)</pre>"
      ],
      "text/plain": [
       "<IPython.core.display.HTML object>"
      ]
     },
     "metadata": {},
     "output_type": "display_data"
    },
    {
     "data": {
      "text/plain": [
       "0     0.200000\n",
       "3     0.256667\n",
       "4     0.316667\n",
       "5     0.316667\n",
       "6     0.207222\n",
       "7     0.215000\n",
       "8     0.206111\n",
       "9     0.253333\n",
       "10    0.212222\n",
       "11    0.167222\n",
       "12    0.226667\n",
       "13    0.203333\n",
       "14    0.191111\n",
       "15    0.161111\n",
       "16    0.124444\n",
       "17    0.109444\n",
       "18    0.145556\n",
       "19    0.315556\n",
       "20    0.139444\n",
       "21    0.438333\n",
       "22    0.419444\n",
       "23    0.507222\n",
       "Name: geometry, dtype: float64"
      ]
     },
     "execution_count": 248,
     "metadata": {},
     "output_type": "execute_result"
    }
   ],
   "source": [
    "pt_obs.apply(lambda x: svf_observ(x))"
   ]
  },
  {
   "cell_type": "markdown",
   "id": "3a8cc8a1",
   "metadata": {},
   "source": [
    "## Calculando $\\theta$ e $\\phi$ para todos os pontos\n",
    "\n",
    "Método por máximo $\\phi$ de grupos de $\\theta$"
   ]
  },
  {
   "cell_type": "code",
   "execution_count": 249,
   "id": "50e8386c",
   "metadata": {},
   "outputs": [
    {
     "data": {
      "text/html": [
       "<pre>✔️ 1.91 ms (2021-05-24T17:07:32/2021-05-24T17:07:32)</pre>"
      ],
      "text/plain": [
       "<IPython.core.display.HTML object>"
      ]
     },
     "metadata": {},
     "output_type": "display_data"
    }
   ],
   "source": [
    "def svf_observ(x):\n",
    "    coords = x.coords\n",
    "    \n",
    "    x_mds = df_mds.loc[df_mds.Z >= coords[0][2]].reset_index()\n",
    "    \n",
    "    x_mds['theta_idx'] = \\\n",
    "    np.floor(np.arctan2(\\\n",
    "              x_mds.X - coords[0][0],\n",
    "              x_mds.Y - coords[0][1])/delta_theta).astype('int')\n",
    "    \n",
    "    x_mds['phi'] = \\\n",
    "    np.arctan2(\\\n",
    "               np.sqrt((x_mds.X - coords[0][0])**2 + \\\n",
    "                       (x_mds.Y - coords[0][1])**2), \\\n",
    "               x_mds.Z - coords[0][2])\n",
    "\n",
    "    \n",
    "    svf = x_mds[['theta_idx', 'phi']].groupby(['theta_idx'])\\\n",
    "                .min()\n",
    "    \n",
    "    ## TODO\n",
    "    # Calcular a área de cada um dos fusos theta_idx\n",
    "    \n",
    "    return svf.phi"
   ]
  },
  {
   "cell_type": "code",
   "execution_count": 250,
   "id": "4198c74a",
   "metadata": {},
   "outputs": [
    {
     "data": {
      "text/html": [
       "<pre>✔️ 912 ms (2021-05-24T17:07:34/2021-05-24T17:07:35)</pre>"
      ],
      "text/plain": [
       "<IPython.core.display.HTML object>"
      ]
     },
     "metadata": {},
     "output_type": "display_data"
    },
    {
     "data": {
      "text/html": [
       "<div>\n",
       "<style scoped>\n",
       "    .dataframe tbody tr th:only-of-type {\n",
       "        vertical-align: middle;\n",
       "    }\n",
       "\n",
       "    .dataframe tbody tr th {\n",
       "        vertical-align: top;\n",
       "    }\n",
       "\n",
       "    .dataframe thead th {\n",
       "        text-align: right;\n",
       "    }\n",
       "</style>\n",
       "<table border=\"1\" class=\"dataframe\">\n",
       "  <thead>\n",
       "    <tr style=\"text-align: right;\">\n",
       "      <th>theta_idx</th>\n",
       "      <th>-30</th>\n",
       "      <th>-29</th>\n",
       "      <th>-28</th>\n",
       "      <th>-27</th>\n",
       "      <th>-26</th>\n",
       "      <th>-25</th>\n",
       "      <th>-24</th>\n",
       "      <th>-23</th>\n",
       "      <th>-22</th>\n",
       "      <th>-21</th>\n",
       "      <th>...</th>\n",
       "      <th>20</th>\n",
       "      <th>21</th>\n",
       "      <th>22</th>\n",
       "      <th>23</th>\n",
       "      <th>24</th>\n",
       "      <th>25</th>\n",
       "      <th>26</th>\n",
       "      <th>27</th>\n",
       "      <th>28</th>\n",
       "      <th>29</th>\n",
       "    </tr>\n",
       "  </thead>\n",
       "  <tbody>\n",
       "    <tr>\n",
       "      <th>0</th>\n",
       "      <td>0.487757</td>\n",
       "      <td>0.494248</td>\n",
       "      <td>0.535641</td>\n",
       "      <td>0.586619</td>\n",
       "      <td>0.666392</td>\n",
       "      <td>0.738641</td>\n",
       "      <td>0.866750</td>\n",
       "      <td>1.060825</td>\n",
       "      <td>0.733360</td>\n",
       "      <td>0.472223</td>\n",
       "      <td>...</td>\n",
       "      <td>0.549333</td>\n",
       "      <td>0.539570</td>\n",
       "      <td>0.562925</td>\n",
       "      <td>0.665921</td>\n",
       "      <td>0.857174</td>\n",
       "      <td>1.314890</td>\n",
       "      <td>0.930102</td>\n",
       "      <td>0.652916</td>\n",
       "      <td>0.521783</td>\n",
       "      <td>0.496788</td>\n",
       "    </tr>\n",
       "    <tr>\n",
       "      <th>3</th>\n",
       "      <td>0.914798</td>\n",
       "      <td>0.960889</td>\n",
       "      <td>0.610734</td>\n",
       "      <td>0.429937</td>\n",
       "      <td>0.409477</td>\n",
       "      <td>0.415005</td>\n",
       "      <td>0.422732</td>\n",
       "      <td>0.439132</td>\n",
       "      <td>0.456723</td>\n",
       "      <td>0.473612</td>\n",
       "      <td>...</td>\n",
       "      <td>0.558552</td>\n",
       "      <td>0.487294</td>\n",
       "      <td>0.438434</td>\n",
       "      <td>0.443007</td>\n",
       "      <td>0.484484</td>\n",
       "      <td>0.534019</td>\n",
       "      <td>0.593979</td>\n",
       "      <td>0.882855</td>\n",
       "      <td>1.033030</td>\n",
       "      <td>0.920662</td>\n",
       "    </tr>\n",
       "    <tr>\n",
       "      <th>4</th>\n",
       "      <td>1.050662</td>\n",
       "      <td>1.078690</td>\n",
       "      <td>0.835702</td>\n",
       "      <td>0.833434</td>\n",
       "      <td>0.826308</td>\n",
       "      <td>0.702800</td>\n",
       "      <td>0.623218</td>\n",
       "      <td>0.587906</td>\n",
       "      <td>0.528433</td>\n",
       "      <td>0.459869</td>\n",
       "      <td>...</td>\n",
       "      <td>0.958436</td>\n",
       "      <td>0.974431</td>\n",
       "      <td>0.901811</td>\n",
       "      <td>0.991154</td>\n",
       "      <td>0.896316</td>\n",
       "      <td>0.856670</td>\n",
       "      <td>0.866701</td>\n",
       "      <td>0.867698</td>\n",
       "      <td>0.858158</td>\n",
       "      <td>0.982948</td>\n",
       "    </tr>\n",
       "    <tr>\n",
       "      <th>5</th>\n",
       "      <td>0.706059</td>\n",
       "      <td>1.047640</td>\n",
       "      <td>1.144905</td>\n",
       "      <td>1.005001</td>\n",
       "      <td>0.990461</td>\n",
       "      <td>0.986690</td>\n",
       "      <td>1.018238</td>\n",
       "      <td>1.080166</td>\n",
       "      <td>1.078122</td>\n",
       "      <td>0.987047</td>\n",
       "      <td>...</td>\n",
       "      <td>0.399221</td>\n",
       "      <td>0.335584</td>\n",
       "      <td>0.320037</td>\n",
       "      <td>0.385057</td>\n",
       "      <td>0.341477</td>\n",
       "      <td>0.406880</td>\n",
       "      <td>0.364705</td>\n",
       "      <td>0.453722</td>\n",
       "      <td>0.424278</td>\n",
       "      <td>0.438771</td>\n",
       "    </tr>\n",
       "    <tr>\n",
       "      <th>6</th>\n",
       "      <td>0.703728</td>\n",
       "      <td>0.664021</td>\n",
       "      <td>0.633282</td>\n",
       "      <td>0.641030</td>\n",
       "      <td>0.606340</td>\n",
       "      <td>0.618058</td>\n",
       "      <td>0.650763</td>\n",
       "      <td>0.820946</td>\n",
       "      <td>1.019862</td>\n",
       "      <td>1.000842</td>\n",
       "      <td>...</td>\n",
       "      <td>0.549837</td>\n",
       "      <td>0.511644</td>\n",
       "      <td>0.465484</td>\n",
       "      <td>0.443391</td>\n",
       "      <td>0.430135</td>\n",
       "      <td>0.438442</td>\n",
       "      <td>0.476820</td>\n",
       "      <td>1.437404</td>\n",
       "      <td>0.902603</td>\n",
       "      <td>0.769346</td>\n",
       "    </tr>\n",
       "    <tr>\n",
       "      <th>7</th>\n",
       "      <td>0.635867</td>\n",
       "      <td>0.589343</td>\n",
       "      <td>0.544084</td>\n",
       "      <td>0.478684</td>\n",
       "      <td>0.444967</td>\n",
       "      <td>0.471001</td>\n",
       "      <td>0.478537</td>\n",
       "      <td>0.468300</td>\n",
       "      <td>0.450678</td>\n",
       "      <td>0.445624</td>\n",
       "      <td>...</td>\n",
       "      <td>0.225463</td>\n",
       "      <td>0.223782</td>\n",
       "      <td>0.226223</td>\n",
       "      <td>0.242693</td>\n",
       "      <td>0.252926</td>\n",
       "      <td>0.392412</td>\n",
       "      <td>1.457910</td>\n",
       "      <td>1.419116</td>\n",
       "      <td>0.818841</td>\n",
       "      <td>0.714566</td>\n",
       "    </tr>\n",
       "    <tr>\n",
       "      <th>8</th>\n",
       "      <td>0.303445</td>\n",
       "      <td>0.248493</td>\n",
       "      <td>0.214589</td>\n",
       "      <td>0.239081</td>\n",
       "      <td>0.202678</td>\n",
       "      <td>0.215370</td>\n",
       "      <td>0.234723</td>\n",
       "      <td>0.231973</td>\n",
       "      <td>0.265867</td>\n",
       "      <td>0.381377</td>\n",
       "      <td>...</td>\n",
       "      <td>0.426724</td>\n",
       "      <td>0.504182</td>\n",
       "      <td>0.569906</td>\n",
       "      <td>0.699383</td>\n",
       "      <td>0.927261</td>\n",
       "      <td>1.306407</td>\n",
       "      <td>0.825748</td>\n",
       "      <td>0.530881</td>\n",
       "      <td>0.413613</td>\n",
       "      <td>0.336360</td>\n",
       "    </tr>\n",
       "    <tr>\n",
       "      <th>9</th>\n",
       "      <td>0.574840</td>\n",
       "      <td>0.973728</td>\n",
       "      <td>1.022329</td>\n",
       "      <td>1.078697</td>\n",
       "      <td>0.761594</td>\n",
       "      <td>0.664803</td>\n",
       "      <td>0.666466</td>\n",
       "      <td>0.682876</td>\n",
       "      <td>0.708068</td>\n",
       "      <td>0.731166</td>\n",
       "      <td>...</td>\n",
       "      <td>0.355790</td>\n",
       "      <td>0.335579</td>\n",
       "      <td>0.368454</td>\n",
       "      <td>0.387818</td>\n",
       "      <td>0.408810</td>\n",
       "      <td>0.474969</td>\n",
       "      <td>0.521080</td>\n",
       "      <td>0.570156</td>\n",
       "      <td>0.579061</td>\n",
       "      <td>0.551467</td>\n",
       "    </tr>\n",
       "    <tr>\n",
       "      <th>10</th>\n",
       "      <td>1.086027</td>\n",
       "      <td>0.330892</td>\n",
       "      <td>0.329548</td>\n",
       "      <td>0.264756</td>\n",
       "      <td>0.224708</td>\n",
       "      <td>0.269416</td>\n",
       "      <td>0.285107</td>\n",
       "      <td>0.239118</td>\n",
       "      <td>0.360090</td>\n",
       "      <td>0.293836</td>\n",
       "      <td>...</td>\n",
       "      <td>0.388878</td>\n",
       "      <td>0.399858</td>\n",
       "      <td>0.425151</td>\n",
       "      <td>0.447707</td>\n",
       "      <td>0.489339</td>\n",
       "      <td>0.545967</td>\n",
       "      <td>0.609246</td>\n",
       "      <td>0.692225</td>\n",
       "      <td>1.144185</td>\n",
       "      <td>1.125622</td>\n",
       "    </tr>\n",
       "    <tr>\n",
       "      <th>11</th>\n",
       "      <td>0.896945</td>\n",
       "      <td>0.870677</td>\n",
       "      <td>0.884047</td>\n",
       "      <td>0.831703</td>\n",
       "      <td>0.668236</td>\n",
       "      <td>0.651842</td>\n",
       "      <td>0.632156</td>\n",
       "      <td>0.640158</td>\n",
       "      <td>0.675204</td>\n",
       "      <td>0.815582</td>\n",
       "      <td>...</td>\n",
       "      <td>0.221390</td>\n",
       "      <td>0.229087</td>\n",
       "      <td>0.275391</td>\n",
       "      <td>0.305907</td>\n",
       "      <td>0.338917</td>\n",
       "      <td>0.335840</td>\n",
       "      <td>0.379382</td>\n",
       "      <td>0.473044</td>\n",
       "      <td>0.580579</td>\n",
       "      <td>0.690686</td>\n",
       "    </tr>\n",
       "    <tr>\n",
       "      <th>12</th>\n",
       "      <td>0.530654</td>\n",
       "      <td>1.110860</td>\n",
       "      <td>1.067911</td>\n",
       "      <td>1.010867</td>\n",
       "      <td>0.689003</td>\n",
       "      <td>0.604801</td>\n",
       "      <td>0.593112</td>\n",
       "      <td>0.612990</td>\n",
       "      <td>0.613756</td>\n",
       "      <td>0.670155</td>\n",
       "      <td>...</td>\n",
       "      <td>0.146398</td>\n",
       "      <td>0.116794</td>\n",
       "      <td>0.102778</td>\n",
       "      <td>0.160574</td>\n",
       "      <td>0.125159</td>\n",
       "      <td>0.154079</td>\n",
       "      <td>0.174141</td>\n",
       "      <td>0.176445</td>\n",
       "      <td>0.267039</td>\n",
       "      <td>0.368762</td>\n",
       "    </tr>\n",
       "    <tr>\n",
       "      <th>13</th>\n",
       "      <td>0.329851</td>\n",
       "      <td>0.344320</td>\n",
       "      <td>0.352474</td>\n",
       "      <td>0.365462</td>\n",
       "      <td>0.360800</td>\n",
       "      <td>0.389638</td>\n",
       "      <td>0.432606</td>\n",
       "      <td>0.491094</td>\n",
       "      <td>0.550492</td>\n",
       "      <td>0.604502</td>\n",
       "      <td>...</td>\n",
       "      <td>0.518080</td>\n",
       "      <td>0.471339</td>\n",
       "      <td>0.444274</td>\n",
       "      <td>0.465549</td>\n",
       "      <td>0.510057</td>\n",
       "      <td>0.623478</td>\n",
       "      <td>0.756608</td>\n",
       "      <td>0.823989</td>\n",
       "      <td>0.334040</td>\n",
       "      <td>0.326916</td>\n",
       "    </tr>\n",
       "    <tr>\n",
       "      <th>14</th>\n",
       "      <td>0.322068</td>\n",
       "      <td>0.346246</td>\n",
       "      <td>0.349836</td>\n",
       "      <td>0.371233</td>\n",
       "      <td>0.369574</td>\n",
       "      <td>0.425244</td>\n",
       "      <td>0.442927</td>\n",
       "      <td>0.493936</td>\n",
       "      <td>0.545968</td>\n",
       "      <td>0.623169</td>\n",
       "      <td>...</td>\n",
       "      <td>0.597077</td>\n",
       "      <td>0.621236</td>\n",
       "      <td>0.411604</td>\n",
       "      <td>0.377412</td>\n",
       "      <td>0.364840</td>\n",
       "      <td>0.353139</td>\n",
       "      <td>0.343942</td>\n",
       "      <td>0.322844</td>\n",
       "      <td>0.322814</td>\n",
       "      <td>0.320411</td>\n",
       "    </tr>\n",
       "    <tr>\n",
       "      <th>15</th>\n",
       "      <td>0.865236</td>\n",
       "      <td>0.886408</td>\n",
       "      <td>0.598039</td>\n",
       "      <td>0.609094</td>\n",
       "      <td>0.487464</td>\n",
       "      <td>0.566116</td>\n",
       "      <td>0.376520</td>\n",
       "      <td>0.312992</td>\n",
       "      <td>0.263594</td>\n",
       "      <td>0.518861</td>\n",
       "      <td>...</td>\n",
       "      <td>0.702426</td>\n",
       "      <td>0.714970</td>\n",
       "      <td>0.763965</td>\n",
       "      <td>0.774492</td>\n",
       "      <td>0.836610</td>\n",
       "      <td>0.871526</td>\n",
       "      <td>0.939909</td>\n",
       "      <td>0.940029</td>\n",
       "      <td>0.916100</td>\n",
       "      <td>0.883272</td>\n",
       "    </tr>\n",
       "    <tr>\n",
       "      <th>16</th>\n",
       "      <td>0.178774</td>\n",
       "      <td>0.142056</td>\n",
       "      <td>0.146901</td>\n",
       "      <td>0.226320</td>\n",
       "      <td>0.094158</td>\n",
       "      <td>0.079509</td>\n",
       "      <td>0.177864</td>\n",
       "      <td>0.040750</td>\n",
       "      <td>0.189976</td>\n",
       "      <td>0.123482</td>\n",
       "      <td>...</td>\n",
       "      <td>0.704214</td>\n",
       "      <td>0.693849</td>\n",
       "      <td>0.633261</td>\n",
       "      <td>0.637278</td>\n",
       "      <td>0.642675</td>\n",
       "      <td>0.650789</td>\n",
       "      <td>0.670182</td>\n",
       "      <td>0.150981</td>\n",
       "      <td>0.092620</td>\n",
       "      <td>0.225321</td>\n",
       "    </tr>\n",
       "    <tr>\n",
       "      <th>17</th>\n",
       "      <td>0.225945</td>\n",
       "      <td>0.250459</td>\n",
       "      <td>0.425698</td>\n",
       "      <td>0.276731</td>\n",
       "      <td>0.173525</td>\n",
       "      <td>0.531278</td>\n",
       "      <td>0.574347</td>\n",
       "      <td>0.241799</td>\n",
       "      <td>0.228916</td>\n",
       "      <td>0.218230</td>\n",
       "      <td>...</td>\n",
       "      <td>0.624529</td>\n",
       "      <td>0.740497</td>\n",
       "      <td>0.916158</td>\n",
       "      <td>0.931228</td>\n",
       "      <td>0.684709</td>\n",
       "      <td>0.368431</td>\n",
       "      <td>0.450140</td>\n",
       "      <td>0.343551</td>\n",
       "      <td>0.474264</td>\n",
       "      <td>0.217563</td>\n",
       "    </tr>\n",
       "    <tr>\n",
       "      <th>18</th>\n",
       "      <td>0.101093</td>\n",
       "      <td>0.157008</td>\n",
       "      <td>0.117362</td>\n",
       "      <td>0.101892</td>\n",
       "      <td>0.059742</td>\n",
       "      <td>0.054688</td>\n",
       "      <td>0.063676</td>\n",
       "      <td>0.105091</td>\n",
       "      <td>0.122499</td>\n",
       "      <td>0.100273</td>\n",
       "      <td>...</td>\n",
       "      <td>0.279089</td>\n",
       "      <td>0.097435</td>\n",
       "      <td>0.127445</td>\n",
       "      <td>0.168715</td>\n",
       "      <td>0.078336</td>\n",
       "      <td>0.090165</td>\n",
       "      <td>0.145622</td>\n",
       "      <td>0.083060</td>\n",
       "      <td>0.062644</td>\n",
       "      <td>0.049767</td>\n",
       "    </tr>\n",
       "    <tr>\n",
       "      <th>19</th>\n",
       "      <td>1.088434</td>\n",
       "      <td>1.071970</td>\n",
       "      <td>0.935325</td>\n",
       "      <td>0.920364</td>\n",
       "      <td>0.854970</td>\n",
       "      <td>0.808265</td>\n",
       "      <td>0.798148</td>\n",
       "      <td>0.802737</td>\n",
       "      <td>0.809330</td>\n",
       "      <td>0.860361</td>\n",
       "      <td>...</td>\n",
       "      <td>0.447326</td>\n",
       "      <td>0.438307</td>\n",
       "      <td>0.469572</td>\n",
       "      <td>0.479145</td>\n",
       "      <td>0.539918</td>\n",
       "      <td>0.972457</td>\n",
       "      <td>0.942966</td>\n",
       "      <td>0.956175</td>\n",
       "      <td>0.965883</td>\n",
       "      <td>0.981429</td>\n",
       "    </tr>\n",
       "    <tr>\n",
       "      <th>20</th>\n",
       "      <td>0.380748</td>\n",
       "      <td>0.326632</td>\n",
       "      <td>0.315862</td>\n",
       "      <td>0.194216</td>\n",
       "      <td>0.177414</td>\n",
       "      <td>0.207062</td>\n",
       "      <td>0.192741</td>\n",
       "      <td>0.183746</td>\n",
       "      <td>0.194397</td>\n",
       "      <td>0.205225</td>\n",
       "      <td>...</td>\n",
       "      <td>1.297617</td>\n",
       "      <td>1.028220</td>\n",
       "      <td>0.850991</td>\n",
       "      <td>0.705580</td>\n",
       "      <td>0.611807</td>\n",
       "      <td>0.559961</td>\n",
       "      <td>0.499702</td>\n",
       "      <td>0.472207</td>\n",
       "      <td>0.444690</td>\n",
       "      <td>0.406716</td>\n",
       "    </tr>\n",
       "    <tr>\n",
       "      <th>21</th>\n",
       "      <td>1.265184</td>\n",
       "      <td>0.882651</td>\n",
       "      <td>0.865935</td>\n",
       "      <td>0.889355</td>\n",
       "      <td>0.919449</td>\n",
       "      <td>0.960531</td>\n",
       "      <td>0.961984</td>\n",
       "      <td>0.942471</td>\n",
       "      <td>0.694397</td>\n",
       "      <td>0.676511</td>\n",
       "      <td>...</td>\n",
       "      <td>1.435492</td>\n",
       "      <td>1.433055</td>\n",
       "      <td>1.499036</td>\n",
       "      <td>1.498087</td>\n",
       "      <td>1.214898</td>\n",
       "      <td>1.214765</td>\n",
       "      <td>1.540963</td>\n",
       "      <td>1.338652</td>\n",
       "      <td>1.336604</td>\n",
       "      <td>1.338411</td>\n",
       "    </tr>\n",
       "    <tr>\n",
       "      <th>22</th>\n",
       "      <td>0.761055</td>\n",
       "      <td>0.664540</td>\n",
       "      <td>0.547183</td>\n",
       "      <td>0.614935</td>\n",
       "      <td>0.537018</td>\n",
       "      <td>0.437224</td>\n",
       "      <td>0.525476</td>\n",
       "      <td>0.480794</td>\n",
       "      <td>0.394450</td>\n",
       "      <td>0.567111</td>\n",
       "      <td>...</td>\n",
       "      <td>1.433751</td>\n",
       "      <td>1.499364</td>\n",
       "      <td>1.498305</td>\n",
       "      <td>1.495512</td>\n",
       "      <td>1.209075</td>\n",
       "      <td>1.236137</td>\n",
       "      <td>1.309917</td>\n",
       "      <td>1.232832</td>\n",
       "      <td>0.963601</td>\n",
       "      <td>0.805825</td>\n",
       "    </tr>\n",
       "    <tr>\n",
       "      <th>23</th>\n",
       "      <td>1.254151</td>\n",
       "      <td>0.897755</td>\n",
       "      <td>0.820556</td>\n",
       "      <td>0.825441</td>\n",
       "      <td>0.854481</td>\n",
       "      <td>0.942760</td>\n",
       "      <td>0.945251</td>\n",
       "      <td>0.947698</td>\n",
       "      <td>0.930329</td>\n",
       "      <td>0.705473</td>\n",
       "      <td>...</td>\n",
       "      <td>1.426575</td>\n",
       "      <td>1.497060</td>\n",
       "      <td>1.496022</td>\n",
       "      <td>1.494995</td>\n",
       "      <td>1.198658</td>\n",
       "      <td>1.198467</td>\n",
       "      <td>1.540423</td>\n",
       "      <td>1.422004</td>\n",
       "      <td>1.295223</td>\n",
       "      <td>1.291864</td>\n",
       "    </tr>\n",
       "  </tbody>\n",
       "</table>\n",
       "<p>22 rows × 60 columns</p>\n",
       "</div>"
      ],
      "text/plain": [
       "theta_idx       -30       -29       -28       -27       -26       -25  \\\n",
       "0          0.487757  0.494248  0.535641  0.586619  0.666392  0.738641   \n",
       "3          0.914798  0.960889  0.610734  0.429937  0.409477  0.415005   \n",
       "4          1.050662  1.078690  0.835702  0.833434  0.826308  0.702800   \n",
       "5          0.706059  1.047640  1.144905  1.005001  0.990461  0.986690   \n",
       "6          0.703728  0.664021  0.633282  0.641030  0.606340  0.618058   \n",
       "7          0.635867  0.589343  0.544084  0.478684  0.444967  0.471001   \n",
       "8          0.303445  0.248493  0.214589  0.239081  0.202678  0.215370   \n",
       "9          0.574840  0.973728  1.022329  1.078697  0.761594  0.664803   \n",
       "10         1.086027  0.330892  0.329548  0.264756  0.224708  0.269416   \n",
       "11         0.896945  0.870677  0.884047  0.831703  0.668236  0.651842   \n",
       "12         0.530654  1.110860  1.067911  1.010867  0.689003  0.604801   \n",
       "13         0.329851  0.344320  0.352474  0.365462  0.360800  0.389638   \n",
       "14         0.322068  0.346246  0.349836  0.371233  0.369574  0.425244   \n",
       "15         0.865236  0.886408  0.598039  0.609094  0.487464  0.566116   \n",
       "16         0.178774  0.142056  0.146901  0.226320  0.094158  0.079509   \n",
       "17         0.225945  0.250459  0.425698  0.276731  0.173525  0.531278   \n",
       "18         0.101093  0.157008  0.117362  0.101892  0.059742  0.054688   \n",
       "19         1.088434  1.071970  0.935325  0.920364  0.854970  0.808265   \n",
       "20         0.380748  0.326632  0.315862  0.194216  0.177414  0.207062   \n",
       "21         1.265184  0.882651  0.865935  0.889355  0.919449  0.960531   \n",
       "22         0.761055  0.664540  0.547183  0.614935  0.537018  0.437224   \n",
       "23         1.254151  0.897755  0.820556  0.825441  0.854481  0.942760   \n",
       "\n",
       "theta_idx       -24       -23       -22       -21  ...        20        21  \\\n",
       "0          0.866750  1.060825  0.733360  0.472223  ...  0.549333  0.539570   \n",
       "3          0.422732  0.439132  0.456723  0.473612  ...  0.558552  0.487294   \n",
       "4          0.623218  0.587906  0.528433  0.459869  ...  0.958436  0.974431   \n",
       "5          1.018238  1.080166  1.078122  0.987047  ...  0.399221  0.335584   \n",
       "6          0.650763  0.820946  1.019862  1.000842  ...  0.549837  0.511644   \n",
       "7          0.478537  0.468300  0.450678  0.445624  ...  0.225463  0.223782   \n",
       "8          0.234723  0.231973  0.265867  0.381377  ...  0.426724  0.504182   \n",
       "9          0.666466  0.682876  0.708068  0.731166  ...  0.355790  0.335579   \n",
       "10         0.285107  0.239118  0.360090  0.293836  ...  0.388878  0.399858   \n",
       "11         0.632156  0.640158  0.675204  0.815582  ...  0.221390  0.229087   \n",
       "12         0.593112  0.612990  0.613756  0.670155  ...  0.146398  0.116794   \n",
       "13         0.432606  0.491094  0.550492  0.604502  ...  0.518080  0.471339   \n",
       "14         0.442927  0.493936  0.545968  0.623169  ...  0.597077  0.621236   \n",
       "15         0.376520  0.312992  0.263594  0.518861  ...  0.702426  0.714970   \n",
       "16         0.177864  0.040750  0.189976  0.123482  ...  0.704214  0.693849   \n",
       "17         0.574347  0.241799  0.228916  0.218230  ...  0.624529  0.740497   \n",
       "18         0.063676  0.105091  0.122499  0.100273  ...  0.279089  0.097435   \n",
       "19         0.798148  0.802737  0.809330  0.860361  ...  0.447326  0.438307   \n",
       "20         0.192741  0.183746  0.194397  0.205225  ...  1.297617  1.028220   \n",
       "21         0.961984  0.942471  0.694397  0.676511  ...  1.435492  1.433055   \n",
       "22         0.525476  0.480794  0.394450  0.567111  ...  1.433751  1.499364   \n",
       "23         0.945251  0.947698  0.930329  0.705473  ...  1.426575  1.497060   \n",
       "\n",
       "theta_idx        22        23        24        25        26        27  \\\n",
       "0          0.562925  0.665921  0.857174  1.314890  0.930102  0.652916   \n",
       "3          0.438434  0.443007  0.484484  0.534019  0.593979  0.882855   \n",
       "4          0.901811  0.991154  0.896316  0.856670  0.866701  0.867698   \n",
       "5          0.320037  0.385057  0.341477  0.406880  0.364705  0.453722   \n",
       "6          0.465484  0.443391  0.430135  0.438442  0.476820  1.437404   \n",
       "7          0.226223  0.242693  0.252926  0.392412  1.457910  1.419116   \n",
       "8          0.569906  0.699383  0.927261  1.306407  0.825748  0.530881   \n",
       "9          0.368454  0.387818  0.408810  0.474969  0.521080  0.570156   \n",
       "10         0.425151  0.447707  0.489339  0.545967  0.609246  0.692225   \n",
       "11         0.275391  0.305907  0.338917  0.335840  0.379382  0.473044   \n",
       "12         0.102778  0.160574  0.125159  0.154079  0.174141  0.176445   \n",
       "13         0.444274  0.465549  0.510057  0.623478  0.756608  0.823989   \n",
       "14         0.411604  0.377412  0.364840  0.353139  0.343942  0.322844   \n",
       "15         0.763965  0.774492  0.836610  0.871526  0.939909  0.940029   \n",
       "16         0.633261  0.637278  0.642675  0.650789  0.670182  0.150981   \n",
       "17         0.916158  0.931228  0.684709  0.368431  0.450140  0.343551   \n",
       "18         0.127445  0.168715  0.078336  0.090165  0.145622  0.083060   \n",
       "19         0.469572  0.479145  0.539918  0.972457  0.942966  0.956175   \n",
       "20         0.850991  0.705580  0.611807  0.559961  0.499702  0.472207   \n",
       "21         1.499036  1.498087  1.214898  1.214765  1.540963  1.338652   \n",
       "22         1.498305  1.495512  1.209075  1.236137  1.309917  1.232832   \n",
       "23         1.496022  1.494995  1.198658  1.198467  1.540423  1.422004   \n",
       "\n",
       "theta_idx        28        29  \n",
       "0          0.521783  0.496788  \n",
       "3          1.033030  0.920662  \n",
       "4          0.858158  0.982948  \n",
       "5          0.424278  0.438771  \n",
       "6          0.902603  0.769346  \n",
       "7          0.818841  0.714566  \n",
       "8          0.413613  0.336360  \n",
       "9          0.579061  0.551467  \n",
       "10         1.144185  1.125622  \n",
       "11         0.580579  0.690686  \n",
       "12         0.267039  0.368762  \n",
       "13         0.334040  0.326916  \n",
       "14         0.322814  0.320411  \n",
       "15         0.916100  0.883272  \n",
       "16         0.092620  0.225321  \n",
       "17         0.474264  0.217563  \n",
       "18         0.062644  0.049767  \n",
       "19         0.965883  0.981429  \n",
       "20         0.444690  0.406716  \n",
       "21         1.336604  1.338411  \n",
       "22         0.963601  0.805825  \n",
       "23         1.295223  1.291864  \n",
       "\n",
       "[22 rows x 60 columns]"
      ]
     },
     "execution_count": 250,
     "metadata": {},
     "output_type": "execute_result"
    }
   ],
   "source": [
    "\n",
    "pt_obs.apply(lambda x: svf_observ(x))"
   ]
  },
  {
   "cell_type": "code",
   "execution_count": 209,
   "id": "4e7782fb",
   "metadata": {},
   "outputs": [
    {
     "data": {
      "text/html": [
       "<pre>✔️ 399 ms (2021-05-24T17:02:04/2021-05-24T17:02:04)</pre>"
      ],
      "text/plain": [
       "<IPython.core.display.HTML object>"
      ]
     },
     "metadata": {},
     "output_type": "display_data"
    }
   ],
   "source": [
    "coords = pt_obs.iloc[1].coords\n",
    "\n",
    "x_mds = df_mds.loc[df_mds.Z >= coords[0][2]].reset_index()\n",
    "\n",
    "x_mds['theta_idx'] = \\\n",
    "np.floor(np.arctan2(\\\n",
    "          x_mds.X - coords[0][0],\n",
    "          x_mds.Y - coords[0][1])/delta_theta).astype('int')\n",
    "\n",
    "x_mds['phi'] = \\\n",
    "np.arctan2( \\\n",
    "           np.sqrt((x_mds.X - coords[0][0])**2 + \\\n",
    "                   (x_mds.Y - coords[0][1])**2), \\\n",
    "          x_mds.Z - coords[0][2])\n",
    "\n",
    "\n",
    "svf = x_mds[['theta_idx', 'phi']].groupby(['theta_idx'])\\\n",
    "            .min()"
   ]
  },
  {
   "cell_type": "code",
   "execution_count": 215,
   "id": "12438b43",
   "metadata": {},
   "outputs": [
    {
     "data": {
      "text/html": [
       "<pre>✔️ 7.03 ms (2021-05-24T17:03:33/2021-05-24T17:03:33)</pre>"
      ],
      "text/plain": [
       "<IPython.core.display.HTML object>"
      ]
     },
     "metadata": {},
     "output_type": "display_data"
    },
    {
     "data": {
      "text/plain": [
       "0.7853981633974483"
      ]
     },
     "execution_count": 215,
     "metadata": {},
     "output_type": "execute_result"
    }
   ],
   "source": [
    "# svf\n",
    "np.arctan2(100, 100)"
   ]
  },
  {
   "cell_type": "code",
   "execution_count": null,
   "id": "b03e50de",
   "metadata": {},
   "outputs": [],
   "source": []
  }
 ],
 "metadata": {
  "kernelspec": {
   "display_name": "Python 3",
   "language": "python",
   "name": "python3"
  },
  "language_info": {
   "codemirror_mode": {
    "name": "ipython",
    "version": 3
   },
   "file_extension": ".py",
   "mimetype": "text/x-python",
   "name": "python",
   "nbconvert_exporter": "python",
   "pygments_lexer": "ipython3",
   "version": "3.8.10"
  }
 },
 "nbformat": 4,
 "nbformat_minor": 5
}
