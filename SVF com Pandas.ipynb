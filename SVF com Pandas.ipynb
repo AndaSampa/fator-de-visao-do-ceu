{
 "cells": [
  {
   "cell_type": "markdown",
   "metadata": {},
   "source": [
    "# Fator de Visão de Céu a partir do LiDAR\n",
    "\n",
    "Podemos determinar o Fator de Visão de céu, ou Sky View Factor diretamente do LiDAR sem gerar um raster.\n",
    "Para fins de performance podemos reduzir a densidade de pontos para cerca de 1 metro de resolução e a partir de cada ponto de Ground calcular a coordenada astronômica (Azimute e Altura) e a distância linear para cada ponto classificados como edificação.\n",
    "\n",
    "Para esse primeiro experimento vamos apenas usar uma folha SCM, sabendo que inerferências para visão de céu podem se estender muito além dos limites das dimensões de uma folha SCM."
   ]
  },
  {
   "cell_type": "code",
   "execution_count": 1,
   "metadata": {},
   "outputs": [],
   "source": [
    "import pdal"
   ]
  },
  {
   "cell_type": "code",
   "execution_count": 2,
   "metadata": {},
   "outputs": [
    {
     "data": {
      "text/html": [
       "<pre>✔️ 258 µs (2021-05-11T17:18:44/2021-05-11T17:18:44)</pre>"
      ],
      "text/plain": [
       "<IPython.core.display.HTML object>"
      ]
     },
     "metadata": {},
     "output_type": "display_data"
    }
   ],
   "source": [
    "%load_ext autotime"
   ]
  },
  {
   "cell_type": "code",
   "execution_count": 3,
   "metadata": {},
   "outputs": [
    {
     "data": {
      "text/html": [
       "<pre>✔️ 337 µs (2021-05-11T17:18:44/2021-05-11T17:18:44)</pre>"
      ],
      "text/plain": [
       "<IPython.core.display.HTML object>"
      ]
     },
     "metadata": {},
     "output_type": "display_data"
    }
   ],
   "source": [
    "pipeline=\"\"\"{\n",
    "  \"pipeline\": [\n",
    "    {\n",
    "        \"type\": \"readers.las\",\n",
    "        \"filename\": \"arquivos/MDS/MDS_3314-231.laz\"\n",
    "    },\n",
    "    {\n",
    "        \"type\": \"filters.sample\",\n",
    "        \"radius\": 1\n",
    "    }\n",
    "  ]\n",
    "}\"\"\""
   ]
  },
  {
   "cell_type": "code",
   "execution_count": 4,
   "metadata": {},
   "outputs": [
    {
     "data": {
      "text/html": [
       "<pre>✔️ 9.87 s (2021-05-11T17:18:44/2021-05-11T17:18:54)</pre>"
      ],
      "text/plain": [
       "<IPython.core.display.HTML object>"
      ]
     },
     "metadata": {},
     "output_type": "display_data"
    }
   ],
   "source": [
    "r = pdal.Pipeline(pipeline)\n",
    "r.validate()\n",
    "r.execute()\n",
    "arrays = r.arrays"
   ]
  },
  {
   "cell_type": "code",
   "execution_count": 5,
   "metadata": {},
   "outputs": [
    {
     "data": {
      "text/html": [
       "<pre>✔️ 2 ms (2021-05-11T17:18:54/2021-05-11T17:18:54)</pre>"
      ],
      "text/plain": [
       "<IPython.core.display.HTML object>"
      ]
     },
     "metadata": {},
     "output_type": "display_data"
    },
    {
     "data": {
      "text/plain": [
       "471962"
      ]
     },
     "execution_count": 5,
     "metadata": {},
     "output_type": "execute_result"
    }
   ],
   "source": [
    "len(arrays[0])"
   ]
  },
  {
   "cell_type": "code",
   "execution_count": 6,
   "metadata": {},
   "outputs": [
    {
     "data": {
      "text/html": [
       "<pre>✔️ 2.9 ms (2021-05-11T17:18:54/2021-05-11T17:18:54)</pre>"
      ],
      "text/plain": [
       "<IPython.core.display.HTML object>"
      ]
     },
     "metadata": {},
     "output_type": "display_data"
    },
    {
     "data": {
      "text/plain": [
       "(333499.29, 7395564.35, 735.34, 18, 1, 1, 0, 0, 6, -14., 17, 6, 356569.36606547)"
      ]
     },
     "execution_count": 6,
     "metadata": {},
     "output_type": "execute_result"
    }
   ],
   "source": [
    "arrays[0][0]"
   ]
  },
  {
   "cell_type": "code",
   "execution_count": 7,
   "metadata": {},
   "outputs": [
    {
     "data": {
      "text/html": [
       "<pre>✔️ 3.07 ms (2021-05-11T17:18:54/2021-05-11T17:18:54)</pre>"
      ],
      "text/plain": [
       "<IPython.core.display.HTML object>"
      ]
     },
     "metadata": {},
     "output_type": "display_data"
    },
    {
     "data": {
      "text/plain": [
       "{'schema': {'dimensions': [{'name': 'X', 'size': 8, 'type': 'floating'},\n",
       "   {'name': 'Y', 'size': 8, 'type': 'floating'},\n",
       "   {'name': 'Z', 'size': 8, 'type': 'floating'},\n",
       "   {'name': 'Intensity', 'size': 2, 'type': 'unsigned'},\n",
       "   {'name': 'ReturnNumber', 'size': 1, 'type': 'unsigned'},\n",
       "   {'name': 'NumberOfReturns', 'size': 1, 'type': 'unsigned'},\n",
       "   {'name': 'ScanDirectionFlag', 'size': 1, 'type': 'unsigned'},\n",
       "   {'name': 'EdgeOfFlightLine', 'size': 1, 'type': 'unsigned'},\n",
       "   {'name': 'Classification', 'size': 1, 'type': 'unsigned'},\n",
       "   {'name': 'ScanAngleRank', 'size': 4, 'type': 'floating'},\n",
       "   {'name': 'UserData', 'size': 1, 'type': 'unsigned'},\n",
       "   {'name': 'PointSourceId', 'size': 2, 'type': 'unsigned'},\n",
       "   {'name': 'GpsTime', 'size': 8, 'type': 'floating'}]}}"
      ]
     },
     "execution_count": 7,
     "metadata": {},
     "output_type": "execute_result"
    }
   ],
   "source": [
    "r.schema"
   ]
  },
  {
   "cell_type": "markdown",
   "metadata": {},
   "source": [
    "## Importando dados para Pandas"
   ]
  },
  {
   "cell_type": "code",
   "execution_count": 8,
   "metadata": {},
   "outputs": [
    {
     "data": {
      "text/html": [
       "<pre>✔️ 123 ms (2021-05-11T17:18:54/2021-05-11T17:18:54)</pre>"
      ],
      "text/plain": [
       "<IPython.core.display.HTML object>"
      ]
     },
     "metadata": {},
     "output_type": "display_data"
    }
   ],
   "source": [
    "import pandas as pd"
   ]
  },
  {
   "cell_type": "code",
   "execution_count": 9,
   "metadata": {},
   "outputs": [
    {
     "data": {
      "text/html": [
       "<pre>✔️ 27.3 ms (2021-05-11T17:18:55/2021-05-11T17:18:55)</pre>"
      ],
      "text/plain": [
       "<IPython.core.display.HTML object>"
      ]
     },
     "metadata": {},
     "output_type": "display_data"
    }
   ],
   "source": [
    "df = pd.DataFrame(arrays[0])"
   ]
  },
  {
   "cell_type": "code",
   "execution_count": 10,
   "metadata": {},
   "outputs": [
    {
     "data": {
      "text/html": [
       "<pre>✔️ 15.8 ms (2021-05-11T17:18:55/2021-05-11T17:18:55)</pre>"
      ],
      "text/plain": [
       "<IPython.core.display.HTML object>"
      ]
     },
     "metadata": {},
     "output_type": "display_data"
    },
    {
     "data": {
      "text/html": [
       "<div>\n",
       "<style scoped>\n",
       "    .dataframe tbody tr th:only-of-type {\n",
       "        vertical-align: middle;\n",
       "    }\n",
       "\n",
       "    .dataframe tbody tr th {\n",
       "        vertical-align: top;\n",
       "    }\n",
       "\n",
       "    .dataframe thead th {\n",
       "        text-align: right;\n",
       "    }\n",
       "</style>\n",
       "<table border=\"1\" class=\"dataframe\">\n",
       "  <thead>\n",
       "    <tr style=\"text-align: right;\">\n",
       "      <th></th>\n",
       "      <th>X</th>\n",
       "      <th>Y</th>\n",
       "      <th>Z</th>\n",
       "      <th>Intensity</th>\n",
       "      <th>ReturnNumber</th>\n",
       "      <th>NumberOfReturns</th>\n",
       "      <th>ScanDirectionFlag</th>\n",
       "      <th>EdgeOfFlightLine</th>\n",
       "      <th>Classification</th>\n",
       "      <th>ScanAngleRank</th>\n",
       "      <th>UserData</th>\n",
       "      <th>PointSourceId</th>\n",
       "      <th>GpsTime</th>\n",
       "    </tr>\n",
       "  </thead>\n",
       "  <tbody>\n",
       "    <tr>\n",
       "      <th>0</th>\n",
       "      <td>333499.29</td>\n",
       "      <td>7395564.35</td>\n",
       "      <td>735.34</td>\n",
       "      <td>18</td>\n",
       "      <td>1</td>\n",
       "      <td>1</td>\n",
       "      <td>0</td>\n",
       "      <td>0</td>\n",
       "      <td>6</td>\n",
       "      <td>-14.0</td>\n",
       "      <td>17</td>\n",
       "      <td>6</td>\n",
       "      <td>356569.366065</td>\n",
       "    </tr>\n",
       "    <tr>\n",
       "      <th>1</th>\n",
       "      <td>333499.23</td>\n",
       "      <td>7395565.79</td>\n",
       "      <td>735.41</td>\n",
       "      <td>18</td>\n",
       "      <td>1</td>\n",
       "      <td>1</td>\n",
       "      <td>0</td>\n",
       "      <td>0</td>\n",
       "      <td>6</td>\n",
       "      <td>-14.0</td>\n",
       "      <td>17</td>\n",
       "      <td>6</td>\n",
       "      <td>356569.366090</td>\n",
       "    </tr>\n",
       "    <tr>\n",
       "      <th>2</th>\n",
       "      <td>333499.20</td>\n",
       "      <td>7395566.79</td>\n",
       "      <td>735.25</td>\n",
       "      <td>15</td>\n",
       "      <td>1</td>\n",
       "      <td>1</td>\n",
       "      <td>0</td>\n",
       "      <td>0</td>\n",
       "      <td>6</td>\n",
       "      <td>-14.0</td>\n",
       "      <td>17</td>\n",
       "      <td>6</td>\n",
       "      <td>356569.366105</td>\n",
       "    </tr>\n",
       "    <tr>\n",
       "      <th>3</th>\n",
       "      <td>333499.15</td>\n",
       "      <td>7395568.21</td>\n",
       "      <td>735.37</td>\n",
       "      <td>14</td>\n",
       "      <td>1</td>\n",
       "      <td>1</td>\n",
       "      <td>0</td>\n",
       "      <td>0</td>\n",
       "      <td>6</td>\n",
       "      <td>-14.0</td>\n",
       "      <td>17</td>\n",
       "      <td>6</td>\n",
       "      <td>356569.366129</td>\n",
       "    </tr>\n",
       "    <tr>\n",
       "      <th>4</th>\n",
       "      <td>333499.10</td>\n",
       "      <td>7395569.68</td>\n",
       "      <td>735.30</td>\n",
       "      <td>17</td>\n",
       "      <td>1</td>\n",
       "      <td>1</td>\n",
       "      <td>0</td>\n",
       "      <td>0</td>\n",
       "      <td>6</td>\n",
       "      <td>-15.0</td>\n",
       "      <td>17</td>\n",
       "      <td>6</td>\n",
       "      <td>356569.366153</td>\n",
       "    </tr>\n",
       "    <tr>\n",
       "      <th>...</th>\n",
       "      <td>...</td>\n",
       "      <td>...</td>\n",
       "      <td>...</td>\n",
       "      <td>...</td>\n",
       "      <td>...</td>\n",
       "      <td>...</td>\n",
       "      <td>...</td>\n",
       "      <td>...</td>\n",
       "      <td>...</td>\n",
       "      <td>...</td>\n",
       "      <td>...</td>\n",
       "      <td>...</td>\n",
       "      <td>...</td>\n",
       "    </tr>\n",
       "    <tr>\n",
       "      <th>471957</th>\n",
       "      <td>333523.36</td>\n",
       "      <td>7395570.78</td>\n",
       "      <td>735.52</td>\n",
       "      <td>2</td>\n",
       "      <td>1</td>\n",
       "      <td>2</td>\n",
       "      <td>1</td>\n",
       "      <td>0</td>\n",
       "      <td>19</td>\n",
       "      <td>13.0</td>\n",
       "      <td>40</td>\n",
       "      <td>6</td>\n",
       "      <td>363044.324524</td>\n",
       "    </tr>\n",
       "    <tr>\n",
       "      <th>471958</th>\n",
       "      <td>333521.03</td>\n",
       "      <td>7395570.91</td>\n",
       "      <td>731.07</td>\n",
       "      <td>5</td>\n",
       "      <td>1</td>\n",
       "      <td>1</td>\n",
       "      <td>1</td>\n",
       "      <td>0</td>\n",
       "      <td>6</td>\n",
       "      <td>13.0</td>\n",
       "      <td>40</td>\n",
       "      <td>6</td>\n",
       "      <td>363044.342732</td>\n",
       "    </tr>\n",
       "    <tr>\n",
       "      <th>471959</th>\n",
       "      <td>333520.96</td>\n",
       "      <td>7395571.00</td>\n",
       "      <td>732.50</td>\n",
       "      <td>8</td>\n",
       "      <td>1</td>\n",
       "      <td>1</td>\n",
       "      <td>1</td>\n",
       "      <td>0</td>\n",
       "      <td>6</td>\n",
       "      <td>13.0</td>\n",
       "      <td>40</td>\n",
       "      <td>6</td>\n",
       "      <td>363044.342740</td>\n",
       "    </tr>\n",
       "    <tr>\n",
       "      <th>471960</th>\n",
       "      <td>333521.09</td>\n",
       "      <td>7395571.84</td>\n",
       "      <td>731.83</td>\n",
       "      <td>18</td>\n",
       "      <td>1</td>\n",
       "      <td>1</td>\n",
       "      <td>1</td>\n",
       "      <td>0</td>\n",
       "      <td>6</td>\n",
       "      <td>13.0</td>\n",
       "      <td>40</td>\n",
       "      <td>6</td>\n",
       "      <td>363044.360909</td>\n",
       "    </tr>\n",
       "    <tr>\n",
       "      <th>471961</th>\n",
       "      <td>333520.95</td>\n",
       "      <td>7395571.91</td>\n",
       "      <td>729.86</td>\n",
       "      <td>18</td>\n",
       "      <td>1</td>\n",
       "      <td>1</td>\n",
       "      <td>0</td>\n",
       "      <td>0</td>\n",
       "      <td>6</td>\n",
       "      <td>13.0</td>\n",
       "      <td>40</td>\n",
       "      <td>6</td>\n",
       "      <td>363044.364125</td>\n",
       "    </tr>\n",
       "  </tbody>\n",
       "</table>\n",
       "<p>471962 rows × 13 columns</p>\n",
       "</div>"
      ],
      "text/plain": [
       "                X           Y       Z  Intensity  ReturnNumber  \\\n",
       "0       333499.29  7395564.35  735.34         18             1   \n",
       "1       333499.23  7395565.79  735.41         18             1   \n",
       "2       333499.20  7395566.79  735.25         15             1   \n",
       "3       333499.15  7395568.21  735.37         14             1   \n",
       "4       333499.10  7395569.68  735.30         17             1   \n",
       "...           ...         ...     ...        ...           ...   \n",
       "471957  333523.36  7395570.78  735.52          2             1   \n",
       "471958  333521.03  7395570.91  731.07          5             1   \n",
       "471959  333520.96  7395571.00  732.50          8             1   \n",
       "471960  333521.09  7395571.84  731.83         18             1   \n",
       "471961  333520.95  7395571.91  729.86         18             1   \n",
       "\n",
       "        NumberOfReturns  ScanDirectionFlag  EdgeOfFlightLine  Classification  \\\n",
       "0                     1                  0                 0               6   \n",
       "1                     1                  0                 0               6   \n",
       "2                     1                  0                 0               6   \n",
       "3                     1                  0                 0               6   \n",
       "4                     1                  0                 0               6   \n",
       "...                 ...                ...               ...             ...   \n",
       "471957                2                  1                 0              19   \n",
       "471958                1                  1                 0               6   \n",
       "471959                1                  1                 0               6   \n",
       "471960                1                  1                 0               6   \n",
       "471961                1                  0                 0               6   \n",
       "\n",
       "        ScanAngleRank  UserData  PointSourceId        GpsTime  \n",
       "0               -14.0        17              6  356569.366065  \n",
       "1               -14.0        17              6  356569.366090  \n",
       "2               -14.0        17              6  356569.366105  \n",
       "3               -14.0        17              6  356569.366129  \n",
       "4               -15.0        17              6  356569.366153  \n",
       "...               ...       ...            ...            ...  \n",
       "471957           13.0        40              6  363044.324524  \n",
       "471958           13.0        40              6  363044.342732  \n",
       "471959           13.0        40              6  363044.342740  \n",
       "471960           13.0        40              6  363044.360909  \n",
       "471961           13.0        40              6  363044.364125  \n",
       "\n",
       "[471962 rows x 13 columns]"
      ]
     },
     "execution_count": 10,
     "metadata": {},
     "output_type": "execute_result"
    }
   ],
   "source": [
    "df"
   ]
  },
  {
   "cell_type": "code",
   "execution_count": 11,
   "metadata": {},
   "outputs": [
    {
     "data": {
      "text/html": [
       "<pre>✔️ 5.99 ms (2021-05-11T17:18:55/2021-05-11T17:18:55)</pre>"
      ],
      "text/plain": [
       "<IPython.core.display.HTML object>"
      ]
     },
     "metadata": {},
     "output_type": "display_data"
    },
    {
     "data": {
      "text/plain": [
       "array([ 6, 20,  2, 19,  5,  9], dtype=uint8)"
      ]
     },
     "execution_count": 11,
     "metadata": {},
     "output_type": "execute_result"
    }
   ],
   "source": [
    "df.Classification.unique()"
   ]
  },
  {
   "cell_type": "markdown",
   "metadata": {},
   "source": [
    "## Calculando o Azimute entre dois pontos\n",
    "\n",
    "Suponhamos que fossemos calcular o azimute para cada ponto poderíamos fazer utilizando a seguinte função"
   ]
  },
  {
   "cell_type": "code",
   "execution_count": 12,
   "metadata": {},
   "outputs": [
    {
     "data": {
      "text/html": [
       "<pre>✔️ 407 µs (2021-05-11T17:18:55/2021-05-11T17:18:55)</pre>"
      ],
      "text/plain": [
       "<IPython.core.display.HTML object>"
      ]
     },
     "metadata": {},
     "output_type": "display_data"
    }
   ],
   "source": [
    "import math\n",
    "\n",
    "def Az(x1,y1,x2,y2):\n",
    "    deg = math.degrees(math.atan2((x2 - x1),(y2 - y1)))\n",
    "    if (deg < 0):\n",
    "        deg += 360.0\n",
    "    return deg"
   ]
  },
  {
   "cell_type": "code",
   "execution_count": 13,
   "metadata": {},
   "outputs": [
    {
     "data": {
      "text/html": [
       "<pre>✔️ 1.97 ms (2021-05-11T17:18:55/2021-05-11T17:18:55)</pre>"
      ],
      "text/plain": [
       "<IPython.core.display.HTML object>"
      ]
     },
     "metadata": {},
     "output_type": "display_data"
    },
    {
     "data": {
      "text/plain": [
       "180.0"
      ]
     },
     "execution_count": 13,
     "metadata": {},
     "output_type": "execute_result"
    }
   ],
   "source": [
    "Az(1, 1, 1, 0)"
   ]
  },
  {
   "cell_type": "markdown",
   "metadata": {},
   "source": [
    "## Calculando a Altura ou Elevação do ponto em relação ao Zenite\n",
    "\n",
    "Da mesma forma poderíamos calcular a Altura/Elevação para cada um dos pontos usando a seguinte função"
   ]
  },
  {
   "cell_type": "code",
   "execution_count": 14,
   "metadata": {},
   "outputs": [
    {
     "data": {
      "text/html": [
       "<pre>✔️ 51.9 ms (2021-05-11T17:18:57/2021-05-11T17:18:57)</pre>"
      ],
      "text/plain": [
       "<IPython.core.display.HTML object>"
      ]
     },
     "metadata": {},
     "output_type": "display_data"
    }
   ],
   "source": [
    "from scipy.spatial import distance"
   ]
  },
  {
   "cell_type": "code",
   "execution_count": 15,
   "metadata": {},
   "outputs": [
    {
     "data": {
      "text/html": [
       "<pre>✔️ 2.53 ms (2021-05-11T17:18:57/2021-05-11T17:18:57)</pre>"
      ],
      "text/plain": [
       "<IPython.core.display.HTML object>"
      ]
     },
     "metadata": {},
     "output_type": "display_data"
    },
    {
     "data": {
      "text/plain": [
       "35.264389682754654"
      ]
     },
     "execution_count": 15,
     "metadata": {},
     "output_type": "execute_result"
    }
   ],
   "source": [
    "## Calculando altura\n",
    "def altura_graus(x1, y1, z1, x2, y2, z2):\n",
    "    altura = z2 - z1\n",
    "    distancia = distance.euclidean([x1, y1], [x2, y2])\n",
    "    return math.degrees(math.atan2(altura, distancia))\n",
    "\n",
    "altura_graus(0,0,0,1,1,1)"
   ]
  },
  {
   "cell_type": "markdown",
   "metadata": {},
   "source": [
    "## Gerando pontos 1000 pontos x,y,z \n",
    "\n",
    "Apesar de termos diversas dimensões disponíveis para os calculos vamos nos ater em X, Y e Z e na Classificação para poder agrupar o que é Ground e o Que é edificação"
   ]
  },
  {
   "cell_type": "code",
   "execution_count": 17,
   "metadata": {},
   "outputs": [
    {
     "data": {
      "text/html": [
       "<pre>✔️ 30 ms (2021-05-11T17:20:19/2021-05-11T17:20:19)</pre>"
      ],
      "text/plain": [
       "<IPython.core.display.HTML object>"
      ]
     },
     "metadata": {},
     "output_type": "display_data"
    }
   ],
   "source": [
    "df_pts = pd.DataFrame.from_records(df[(df.Classification == 2) | (df.Classification == 6)][['X', 'Y', 'Z']].head(1000))"
   ]
  },
  {
   "cell_type": "code",
   "execution_count": 18,
   "metadata": {},
   "outputs": [
    {
     "data": {
      "text/html": [
       "<pre>✔️ 22.1 ms (2021-05-11T17:20:27/2021-05-11T17:20:27)</pre>"
      ],
      "text/plain": [
       "<IPython.core.display.HTML object>"
      ]
     },
     "metadata": {},
     "output_type": "display_data"
    },
    {
     "data": {
      "text/html": [
       "<div>\n",
       "<style scoped>\n",
       "    .dataframe tbody tr th:only-of-type {\n",
       "        vertical-align: middle;\n",
       "    }\n",
       "\n",
       "    .dataframe tbody tr th {\n",
       "        vertical-align: top;\n",
       "    }\n",
       "\n",
       "    .dataframe thead th {\n",
       "        text-align: right;\n",
       "    }\n",
       "</style>\n",
       "<table border=\"1\" class=\"dataframe\">\n",
       "  <thead>\n",
       "    <tr style=\"text-align: right;\">\n",
       "      <th></th>\n",
       "      <th>X</th>\n",
       "      <th>Y</th>\n",
       "      <th>Z</th>\n",
       "    </tr>\n",
       "  </thead>\n",
       "  <tbody>\n",
       "    <tr>\n",
       "      <th>0</th>\n",
       "      <td>333499.29</td>\n",
       "      <td>7395564.35</td>\n",
       "      <td>735.34</td>\n",
       "    </tr>\n",
       "    <tr>\n",
       "      <th>1</th>\n",
       "      <td>333499.23</td>\n",
       "      <td>7395565.79</td>\n",
       "      <td>735.41</td>\n",
       "    </tr>\n",
       "    <tr>\n",
       "      <th>2</th>\n",
       "      <td>333499.20</td>\n",
       "      <td>7395566.79</td>\n",
       "      <td>735.25</td>\n",
       "    </tr>\n",
       "    <tr>\n",
       "      <th>3</th>\n",
       "      <td>333499.15</td>\n",
       "      <td>7395568.21</td>\n",
       "      <td>735.37</td>\n",
       "    </tr>\n",
       "    <tr>\n",
       "      <th>4</th>\n",
       "      <td>333499.10</td>\n",
       "      <td>7395569.68</td>\n",
       "      <td>735.30</td>\n",
       "    </tr>\n",
       "    <tr>\n",
       "      <th>...</th>\n",
       "      <td>...</td>\n",
       "      <td>...</td>\n",
       "      <td>...</td>\n",
       "    </tr>\n",
       "    <tr>\n",
       "      <th>995</th>\n",
       "      <td>333478.98</td>\n",
       "      <td>7395552.47</td>\n",
       "      <td>724.99</td>\n",
       "    </tr>\n",
       "    <tr>\n",
       "      <th>996</th>\n",
       "      <td>333478.48</td>\n",
       "      <td>7395558.73</td>\n",
       "      <td>732.93</td>\n",
       "    </tr>\n",
       "    <tr>\n",
       "      <th>997</th>\n",
       "      <td>333478.44</td>\n",
       "      <td>7395558.95</td>\n",
       "      <td>733.96</td>\n",
       "    </tr>\n",
       "    <tr>\n",
       "      <th>998</th>\n",
       "      <td>333478.21</td>\n",
       "      <td>7395558.71</td>\n",
       "      <td>740.46</td>\n",
       "    </tr>\n",
       "    <tr>\n",
       "      <th>999</th>\n",
       "      <td>333478.11</td>\n",
       "      <td>7395559.02</td>\n",
       "      <td>742.96</td>\n",
       "    </tr>\n",
       "  </tbody>\n",
       "</table>\n",
       "<p>1000 rows × 3 columns</p>\n",
       "</div>"
      ],
      "text/plain": [
       "             X           Y       Z\n",
       "0    333499.29  7395564.35  735.34\n",
       "1    333499.23  7395565.79  735.41\n",
       "2    333499.20  7395566.79  735.25\n",
       "3    333499.15  7395568.21  735.37\n",
       "4    333499.10  7395569.68  735.30\n",
       "..         ...         ...     ...\n",
       "995  333478.98  7395552.47  724.99\n",
       "996  333478.48  7395558.73  732.93\n",
       "997  333478.44  7395558.95  733.96\n",
       "998  333478.21  7395558.71  740.46\n",
       "999  333478.11  7395559.02  742.96\n",
       "\n",
       "[1000 rows x 3 columns]"
      ]
     },
     "execution_count": 18,
     "metadata": {},
     "output_type": "execute_result"
    }
   ],
   "source": [
    "df_pts"
   ]
  },
  {
   "cell_type": "markdown",
   "metadata": {},
   "source": [
    "## Calculando o Azimute com Matriz de pontos\n",
    "\n",
    "Portanto agora que temos os pontos de origem e os pontos alvo podemos calcular o Azimute. Porém se fizermos isso ponto a ponto não vamos usar os recursos computacionais de vetorização que promovem grande eficiência computacional.\n",
    "Ainda não será exatamente essa função que vamos utilzar em produção, mas para fins didáticos e de aprendizado vamos mante-las."
   ]
  },
  {
   "cell_type": "code",
   "execution_count": 19,
   "metadata": {},
   "outputs": [
    {
     "data": {
      "text/html": [
       "<pre>✔️ 484 µs (2021-05-11T17:21:16/2021-05-11T17:21:16)</pre>"
      ],
      "text/plain": [
       "<IPython.core.display.HTML object>"
      ]
     },
     "metadata": {},
     "output_type": "display_data"
    }
   ],
   "source": [
    "import numpy as np\n",
    "\n",
    "def np_az(nd_building, nd_ground):\n",
    "    delta_x = nd_building[:, 0] - nd_ground[0, 0]\n",
    "    delta_y = nd_building[:, 1] - nd_ground[0, 1]\n",
    "    degree = np.arctan2(delta_x, delta_y) * 180 / np.pi\n",
    "    degree[np.less(degree, 0)] += 360.0\n",
    "    return degree"
   ]
  },
  {
   "cell_type": "code",
   "execution_count": 20,
   "metadata": {},
   "outputs": [
    {
     "data": {
      "text/html": [
       "<pre>✔️ 24 ms (2021-05-11T17:21:22/2021-05-11T17:21:22)</pre>"
      ],
      "text/plain": [
       "<IPython.core.display.HTML object>"
      ]
     },
     "metadata": {},
     "output_type": "display_data"
    }
   ],
   "source": [
    "## Gerando dados de teste\n",
    "test_ground = np.array([[0.,0.,0.], [1.,1.,1.]])\n",
    "test_building = np.array([[0.,2.,2.], [2.,0,2.], [0.,-2.,2.], [-2.,0,18787.], [-2.,9899.,0.1]])"
   ]
  },
  {
   "cell_type": "code",
   "execution_count": 21,
   "metadata": {},
   "outputs": [
    {
     "data": {
      "text/html": [
       "<pre>✔️ 9.23 ms (2021-05-11T17:21:22/2021-05-11T17:21:22)</pre>"
      ],
      "text/plain": [
       "<IPython.core.display.HTML object>"
      ]
     },
     "metadata": {},
     "output_type": "display_data"
    },
    {
     "data": {
      "text/plain": [
       "array([  0.        ,  90.        , 180.        , 270.        ,\n",
       "       359.98842393])"
      ]
     },
     "execution_count": 21,
     "metadata": {},
     "output_type": "execute_result"
    }
   ],
   "source": [
    "az = np_az(test_building, test_ground)\n",
    "az"
   ]
  },
  {
   "cell_type": "markdown",
   "metadata": {},
   "source": [
    "## Calculando a altura/elevação com matriz de pontos\n",
    "\n",
    "Da mesma forma vamos fazer com a altura/elevação"
   ]
  },
  {
   "cell_type": "code",
   "execution_count": 22,
   "metadata": {},
   "outputs": [
    {
     "data": {
      "text/html": [
       "<pre>✔️ 4.03 ms (2021-05-11T17:21:32/2021-05-11T17:21:32)</pre>"
      ],
      "text/plain": [
       "<IPython.core.display.HTML object>"
      ]
     },
     "metadata": {},
     "output_type": "display_data"
    }
   ],
   "source": [
    "## Calculando altura/elevação\n",
    "\n",
    "from scipy.spatial import distance\n",
    "\n",
    "def np_altura(nd_building, nd_ground):\n",
    "    altura = nd_building[:, 2] - nd_ground[0, 2]\n",
    "    distancia = np.sqrt(np.sum((nd_building[:, [0,1]] - nd_ground[0, [0,1]])**2, axis=1))\n",
    "    return np.arctan2((nd_building[:, 2] - nd_ground[0, 2]), distancia) * 180 / np.pi"
   ]
  },
  {
   "cell_type": "code",
   "execution_count": 24,
   "metadata": {},
   "outputs": [
    {
     "data": {
      "text/html": [
       "<pre>✔️ 2.32 ms (2021-05-11T17:03:32/2021-05-11T17:03:32)</pre>"
      ],
      "text/plain": [
       "<IPython.core.display.HTML object>"
      ]
     },
     "metadata": {},
     "output_type": "display_data"
    },
    {
     "data": {
      "text/plain": [
       "array([4.50000000e+01, 4.50000000e+01, 4.50000000e+01, 8.99939005e+01,\n",
       "       5.78803701e-04])"
      ]
     },
     "execution_count": 24,
     "metadata": {},
     "output_type": "execute_result"
    }
   ],
   "source": [
    "altura = np_altura(test_building, test_ground)\n",
    "altura"
   ]
  },
  {
   "cell_type": "code",
   "execution_count": 25,
   "metadata": {},
   "outputs": [
    {
     "data": {
      "text/html": [
       "<pre>✔️ 2.7 ms (2021-05-11T17:03:32/2021-05-11T17:03:32)</pre>"
      ],
      "text/plain": [
       "<IPython.core.display.HTML object>"
      ]
     },
     "metadata": {},
     "output_type": "display_data"
    },
    {
     "data": {
      "text/plain": [
       "(5, 2)"
      ]
     },
     "execution_count": 25,
     "metadata": {},
     "output_type": "execute_result"
    }
   ],
   "source": [
    "nd_coordenadas = np.array([az, altura])\n",
    "nd_coordenadas.transpose().shape"
   ]
  },
  {
   "cell_type": "markdown",
   "metadata": {},
   "source": [
    "## Utilizando os dados de Building\n",
    "\n",
    "As funcões de calculo de Azimute e Altura/Elevação produzidas até agora aqui nesse NoteBook precisam ser iteradas sobre cada linha de ponto de ground. Portanto precisamos refatorar essas funções para trabalhar e iterar sobre cada um dos pontos utilizando o potencial computacional do NumPy, ou seja, trabalhando com vetorização."
   ]
  },
  {
   "cell_type": "code",
   "execution_count": 26,
   "metadata": {},
   "outputs": [
    {
     "data": {
      "text/html": [
       "<pre>✔️ 330 µs (2021-05-11T17:03:33/2021-05-11T17:03:33)</pre>"
      ],
      "text/plain": [
       "<IPython.core.display.HTML object>"
      ]
     },
     "metadata": {},
     "output_type": "display_data"
    }
   ],
   "source": [
    "nd_building = df_building.to_numpy()\n",
    "nd_ground = df_ground.to_numpy()"
   ]
  },
  {
   "cell_type": "code",
   "execution_count": 27,
   "metadata": {},
   "outputs": [
    {
     "data": {
      "text/html": [
       "<pre>✔️ 1.79 ms (2021-05-11T17:03:33/2021-05-11T17:03:33)</pre>"
      ],
      "text/plain": [
       "<IPython.core.display.HTML object>"
      ]
     },
     "metadata": {},
     "output_type": "display_data"
    },
    {
     "data": {
      "text/plain": [
       "300792"
      ]
     },
     "execution_count": 27,
     "metadata": {},
     "output_type": "execute_result"
    }
   ],
   "source": [
    "len(nd_building)"
   ]
  },
  {
   "cell_type": "code",
   "execution_count": 28,
   "metadata": {},
   "outputs": [
    {
     "data": {
      "text/html": [
       "<pre>✔️ 869 µs (2021-05-11T17:03:33/2021-05-11T17:03:33)</pre>"
      ],
      "text/plain": [
       "<IPython.core.display.HTML object>"
      ]
     },
     "metadata": {},
     "output_type": "display_data"
    }
   ],
   "source": [
    "#def calc_svf(nd_building, nd_ground):\n",
    "#    az = np_az(nd_building, nd_ground)\n",
    "#    altura = np_altura(nd_building, nd_ground)\n",
    "#    coordenadas = np.array([az, altura])\n",
    "#    return coordenadas.transpose()"
   ]
  },
  {
   "cell_type": "code",
   "execution_count": 29,
   "metadata": {},
   "outputs": [
    {
     "data": {
      "text/html": [
       "<pre>✔️ 478 µs (2021-05-11T17:03:33/2021-05-11T17:03:33)</pre>"
      ],
      "text/plain": [
       "<IPython.core.display.HTML object>"
      ]
     },
     "metadata": {},
     "output_type": "display_data"
    }
   ],
   "source": [
    "#calc_svf(nd_building, nd_ground)"
   ]
  },
  {
   "cell_type": "markdown",
   "metadata": {},
   "source": [
    "### Refatorando as funções de Azimute e Altura para trabalhar com o vetorização de Ground e Building\n",
    "\n",
    "Para fins computacionais e menos iterações de laço que tendem a não ser tão eficientes, vamos tentar usar os recursos de vetorização e evitar o laço repetitivo"
   ]
  },
  {
   "cell_type": "code",
   "execution_count": 30,
   "metadata": {},
   "outputs": [
    {
     "data": {
      "text/html": [
       "<pre>✔️ 237 µs (2021-05-11T17:03:33/2021-05-11T17:03:33)</pre>"
      ],
      "text/plain": [
       "<IPython.core.display.HTML object>"
      ]
     },
     "metadata": {},
     "output_type": "display_data"
    }
   ],
   "source": [
    "# def np_coordenadas(nd_building, nd_ground):\n",
    "#     n2d_ground_z = nd_ground[:, 2].reshape(-1, 1)\n",
    "#     n2dt_building_z = nd_building[:, 2].reshape(-1, 1).transpose()\n",
    "    \n",
    "#     nd_altura = np.subtract(n2dt_building_z, n2d_ground_z)\n",
    "    \n",
    "#     n2d_ground_x = nd_ground[:, 0].reshape(-1, 1)\n",
    "#     n2dt_building_x = nd_building[:, 0].reshape(-1, 1).transpose()\n",
    "#     nd_delta_x = np.subtract(n2dt_building_x, n2d_ground_x)\n",
    "    \n",
    "#     n2d_ground_y = nd_ground[:, 1].reshape(-1, 1)\n",
    "#     n2dt_building_y = nd_building[:, 1].reshape(-1, 1).transpose()\n",
    "#     nd_delta_y = np.subtract(n2dt_building_y, n2d_ground_y)\n",
    "    \n",
    "#     nd_distancia = np.hypot(nd_delta_x, nd_delta_y)\n",
    "    \n",
    "#     nd_elevacao = np.degrees(np.arctan2(nd_altura, nd_distancia))\n",
    "#     #nd_elevacao[np.less(nd_elevacao, 0.)] += 360.0\n",
    "    \n",
    "#     nd_azimute = np.arctan2(nd_delta_x, nd_delta_y) * 180 / np.pi\n",
    "#     nd_azimute[np.less(nd_azimute, 0.)] += 360.0\n",
    "    \n",
    "#     return nd_azimute, nd_elevacao"
   ]
  },
  {
   "cell_type": "code",
   "execution_count": 31,
   "metadata": {},
   "outputs": [
    {
     "data": {
      "text/html": [
       "<pre>✔️ 597 µs (2021-05-11T17:03:33/2021-05-11T17:03:33)</pre>"
      ],
      "text/plain": [
       "<IPython.core.display.HTML object>"
      ]
     },
     "metadata": {},
     "output_type": "display_data"
    }
   ],
   "source": [
    "## Gerando dados de teste\n",
    "test_ground = np.array([[0.,0.,0.], [-1.,-1.,-1.], [1.,1.,1.]], dtype='float32')\n",
    "test_building = np.array([[0.,2.,2.], [2.,0,2.], [0.,-2.,2.], [-2.,0,18787.], [-2.,9899.,0.1]], dtype='float32')"
   ]
  },
  {
   "cell_type": "code",
   "execution_count": 32,
   "metadata": {},
   "outputs": [
    {
     "data": {
      "text/html": [
       "<pre>✔️ 505 µs (2021-05-11T17:03:33/2021-05-11T17:03:33)</pre>"
      ],
      "text/plain": [
       "<IPython.core.display.HTML object>"
      ]
     },
     "metadata": {},
     "output_type": "display_data"
    }
   ],
   "source": [
    "# azimute, elevacao = \\\n",
    "# np_coordenadas(nd_building, nd_ground)\n",
    "# print(\"Distância: \")\n",
    "# print(elevacao.shape)\n",
    "# print(elevacao.size)\n",
    "# print(\"Elevacao: \")\n",
    "# print(azimute.shape)\n",
    "# print(azimute.size)"
   ]
  },
  {
   "cell_type": "code",
   "execution_count": null,
   "metadata": {},
   "outputs": [],
   "source": []
  },
  {
   "cell_type": "code",
   "execution_count": 33,
   "metadata": {},
   "outputs": [
    {
     "data": {
      "text/html": [
       "<pre>✔️ 202 µs (2021-05-11T17:03:34/2021-05-11T17:03:34)</pre>"
      ],
      "text/plain": [
       "<IPython.core.display.HTML object>"
      ]
     },
     "metadata": {},
     "output_type": "display_data"
    }
   ],
   "source": [
    "# nd_coordenadas = np.stack((azimute, elevacao), axis=1)"
   ]
  },
  {
   "cell_type": "code",
   "execution_count": 34,
   "metadata": {},
   "outputs": [
    {
     "data": {
      "text/html": [
       "<pre>✔️ 700 µs (2021-05-11T17:03:34/2021-05-11T17:03:34)</pre>"
      ],
      "text/plain": [
       "<IPython.core.display.HTML object>"
      ]
     },
     "metadata": {},
     "output_type": "display_data"
    }
   ],
   "source": [
    "# nd_coordenadas"
   ]
  },
  {
   "cell_type": "markdown",
   "metadata": {},
   "source": [
    "### Menos linhas, mais legibilidade, talvez mais eficiência\n",
    "\n",
    "Podemos ainda refatorar o código acima e reduzir algumas linhas de código, trabalhando desde o começo com 3 dimensões. Isso ainda pode acarretar alguma melhora na performance computacional mas não é a intenção por enquanto."
   ]
  },
  {
   "cell_type": "code",
   "execution_count": 36,
   "metadata": {},
   "outputs": [
    {
     "data": {
      "text/html": [
       "<pre>✔️ 2.82 ms (2021-05-11T17:03:51/2021-05-11T17:03:51)</pre>"
      ],
      "text/plain": [
       "<IPython.core.display.HTML object>"
      ]
     },
     "metadata": {},
     "output_type": "display_data"
    }
   ],
   "source": [
    "def np_coordenadas(nd_building, nd_ground):\n",
    "    n2d_ground = nd_ground[:, :].reshape(-1, 3).astype('float32')\n",
    "    n2d_ground = n2d_ground.reshape(-1, 3, 1)\n",
    "\n",
    "    n2dt_building = nd_building[:, :].reshape(-1, 3).astype('float32')\n",
    "    n2dt_building = n2dt_building.reshape(-1, 3, 1).transpose()\n",
    "\n",
    "    nd_delta = np.subtract(n2dt_building, n2d_ground)\n",
    "    \n",
    "    nd_altura = nd_delta[:,2,:]\n",
    "    \n",
    "    nd_distancia = np.hypot(nd_delta[:,0,:], nd_delta[:,1,:])\n",
    "    \n",
    "    nd_elevacao = np.degrees(np.arctan2(nd_altura, nd_distancia))\n",
    "    nd_elevacao[np.less(nd_elevacao, 0.)] += 360.0\n",
    "    \n",
    "    nd_azimute = np.arctan2(nd_delta[:,1,:], nd_delta[:,0,:]) * 180 / np.pi\n",
    "    nd_azimute[np.less(nd_azimute, 0.)] += 360.0\n",
    "    \n",
    "    return nd_azimute, nd_elevacao"
   ]
  },
  {
   "cell_type": "code",
   "execution_count": 45,
   "metadata": {},
   "outputs": [
    {
     "data": {
      "text/html": [
       "<pre>✔️ 4.78 ms (2021-05-11T17:07:51/2021-05-11T17:07:51)</pre>"
      ],
      "text/plain": [
       "<IPython.core.display.HTML object>"
      ]
     },
     "metadata": {},
     "output_type": "display_data"
    }
   ],
   "source": [
    "n2d_ground = nd_ground[:, :].reshape(-1, 3).astype('float32')\n",
    "n2d_ground = n2d_ground.reshape(-1, 3, 1)"
   ]
  },
  {
   "cell_type": "code",
   "execution_count": 38,
   "metadata": {},
   "outputs": [
    {
     "data": {
      "text/html": [
       "<pre>✔️ 7.69 ms (2021-05-11T17:04:08/2021-05-11T17:04:08)</pre>"
      ],
      "text/plain": [
       "<IPython.core.display.HTML object>"
      ]
     },
     "metadata": {},
     "output_type": "display_data"
    }
   ],
   "source": [
    "n2dt_building = nd_building[:, :].reshape(-1, 3).astype('float32')\n",
    "n2dt_building = n2dt_building.reshape(-1, 3, 1).transpose()"
   ]
  },
  {
   "cell_type": "code",
   "execution_count": 39,
   "metadata": {},
   "outputs": [
    {
     "data": {
      "text/html": [
       "<pre>✔️ 469 ms (2021-05-11T17:04:15/2021-05-11T17:04:16)</pre>"
      ],
      "text/plain": [
       "<IPython.core.display.HTML object>"
      ]
     },
     "metadata": {},
     "output_type": "display_data"
    }
   ],
   "source": [
    "nd_delta = np.subtract(n2dt_building, n2d_ground)"
   ]
  },
  {
   "cell_type": "code",
   "execution_count": 47,
   "metadata": {},
   "outputs": [
    {
     "data": {
      "text/html": [
       "<pre>✔️ 2.07 ms (2021-05-11T17:12:57/2021-05-11T17:12:57)</pre>"
      ],
      "text/plain": [
       "<IPython.core.display.HTML object>"
      ]
     },
     "metadata": {},
     "output_type": "display_data"
    }
   ],
   "source": [
    "nd_altura = nd_delta[:,2,:]"
   ]
  },
  {
   "cell_type": "code",
   "execution_count": 51,
   "metadata": {},
   "outputs": [
    {
     "data": {
      "text/html": [
       "<pre>✔️ 1.63 s (2021-05-11T17:13:36/2021-05-11T17:13:38)</pre>"
      ],
      "text/plain": [
       "<IPython.core.display.HTML object>"
      ]
     },
     "metadata": {},
     "output_type": "display_data"
    }
   ],
   "source": [
    "nd_distancia = np.hypot(nd_delta[:,0,:], nd_delta[:,1,:])"
   ]
  },
  {
   "cell_type": "code",
   "execution_count": 54,
   "metadata": {},
   "outputs": [
    {
     "data": {
      "text/html": [
       "<pre>✔️ 4.54 s (2021-05-11T17:14:49/2021-05-11T17:14:54)</pre>"
      ],
      "text/plain": [
       "<IPython.core.display.HTML object>"
      ]
     },
     "metadata": {},
     "output_type": "display_data"
    }
   ],
   "source": [
    "nd_elevacao = np.degrees(np.arctan2(nd_altura, nd_distancia))\n",
    "nd_elevacao[np.less(nd_elevacao, 0.)] += 360.0"
   ]
  },
  {
   "cell_type": "code",
   "execution_count": 56,
   "metadata": {},
   "outputs": [
    {
     "data": {
      "text/html": [
       "<pre>✔️ 6.64 ms (2021-05-11T17:15:15/2021-05-11T17:15:15)</pre>"
      ],
      "text/plain": [
       "<IPython.core.display.HTML object>"
      ]
     },
     "metadata": {},
     "output_type": "display_data"
    },
    {
     "data": {
      "text/plain": [
       "(1000, 300792)"
      ]
     },
     "execution_count": 56,
     "metadata": {},
     "output_type": "execute_result"
    }
   ],
   "source": [
    "nd_elevacao.shape"
   ]
  },
  {
   "cell_type": "code",
   "execution_count": null,
   "metadata": {},
   "outputs": [
    {
     "data": {
      "text/html": [
       "<pre>⌛ 48.6 s (2021-05-11T16:59:15)</pre>"
      ],
      "text/plain": [
       "<IPython.core.display.HTML object>"
      ]
     },
     "metadata": {},
     "output_type": "display_data"
    }
   ],
   "source": [
    "azimute, elevacao = np_coordenadas(nd_building, nd_ground)\n",
    "print(\"Distância: \")\n",
    "print(elevacao.shape)\n",
    "print(elevacao.size)\n",
    "print(\"Elevacao: \")\n",
    "print(azimute.shape)\n",
    "print(azimute.size)"
   ]
  },
  {
   "cell_type": "code",
   "execution_count": null,
   "metadata": {},
   "outputs": [],
   "source": [
    "nd_ground.reshape(-1, 3, 1)"
   ]
  },
  {
   "cell_type": "code",
   "execution_count": null,
   "metadata": {},
   "outputs": [],
   "source": [
    "nd_coordenadas = np.stack((azimute, elevacao), axis=1)"
   ]
  },
  {
   "cell_type": "code",
   "execution_count": null,
   "metadata": {},
   "outputs": [],
   "source": [
    "nd_coordenadas"
   ]
  },
  {
   "cell_type": "markdown",
   "metadata": {},
   "source": [
    "## Calculando o SVF\n",
    "\n",
    "Agora para calcular o SVF vamos dividir a semi-esfera visível do céu em N fusos, definido pela variável`quantidade_de_fusos`.\n",
    "E cada um dos fusos terá uma área esférica visível definido pela função `proporcao_visivel_no fuso`.\n",
    "Depois de disponível essa função vamos iterar ela sobre todos os pontos de ground resultando no retorno da função `proporcao_visivel_total`."
   ]
  },
  {
   "cell_type": "code",
   "execution_count": null,
   "metadata": {},
   "outputs": [],
   "source": [
    "quantidade_de_fusos = 36"
   ]
  }
 ],
 "metadata": {
  "kernelspec": {
   "display_name": "Python 3",
   "language": "python",
   "name": "python3"
  },
  "language_info": {
   "codemirror_mode": {
    "name": "ipython",
    "version": 3
   },
   "file_extension": ".py",
   "mimetype": "text/x-python",
   "name": "python",
   "nbconvert_exporter": "python",
   "pygments_lexer": "ipython3",
   "version": "3.8.6"
  }
 },
 "nbformat": 4,
 "nbformat_minor": 4
}
