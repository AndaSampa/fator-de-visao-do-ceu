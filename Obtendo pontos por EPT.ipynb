{
 "cells": [
  {
   "cell_type": "code",
   "execution_count": 18,
   "metadata": {},
   "outputs": [
    {
     "data": {
      "text/html": [
       "<pre>✔️ 3.33 ms (2021-02-03T15:51:44/2021-02-03T15:51:44)</pre>"
      ],
      "text/plain": [
       "<IPython.core.display.HTML object>"
      ]
     },
     "metadata": {},
     "output_type": "display_data"
    }
   ],
   "source": [
    "import pdal\n",
    "import numpy as np\n",
    "import json"
   ]
  },
  {
   "cell_type": "code",
   "execution_count": 2,
   "metadata": {},
   "outputs": [
    {
     "data": {
      "text/html": [
       "<pre>✔️ 996 µs (2021-02-03T15:39:52/2021-02-03T15:39:52)</pre>"
      ],
      "text/plain": [
       "<IPython.core.display.HTML object>"
      ]
     },
     "metadata": {},
     "output_type": "display_data"
    }
   ],
   "source": [
    "%load_ext autotime"
   ]
  },
  {
   "cell_type": "code",
   "execution_count": 104,
   "metadata": {},
   "outputs": [
    {
     "data": {
      "text/html": [
       "<pre>✔️ 1.77 ms (2021-02-03T16:28:38/2021-02-03T16:28:38)</pre>"
      ],
      "text/plain": [
       "<IPython.core.display.HTML object>"
      ]
     },
     "metadata": {},
     "output_type": "display_data"
    }
   ],
   "source": [
    "from shapely.geometry import Point"
   ]
  },
  {
   "cell_type": "code",
   "execution_count": 105,
   "metadata": {},
   "outputs": [
    {
     "data": {
      "text/html": [
       "<pre>✔️ 1.27 ms (2021-02-03T16:29:02/2021-02-03T16:29:02)</pre>"
      ],
      "text/plain": [
       "<IPython.core.display.HTML object>"
      ]
     },
     "metadata": {},
     "output_type": "display_data"
    }
   ],
   "source": [
    "point = Point([332482.5494008816,7390674.007792895])"
   ]
  },
  {
   "cell_type": "code",
   "execution_count": 179,
   "metadata": {},
   "outputs": [
    {
     "data": {
      "text/html": [
       "<pre>✔️ 2.89 ms (2021-02-03T16:49:05/2021-02-03T16:49:05)</pre>"
      ],
      "text/plain": [
       "<IPython.core.display.HTML object>"
      ]
     },
     "metadata": {},
     "output_type": "display_data"
    },
    {
     "data": {
      "text/plain": [
       "array([0.104528, 1.045285, 5.226423, 10.452846, 52.264232, 104.528463,\n",
       "       1045.284633])"
      ]
     },
     "execution_count": 179,
     "metadata": {},
     "output_type": "execute_result"
    }
   ],
   "source": [
    "# Verificando a resolução mínima\n",
    "# O tamanho em ângulo do fuso e a distância ao ponto do observador são parâmetros\n",
    "\n",
    "qt_fases = 60\n",
    "angulo_fase = 360. / qt_fases\n",
    "angulo_fase\n",
    "\n",
    "distancia = np.array([1, 10, 50, 100, 500, 1000, 10000])\n",
    "\n",
    "np.set_printoptions(formatter={'float': lambda x: \"{0:0.6f}\".format(x)})\n",
    "np.sin(np.deg2rad(angulo_fase)) * distancia"
   ]
  },
  {
   "cell_type": "code",
   "execution_count": 197,
   "metadata": {},
   "outputs": [
    {
     "data": {
      "text/html": [
       "<pre>✔️ 1.29 ms (2021-02-03T17:05:33/2021-02-03T17:05:33)</pre>"
      ],
      "text/plain": [
       "<IPython.core.display.HTML object>"
      ]
     },
     "metadata": {},
     "output_type": "display_data"
    }
   ],
   "source": [
    "# resolucoes = [[1, 50], [4, 100], [10, 500], [40, 1000], [100, 10000]]\n",
    "resolucoes = [[2, 550], [4, 1000], [40, 5000], [100, 10000]]"
   ]
  },
  {
   "cell_type": "code",
   "execution_count": 206,
   "metadata": {},
   "outputs": [
    {
     "data": {
      "text/html": [
       "<pre>✔️ 1.02 ms (2021-02-03T17:13:13/2021-02-03T17:13:13)</pre>"
      ],
      "text/plain": [
       "<IPython.core.display.HTML object>"
      ]
     },
     "metadata": {},
     "output_type": "display_data"
    }
   ],
   "source": [
    "pts = []"
   ]
  },
  {
   "cell_type": "code",
   "execution_count": 210,
   "metadata": {},
   "outputs": [
    {
     "data": {
      "text/html": [
       "<pre>✔️ 37.5 s (2021-02-03T17:14:29/2021-02-03T17:15:06)</pre>"
      ],
      "text/plain": [
       "<IPython.core.display.HTML object>"
      ]
     },
     "metadata": {},
     "output_type": "display_data"
    },
    {
     "name": "stdout",
     "output_type": "stream",
     "text": [
      "Pipeline selecionou 4563006 pontos em 550m de distancia (4.809209040075934 pts/m2)\n",
      "Pipeline selecionou 3535766 pontos em 1000m de distancia (1.127279240431746 pts/m2)\n",
      "Pipeline selecionou 188108 pontos em 5000m de distancia (0.002398917160910898 pts/m2)\n",
      "Pipeline selecionou 146625 pontos em 10000m de distancia (0.000467472447634564 pts/m2)\n"
     ]
    }
   ],
   "source": [
    "for r, d in resolucoes:\n",
    "    poli = point.buffer(d)\n",
    "    bounds = poli.bounds\n",
    "    \n",
    "    pipeline =  {\"pipeline\": [{\n",
    "      \"type\": \"readers.ept\",\n",
    "      \"filename\": \"https://ept-m3dc-pmsp.s3-sa-east-1.amazonaws.com/ept.json\",\n",
    "      \"threads\": 8,\n",
    "      \"resolution\": r,\n",
    "      \"bounds\": str(([bounds[0], bounds[2]],[bounds[1], bounds[3]]))\n",
    "    }]}\n",
    "    \n",
    "    r = pdal.Pipeline(json.dumps(pipeline))\n",
    "    r.validate()\n",
    "    n_points = r.execute()\n",
    "    \n",
    "    if len(pts) > 0:\n",
    "        pts = np.concatenate([pts, r.arrays[0]], axis=0)\n",
    "    else:\n",
    "        pts = r.arrays[0]\n",
    "    \n",
    "    print(f'Pipeline selecionou {n_points} pontos em {d}m de distancia ({n_points/poli.area} pts/m2)')"
   ]
  },
  {
   "cell_type": "code",
   "execution_count": 214,
   "metadata": {},
   "outputs": [
    {
     "data": {
      "text/html": [
       "<pre>✔️ 74.3 ms (2021-02-03T17:17:56/2021-02-03T17:17:56)</pre>"
      ],
      "text/plain": [
       "<IPython.core.display.HTML object>"
      ]
     },
     "metadata": {},
     "output_type": "display_data"
    }
   ],
   "source": [
    "pt_edif = pts['Classification'] == 6\n",
    "pt_ground = pts['Classification'] == 2"
   ]
  },
  {
   "cell_type": "code",
   "execution_count": 217,
   "metadata": {},
   "outputs": [
    {
     "data": {
      "text/html": [
       "<pre>✔️ 11.3 ms (2021-02-03T17:18:30/2021-02-03T17:18:30)</pre>"
      ],
      "text/plain": [
       "<IPython.core.display.HTML object>"
      ]
     },
     "metadata": {},
     "output_type": "display_data"
    },
    {
     "data": {
      "text/plain": [
       "153546"
      ]
     },
     "execution_count": 217,
     "metadata": {},
     "output_type": "execute_result"
    }
   ],
   "source": [
    "len(pts[pt_ground])"
   ]
  },
  {
   "cell_type": "code",
   "execution_count": null,
   "metadata": {},
   "outputs": [],
   "source": []
  },
  {
   "cell_type": "code",
   "execution_count": null,
   "metadata": {},
   "outputs": [],
   "source": []
  }
 ],
 "metadata": {
  "kernelspec": {
   "display_name": "Python 3",
   "language": "python",
   "name": "python3"
  },
  "language_info": {
   "codemirror_mode": {
    "name": "ipython",
    "version": 3
   },
   "file_extension": ".py",
   "mimetype": "text/x-python",
   "name": "python",
   "nbconvert_exporter": "python",
   "pygments_lexer": "ipython3",
   "version": "3.8.6"
  }
 },
 "nbformat": 4,
 "nbformat_minor": 4
}
