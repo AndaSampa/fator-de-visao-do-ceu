{
 "cells": [
  {
   "cell_type": "markdown",
   "metadata": {},
   "source": [
    "## Parâmetros"
   ]
  },
  {
   "cell_type": "code",
   "execution_count": 1,
   "metadata": {},
   "outputs": [],
   "source": [
    "resolucao_espacial = 1\n",
    "resolucao_espectral = 255\n",
    "altura_observador = 1.5\n",
    "classes_asprs = [2, 6]"
   ]
  },
  {
   "cell_type": "markdown",
   "metadata": {},
   "source": [
    "## O céu visível\n",
    "\n",
    "Considerando a $A_{sphere}$ como a área da esfera $A_{sphere} = 4 \\pi r ^ 2$ podemos definir a área $A_{dome}$ do domo hemisférico como:\n",
    "\n",
    "$$A_{dome} = \\frac{4 \\pi r ^ 2}{2}$$ \n",
    "\n",
    "Portanto, para calcular o fator de céu visível, é possível dividir a esfera em fusos com angulo $\\alpha$, sendo $\\alpha = \\frac{2 \\pi}{n_{fuses}}$\n",
    "\n",
    "A área de cada fuso é conhecida e dada por $A_{fuse} = \\frac{2 \\pi r ^ 2 \\alpha}{2 \\pi}$, portanto $A_{fuse} = r ^ 2 \\alpha$\n",
    "\n",
    "É possível obter o fator de céu visível pela proporção de Área de Céu Visível sobre a área do Domo Hemisférico \n",
    "\n",
    "$$R_{svf} = \\frac{A_{vs}}{A_{dome}}$$\n",
    "\n",
    "Conhecida a Área do fuso $A_{fuse}$ e a altura máxima do obstáculo de visão daquele fuso dada em graus pelo ângulo $\\beta$ podemos subtrair a àrea do fuso da área de céu visível $A_{vs fuse}$, sendo $A_{vs fuse} = r (r - \\sin \\beta) \\alpha$\n",
    "\n",
    "Portanto, para cada fuso o Fator de Visão de céu é dado por $$R_{svf fuse} = \\frac{r (r - \\sin \\beta) \\alpha}{r ^ 2 \\alpha} \\therefore \\frac{r - \\sin \\beta}{r}$$\n",
    "\n",
    "Sendo assim, o Fator de Visão de Céu para um determinado ponto é dado por:\n",
    "\n",
    "$$R_{svf} = \\frac{1}{N_{fuses}} \\sum_{k=1}^{N_{fuses}} \\left ( \\frac{r - \\sin \\beta_k}{r} \\right)$$ \n",
    "\n",
    "\n",
    "Como pretende-se obter um fator de visão de céu, o raio $r$ pode ser substituido por qualquer número positivo maior que zero.\n",
    "\n",
    "$$R_{svf} = \\frac{1}{N_{fuses}} \\sum_{k=1}^{N_{fuses}} \\left ( \\frac{1 - \\sin \\beta_k}{1} \\right)$$ \n",
    "\n",
    "\n"
   ]
  },
  {
   "cell_type": "markdown",
   "metadata": {},
   "source": [
    "https://www.sciencedirect.com/science/article/pii/S0925772112000296\n"
   ]
  },
  {
   "cell_type": "code",
   "execution_count": null,
   "metadata": {},
   "outputs": [],
   "source": [
    "# O céu visível"
   ]
  }
 ],
 "metadata": {
  "kernelspec": {
   "display_name": "Python 3",
   "language": "python",
   "name": "python3"
  },
  "language_info": {
   "codemirror_mode": {
    "name": "ipython",
    "version": 3
   },
   "file_extension": ".py",
   "mimetype": "text/x-python",
   "name": "python",
   "nbconvert_exporter": "python",
   "pygments_lexer": "ipython3",
   "version": "3.8.5"
  }
 },
 "nbformat": 4,
 "nbformat_minor": 4
}
