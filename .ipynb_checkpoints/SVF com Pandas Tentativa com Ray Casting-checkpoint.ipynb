{
 "cells": [
  {
   "cell_type": "markdown",
   "metadata": {},
   "source": [
    "# Fator de Visão de Céu a partir do LiDAR com Ray Casting\n",
    "\n",
    "Essa tentativa vai utililzar uma técnica análoga ao Ray Casting para tentar simplificar e melhorar a performance"
   ]
  },
  {
   "cell_type": "code",
   "execution_count": 245,
   "metadata": {},
   "outputs": [
    {
     "data": {
      "text/html": [
       "<pre>✔️ 1.61 ms (2021-05-14T13:40:38/2021-05-14T13:40:38)</pre>"
      ],
      "text/plain": [
       "<IPython.core.display.HTML object>"
      ]
     },
     "metadata": {},
     "output_type": "display_data"
    }
   ],
   "source": [
    "import pdal\n",
    "import numpy as np"
   ]
  },
  {
   "cell_type": "code",
   "execution_count": 246,
   "metadata": {},
   "outputs": [
    {
     "data": {
      "text/html": [
       "<pre>✔️ 3.35 ms (2021-05-14T13:40:38/2021-05-14T13:40:38)</pre>"
      ],
      "text/plain": [
       "<IPython.core.display.HTML object>"
      ]
     },
     "metadata": {},
     "output_type": "display_data"
    },
    {
     "name": "stdout",
     "output_type": "stream",
     "text": [
      "The autotime extension is already loaded. To reload it, use:\n",
      "  %reload_ext autotime\n"
     ]
    }
   ],
   "source": [
    "%load_ext autotime"
   ]
  },
  {
   "cell_type": "code",
   "execution_count": 247,
   "metadata": {},
   "outputs": [
    {
     "data": {
      "text/html": [
       "<pre>✔️ 2.73 ms (2021-05-14T13:40:38/2021-05-14T13:40:38)</pre>"
      ],
      "text/plain": [
       "<IPython.core.display.HTML object>"
      ]
     },
     "metadata": {},
     "output_type": "display_data"
    }
   ],
   "source": [
    "pipeline=\"\"\"{\n",
    "  \"pipeline\": [\n",
    "    {\n",
    "        \"type\": \"readers.las\",\n",
    "        \"filename\": \"arquivos/MDS/MDS_3314-231.laz\"\n",
    "    },\n",
    "    {\n",
    "        \"type\": \"filters.sample\",\n",
    "        \"radius\": 1\n",
    "    }\n",
    "  ]\n",
    "}\"\"\""
   ]
  },
  {
   "cell_type": "code",
   "execution_count": 248,
   "metadata": {},
   "outputs": [
    {
     "data": {
      "text/html": [
       "<pre>✔️ 9.79 s (2021-05-14T13:40:40/2021-05-14T13:40:50)</pre>"
      ],
      "text/plain": [
       "<IPython.core.display.HTML object>"
      ]
     },
     "metadata": {},
     "output_type": "display_data"
    }
   ],
   "source": [
    "r = pdal.Pipeline(pipeline)\n",
    "r.validate()\n",
    "r.execute()\n",
    "arrays = r.arrays"
   ]
  },
  {
   "cell_type": "code",
   "execution_count": 249,
   "metadata": {},
   "outputs": [
    {
     "data": {
      "text/html": [
       "<pre>✔️ 1.87 ms (2021-05-14T13:40:50/2021-05-14T13:40:50)</pre>"
      ],
      "text/plain": [
       "<IPython.core.display.HTML object>"
      ]
     },
     "metadata": {},
     "output_type": "display_data"
    },
    {
     "data": {
      "text/plain": [
       "471962"
      ]
     },
     "execution_count": 249,
     "metadata": {},
     "output_type": "execute_result"
    }
   ],
   "source": [
    "len(arrays[0])"
   ]
  },
  {
   "cell_type": "code",
   "execution_count": 250,
   "metadata": {},
   "outputs": [
    {
     "data": {
      "text/html": [
       "<pre>✔️ 3.39 ms (2021-05-14T13:40:50/2021-05-14T13:40:50)</pre>"
      ],
      "text/plain": [
       "<IPython.core.display.HTML object>"
      ]
     },
     "metadata": {},
     "output_type": "display_data"
    },
    {
     "data": {
      "text/plain": [
       "(333499.29, 7395564.35, 735.34, 18, 1, 1, 0, 0, 6, -14., 17, 6, 356569.36606547)"
      ]
     },
     "execution_count": 250,
     "metadata": {},
     "output_type": "execute_result"
    }
   ],
   "source": [
    "arrays[0][0]"
   ]
  },
  {
   "cell_type": "code",
   "execution_count": 251,
   "metadata": {},
   "outputs": [
    {
     "data": {
      "text/html": [
       "<pre>✔️ 2.9 ms (2021-05-14T13:40:50/2021-05-14T13:40:50)</pre>"
      ],
      "text/plain": [
       "<IPython.core.display.HTML object>"
      ]
     },
     "metadata": {},
     "output_type": "display_data"
    },
    {
     "data": {
      "text/plain": [
       "{'schema': {'dimensions': [{'name': 'X', 'size': 8, 'type': 'floating'},\n",
       "   {'name': 'Y', 'size': 8, 'type': 'floating'},\n",
       "   {'name': 'Z', 'size': 8, 'type': 'floating'},\n",
       "   {'name': 'Intensity', 'size': 2, 'type': 'unsigned'},\n",
       "   {'name': 'ReturnNumber', 'size': 1, 'type': 'unsigned'},\n",
       "   {'name': 'NumberOfReturns', 'size': 1, 'type': 'unsigned'},\n",
       "   {'name': 'ScanDirectionFlag', 'size': 1, 'type': 'unsigned'},\n",
       "   {'name': 'EdgeOfFlightLine', 'size': 1, 'type': 'unsigned'},\n",
       "   {'name': 'Classification', 'size': 1, 'type': 'unsigned'},\n",
       "   {'name': 'ScanAngleRank', 'size': 4, 'type': 'floating'},\n",
       "   {'name': 'UserData', 'size': 1, 'type': 'unsigned'},\n",
       "   {'name': 'PointSourceId', 'size': 2, 'type': 'unsigned'},\n",
       "   {'name': 'GpsTime', 'size': 8, 'type': 'floating'}]}}"
      ]
     },
     "execution_count": 251,
     "metadata": {},
     "output_type": "execute_result"
    }
   ],
   "source": [
    "r.schema"
   ]
  },
  {
   "cell_type": "markdown",
   "metadata": {},
   "source": [
    "## Importando dados para Pandas"
   ]
  },
  {
   "cell_type": "code",
   "execution_count": 252,
   "metadata": {},
   "outputs": [
    {
     "data": {
      "text/html": [
       "<pre>✔️ 656 µs (2021-05-14T13:40:50/2021-05-14T13:40:50)</pre>"
      ],
      "text/plain": [
       "<IPython.core.display.HTML object>"
      ]
     },
     "metadata": {},
     "output_type": "display_data"
    }
   ],
   "source": [
    "import pandas as pd"
   ]
  },
  {
   "cell_type": "code",
   "execution_count": 253,
   "metadata": {},
   "outputs": [
    {
     "data": {
      "text/html": [
       "<pre>✔️ 26.4 ms (2021-05-14T13:40:50/2021-05-14T13:40:50)</pre>"
      ],
      "text/plain": [
       "<IPython.core.display.HTML object>"
      ]
     },
     "metadata": {},
     "output_type": "display_data"
    }
   ],
   "source": [
    "df = pd.DataFrame(arrays[0])"
   ]
  },
  {
   "cell_type": "code",
   "execution_count": 254,
   "metadata": {},
   "outputs": [
    {
     "data": {
      "text/html": [
       "<pre>✔️ 12.4 ms (2021-05-14T13:40:51/2021-05-14T13:40:51)</pre>"
      ],
      "text/plain": [
       "<IPython.core.display.HTML object>"
      ]
     },
     "metadata": {},
     "output_type": "display_data"
    },
    {
     "data": {
      "text/html": [
       "<div>\n",
       "<style scoped>\n",
       "    .dataframe tbody tr th:only-of-type {\n",
       "        vertical-align: middle;\n",
       "    }\n",
       "\n",
       "    .dataframe tbody tr th {\n",
       "        vertical-align: top;\n",
       "    }\n",
       "\n",
       "    .dataframe thead th {\n",
       "        text-align: right;\n",
       "    }\n",
       "</style>\n",
       "<table border=\"1\" class=\"dataframe\">\n",
       "  <thead>\n",
       "    <tr style=\"text-align: right;\">\n",
       "      <th></th>\n",
       "      <th>X</th>\n",
       "      <th>Y</th>\n",
       "      <th>Z</th>\n",
       "      <th>Intensity</th>\n",
       "      <th>ReturnNumber</th>\n",
       "      <th>NumberOfReturns</th>\n",
       "      <th>ScanDirectionFlag</th>\n",
       "      <th>EdgeOfFlightLine</th>\n",
       "      <th>Classification</th>\n",
       "      <th>ScanAngleRank</th>\n",
       "      <th>UserData</th>\n",
       "      <th>PointSourceId</th>\n",
       "      <th>GpsTime</th>\n",
       "    </tr>\n",
       "  </thead>\n",
       "  <tbody>\n",
       "    <tr>\n",
       "      <th>0</th>\n",
       "      <td>333499.29</td>\n",
       "      <td>7395564.35</td>\n",
       "      <td>735.34</td>\n",
       "      <td>18</td>\n",
       "      <td>1</td>\n",
       "      <td>1</td>\n",
       "      <td>0</td>\n",
       "      <td>0</td>\n",
       "      <td>6</td>\n",
       "      <td>-14.0</td>\n",
       "      <td>17</td>\n",
       "      <td>6</td>\n",
       "      <td>356569.366065</td>\n",
       "    </tr>\n",
       "    <tr>\n",
       "      <th>1</th>\n",
       "      <td>333499.23</td>\n",
       "      <td>7395565.79</td>\n",
       "      <td>735.41</td>\n",
       "      <td>18</td>\n",
       "      <td>1</td>\n",
       "      <td>1</td>\n",
       "      <td>0</td>\n",
       "      <td>0</td>\n",
       "      <td>6</td>\n",
       "      <td>-14.0</td>\n",
       "      <td>17</td>\n",
       "      <td>6</td>\n",
       "      <td>356569.366090</td>\n",
       "    </tr>\n",
       "    <tr>\n",
       "      <th>2</th>\n",
       "      <td>333499.20</td>\n",
       "      <td>7395566.79</td>\n",
       "      <td>735.25</td>\n",
       "      <td>15</td>\n",
       "      <td>1</td>\n",
       "      <td>1</td>\n",
       "      <td>0</td>\n",
       "      <td>0</td>\n",
       "      <td>6</td>\n",
       "      <td>-14.0</td>\n",
       "      <td>17</td>\n",
       "      <td>6</td>\n",
       "      <td>356569.366105</td>\n",
       "    </tr>\n",
       "    <tr>\n",
       "      <th>3</th>\n",
       "      <td>333499.15</td>\n",
       "      <td>7395568.21</td>\n",
       "      <td>735.37</td>\n",
       "      <td>14</td>\n",
       "      <td>1</td>\n",
       "      <td>1</td>\n",
       "      <td>0</td>\n",
       "      <td>0</td>\n",
       "      <td>6</td>\n",
       "      <td>-14.0</td>\n",
       "      <td>17</td>\n",
       "      <td>6</td>\n",
       "      <td>356569.366129</td>\n",
       "    </tr>\n",
       "    <tr>\n",
       "      <th>4</th>\n",
       "      <td>333499.10</td>\n",
       "      <td>7395569.68</td>\n",
       "      <td>735.30</td>\n",
       "      <td>17</td>\n",
       "      <td>1</td>\n",
       "      <td>1</td>\n",
       "      <td>0</td>\n",
       "      <td>0</td>\n",
       "      <td>6</td>\n",
       "      <td>-15.0</td>\n",
       "      <td>17</td>\n",
       "      <td>6</td>\n",
       "      <td>356569.366153</td>\n",
       "    </tr>\n",
       "    <tr>\n",
       "      <th>...</th>\n",
       "      <td>...</td>\n",
       "      <td>...</td>\n",
       "      <td>...</td>\n",
       "      <td>...</td>\n",
       "      <td>...</td>\n",
       "      <td>...</td>\n",
       "      <td>...</td>\n",
       "      <td>...</td>\n",
       "      <td>...</td>\n",
       "      <td>...</td>\n",
       "      <td>...</td>\n",
       "      <td>...</td>\n",
       "      <td>...</td>\n",
       "    </tr>\n",
       "    <tr>\n",
       "      <th>471957</th>\n",
       "      <td>333523.36</td>\n",
       "      <td>7395570.78</td>\n",
       "      <td>735.52</td>\n",
       "      <td>2</td>\n",
       "      <td>1</td>\n",
       "      <td>2</td>\n",
       "      <td>1</td>\n",
       "      <td>0</td>\n",
       "      <td>19</td>\n",
       "      <td>13.0</td>\n",
       "      <td>40</td>\n",
       "      <td>6</td>\n",
       "      <td>363044.324524</td>\n",
       "    </tr>\n",
       "    <tr>\n",
       "      <th>471958</th>\n",
       "      <td>333521.03</td>\n",
       "      <td>7395570.91</td>\n",
       "      <td>731.07</td>\n",
       "      <td>5</td>\n",
       "      <td>1</td>\n",
       "      <td>1</td>\n",
       "      <td>1</td>\n",
       "      <td>0</td>\n",
       "      <td>6</td>\n",
       "      <td>13.0</td>\n",
       "      <td>40</td>\n",
       "      <td>6</td>\n",
       "      <td>363044.342732</td>\n",
       "    </tr>\n",
       "    <tr>\n",
       "      <th>471959</th>\n",
       "      <td>333520.96</td>\n",
       "      <td>7395571.00</td>\n",
       "      <td>732.50</td>\n",
       "      <td>8</td>\n",
       "      <td>1</td>\n",
       "      <td>1</td>\n",
       "      <td>1</td>\n",
       "      <td>0</td>\n",
       "      <td>6</td>\n",
       "      <td>13.0</td>\n",
       "      <td>40</td>\n",
       "      <td>6</td>\n",
       "      <td>363044.342740</td>\n",
       "    </tr>\n",
       "    <tr>\n",
       "      <th>471960</th>\n",
       "      <td>333521.09</td>\n",
       "      <td>7395571.84</td>\n",
       "      <td>731.83</td>\n",
       "      <td>18</td>\n",
       "      <td>1</td>\n",
       "      <td>1</td>\n",
       "      <td>1</td>\n",
       "      <td>0</td>\n",
       "      <td>6</td>\n",
       "      <td>13.0</td>\n",
       "      <td>40</td>\n",
       "      <td>6</td>\n",
       "      <td>363044.360909</td>\n",
       "    </tr>\n",
       "    <tr>\n",
       "      <th>471961</th>\n",
       "      <td>333520.95</td>\n",
       "      <td>7395571.91</td>\n",
       "      <td>729.86</td>\n",
       "      <td>18</td>\n",
       "      <td>1</td>\n",
       "      <td>1</td>\n",
       "      <td>0</td>\n",
       "      <td>0</td>\n",
       "      <td>6</td>\n",
       "      <td>13.0</td>\n",
       "      <td>40</td>\n",
       "      <td>6</td>\n",
       "      <td>363044.364125</td>\n",
       "    </tr>\n",
       "  </tbody>\n",
       "</table>\n",
       "<p>471962 rows × 13 columns</p>\n",
       "</div>"
      ],
      "text/plain": [
       "                X           Y       Z  Intensity  ReturnNumber  \\\n",
       "0       333499.29  7395564.35  735.34         18             1   \n",
       "1       333499.23  7395565.79  735.41         18             1   \n",
       "2       333499.20  7395566.79  735.25         15             1   \n",
       "3       333499.15  7395568.21  735.37         14             1   \n",
       "4       333499.10  7395569.68  735.30         17             1   \n",
       "...           ...         ...     ...        ...           ...   \n",
       "471957  333523.36  7395570.78  735.52          2             1   \n",
       "471958  333521.03  7395570.91  731.07          5             1   \n",
       "471959  333520.96  7395571.00  732.50          8             1   \n",
       "471960  333521.09  7395571.84  731.83         18             1   \n",
       "471961  333520.95  7395571.91  729.86         18             1   \n",
       "\n",
       "        NumberOfReturns  ScanDirectionFlag  EdgeOfFlightLine  Classification  \\\n",
       "0                     1                  0                 0               6   \n",
       "1                     1                  0                 0               6   \n",
       "2                     1                  0                 0               6   \n",
       "3                     1                  0                 0               6   \n",
       "4                     1                  0                 0               6   \n",
       "...                 ...                ...               ...             ...   \n",
       "471957                2                  1                 0              19   \n",
       "471958                1                  1                 0               6   \n",
       "471959                1                  1                 0               6   \n",
       "471960                1                  1                 0               6   \n",
       "471961                1                  0                 0               6   \n",
       "\n",
       "        ScanAngleRank  UserData  PointSourceId        GpsTime  \n",
       "0               -14.0        17              6  356569.366065  \n",
       "1               -14.0        17              6  356569.366090  \n",
       "2               -14.0        17              6  356569.366105  \n",
       "3               -14.0        17              6  356569.366129  \n",
       "4               -15.0        17              6  356569.366153  \n",
       "...               ...       ...            ...            ...  \n",
       "471957           13.0        40              6  363044.324524  \n",
       "471958           13.0        40              6  363044.342732  \n",
       "471959           13.0        40              6  363044.342740  \n",
       "471960           13.0        40              6  363044.360909  \n",
       "471961           13.0        40              6  363044.364125  \n",
       "\n",
       "[471962 rows x 13 columns]"
      ]
     },
     "execution_count": 254,
     "metadata": {},
     "output_type": "execute_result"
    }
   ],
   "source": [
    "df"
   ]
  },
  {
   "cell_type": "code",
   "execution_count": 179,
   "metadata": {},
   "outputs": [
    {
     "data": {
      "text/html": [
       "<pre>✔️ 3.92 ms (2021-05-13T16:48:09/2021-05-13T16:48:09)</pre>"
      ],
      "text/plain": [
       "<IPython.core.display.HTML object>"
      ]
     },
     "metadata": {},
     "output_type": "display_data"
    },
    {
     "data": {
      "text/plain": [
       "array([ 6, 20,  2, 19,  5,  9], dtype=uint8)"
      ]
     },
     "execution_count": 179,
     "metadata": {},
     "output_type": "execute_result"
    }
   ],
   "source": [
    "df.Classification.unique()"
   ]
  },
  {
   "cell_type": "markdown",
   "metadata": {},
   "source": [
    "## Pre-Processando o Conjunto de Dados"
   ]
  },
  {
   "cell_type": "code",
   "execution_count": 255,
   "metadata": {},
   "outputs": [
    {
     "data": {
      "text/html": [
       "<pre>✔️ 32.3 ms (2021-05-14T13:41:01/2021-05-14T13:41:01)</pre>"
      ],
      "text/plain": [
       "<IPython.core.display.HTML object>"
      ]
     },
     "metadata": {},
     "output_type": "display_data"
    },
    {
     "data": {
      "text/plain": [
       "X    float64\n",
       "Y    float64\n",
       "Z    float64\n",
       "dtype: object"
      ]
     },
     "execution_count": 255,
     "metadata": {},
     "output_type": "execute_result"
    }
   ],
   "source": [
    "pd.DataFrame.from_records(df[(df.Classification == 2) | (df.Classification == 6)]\\\n",
    "                          [['X', 'Y', 'Z']]).dtypes"
   ]
  },
  {
   "cell_type": "code",
   "execution_count": 256,
   "metadata": {},
   "outputs": [
    {
     "data": {
      "text/html": [
       "<pre>✔️ 32 ms (2021-05-14T13:41:13/2021-05-14T13:41:13)</pre>"
      ],
      "text/plain": [
       "<IPython.core.display.HTML object>"
      ]
     },
     "metadata": {},
     "output_type": "display_data"
    }
   ],
   "source": [
    "df_1m = \\\n",
    "df[(df.Classification == 2) | (df.Classification == 6)]\\\n",
    "                          [['X', 'Y', 'Z']]\\\n",
    ".astype({'X': 'int32', \\\n",
    "        'Y': 'int32', \\\n",
    "        'Z': 'int16'})\\\n",
    "# .set_index(['X', 'Y'])"
   ]
  },
  {
   "cell_type": "code",
   "execution_count": 257,
   "metadata": {},
   "outputs": [
    {
     "data": {
      "text/html": [
       "<pre>✔️ 2.07 ms (2021-05-14T13:41:14/2021-05-14T13:41:14)</pre>"
      ],
      "text/plain": [
       "<IPython.core.display.HTML object>"
      ]
     },
     "metadata": {},
     "output_type": "display_data"
    },
    {
     "data": {
      "text/plain": [
       "316682"
      ]
     },
     "execution_count": 257,
     "metadata": {},
     "output_type": "execute_result"
    }
   ],
   "source": [
    "len(df_1m)"
   ]
  },
  {
   "cell_type": "code",
   "execution_count": 258,
   "metadata": {},
   "outputs": [
    {
     "data": {
      "text/html": [
       "<pre>✔️ 8.15 ms (2021-05-14T13:41:15/2021-05-14T13:41:15)</pre>"
      ],
      "text/plain": [
       "<IPython.core.display.HTML object>"
      ]
     },
     "metadata": {},
     "output_type": "display_data"
    },
    {
     "name": "stdout",
     "output_type": "stream",
     "text": [
      "99.99999999999999\n",
      "6.123233995736765e-15 99.99999999999999\n"
     ]
    }
   ],
   "source": [
    "## Deslocar X e Y de acordo com Azimute e inclinação\n",
    "\n",
    "x, y = 100, 100\n",
    "\n",
    "hag = 10 #Height Above Ground\n",
    "z = 100\n",
    "inclinacao = 45\n",
    "azimute = 90\n",
    "\n",
    "sombra = np.tan(inclinacao / 180. * np.pi) * z\n",
    "print(sombra)\n",
    "\n",
    "x = np.cos(azimute/180 * np.pi) * sombra\n",
    "y = np.sin(azimute/180 * np.pi) * sombra\n",
    "\n",
    "print(x, y)\n"
   ]
  },
  {
   "cell_type": "code",
   "execution_count": 263,
   "metadata": {},
   "outputs": [
    {
     "data": {
      "text/html": [
       "<pre>✔️ 14.2 ms (2021-05-14T13:45:08/2021-05-14T13:45:08)</pre>"
      ],
      "text/plain": [
       "<IPython.core.display.HTML object>"
      ]
     },
     "metadata": {},
     "output_type": "display_data"
    }
   ],
   "source": [
    "df_1m['X_proj'] = np.rint(df_1m.X + (np.cos(azimute/180 * np.pi) * np.tan(inclinacao / 180. * np.pi) * df_1m.Z)).astype('int32')\n",
    "df_1m['Y_proj'] = np.rint(df_1m.Y + (np.sin(azimute/180 * np.pi) * np.tan(inclinacao / 180. * np.pi) * df_1m.Z)).astype('int32')"
   ]
  },
  {
   "cell_type": "code",
   "execution_count": 264,
   "metadata": {},
   "outputs": [
    {
     "data": {
      "text/html": [
       "<pre>✔️ 21.6 ms (2021-05-14T13:46:02/2021-05-14T13:46:02)</pre>"
      ],
      "text/plain": [
       "<IPython.core.display.HTML object>"
      ]
     },
     "metadata": {},
     "output_type": "display_data"
    },
    {
     "data": {
      "text/html": [
       "<div>\n",
       "<style scoped>\n",
       "    .dataframe tbody tr th:only-of-type {\n",
       "        vertical-align: middle;\n",
       "    }\n",
       "\n",
       "    .dataframe tbody tr th {\n",
       "        vertical-align: top;\n",
       "    }\n",
       "\n",
       "    .dataframe thead th {\n",
       "        text-align: right;\n",
       "    }\n",
       "</style>\n",
       "<table border=\"1\" class=\"dataframe\">\n",
       "  <thead>\n",
       "    <tr style=\"text-align: right;\">\n",
       "      <th></th>\n",
       "      <th>X</th>\n",
       "      <th>Y</th>\n",
       "      <th>Z</th>\n",
       "      <th>X_proj</th>\n",
       "      <th>Y_proj</th>\n",
       "    </tr>\n",
       "  </thead>\n",
       "  <tbody>\n",
       "    <tr>\n",
       "      <th>0</th>\n",
       "      <td>333499</td>\n",
       "      <td>7395564</td>\n",
       "      <td>735</td>\n",
       "      <td>333499</td>\n",
       "      <td>7396299</td>\n",
       "    </tr>\n",
       "    <tr>\n",
       "      <th>1</th>\n",
       "      <td>333499</td>\n",
       "      <td>7395565</td>\n",
       "      <td>735</td>\n",
       "      <td>333499</td>\n",
       "      <td>7396300</td>\n",
       "    </tr>\n",
       "    <tr>\n",
       "      <th>2</th>\n",
       "      <td>333499</td>\n",
       "      <td>7395566</td>\n",
       "      <td>735</td>\n",
       "      <td>333499</td>\n",
       "      <td>7396301</td>\n",
       "    </tr>\n",
       "    <tr>\n",
       "      <th>3</th>\n",
       "      <td>333499</td>\n",
       "      <td>7395568</td>\n",
       "      <td>735</td>\n",
       "      <td>333499</td>\n",
       "      <td>7396303</td>\n",
       "    </tr>\n",
       "    <tr>\n",
       "      <th>4</th>\n",
       "      <td>333499</td>\n",
       "      <td>7395569</td>\n",
       "      <td>735</td>\n",
       "      <td>333499</td>\n",
       "      <td>7396304</td>\n",
       "    </tr>\n",
       "    <tr>\n",
       "      <th>...</th>\n",
       "      <td>...</td>\n",
       "      <td>...</td>\n",
       "      <td>...</td>\n",
       "      <td>...</td>\n",
       "      <td>...</td>\n",
       "    </tr>\n",
       "    <tr>\n",
       "      <th>471956</th>\n",
       "      <td>333520</td>\n",
       "      <td>7395569</td>\n",
       "      <td>730</td>\n",
       "      <td>333520</td>\n",
       "      <td>7396299</td>\n",
       "    </tr>\n",
       "    <tr>\n",
       "      <th>471958</th>\n",
       "      <td>333521</td>\n",
       "      <td>7395570</td>\n",
       "      <td>731</td>\n",
       "      <td>333521</td>\n",
       "      <td>7396301</td>\n",
       "    </tr>\n",
       "    <tr>\n",
       "      <th>471959</th>\n",
       "      <td>333520</td>\n",
       "      <td>7395571</td>\n",
       "      <td>732</td>\n",
       "      <td>333520</td>\n",
       "      <td>7396303</td>\n",
       "    </tr>\n",
       "    <tr>\n",
       "      <th>471960</th>\n",
       "      <td>333521</td>\n",
       "      <td>7395571</td>\n",
       "      <td>731</td>\n",
       "      <td>333521</td>\n",
       "      <td>7396302</td>\n",
       "    </tr>\n",
       "    <tr>\n",
       "      <th>471961</th>\n",
       "      <td>333520</td>\n",
       "      <td>7395571</td>\n",
       "      <td>729</td>\n",
       "      <td>333520</td>\n",
       "      <td>7396300</td>\n",
       "    </tr>\n",
       "  </tbody>\n",
       "</table>\n",
       "<p>316682 rows × 5 columns</p>\n",
       "</div>"
      ],
      "text/plain": [
       "             X        Y    Z  X_proj   Y_proj\n",
       "0       333499  7395564  735  333499  7396299\n",
       "1       333499  7395565  735  333499  7396300\n",
       "2       333499  7395566  735  333499  7396301\n",
       "3       333499  7395568  735  333499  7396303\n",
       "4       333499  7395569  735  333499  7396304\n",
       "...        ...      ...  ...     ...      ...\n",
       "471956  333520  7395569  730  333520  7396299\n",
       "471958  333521  7395570  731  333521  7396301\n",
       "471959  333520  7395571  732  333520  7396303\n",
       "471960  333521  7395571  731  333521  7396302\n",
       "471961  333520  7395571  729  333520  7396300\n",
       "\n",
       "[316682 rows x 5 columns]"
      ]
     },
     "execution_count": 264,
     "metadata": {},
     "output_type": "execute_result"
    }
   ],
   "source": [
    "df_1m"
   ]
  },
  {
   "cell_type": "code",
   "execution_count": 300,
   "metadata": {},
   "outputs": [
    {
     "data": {
      "text/html": [
       "<pre>✔️ 58.4 ms (2021-05-14T14:05:51/2021-05-14T14:05:51)</pre>"
      ],
      "text/plain": [
       "<IPython.core.display.HTML object>"
      ]
     },
     "metadata": {},
     "output_type": "display_data"
    }
   ],
   "source": [
    "XY_projZmax = df_1m[['X_proj', 'Y_proj', 'Z']].groupby(['X_proj', 'Y_proj'],  as_index=False).max()"
   ]
  },
  {
   "cell_type": "code",
   "execution_count": 316,
   "metadata": {},
   "outputs": [
    {
     "data": {
      "text/html": [
       "<pre>✔️ 72.8 ms (2021-05-14T14:48:13/2021-05-14T14:48:13)</pre>"
      ],
      "text/plain": [
       "<IPython.core.display.HTML object>"
      ]
     },
     "metadata": {},
     "output_type": "display_data"
    },
    {
     "data": {
      "text/html": [
       "<div>\n",
       "<style scoped>\n",
       "    .dataframe tbody tr th:only-of-type {\n",
       "        vertical-align: middle;\n",
       "    }\n",
       "\n",
       "    .dataframe tbody tr th {\n",
       "        vertical-align: top;\n",
       "    }\n",
       "\n",
       "    .dataframe thead th {\n",
       "        text-align: right;\n",
       "    }\n",
       "</style>\n",
       "<table border=\"1\" class=\"dataframe\">\n",
       "  <thead>\n",
       "    <tr style=\"text-align: right;\">\n",
       "      <th></th>\n",
       "      <th></th>\n",
       "      <th>Z</th>\n",
       "    </tr>\n",
       "    <tr>\n",
       "      <th>X_proj</th>\n",
       "      <th>Y_proj</th>\n",
       "      <th></th>\n",
       "    </tr>\n",
       "  </thead>\n",
       "  <tbody>\n",
       "    <tr>\n",
       "      <th rowspan=\"5\" valign=\"top\">333058</th>\n",
       "      <th>7395745</th>\n",
       "      <td>748</td>\n",
       "    </tr>\n",
       "    <tr>\n",
       "      <th>7395747</th>\n",
       "      <td>748</td>\n",
       "    </tr>\n",
       "    <tr>\n",
       "      <th>7395751</th>\n",
       "      <td>757</td>\n",
       "    </tr>\n",
       "    <tr>\n",
       "      <th>7395752</th>\n",
       "      <td>767</td>\n",
       "    </tr>\n",
       "    <tr>\n",
       "      <th>7395753</th>\n",
       "      <td>767</td>\n",
       "    </tr>\n",
       "    <tr>\n",
       "      <th>...</th>\n",
       "      <th>...</th>\n",
       "      <td>...</td>\n",
       "    </tr>\n",
       "    <tr>\n",
       "      <th rowspan=\"5\" valign=\"top\">333600</th>\n",
       "      <th>7396324</th>\n",
       "      <td>758</td>\n",
       "    </tr>\n",
       "    <tr>\n",
       "      <th>7396325</th>\n",
       "      <td>758</td>\n",
       "    </tr>\n",
       "    <tr>\n",
       "      <th>7396326</th>\n",
       "      <td>757</td>\n",
       "    </tr>\n",
       "    <tr>\n",
       "      <th>7396327</th>\n",
       "      <td>757</td>\n",
       "    </tr>\n",
       "    <tr>\n",
       "      <th>7396328</th>\n",
       "      <td>757</td>\n",
       "    </tr>\n",
       "  </tbody>\n",
       "</table>\n",
       "<p>173434 rows × 1 columns</p>\n",
       "</div>"
      ],
      "text/plain": [
       "                  Z\n",
       "X_proj Y_proj      \n",
       "333058 7395745  748\n",
       "       7395747  748\n",
       "       7395751  757\n",
       "       7395752  767\n",
       "       7395753  767\n",
       "...             ...\n",
       "333600 7396324  758\n",
       "       7396325  758\n",
       "       7396326  757\n",
       "       7396327  757\n",
       "       7396328  757\n",
       "\n",
       "[173434 rows x 1 columns]"
      ]
     },
     "execution_count": 316,
     "metadata": {},
     "output_type": "execute_result"
    }
   ],
   "source": [
    "df_1m[['X_proj', 'Y_proj', 'Z']].groupby(by=['X_proj', 'Y_proj']).max()"
   ]
  },
  {
   "cell_type": "code",
   "execution_count": 291,
   "metadata": {},
   "outputs": [
    {
     "data": {
      "text/html": [
       "<pre>✔️ 1.68 s (2021-05-14T14:02:13/2021-05-14T14:02:15)</pre>"
      ],
      "text/plain": [
       "<IPython.core.display.HTML object>"
      ]
     },
     "metadata": {},
     "output_type": "display_data"
    }
   ],
   "source": [
    "seila = df_1m[['X_proj', 'Y_proj', 'Z']].groupby(['X_proj', 'Y_proj']).groups"
   ]
  },
  {
   "cell_type": "code",
   "execution_count": 272,
   "metadata": {},
   "outputs": [
    {
     "data": {
      "text/html": [
       "<pre>✔️ 6.19 ms (2021-05-14T13:51:33/2021-05-14T13:51:33)</pre>"
      ],
      "text/plain": [
       "<IPython.core.display.HTML object>"
      ]
     },
     "metadata": {},
     "output_type": "display_data"
    },
    {
     "ename": "ValueError",
     "evalue": "Can only compare identically-labeled Series objects",
     "output_type": "error",
     "traceback": [
      "\u001b[0;31m---------------------------------------------------------------------------\u001b[0m",
      "\u001b[0;31mValueError\u001b[0m                                Traceback (most recent call last)",
      "\u001b[0;32m<ipython-input-272-5d9920440395>\u001b[0m in \u001b[0;36m<module>\u001b[0;34m\u001b[0m\n\u001b[0;32m----> 1\u001b[0;31m \u001b[0mdf_1m\u001b[0m\u001b[0;34m.\u001b[0m\u001b[0mloc\u001b[0m\u001b[0;34m[\u001b[0m\u001b[0mdf_1m\u001b[0m\u001b[0;34m.\u001b[0m\u001b[0mX\u001b[0m \u001b[0;34m==\u001b[0m \u001b[0mXY_projZmax\u001b[0m\u001b[0;34m.\u001b[0m\u001b[0mX_proj\u001b[0m\u001b[0;34m]\u001b[0m\u001b[0;34m\u001b[0m\u001b[0;34m\u001b[0m\u001b[0m\n\u001b[0m",
      "\u001b[0;32m~/miniconda3/envs/pdal/lib/python3.8/site-packages/pandas/core/ops/common.py\u001b[0m in \u001b[0;36mnew_method\u001b[0;34m(self, other)\u001b[0m\n\u001b[1;32m     63\u001b[0m         \u001b[0mother\u001b[0m \u001b[0;34m=\u001b[0m \u001b[0mitem_from_zerodim\u001b[0m\u001b[0;34m(\u001b[0m\u001b[0mother\u001b[0m\u001b[0;34m)\u001b[0m\u001b[0;34m\u001b[0m\u001b[0;34m\u001b[0m\u001b[0m\n\u001b[1;32m     64\u001b[0m \u001b[0;34m\u001b[0m\u001b[0m\n\u001b[0;32m---> 65\u001b[0;31m         \u001b[0;32mreturn\u001b[0m \u001b[0mmethod\u001b[0m\u001b[0;34m(\u001b[0m\u001b[0mself\u001b[0m\u001b[0;34m,\u001b[0m \u001b[0mother\u001b[0m\u001b[0;34m)\u001b[0m\u001b[0;34m\u001b[0m\u001b[0;34m\u001b[0m\u001b[0m\n\u001b[0m\u001b[1;32m     66\u001b[0m \u001b[0;34m\u001b[0m\u001b[0m\n\u001b[1;32m     67\u001b[0m     \u001b[0;32mreturn\u001b[0m \u001b[0mnew_method\u001b[0m\u001b[0;34m\u001b[0m\u001b[0;34m\u001b[0m\u001b[0m\n",
      "\u001b[0;32m~/miniconda3/envs/pdal/lib/python3.8/site-packages/pandas/core/arraylike.py\u001b[0m in \u001b[0;36m__eq__\u001b[0;34m(self, other)\u001b[0m\n\u001b[1;32m     27\u001b[0m     \u001b[0;34m@\u001b[0m\u001b[0munpack_zerodim_and_defer\u001b[0m\u001b[0;34m(\u001b[0m\u001b[0;34m\"__eq__\"\u001b[0m\u001b[0;34m)\u001b[0m\u001b[0;34m\u001b[0m\u001b[0;34m\u001b[0m\u001b[0m\n\u001b[1;32m     28\u001b[0m     \u001b[0;32mdef\u001b[0m \u001b[0m__eq__\u001b[0m\u001b[0;34m(\u001b[0m\u001b[0mself\u001b[0m\u001b[0;34m,\u001b[0m \u001b[0mother\u001b[0m\u001b[0;34m)\u001b[0m\u001b[0;34m:\u001b[0m\u001b[0;34m\u001b[0m\u001b[0;34m\u001b[0m\u001b[0m\n\u001b[0;32m---> 29\u001b[0;31m         \u001b[0;32mreturn\u001b[0m \u001b[0mself\u001b[0m\u001b[0;34m.\u001b[0m\u001b[0m_cmp_method\u001b[0m\u001b[0;34m(\u001b[0m\u001b[0mother\u001b[0m\u001b[0;34m,\u001b[0m \u001b[0moperator\u001b[0m\u001b[0;34m.\u001b[0m\u001b[0meq\u001b[0m\u001b[0;34m)\u001b[0m\u001b[0;34m\u001b[0m\u001b[0;34m\u001b[0m\u001b[0m\n\u001b[0m\u001b[1;32m     30\u001b[0m \u001b[0;34m\u001b[0m\u001b[0m\n\u001b[1;32m     31\u001b[0m     \u001b[0;34m@\u001b[0m\u001b[0munpack_zerodim_and_defer\u001b[0m\u001b[0;34m(\u001b[0m\u001b[0;34m\"__ne__\"\u001b[0m\u001b[0;34m)\u001b[0m\u001b[0;34m\u001b[0m\u001b[0;34m\u001b[0m\u001b[0m\n",
      "\u001b[0;32m~/miniconda3/envs/pdal/lib/python3.8/site-packages/pandas/core/series.py\u001b[0m in \u001b[0;36m_cmp_method\u001b[0;34m(self, other, op)\u001b[0m\n\u001b[1;32m   4932\u001b[0m \u001b[0;34m\u001b[0m\u001b[0m\n\u001b[1;32m   4933\u001b[0m         \u001b[0;32mif\u001b[0m \u001b[0misinstance\u001b[0m\u001b[0;34m(\u001b[0m\u001b[0mother\u001b[0m\u001b[0;34m,\u001b[0m \u001b[0mSeries\u001b[0m\u001b[0;34m)\u001b[0m \u001b[0;32mand\u001b[0m \u001b[0;32mnot\u001b[0m \u001b[0mself\u001b[0m\u001b[0;34m.\u001b[0m\u001b[0m_indexed_same\u001b[0m\u001b[0;34m(\u001b[0m\u001b[0mother\u001b[0m\u001b[0;34m)\u001b[0m\u001b[0;34m:\u001b[0m\u001b[0;34m\u001b[0m\u001b[0;34m\u001b[0m\u001b[0m\n\u001b[0;32m-> 4934\u001b[0;31m             \u001b[0;32mraise\u001b[0m \u001b[0mValueError\u001b[0m\u001b[0;34m(\u001b[0m\u001b[0;34m\"Can only compare identically-labeled Series objects\"\u001b[0m\u001b[0;34m)\u001b[0m\u001b[0;34m\u001b[0m\u001b[0;34m\u001b[0m\u001b[0m\n\u001b[0m\u001b[1;32m   4935\u001b[0m \u001b[0;34m\u001b[0m\u001b[0m\n\u001b[1;32m   4936\u001b[0m         \u001b[0mlvalues\u001b[0m \u001b[0;34m=\u001b[0m \u001b[0mextract_array\u001b[0m\u001b[0;34m(\u001b[0m\u001b[0mself\u001b[0m\u001b[0;34m,\u001b[0m \u001b[0mextract_numpy\u001b[0m\u001b[0;34m=\u001b[0m\u001b[0;32mTrue\u001b[0m\u001b[0;34m)\u001b[0m\u001b[0;34m\u001b[0m\u001b[0;34m\u001b[0m\u001b[0m\n",
      "\u001b[0;31mValueError\u001b[0m: Can only compare identically-labeled Series objects"
     ]
    }
   ],
   "source": [
    "df_1m.loc[df_1m.X == XY_projZmax.X_proj]"
   ]
  },
  {
   "cell_type": "code",
   "execution_count": null,
   "metadata": {},
   "outputs": [],
   "source": []
  },
  {
   "cell_type": "code",
   "execution_count": 213,
   "metadata": {},
   "outputs": [
    {
     "data": {
      "text/html": [
       "<pre>✔️ 1.64 ms (2021-05-13T16:54:48/2021-05-13T16:54:48)</pre>"
      ],
      "text/plain": [
       "<IPython.core.display.HTML object>"
      ]
     },
     "metadata": {},
     "output_type": "display_data"
    }
   ],
   "source": [
    "fusos = 60\n",
    "inclinacoes = 45"
   ]
  },
  {
   "cell_type": "code",
   "execution_count": 217,
   "metadata": {},
   "outputs": [
    {
     "data": {
      "text/html": [
       "<pre>✔️ 2.45 ms (2021-05-13T16:57:58/2021-05-13T16:57:58)</pre>"
      ],
      "text/plain": [
       "<IPython.core.display.HTML object>"
      ]
     },
     "metadata": {},
     "output_type": "display_data"
    }
   ],
   "source": [
    "## Para cada fuso\n",
    "    ## Para cada inclinacao\n",
    "        ## CAlcula valores inteiros de X e Y inclinados e no Azimute\n",
    "        "
   ]
  },
  {
   "cell_type": "code",
   "execution_count": 231,
   "metadata": {},
   "outputs": [
    {
     "data": {
      "text/html": [
       "<pre>✔️ 9.53 ms (2021-05-13T17:17:41/2021-05-13T17:17:41)</pre>"
      ],
      "text/plain": [
       "<IPython.core.display.HTML object>"
      ]
     },
     "metadata": {},
     "output_type": "display_data"
    },
    {
     "data": {
      "text/plain": [
       "(2, 316682)"
      ]
     },
     "execution_count": 231,
     "metadata": {},
     "output_type": "execute_result"
    }
   ],
   "source": [
    "np.array([df_1m.X, df_1m.Y]).shape"
   ]
  },
  {
   "cell_type": "code",
   "execution_count": 238,
   "metadata": {},
   "outputs": [
    {
     "data": {
      "text/html": [
       "<pre>✔️ 22.9 ms (2021-05-13T17:21:30/2021-05-13T17:21:30)</pre>"
      ],
      "text/plain": [
       "<IPython.core.display.HTML object>"
      ]
     },
     "metadata": {},
     "output_type": "display_data"
    },
    {
     "data": {
      "text/plain": [
       "array([333058, 333059, 333060, 333061, 333062, 333063, 333064, 333065,\n",
       "       333066, 333067, 333068, 333069, 333070, 333071, 333072, 333073,\n",
       "       333074, 333075, 333076, 333077, 333078, 333079, 333080, 333081,\n",
       "       333082, 333083, 333084, 333085, 333086, 333087, 333088, 333089,\n",
       "       333090, 333091, 333092, 333093, 333094, 333095, 333096, 333097,\n",
       "       333098, 333099, 333100, 333101, 333102, 333103, 333104, 333105,\n",
       "       333106, 333107, 333108, 333109, 333110, 333111, 333112, 333113,\n",
       "       333114, 333115, 333116, 333117, 333118, 333119, 333120, 333121,\n",
       "       333122, 333123, 333124, 333125, 333126, 333127, 333128, 333129,\n",
       "       333130, 333131, 333132, 333133, 333134, 333135, 333136, 333137,\n",
       "       333138, 333139, 333140, 333141, 333142, 333143, 333144, 333145,\n",
       "       333146, 333147, 333148, 333149, 333150, 333151, 333152, 333153,\n",
       "       333154, 333155, 333156, 333157, 333158, 333159, 333160, 333161,\n",
       "       333162, 333163, 333164, 333165, 333166, 333167, 333168, 333169,\n",
       "       333170, 333171, 333172, 333173, 333174, 333175, 333176, 333177,\n",
       "       333178, 333179, 333180, 333181, 333182, 333183, 333184, 333185,\n",
       "       333186, 333187, 333188, 333189, 333190, 333191, 333192, 333193,\n",
       "       333194, 333195, 333196, 333197, 333198, 333199, 333200, 333201,\n",
       "       333202, 333203, 333204, 333205, 333206, 333207, 333208, 333209,\n",
       "       333210, 333211, 333212, 333213, 333214, 333215, 333216, 333217,\n",
       "       333218, 333219, 333220, 333221, 333222, 333223, 333224, 333225,\n",
       "       333226, 333227, 333228, 333229, 333230, 333231, 333232, 333233,\n",
       "       333234, 333235, 333236, 333237, 333238, 333239, 333240, 333241,\n",
       "       333242, 333243, 333244, 333245, 333246, 333247, 333248, 333249,\n",
       "       333250, 333251, 333252, 333253, 333254, 333255, 333256, 333257,\n",
       "       333258, 333259, 333260, 333261, 333262, 333263, 333264, 333265,\n",
       "       333266, 333267, 333268, 333269, 333270, 333271, 333272, 333273,\n",
       "       333274, 333275, 333276, 333277, 333278, 333279, 333280, 333281,\n",
       "       333282, 333283, 333284, 333285, 333286, 333287, 333288, 333289,\n",
       "       333290, 333291, 333292, 333293, 333294, 333295, 333296, 333297,\n",
       "       333298, 333299, 333300, 333301, 333302, 333303, 333304, 333305,\n",
       "       333306, 333307, 333308, 333309, 333310, 333311, 333312, 333313,\n",
       "       333314, 333315, 333316, 333317, 333318, 333319, 333320, 333321,\n",
       "       333322, 333323, 333324, 333325, 333326, 333327, 333328, 333329,\n",
       "       333330, 333331, 333332, 333333, 333334, 333335, 333336, 333337,\n",
       "       333338, 333339, 333340, 333341, 333342, 333343, 333344, 333345,\n",
       "       333346, 333347, 333348, 333349, 333350, 333351, 333352, 333353,\n",
       "       333354, 333355, 333356, 333357, 333358, 333359, 333360, 333361,\n",
       "       333362, 333363, 333364, 333365, 333366, 333367, 333368, 333369,\n",
       "       333370, 333371, 333372, 333373, 333374, 333375, 333376, 333377,\n",
       "       333378, 333379, 333380, 333381, 333382, 333383, 333384, 333385,\n",
       "       333386, 333387, 333388, 333389, 333390, 333391, 333392, 333393,\n",
       "       333394, 333395, 333396, 333397, 333398, 333399, 333400, 333401,\n",
       "       333402, 333403, 333404, 333405, 333406, 333407, 333408, 333409,\n",
       "       333410, 333411, 333412, 333413, 333414, 333415, 333416, 333417,\n",
       "       333418, 333419, 333420, 333421, 333422, 333423, 333424, 333425,\n",
       "       333426, 333427, 333428, 333429, 333430, 333431, 333432, 333433,\n",
       "       333434, 333435, 333436, 333437, 333438, 333439, 333440, 333441,\n",
       "       333442, 333443, 333444, 333445, 333446, 333447, 333448, 333449,\n",
       "       333450, 333451, 333452, 333453, 333454, 333455, 333456, 333457,\n",
       "       333458, 333459, 333460, 333461, 333462, 333463, 333464, 333465,\n",
       "       333466, 333467, 333468, 333469, 333470, 333471, 333472, 333473,\n",
       "       333474, 333475, 333476, 333477, 333478, 333479, 333480, 333481,\n",
       "       333482, 333483, 333484, 333485, 333486, 333487, 333488, 333489,\n",
       "       333490, 333491, 333492, 333493, 333494, 333495, 333496, 333497,\n",
       "       333498, 333499, 333500, 333501, 333502, 333503, 333504, 333505,\n",
       "       333506, 333507, 333508, 333509, 333510, 333511, 333512, 333513,\n",
       "       333514, 333515, 333516, 333517, 333518, 333519, 333520, 333521,\n",
       "       333522, 333523, 333524, 333525, 333526, 333527, 333528, 333529,\n",
       "       333530, 333531, 333532, 333533, 333534, 333535, 333536, 333537,\n",
       "       333538, 333539, 333540, 333541, 333542, 333543, 333544, 333545,\n",
       "       333546, 333547, 333548, 333549, 333550, 333551, 333552, 333553,\n",
       "       333554, 333555, 333556, 333557, 333558, 333559, 333560, 333561,\n",
       "       333562, 333563, 333564, 333565, 333566, 333567, 333568, 333569,\n",
       "       333570, 333571, 333572, 333573, 333574, 333575, 333576, 333577,\n",
       "       333578, 333579, 333580, 333581, 333582, 333583, 333584, 333585,\n",
       "       333586, 333587, 333588, 333589, 333590, 333591, 333592, 333593,\n",
       "       333594, 333595, 333596, 333597, 333598, 333599, 333600],\n",
       "      dtype=int32)"
      ]
     },
     "execution_count": 238,
     "metadata": {},
     "output_type": "execute_result"
    }
   ],
   "source": []
  },
  {
   "cell_type": "code",
   "execution_count": null,
   "metadata": {},
   "outputs": [],
   "source": []
  },
  {
   "cell_type": "markdown",
   "metadata": {},
   "source": [
    "## Calculando o Azimute entre dois pontos\n",
    "\n",
    "Suponhamos que fossemos calcular o azimute para cada ponto poderíamos fazer utilizando a seguinte função"
   ]
  },
  {
   "cell_type": "code",
   "execution_count": 12,
   "metadata": {},
   "outputs": [
    {
     "data": {
      "text/html": [
       "<pre>✔️ 407 µs (2021-05-11T17:18:55/2021-05-11T17:18:55)</pre>"
      ],
      "text/plain": [
       "<IPython.core.display.HTML object>"
      ]
     },
     "metadata": {},
     "output_type": "display_data"
    }
   ],
   "source": [
    "import math\n",
    "\n",
    "def Az(x1,y1,x2,y2):\n",
    "    deg = math.degrees(math.atan2((x2 - x1),(y2 - y1)))\n",
    "    if (deg < 0):\n",
    "        deg += 360.0\n",
    "    return deg"
   ]
  },
  {
   "cell_type": "code",
   "execution_count": 13,
   "metadata": {},
   "outputs": [
    {
     "data": {
      "text/html": [
       "<pre>✔️ 1.97 ms (2021-05-11T17:18:55/2021-05-11T17:18:55)</pre>"
      ],
      "text/plain": [
       "<IPython.core.display.HTML object>"
      ]
     },
     "metadata": {},
     "output_type": "display_data"
    },
    {
     "data": {
      "text/plain": [
       "180.0"
      ]
     },
     "execution_count": 13,
     "metadata": {},
     "output_type": "execute_result"
    }
   ],
   "source": [
    "Az(1, 1, 1, 0)"
   ]
  },
  {
   "cell_type": "markdown",
   "metadata": {},
   "source": [
    "## Calculando a Altura ou Elevação do ponto em relação ao Zenite\n",
    "\n",
    "Da mesma forma poderíamos calcular a Altura/Elevação para cada um dos pontos usando a seguinte função"
   ]
  },
  {
   "cell_type": "code",
   "execution_count": 14,
   "metadata": {},
   "outputs": [
    {
     "data": {
      "text/html": [
       "<pre>✔️ 51.9 ms (2021-05-11T17:18:57/2021-05-11T17:18:57)</pre>"
      ],
      "text/plain": [
       "<IPython.core.display.HTML object>"
      ]
     },
     "metadata": {},
     "output_type": "display_data"
    }
   ],
   "source": [
    "from scipy.spatial import distance"
   ]
  },
  {
   "cell_type": "code",
   "execution_count": 15,
   "metadata": {},
   "outputs": [
    {
     "data": {
      "text/html": [
       "<pre>✔️ 2.53 ms (2021-05-11T17:18:57/2021-05-11T17:18:57)</pre>"
      ],
      "text/plain": [
       "<IPython.core.display.HTML object>"
      ]
     },
     "metadata": {},
     "output_type": "display_data"
    },
    {
     "data": {
      "text/plain": [
       "35.264389682754654"
      ]
     },
     "execution_count": 15,
     "metadata": {},
     "output_type": "execute_result"
    }
   ],
   "source": [
    "## Calculando altura\n",
    "def altura_graus(x1, y1, z1, x2, y2, z2):\n",
    "    altura = z2 - z1\n",
    "    distancia = distance.euclidean([x1, y1], [x2, y2])\n",
    "    return math.degrees(math.atan2(altura, distancia))\n",
    "\n",
    "altura_graus(0,0,0,1,1,1)"
   ]
  },
  {
   "cell_type": "markdown",
   "metadata": {},
   "source": [
    "## Gerando pontos 1000 pontos x,y,z \n",
    "\n",
    "Apesar de termos diversas dimensões disponíveis para os calculos vamos nos ater em X, Y e Z e na Classificação para poder agrupar o que é Ground e o Que é edificação"
   ]
  },
  {
   "cell_type": "code",
   "execution_count": 17,
   "metadata": {},
   "outputs": [
    {
     "data": {
      "text/html": [
       "<pre>✔️ 30 ms (2021-05-11T17:20:19/2021-05-11T17:20:19)</pre>"
      ],
      "text/plain": [
       "<IPython.core.display.HTML object>"
      ]
     },
     "metadata": {},
     "output_type": "display_data"
    }
   ],
   "source": [
    "df_pts = pd.DataFrame.from_records(df[(df.Classification == 2) | (df.Classification == 6)][['X', 'Y', 'Z']].head(1000))"
   ]
  },
  {
   "cell_type": "code",
   "execution_count": 18,
   "metadata": {},
   "outputs": [
    {
     "data": {
      "text/html": [
       "<pre>✔️ 22.1 ms (2021-05-11T17:20:27/2021-05-11T17:20:27)</pre>"
      ],
      "text/plain": [
       "<IPython.core.display.HTML object>"
      ]
     },
     "metadata": {},
     "output_type": "display_data"
    },
    {
     "data": {
      "text/html": [
       "<div>\n",
       "<style scoped>\n",
       "    .dataframe tbody tr th:only-of-type {\n",
       "        vertical-align: middle;\n",
       "    }\n",
       "\n",
       "    .dataframe tbody tr th {\n",
       "        vertical-align: top;\n",
       "    }\n",
       "\n",
       "    .dataframe thead th {\n",
       "        text-align: right;\n",
       "    }\n",
       "</style>\n",
       "<table border=\"1\" class=\"dataframe\">\n",
       "  <thead>\n",
       "    <tr style=\"text-align: right;\">\n",
       "      <th></th>\n",
       "      <th>X</th>\n",
       "      <th>Y</th>\n",
       "      <th>Z</th>\n",
       "    </tr>\n",
       "  </thead>\n",
       "  <tbody>\n",
       "    <tr>\n",
       "      <th>0</th>\n",
       "      <td>333499.29</td>\n",
       "      <td>7395564.35</td>\n",
       "      <td>735.34</td>\n",
       "    </tr>\n",
       "    <tr>\n",
       "      <th>1</th>\n",
       "      <td>333499.23</td>\n",
       "      <td>7395565.79</td>\n",
       "      <td>735.41</td>\n",
       "    </tr>\n",
       "    <tr>\n",
       "      <th>2</th>\n",
       "      <td>333499.20</td>\n",
       "      <td>7395566.79</td>\n",
       "      <td>735.25</td>\n",
       "    </tr>\n",
       "    <tr>\n",
       "      <th>3</th>\n",
       "      <td>333499.15</td>\n",
       "      <td>7395568.21</td>\n",
       "      <td>735.37</td>\n",
       "    </tr>\n",
       "    <tr>\n",
       "      <th>4</th>\n",
       "      <td>333499.10</td>\n",
       "      <td>7395569.68</td>\n",
       "      <td>735.30</td>\n",
       "    </tr>\n",
       "    <tr>\n",
       "      <th>...</th>\n",
       "      <td>...</td>\n",
       "      <td>...</td>\n",
       "      <td>...</td>\n",
       "    </tr>\n",
       "    <tr>\n",
       "      <th>995</th>\n",
       "      <td>333478.98</td>\n",
       "      <td>7395552.47</td>\n",
       "      <td>724.99</td>\n",
       "    </tr>\n",
       "    <tr>\n",
       "      <th>996</th>\n",
       "      <td>333478.48</td>\n",
       "      <td>7395558.73</td>\n",
       "      <td>732.93</td>\n",
       "    </tr>\n",
       "    <tr>\n",
       "      <th>997</th>\n",
       "      <td>333478.44</td>\n",
       "      <td>7395558.95</td>\n",
       "      <td>733.96</td>\n",
       "    </tr>\n",
       "    <tr>\n",
       "      <th>998</th>\n",
       "      <td>333478.21</td>\n",
       "      <td>7395558.71</td>\n",
       "      <td>740.46</td>\n",
       "    </tr>\n",
       "    <tr>\n",
       "      <th>999</th>\n",
       "      <td>333478.11</td>\n",
       "      <td>7395559.02</td>\n",
       "      <td>742.96</td>\n",
       "    </tr>\n",
       "  </tbody>\n",
       "</table>\n",
       "<p>1000 rows × 3 columns</p>\n",
       "</div>"
      ],
      "text/plain": [
       "             X           Y       Z\n",
       "0    333499.29  7395564.35  735.34\n",
       "1    333499.23  7395565.79  735.41\n",
       "2    333499.20  7395566.79  735.25\n",
       "3    333499.15  7395568.21  735.37\n",
       "4    333499.10  7395569.68  735.30\n",
       "..         ...         ...     ...\n",
       "995  333478.98  7395552.47  724.99\n",
       "996  333478.48  7395558.73  732.93\n",
       "997  333478.44  7395558.95  733.96\n",
       "998  333478.21  7395558.71  740.46\n",
       "999  333478.11  7395559.02  742.96\n",
       "\n",
       "[1000 rows x 3 columns]"
      ]
     },
     "execution_count": 18,
     "metadata": {},
     "output_type": "execute_result"
    }
   ],
   "source": [
    "df_pts"
   ]
  },
  {
   "cell_type": "markdown",
   "metadata": {},
   "source": [
    "## Calculando o Azimute com Matriz de pontos\n",
    "\n",
    "Portanto agora que temos os pontos de origem e os pontos alvo podemos calcular o Azimute. Porém se fizermos isso ponto a ponto não vamos usar os recursos computacionais de vetorização que promovem grande eficiência computacional.\n",
    "Ainda não será exatamente essa função que vamos utilzar em produção, mas para fins didáticos e de aprendizado vamos mante-las."
   ]
  },
  {
   "cell_type": "code",
   "execution_count": 19,
   "metadata": {},
   "outputs": [
    {
     "data": {
      "text/html": [
       "<pre>✔️ 484 µs (2021-05-11T17:21:16/2021-05-11T17:21:16)</pre>"
      ],
      "text/plain": [
       "<IPython.core.display.HTML object>"
      ]
     },
     "metadata": {},
     "output_type": "display_data"
    }
   ],
   "source": [
    "import numpy as np\n",
    "\n",
    "def np_az(nd_building, nd_ground):\n",
    "    delta_x = nd_building[:, 0] - nd_ground[0, 0]\n",
    "    delta_y = nd_building[:, 1] - nd_ground[0, 1]\n",
    "    degree = np.arctan2(delta_x, delta_y) * 180 / np.pi\n",
    "    degree[np.less(degree, 0)] += 360.0\n",
    "    return degree"
   ]
  },
  {
   "cell_type": "code",
   "execution_count": 20,
   "metadata": {},
   "outputs": [
    {
     "data": {
      "text/html": [
       "<pre>✔️ 24 ms (2021-05-11T17:21:22/2021-05-11T17:21:22)</pre>"
      ],
      "text/plain": [
       "<IPython.core.display.HTML object>"
      ]
     },
     "metadata": {},
     "output_type": "display_data"
    }
   ],
   "source": [
    "## Gerando dados de teste\n",
    "test_ground = np.array([[0.,0.,0.], [1.,1.,1.]])\n",
    "test_building = np.array([[0.,2.,2.], [2.,0,2.], [0.,-2.,2.], [-2.,0,18787.], [-2.,9899.,0.1]])"
   ]
  },
  {
   "cell_type": "code",
   "execution_count": 21,
   "metadata": {},
   "outputs": [
    {
     "data": {
      "text/html": [
       "<pre>✔️ 9.23 ms (2021-05-11T17:21:22/2021-05-11T17:21:22)</pre>"
      ],
      "text/plain": [
       "<IPython.core.display.HTML object>"
      ]
     },
     "metadata": {},
     "output_type": "display_data"
    },
    {
     "data": {
      "text/plain": [
       "array([  0.        ,  90.        , 180.        , 270.        ,\n",
       "       359.98842393])"
      ]
     },
     "execution_count": 21,
     "metadata": {},
     "output_type": "execute_result"
    }
   ],
   "source": [
    "az = np_az(test_building, test_ground)\n",
    "az"
   ]
  },
  {
   "cell_type": "markdown",
   "metadata": {},
   "source": [
    "## Calculando a altura/elevação com matriz de pontos\n",
    "\n",
    "Da mesma forma vamos fazer com a altura/elevação"
   ]
  },
  {
   "cell_type": "code",
   "execution_count": 22,
   "metadata": {},
   "outputs": [
    {
     "data": {
      "text/html": [
       "<pre>✔️ 4.03 ms (2021-05-11T17:21:32/2021-05-11T17:21:32)</pre>"
      ],
      "text/plain": [
       "<IPython.core.display.HTML object>"
      ]
     },
     "metadata": {},
     "output_type": "display_data"
    }
   ],
   "source": [
    "## Calculando altura/elevação\n",
    "\n",
    "from scipy.spatial import distance\n",
    "\n",
    "def np_altura(nd_building, nd_ground):\n",
    "    altura = nd_building[:, 2] - nd_ground[0, 2]\n",
    "    distancia = np.sqrt(np.sum((nd_building[:, [0,1]] - nd_ground[0, [0,1]])**2, axis=1))\n",
    "    return np.arctan2((nd_building[:, 2] - nd_ground[0, 2]), distancia) * 180 / np.pi"
   ]
  },
  {
   "cell_type": "code",
   "execution_count": 24,
   "metadata": {},
   "outputs": [
    {
     "data": {
      "text/html": [
       "<pre>✔️ 2.32 ms (2021-05-11T17:03:32/2021-05-11T17:03:32)</pre>"
      ],
      "text/plain": [
       "<IPython.core.display.HTML object>"
      ]
     },
     "metadata": {},
     "output_type": "display_data"
    },
    {
     "data": {
      "text/plain": [
       "array([4.50000000e+01, 4.50000000e+01, 4.50000000e+01, 8.99939005e+01,\n",
       "       5.78803701e-04])"
      ]
     },
     "execution_count": 24,
     "metadata": {},
     "output_type": "execute_result"
    }
   ],
   "source": [
    "altura = np_altura(test_building, test_ground)\n",
    "altura"
   ]
  },
  {
   "cell_type": "code",
   "execution_count": 25,
   "metadata": {},
   "outputs": [
    {
     "data": {
      "text/html": [
       "<pre>✔️ 2.7 ms (2021-05-11T17:03:32/2021-05-11T17:03:32)</pre>"
      ],
      "text/plain": [
       "<IPython.core.display.HTML object>"
      ]
     },
     "metadata": {},
     "output_type": "display_data"
    },
    {
     "data": {
      "text/plain": [
       "(5, 2)"
      ]
     },
     "execution_count": 25,
     "metadata": {},
     "output_type": "execute_result"
    }
   ],
   "source": [
    "nd_coordenadas = np.array([az, altura])\n",
    "nd_coordenadas.transpose().shape"
   ]
  },
  {
   "cell_type": "markdown",
   "metadata": {},
   "source": [
    "## Utilizando os dados de Building\n",
    "\n",
    "As funcões de calculo de Azimute e Altura/Elevação produzidas até agora aqui nesse NoteBook precisam ser iteradas sobre cada linha de ponto de ground. Portanto precisamos refatorar essas funções para trabalhar e iterar sobre cada um dos pontos utilizando o potencial computacional do NumPy, ou seja, trabalhando com vetorização."
   ]
  },
  {
   "cell_type": "code",
   "execution_count": 26,
   "metadata": {},
   "outputs": [
    {
     "data": {
      "text/html": [
       "<pre>✔️ 330 µs (2021-05-11T17:03:33/2021-05-11T17:03:33)</pre>"
      ],
      "text/plain": [
       "<IPython.core.display.HTML object>"
      ]
     },
     "metadata": {},
     "output_type": "display_data"
    }
   ],
   "source": [
    "nd_building = df_building.to_numpy()\n",
    "nd_ground = df_ground.to_numpy()"
   ]
  },
  {
   "cell_type": "code",
   "execution_count": 27,
   "metadata": {},
   "outputs": [
    {
     "data": {
      "text/html": [
       "<pre>✔️ 1.79 ms (2021-05-11T17:03:33/2021-05-11T17:03:33)</pre>"
      ],
      "text/plain": [
       "<IPython.core.display.HTML object>"
      ]
     },
     "metadata": {},
     "output_type": "display_data"
    },
    {
     "data": {
      "text/plain": [
       "300792"
      ]
     },
     "execution_count": 27,
     "metadata": {},
     "output_type": "execute_result"
    }
   ],
   "source": [
    "len(nd_building)"
   ]
  },
  {
   "cell_type": "code",
   "execution_count": 28,
   "metadata": {},
   "outputs": [
    {
     "data": {
      "text/html": [
       "<pre>✔️ 869 µs (2021-05-11T17:03:33/2021-05-11T17:03:33)</pre>"
      ],
      "text/plain": [
       "<IPython.core.display.HTML object>"
      ]
     },
     "metadata": {},
     "output_type": "display_data"
    }
   ],
   "source": [
    "#def calc_svf(nd_building, nd_ground):\n",
    "#    az = np_az(nd_building, nd_ground)\n",
    "#    altura = np_altura(nd_building, nd_ground)\n",
    "#    coordenadas = np.array([az, altura])\n",
    "#    return coordenadas.transpose()"
   ]
  },
  {
   "cell_type": "code",
   "execution_count": 29,
   "metadata": {},
   "outputs": [
    {
     "data": {
      "text/html": [
       "<pre>✔️ 478 µs (2021-05-11T17:03:33/2021-05-11T17:03:33)</pre>"
      ],
      "text/plain": [
       "<IPython.core.display.HTML object>"
      ]
     },
     "metadata": {},
     "output_type": "display_data"
    }
   ],
   "source": [
    "#calc_svf(nd_building, nd_ground)"
   ]
  },
  {
   "cell_type": "markdown",
   "metadata": {},
   "source": [
    "### Refatorando as funções de Azimute e Altura para trabalhar com o vetorização de Ground e Building\n",
    "\n",
    "Para fins computacionais e menos iterações de laço que tendem a não ser tão eficientes, vamos tentar usar os recursos de vetorização e evitar o laço repetitivo"
   ]
  },
  {
   "cell_type": "code",
   "execution_count": 30,
   "metadata": {},
   "outputs": [
    {
     "data": {
      "text/html": [
       "<pre>✔️ 237 µs (2021-05-11T17:03:33/2021-05-11T17:03:33)</pre>"
      ],
      "text/plain": [
       "<IPython.core.display.HTML object>"
      ]
     },
     "metadata": {},
     "output_type": "display_data"
    }
   ],
   "source": [
    "# def np_coordenadas(nd_building, nd_ground):\n",
    "#     n2d_ground_z = nd_ground[:, 2].reshape(-1, 1)\n",
    "#     n2dt_building_z = nd_building[:, 2].reshape(-1, 1).transpose()\n",
    "    \n",
    "#     nd_altura = np.subtract(n2dt_building_z, n2d_ground_z)\n",
    "    \n",
    "#     n2d_ground_x = nd_ground[:, 0].reshape(-1, 1)\n",
    "#     n2dt_building_x = nd_building[:, 0].reshape(-1, 1).transpose()\n",
    "#     nd_delta_x = np.subtract(n2dt_building_x, n2d_ground_x)\n",
    "    \n",
    "#     n2d_ground_y = nd_ground[:, 1].reshape(-1, 1)\n",
    "#     n2dt_building_y = nd_building[:, 1].reshape(-1, 1).transpose()\n",
    "#     nd_delta_y = np.subtract(n2dt_building_y, n2d_ground_y)\n",
    "    \n",
    "#     nd_distancia = np.hypot(nd_delta_x, nd_delta_y)\n",
    "    \n",
    "#     nd_elevacao = np.degrees(np.arctan2(nd_altura, nd_distancia))\n",
    "#     #nd_elevacao[np.less(nd_elevacao, 0.)] += 360.0\n",
    "    \n",
    "#     nd_azimute = np.arctan2(nd_delta_x, nd_delta_y) * 180 / np.pi\n",
    "#     nd_azimute[np.less(nd_azimute, 0.)] += 360.0\n",
    "    \n",
    "#     return nd_azimute, nd_elevacao"
   ]
  },
  {
   "cell_type": "code",
   "execution_count": 31,
   "metadata": {},
   "outputs": [
    {
     "data": {
      "text/html": [
       "<pre>✔️ 597 µs (2021-05-11T17:03:33/2021-05-11T17:03:33)</pre>"
      ],
      "text/plain": [
       "<IPython.core.display.HTML object>"
      ]
     },
     "metadata": {},
     "output_type": "display_data"
    }
   ],
   "source": [
    "## Gerando dados de teste\n",
    "test_ground = np.array([[0.,0.,0.], [-1.,-1.,-1.], [1.,1.,1.]], dtype='float32')\n",
    "test_building = np.array([[0.,2.,2.], [2.,0,2.], [0.,-2.,2.], [-2.,0,18787.], [-2.,9899.,0.1]], dtype='float32')"
   ]
  },
  {
   "cell_type": "code",
   "execution_count": 32,
   "metadata": {},
   "outputs": [
    {
     "data": {
      "text/html": [
       "<pre>✔️ 505 µs (2021-05-11T17:03:33/2021-05-11T17:03:33)</pre>"
      ],
      "text/plain": [
       "<IPython.core.display.HTML object>"
      ]
     },
     "metadata": {},
     "output_type": "display_data"
    }
   ],
   "source": [
    "# azimute, elevacao = \\\n",
    "# np_coordenadas(nd_building, nd_ground)\n",
    "# print(\"Distância: \")\n",
    "# print(elevacao.shape)\n",
    "# print(elevacao.size)\n",
    "# print(\"Elevacao: \")\n",
    "# print(azimute.shape)\n",
    "# print(azimute.size)"
   ]
  },
  {
   "cell_type": "code",
   "execution_count": null,
   "metadata": {},
   "outputs": [],
   "source": []
  },
  {
   "cell_type": "code",
   "execution_count": 33,
   "metadata": {},
   "outputs": [
    {
     "data": {
      "text/html": [
       "<pre>✔️ 202 µs (2021-05-11T17:03:34/2021-05-11T17:03:34)</pre>"
      ],
      "text/plain": [
       "<IPython.core.display.HTML object>"
      ]
     },
     "metadata": {},
     "output_type": "display_data"
    }
   ],
   "source": [
    "# nd_coordenadas = np.stack((azimute, elevacao), axis=1)"
   ]
  },
  {
   "cell_type": "code",
   "execution_count": 34,
   "metadata": {},
   "outputs": [
    {
     "data": {
      "text/html": [
       "<pre>✔️ 700 µs (2021-05-11T17:03:34/2021-05-11T17:03:34)</pre>"
      ],
      "text/plain": [
       "<IPython.core.display.HTML object>"
      ]
     },
     "metadata": {},
     "output_type": "display_data"
    }
   ],
   "source": [
    "# nd_coordenadas"
   ]
  },
  {
   "cell_type": "markdown",
   "metadata": {},
   "source": [
    "### Menos linhas, mais legibilidade, talvez mais eficiência\n",
    "\n",
    "Podemos ainda refatorar o código acima e reduzir algumas linhas de código, trabalhando desde o começo com 3 dimensões. Isso ainda pode acarretar alguma melhora na performance computacional mas não é a intenção por enquanto."
   ]
  },
  {
   "cell_type": "code",
   "execution_count": 36,
   "metadata": {},
   "outputs": [
    {
     "data": {
      "text/html": [
       "<pre>✔️ 2.82 ms (2021-05-11T17:03:51/2021-05-11T17:03:51)</pre>"
      ],
      "text/plain": [
       "<IPython.core.display.HTML object>"
      ]
     },
     "metadata": {},
     "output_type": "display_data"
    }
   ],
   "source": [
    "def np_coordenadas(nd_building, nd_ground):\n",
    "    n2d_ground = nd_ground[:, :].reshape(-1, 3).astype('float32')\n",
    "    n2d_ground = n2d_ground.reshape(-1, 3, 1)\n",
    "\n",
    "    n2dt_building = nd_building[:, :].reshape(-1, 3).astype('float32')\n",
    "    n2dt_building = n2dt_building.reshape(-1, 3, 1).transpose()\n",
    "\n",
    "    nd_delta = np.subtract(n2dt_building, n2d_ground)\n",
    "    \n",
    "    nd_altura = nd_delta[:,2,:]\n",
    "    \n",
    "    nd_distancia = np.hypot(nd_delta[:,0,:], nd_delta[:,1,:])\n",
    "    \n",
    "    nd_elevacao = np.degrees(np.arctan2(nd_altura, nd_distancia))\n",
    "    nd_elevacao[np.less(nd_elevacao, 0.)] += 360.0\n",
    "    \n",
    "    nd_azimute = np.arctan2(nd_delta[:,1,:], nd_delta[:,0,:]) * 180 / np.pi\n",
    "    nd_azimute[np.less(nd_azimute, 0.)] += 360.0\n",
    "    \n",
    "    return nd_azimute, nd_elevacao"
   ]
  },
  {
   "cell_type": "code",
   "execution_count": 45,
   "metadata": {},
   "outputs": [
    {
     "data": {
      "text/html": [
       "<pre>✔️ 4.78 ms (2021-05-11T17:07:51/2021-05-11T17:07:51)</pre>"
      ],
      "text/plain": [
       "<IPython.core.display.HTML object>"
      ]
     },
     "metadata": {},
     "output_type": "display_data"
    }
   ],
   "source": [
    "n2d_ground = nd_ground[:, :].reshape(-1, 3).astype('float32')\n",
    "n2d_ground = n2d_ground.reshape(-1, 3, 1)"
   ]
  },
  {
   "cell_type": "code",
   "execution_count": 38,
   "metadata": {},
   "outputs": [
    {
     "data": {
      "text/html": [
       "<pre>✔️ 7.69 ms (2021-05-11T17:04:08/2021-05-11T17:04:08)</pre>"
      ],
      "text/plain": [
       "<IPython.core.display.HTML object>"
      ]
     },
     "metadata": {},
     "output_type": "display_data"
    }
   ],
   "source": [
    "n2dt_building = nd_building[:, :].reshape(-1, 3).astype('float32')\n",
    "n2dt_building = n2dt_building.reshape(-1, 3, 1).transpose()"
   ]
  },
  {
   "cell_type": "code",
   "execution_count": 39,
   "metadata": {},
   "outputs": [
    {
     "data": {
      "text/html": [
       "<pre>✔️ 469 ms (2021-05-11T17:04:15/2021-05-11T17:04:16)</pre>"
      ],
      "text/plain": [
       "<IPython.core.display.HTML object>"
      ]
     },
     "metadata": {},
     "output_type": "display_data"
    }
   ],
   "source": [
    "nd_delta = np.subtract(n2dt_building, n2d_ground)"
   ]
  },
  {
   "cell_type": "code",
   "execution_count": 47,
   "metadata": {},
   "outputs": [
    {
     "data": {
      "text/html": [
       "<pre>✔️ 2.07 ms (2021-05-11T17:12:57/2021-05-11T17:12:57)</pre>"
      ],
      "text/plain": [
       "<IPython.core.display.HTML object>"
      ]
     },
     "metadata": {},
     "output_type": "display_data"
    }
   ],
   "source": [
    "nd_altura = nd_delta[:,2,:]"
   ]
  },
  {
   "cell_type": "code",
   "execution_count": 51,
   "metadata": {},
   "outputs": [
    {
     "data": {
      "text/html": [
       "<pre>✔️ 1.63 s (2021-05-11T17:13:36/2021-05-11T17:13:38)</pre>"
      ],
      "text/plain": [
       "<IPython.core.display.HTML object>"
      ]
     },
     "metadata": {},
     "output_type": "display_data"
    }
   ],
   "source": [
    "nd_distancia = np.hypot(nd_delta[:,0,:], nd_delta[:,1,:])"
   ]
  },
  {
   "cell_type": "code",
   "execution_count": 54,
   "metadata": {},
   "outputs": [
    {
     "data": {
      "text/html": [
       "<pre>✔️ 4.54 s (2021-05-11T17:14:49/2021-05-11T17:14:54)</pre>"
      ],
      "text/plain": [
       "<IPython.core.display.HTML object>"
      ]
     },
     "metadata": {},
     "output_type": "display_data"
    }
   ],
   "source": [
    "nd_elevacao = np.degrees(np.arctan2(nd_altura, nd_distancia))\n",
    "nd_elevacao[np.less(nd_elevacao, 0.)] += 360.0"
   ]
  },
  {
   "cell_type": "code",
   "execution_count": 56,
   "metadata": {},
   "outputs": [
    {
     "data": {
      "text/html": [
       "<pre>✔️ 6.64 ms (2021-05-11T17:15:15/2021-05-11T17:15:15)</pre>"
      ],
      "text/plain": [
       "<IPython.core.display.HTML object>"
      ]
     },
     "metadata": {},
     "output_type": "display_data"
    },
    {
     "data": {
      "text/plain": [
       "(1000, 300792)"
      ]
     },
     "execution_count": 56,
     "metadata": {},
     "output_type": "execute_result"
    }
   ],
   "source": [
    "nd_elevacao.shape"
   ]
  },
  {
   "cell_type": "code",
   "execution_count": null,
   "metadata": {},
   "outputs": [
    {
     "data": {
      "text/html": [
       "<pre>⌛ 48.6 s (2021-05-11T16:59:15)</pre>"
      ],
      "text/plain": [
       "<IPython.core.display.HTML object>"
      ]
     },
     "metadata": {},
     "output_type": "display_data"
    }
   ],
   "source": [
    "azimute, elevacao = np_coordenadas(nd_building, nd_ground)\n",
    "print(\"Distância: \")\n",
    "print(elevacao.shape)\n",
    "print(elevacao.size)\n",
    "print(\"Elevacao: \")\n",
    "print(azimute.shape)\n",
    "print(azimute.size)"
   ]
  },
  {
   "cell_type": "code",
   "execution_count": null,
   "metadata": {},
   "outputs": [],
   "source": [
    "nd_ground.reshape(-1, 3, 1)"
   ]
  },
  {
   "cell_type": "code",
   "execution_count": null,
   "metadata": {},
   "outputs": [],
   "source": [
    "nd_coordenadas = np.stack((azimute, elevacao), axis=1)"
   ]
  },
  {
   "cell_type": "code",
   "execution_count": null,
   "metadata": {},
   "outputs": [],
   "source": [
    "nd_coordenadas"
   ]
  },
  {
   "cell_type": "markdown",
   "metadata": {},
   "source": [
    "## Calculando o SVF\n",
    "\n",
    "Agora para calcular o SVF vamos dividir a semi-esfera visível do céu em N fusos, definido pela variável`quantidade_de_fusos`.\n",
    "E cada um dos fusos terá uma área esférica visível definido pela função `proporcao_visivel_no fuso`.\n",
    "Depois de disponível essa função vamos iterar ela sobre todos os pontos de ground resultando no retorno da função `proporcao_visivel_total`."
   ]
  },
  {
   "cell_type": "code",
   "execution_count": null,
   "metadata": {},
   "outputs": [],
   "source": [
    "quantidade_de_fusos = 36"
   ]
  }
 ],
 "metadata": {
  "kernelspec": {
   "display_name": "Python 3",
   "language": "python",
   "name": "python3"
  },
  "language_info": {
   "codemirror_mode": {
    "name": "ipython",
    "version": 3
   },
   "file_extension": ".py",
   "mimetype": "text/x-python",
   "name": "python",
   "nbconvert_exporter": "python",
   "pygments_lexer": "ipython3",
   "version": "3.8.5"
  }
 },
 "nbformat": 4,
 "nbformat_minor": 4
}
