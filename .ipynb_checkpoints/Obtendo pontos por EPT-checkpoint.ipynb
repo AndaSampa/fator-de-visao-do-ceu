{
 "cells": [
  {
   "cell_type": "code",
   "execution_count": 1,
   "metadata": {},
   "outputs": [],
   "source": [
    "import pdal\n",
    "import numpy as np\n",
    "import json"
   ]
  },
  {
   "cell_type": "code",
   "execution_count": 2,
   "metadata": {},
   "outputs": [
    {
     "data": {
      "text/html": [
       "<pre>✔️ 543 µs (2021-02-04T16:29:20/2021-02-04T16:29:20)</pre>"
      ],
      "text/plain": [
       "<IPython.core.display.HTML object>"
      ]
     },
     "metadata": {},
     "output_type": "display_data"
    }
   ],
   "source": [
    "%load_ext autotime"
   ]
  },
  {
   "cell_type": "code",
   "execution_count": 3,
   "metadata": {},
   "outputs": [
    {
     "data": {
      "text/html": [
       "<pre>✔️ 49.3 ms (2021-02-04T16:29:20/2021-02-04T16:29:20)</pre>"
      ],
      "text/plain": [
       "<IPython.core.display.HTML object>"
      ]
     },
     "metadata": {},
     "output_type": "display_data"
    }
   ],
   "source": [
    "from shapely.geometry import Point"
   ]
  },
  {
   "cell_type": "code",
   "execution_count": 4,
   "metadata": {},
   "outputs": [
    {
     "data": {
      "text/html": [
       "<pre>✔️ 902 µs (2021-02-04T16:29:20/2021-02-04T16:29:20)</pre>"
      ],
      "text/plain": [
       "<IPython.core.display.HTML object>"
      ]
     },
     "metadata": {},
     "output_type": "display_data"
    }
   ],
   "source": [
    "point = Point([332482.5494008816,7390674.007792895])"
   ]
  },
  {
   "cell_type": "code",
   "execution_count": 5,
   "metadata": {},
   "outputs": [
    {
     "data": {
      "text/html": [
       "<pre>✔️ 2.21 ms (2021-02-04T16:29:20/2021-02-04T16:29:20)</pre>"
      ],
      "text/plain": [
       "<IPython.core.display.HTML object>"
      ]
     },
     "metadata": {},
     "output_type": "display_data"
    },
    {
     "data": {
      "text/plain": [
       "array([0.104528, 1.045285, 5.226423, 10.452846, 52.264232, 104.528463,\n",
       "       1045.284633])"
      ]
     },
     "execution_count": 5,
     "metadata": {},
     "output_type": "execute_result"
    }
   ],
   "source": [
    "# Verificando a resolução mínima\n",
    "# O tamanho em ângulo do fuso e a distância ao ponto do observador são parâmetros\n",
    "\n",
    "qt_fases = 60\n",
    "angulo_fase = 360. / qt_fases\n",
    "angulo_fase\n",
    "\n",
    "distancia = np.array([1, 10, 50, 100, 500, 1000, 10000])\n",
    "\n",
    "np.set_printoptions(formatter={'float': lambda x: \"{0:0.6f}\".format(x)})\n",
    "np.sin(np.deg2rad(angulo_fase)) * distancia"
   ]
  },
  {
   "cell_type": "code",
   "execution_count": 6,
   "metadata": {},
   "outputs": [
    {
     "data": {
      "text/html": [
       "<pre>✔️ 801 µs (2021-02-04T16:29:20/2021-02-04T16:29:20)</pre>"
      ],
      "text/plain": [
       "<IPython.core.display.HTML object>"
      ]
     },
     "metadata": {},
     "output_type": "display_data"
    }
   ],
   "source": [
    "# resolucoes = [[1, 50], [4, 100], [10, 500], [40, 1000], [100, 10000]]\n",
    "resolucoes = [[2, 550], [4, 1000], [40, 5000], [100, 10000]]"
   ]
  },
  {
   "cell_type": "code",
   "execution_count": 7,
   "metadata": {},
   "outputs": [
    {
     "data": {
      "text/html": [
       "<pre>✔️ 602 µs (2021-02-04T16:29:21/2021-02-04T16:29:21)</pre>"
      ],
      "text/plain": [
       "<IPython.core.display.HTML object>"
      ]
     },
     "metadata": {},
     "output_type": "display_data"
    }
   ],
   "source": [
    "pts = []"
   ]
  },
  {
   "cell_type": "code",
   "execution_count": 8,
   "metadata": {},
   "outputs": [
    {
     "data": {
      "text/html": [
       "<pre>✔️ 19 s (2021-02-04T16:29:21/2021-02-04T16:29:40)</pre>"
      ],
      "text/plain": [
       "<IPython.core.display.HTML object>"
      ]
     },
     "metadata": {},
     "output_type": "display_data"
    },
    {
     "name": "stdout",
     "output_type": "stream",
     "text": [
      "Pipeline selecionou 4563006 pontos em 550m de distancia (4.809209040075934 pts/m2)\n",
      "Pipeline selecionou 3535766 pontos em 1000m de distancia (1.127279240431746 pts/m2)\n",
      "Pipeline selecionou 188108 pontos em 5000m de distancia (0.002398917160910898 pts/m2)\n",
      "Pipeline selecionou 146625 pontos em 10000m de distancia (0.000467472447634564 pts/m2)\n"
     ]
    }
   ],
   "source": [
    "for r, d in resolucoes:\n",
    "    poli = point.buffer(d)\n",
    "    bounds = poli.bounds\n",
    "    \n",
    "    pipeline =  {\"pipeline\": [{\n",
    "      \"type\": \"readers.ept\",\n",
    "      \"filename\": \"https://ept-m3dc-pmsp.s3-sa-east-1.amazonaws.com/ept.json\",\n",
    "      \"threads\": 8,\n",
    "      \"resolution\": r,\n",
    "      \"bounds\": str(([bounds[0], bounds[2]],[bounds[1], bounds[3]]))\n",
    "    }]}\n",
    "    \n",
    "    r = pdal.Pipeline(json.dumps(pipeline))\n",
    "    r.validate()\n",
    "    n_points = r.execute()\n",
    "    \n",
    "    if len(pts) > 0:\n",
    "        pts = np.concatenate([pts, r.arrays[0]], axis=0)\n",
    "    else:\n",
    "        pts = r.arrays[0]\n",
    "    \n",
    "    print(f'Pipeline selecionou {n_points} pontos em {d}m de distancia ({n_points/poli.area} pts/m2)')"
   ]
  },
  {
   "cell_type": "code",
   "execution_count": 9,
   "metadata": {},
   "outputs": [
    {
     "data": {
      "text/html": [
       "<pre>✔️ 63.9 ms (2021-02-04T16:29:40/2021-02-04T16:29:40)</pre>"
      ],
      "text/plain": [
       "<IPython.core.display.HTML object>"
      ]
     },
     "metadata": {},
     "output_type": "display_data"
    }
   ],
   "source": [
    "pt_edif = pts['Classification'] == 6\n",
    "pt_ground = pts['Classification'] == 2"
   ]
  },
  {
   "cell_type": "code",
   "execution_count": 10,
   "metadata": {},
   "outputs": [
    {
     "data": {
      "text/html": [
       "<pre>✔️ 15.2 ms (2021-02-04T16:29:40/2021-02-04T16:29:40)</pre>"
      ],
      "text/plain": [
       "<IPython.core.display.HTML object>"
      ]
     },
     "metadata": {},
     "output_type": "display_data"
    },
    {
     "data": {
      "text/plain": [
       "153546"
      ]
     },
     "execution_count": 10,
     "metadata": {},
     "output_type": "execute_result"
    }
   ],
   "source": [
    "len(pts[pt_ground])"
   ]
  },
  {
   "cell_type": "code",
   "execution_count": null,
   "metadata": {},
   "outputs": [],
   "source": [
    "## TODO \n",
    "# Criar pontos a cada 1 metro contendo o valor máximo de ground ou building"
   ]
  },
  {
   "cell_type": "code",
   "execution_count": null,
   "metadata": {},
   "outputs": [],
   "source": []
  }
 ],
 "metadata": {
  "kernelspec": {
   "display_name": "Python 3",
   "language": "python",
   "name": "python3"
  },
  "language_info": {
   "codemirror_mode": {
    "name": "ipython",
    "version": 3
   },
   "file_extension": ".py",
   "mimetype": "text/x-python",
   "name": "python",
   "nbconvert_exporter": "python",
   "pygments_lexer": "ipython3",
   "version": "3.8.6"
  }
 },
 "nbformat": 4,
 "nbformat_minor": 4
}
