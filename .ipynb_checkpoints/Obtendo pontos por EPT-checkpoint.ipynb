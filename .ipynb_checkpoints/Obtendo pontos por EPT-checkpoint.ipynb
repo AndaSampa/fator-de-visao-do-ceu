{
 "cells": [
  {
   "cell_type": "code",
   "execution_count": 18,
   "metadata": {},
   "outputs": [
    {
     "data": {
      "text/html": [
       "<pre>✔️ 3.33 ms (2021-02-03T15:51:44/2021-02-03T15:51:44)</pre>"
      ],
      "text/plain": [
       "<IPython.core.display.HTML object>"
      ]
     },
     "metadata": {},
     "output_type": "display_data"
    }
   ],
   "source": [
    "import pdal\n",
    "import numpy as np\n",
    "import json"
   ]
  },
  {
   "cell_type": "code",
   "execution_count": 2,
   "metadata": {},
   "outputs": [
    {
     "data": {
      "text/html": [
       "<pre>✔️ 996 µs (2021-02-03T15:39:52/2021-02-03T15:39:52)</pre>"
      ],
      "text/plain": [
       "<IPython.core.display.HTML object>"
      ]
     },
     "metadata": {},
     "output_type": "display_data"
    }
   ],
   "source": [
    "%load_ext autotime"
   ]
  },
  {
   "cell_type": "code",
   "execution_count": 104,
   "metadata": {},
   "outputs": [
    {
     "data": {
      "text/html": [
       "<pre>✔️ 1.77 ms (2021-02-03T16:28:38/2021-02-03T16:28:38)</pre>"
      ],
      "text/plain": [
       "<IPython.core.display.HTML object>"
      ]
     },
     "metadata": {},
     "output_type": "display_data"
    }
   ],
   "source": [
    "from shapely.geometry import Point"
   ]
  },
  {
   "cell_type": "code",
   "execution_count": 105,
   "metadata": {},
   "outputs": [
    {
     "data": {
      "text/html": [
       "<pre>✔️ 1.27 ms (2021-02-03T16:29:02/2021-02-03T16:29:02)</pre>"
      ],
      "text/plain": [
       "<IPython.core.display.HTML object>"
      ]
     },
     "metadata": {},
     "output_type": "display_data"
    }
   ],
   "source": [
    "point = Point([332482.5494008816,7390674.007792895])"
   ]
  },
  {
   "cell_type": "code",
   "execution_count": 179,
   "metadata": {},
   "outputs": [
    {
     "data": {
      "text/html": [
       "<pre>✔️ 2.89 ms (2021-02-03T16:49:05/2021-02-03T16:49:05)</pre>"
      ],
      "text/plain": [
       "<IPython.core.display.HTML object>"
      ]
     },
     "metadata": {},
     "output_type": "display_data"
    },
    {
     "data": {
      "text/plain": [
       "array([0.104528, 1.045285, 5.226423, 10.452846, 52.264232, 104.528463,\n",
       "       1045.284633])"
      ]
     },
     "execution_count": 179,
     "metadata": {},
     "output_type": "execute_result"
    }
   ],
   "source": [
    "# Verificando a resolução mínima\n",
    "# O tamanho em ângulo do fuso e a distância ao ponto do observador são parâmetros\n",
    "\n",
    "qt_fases = 60\n",
    "angulo_fase = 360. / qt_fases\n",
    "angulo_fase\n",
    "\n",
    "distancia = np.array([1, 10, 50, 100, 500, 1000, 10000])\n",
    "\n",
    "np.set_printoptions(formatter={'float': lambda x: \"{0:0.6f}\".format(x)})\n",
    "np.sin(np.deg2rad(angulo_fase)) * distancia"
   ]
  },
  {
   "cell_type": "code",
   "execution_count": 189,
   "metadata": {},
   "outputs": [
    {
     "data": {
      "text/html": [
       "<pre>✔️ 1.39 ms (2021-02-03T16:56:54/2021-02-03T16:56:54)</pre>"
      ],
      "text/plain": [
       "<IPython.core.display.HTML object>"
      ]
     },
     "metadata": {},
     "output_type": "display_data"
    }
   ],
   "source": [
    "resolucoes = [[1, 50], [4, 100], [10, 500], [40, 1000], [100, 10000]]"
   ]
  },
  {
   "cell_type": "code",
   "execution_count": 190,
   "metadata": {},
   "outputs": [
    {
     "data": {
      "text/html": [
       "<pre>✔️ 23.6 s (2021-02-03T16:56:55/2021-02-03T16:57:19)</pre>"
      ],
      "text/plain": [
       "<IPython.core.display.HTML object>"
      ]
     },
     "metadata": {},
     "output_type": "display_data"
    },
    {
     "name": "stdout",
     "output_type": "stream",
     "text": [
      "Pipeline selecionou 125351 pontos em 50m de distancia (15.985852012511957 pts/m2)\n",
      "Pipeline selecionou 40543 pontos em 100m de distancia (1.2925991777997277 pts/m2)\n",
      "Pipeline selecionou 46056 pontos em 500m de distancia (0.05873462519560167 pts/m2)\n",
      "Pipeline selecionou 7933 pontos em 1000m de distancia (0.0025292132495037967 pts/m2)\n",
      "Pipeline selecionou 146625 pontos em 10000m de distancia (0.000467472447634564 pts/m2)\n"
     ]
    }
   ],
   "source": [
    "for r, d in resolucoes:\n",
    "    poli = point.buffer(d)\n",
    "    bounds = poli.bounds\n",
    "    \n",
    "    pipeline =  {\"pipeline\": [{\n",
    "      \"type\": \"readers.ept\",\n",
    "      \"filename\": \"https://ept-m3dc-pmsp.s3-sa-east-1.amazonaws.com/ept.json\",\n",
    "      \"threads\": 8,\n",
    "      \"resolution\": r,\n",
    "      \"bounds\": str(([bounds[0], bounds[2]],[bounds[1], bounds[3]]))\n",
    "    }]}\n",
    "    \n",
    "    r = pdal.Pipeline(json.dumps(pipeline))\n",
    "    r.validate()\n",
    "    n_points = r.execute()\n",
    "    \n",
    "    print(f'Pipeline selecionou {n_points} pontos em {d}m de distancia ({n_points/poli.area} pts/m2)')"
   ]
  },
  {
   "cell_type": "code",
   "execution_count": 177,
   "metadata": {},
   "outputs": [
    {
     "data": {
      "text/html": [
       "<pre>✔️ 3.82 ms (2021-02-03T16:49:05/2021-02-03T16:49:05)</pre>"
      ],
      "text/plain": [
       "<IPython.core.display.HTML object>"
      ]
     },
     "metadata": {},
     "output_type": "display_data"
    }
   ],
   "source": [
    "poli = point.buffer(10000)"
   ]
  },
  {
   "cell_type": "code",
   "execution_count": 178,
   "metadata": {
    "scrolled": true
   },
   "outputs": [
    {
     "data": {
      "text/html": [
       "<pre>✔️ 5.58 ms (2021-02-03T16:49:05/2021-02-03T16:49:05)</pre>"
      ],
      "text/plain": [
       "<IPython.core.display.HTML object>"
      ]
     },
     "metadata": {},
     "output_type": "display_data"
    }
   ],
   "source": [
    "bounds = poli.bounds"
   ]
  },
  {
   "cell_type": "code",
   "execution_count": 181,
   "metadata": {},
   "outputs": [
    {
     "data": {
      "text/html": [
       "<pre>✔️ 2.32 ms (2021-02-03T16:49:12/2021-02-03T16:49:12)</pre>"
      ],
      "text/plain": [
       "<IPython.core.display.HTML object>"
      ]
     },
     "metadata": {},
     "output_type": "display_data"
    }
   ],
   "source": [
    "pipeline =  {\"pipeline\": [{\n",
    "      \"type\": \"readers.ept\",\n",
    "      \"filename\": \"https://ept-m3dc-pmsp.s3-sa-east-1.amazonaws.com/ept.json\",\n",
    "      \"threads\": 8,\n",
    "      \"resolution\": 100,\n",
    "      \"bounds\": str(([bounds[0], bounds[2]],[bounds[1], bounds[3]]))\n",
    "    }]}"
   ]
  },
  {
   "cell_type": "code",
   "execution_count": 182,
   "metadata": {},
   "outputs": [
    {
     "data": {
      "text/html": [
       "<pre>✔️ 19.7 ms (2021-02-03T16:49:12/2021-02-03T16:49:12)</pre>"
      ],
      "text/plain": [
       "<IPython.core.display.HTML object>"
      ]
     },
     "metadata": {},
     "output_type": "display_data"
    }
   ],
   "source": [
    "r = pdal.Pipeline(json.dumps(pipeline))"
   ]
  },
  {
   "cell_type": "code",
   "execution_count": 183,
   "metadata": {},
   "outputs": [
    {
     "data": {
      "text/html": [
       "<pre>✔️ 1.73 s (2021-02-03T16:49:13/2021-02-03T16:49:14)</pre>"
      ],
      "text/plain": [
       "<IPython.core.display.HTML object>"
      ]
     },
     "metadata": {},
     "output_type": "display_data"
    }
   ],
   "source": [
    "r.validate()\n",
    "n_points = r.execute()"
   ]
  },
  {
   "cell_type": "code",
   "execution_count": 184,
   "metadata": {},
   "outputs": [
    {
     "data": {
      "text/html": [
       "<pre>✔️ 1 ms (2021-02-03T16:49:15/2021-02-03T16:49:15)</pre>"
      ],
      "text/plain": [
       "<IPython.core.display.HTML object>"
      ]
     },
     "metadata": {},
     "output_type": "display_data"
    },
    {
     "name": "stdout",
     "output_type": "stream",
     "text": [
      "Pipeline selected 146625 points (0.0 pts/m2)\n"
     ]
    }
   ],
   "source": [
    "print('Pipeline selected {} points ({:.1f} pts/m2)'.format(n_points, n_points/poli.area))"
   ]
  },
  {
   "cell_type": "code",
   "execution_count": null,
   "metadata": {},
   "outputs": [],
   "source": []
  },
  {
   "cell_type": "code",
   "execution_count": null,
   "metadata": {},
   "outputs": [],
   "source": []
  }
 ],
 "metadata": {
  "kernelspec": {
   "display_name": "Python 3",
   "language": "python",
   "name": "python3"
  },
  "language_info": {
   "codemirror_mode": {
    "name": "ipython",
    "version": 3
   },
   "file_extension": ".py",
   "mimetype": "text/x-python",
   "name": "python",
   "nbconvert_exporter": "python",
   "pygments_lexer": "ipython3",
   "version": "3.8.6"
  }
 },
 "nbformat": 4,
 "nbformat_minor": 4
}
