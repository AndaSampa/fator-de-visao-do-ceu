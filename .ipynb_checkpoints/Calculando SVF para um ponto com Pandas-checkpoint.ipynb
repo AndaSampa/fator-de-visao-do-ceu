{
 "cells": [
  {
   "cell_type": "markdown",
   "id": "f86f68b1",
   "metadata": {},
   "source": [
    "# Calculando SVF para um ponto com Pandas\n",
    "\n",
    "Neste experimento vamos calcular para um ponto definido o SVF utilizando Pandas. Para isso será utilizado uma técnica de calcular para cada ponto o $\\theta$ e o $\\phi$ a partir do ponto escolhido e então agrupar pelo particionamento da semiesfera definida"
   ]
  },
  {
   "cell_type": "code",
   "execution_count": 381,
   "id": "f0dc0fa7",
   "metadata": {},
   "outputs": [
    {
     "data": {
      "text/html": [
       "<pre>✔️ 543 µs (2021-05-20T16:20:09/2021-05-20T16:20:09)</pre>"
      ],
      "text/plain": [
       "<IPython.core.display.HTML object>"
      ]
     },
     "metadata": {},
     "output_type": "display_data"
    }
   ],
   "source": [
    "import pandas as pd\n",
    "import geopandas as gpd\n",
    "import pdal\n",
    "import numpy as np"
   ]
  },
  {
   "cell_type": "code",
   "execution_count": 382,
   "id": "b91d2d83",
   "metadata": {},
   "outputs": [
    {
     "data": {
      "text/html": [
       "<pre>✔️ 661 µs (2021-05-20T16:20:09/2021-05-20T16:20:09)</pre>"
      ],
      "text/plain": [
       "<IPython.core.display.HTML object>"
      ]
     },
     "metadata": {},
     "output_type": "display_data"
    },
    {
     "name": "stdout",
     "output_type": "stream",
     "text": [
      "The autotime extension is already loaded. To reload it, use:\n",
      "  %reload_ext autotime\n"
     ]
    }
   ],
   "source": [
    "%load_ext autotime"
   ]
  },
  {
   "cell_type": "code",
   "execution_count": 383,
   "id": "5231981e",
   "metadata": {},
   "outputs": [
    {
     "data": {
      "text/html": [
       "<pre>✔️ 598 µs (2021-05-20T16:20:09/2021-05-20T16:20:09)</pre>"
      ],
      "text/plain": [
       "<IPython.core.display.HTML object>"
      ]
     },
     "metadata": {},
     "output_type": "display_data"
    }
   ],
   "source": [
    "pipeline=\"\"\"{\n",
    "  \"pipeline\": [\n",
    "    {\n",
    "        \"type\": \"readers.las\",\n",
    "        \"filename\": \"arquivos/MDS/MDS_3314-231.laz\"\n",
    "    },\n",
    "    {\n",
    "        \"type\": \"filters.sample\",\n",
    "        \"radius\": 1\n",
    "    }\n",
    "  ]\n",
    "}\"\"\""
   ]
  },
  {
   "cell_type": "code",
   "execution_count": 384,
   "id": "0b57968a",
   "metadata": {},
   "outputs": [
    {
     "data": {
      "text/html": [
       "<pre>✔️ 32.3 ms (2021-05-20T16:20:09/2021-05-20T16:20:09)</pre>"
      ],
      "text/plain": [
       "<IPython.core.display.HTML object>"
      ]
     },
     "metadata": {},
     "output_type": "display_data"
    }
   ],
   "source": [
    "gdf_observ = gpd.read_file('arquivos/pontos_validacao/pontos_preliminares.gpkg')"
   ]
  },
  {
   "cell_type": "code",
   "execution_count": 385,
   "id": "449ebbed",
   "metadata": {},
   "outputs": [
    {
     "data": {
      "text/html": [
       "<pre>✔️ 104 ms (2021-05-20T16:20:09/2021-05-20T16:20:09)</pre>"
      ],
      "text/plain": [
       "<IPython.core.display.HTML object>"
      ]
     },
     "metadata": {},
     "output_type": "display_data"
    }
   ],
   "source": [
    "gdf_observ = gdf_observ.to_crs(31983)"
   ]
  },
  {
   "cell_type": "code",
   "execution_count": 386,
   "id": "23f7659c",
   "metadata": {},
   "outputs": [
    {
     "data": {
      "text/html": [
       "<pre>✔️ 6.43 ms (2021-05-20T16:20:10/2021-05-20T16:20:10)</pre>"
      ],
      "text/plain": [
       "<IPython.core.display.HTML object>"
      ]
     },
     "metadata": {},
     "output_type": "display_data"
    },
    {
     "data": {
      "text/html": [
       "<div>\n",
       "<style scoped>\n",
       "    .dataframe tbody tr th:only-of-type {\n",
       "        vertical-align: middle;\n",
       "    }\n",
       "\n",
       "    .dataframe tbody tr th {\n",
       "        vertical-align: top;\n",
       "    }\n",
       "\n",
       "    .dataframe thead th {\n",
       "        text-align: right;\n",
       "    }\n",
       "</style>\n",
       "<table border=\"1\" class=\"dataframe\">\n",
       "  <thead>\n",
       "    <tr style=\"text-align: right;\">\n",
       "      <th></th>\n",
       "      <th>SCM</th>\n",
       "      <th>geometry</th>\n",
       "    </tr>\n",
       "  </thead>\n",
       "  <tbody>\n",
       "    <tr>\n",
       "      <th>0</th>\n",
       "      <td>3314-231</td>\n",
       "      <td>POINT (333344.322 7395282.674)</td>\n",
       "    </tr>\n",
       "    <tr>\n",
       "      <th>1</th>\n",
       "      <td>3331-132</td>\n",
       "      <td>POINT (324531.390 7385905.216)</td>\n",
       "    </tr>\n",
       "    <tr>\n",
       "      <th>2</th>\n",
       "      <td>4431-222</td>\n",
       "      <td>POINT (352135.100 7386243.508)</td>\n",
       "    </tr>\n",
       "  </tbody>\n",
       "</table>\n",
       "</div>"
      ],
      "text/plain": [
       "        SCM                        geometry\n",
       "0  3314-231  POINT (333344.322 7395282.674)\n",
       "1  3331-132  POINT (324531.390 7385905.216)\n",
       "2  4431-222  POINT (352135.100 7386243.508)"
      ]
     },
     "execution_count": 386,
     "metadata": {},
     "output_type": "execute_result"
    }
   ],
   "source": [
    "gdf_observ"
   ]
  },
  {
   "cell_type": "code",
   "execution_count": 387,
   "id": "960a6e05",
   "metadata": {},
   "outputs": [
    {
     "data": {
      "text/html": [
       "<pre>✔️ 10.8 ms (2021-05-20T16:20:10/2021-05-20T16:20:10)</pre>"
      ],
      "text/plain": [
       "<IPython.core.display.HTML object>"
      ]
     },
     "metadata": {},
     "output_type": "display_data"
    }
   ],
   "source": [
    "pt_obs = gdf_observ[gdf_observ.SCM == '3314-231'].geometry#.coords[:]"
   ]
  },
  {
   "cell_type": "code",
   "execution_count": 388,
   "id": "0157b41f",
   "metadata": {},
   "outputs": [
    {
     "data": {
      "text/html": [
       "<pre>✔️ 1.26 ms (2021-05-20T16:20:10/2021-05-20T16:20:10)</pre>"
      ],
      "text/plain": [
       "<IPython.core.display.HTML object>"
      ]
     },
     "metadata": {},
     "output_type": "display_data"
    }
   ],
   "source": [
    "pt_obs = pt_obs[0].coords[:][0]"
   ]
  },
  {
   "cell_type": "code",
   "execution_count": 389,
   "id": "3bbc8640",
   "metadata": {},
   "outputs": [
    {
     "data": {
      "text/html": [
       "<pre>✔️ 10.6 s (2021-05-20T16:20:10/2021-05-20T16:20:21)</pre>"
      ],
      "text/plain": [
       "<IPython.core.display.HTML object>"
      ]
     },
     "metadata": {},
     "output_type": "display_data"
    }
   ],
   "source": [
    "r = pdal.Pipeline(pipeline)\n",
    "r.validate()\n",
    "r.execute()\n",
    "arrays = r.arrays"
   ]
  },
  {
   "cell_type": "code",
   "execution_count": 390,
   "id": "542da262",
   "metadata": {},
   "outputs": [
    {
     "data": {
      "text/html": [
       "<pre>✔️ 31.4 ms (2021-05-20T16:20:21/2021-05-20T16:20:21)</pre>"
      ],
      "text/plain": [
       "<IPython.core.display.HTML object>"
      ]
     },
     "metadata": {},
     "output_type": "display_data"
    }
   ],
   "source": [
    "df = pd.DataFrame(arrays[0])"
   ]
  },
  {
   "cell_type": "code",
   "execution_count": 391,
   "id": "e3e07a7b",
   "metadata": {},
   "outputs": [
    {
     "data": {
      "text/html": [
       "<pre>✔️ 13.8 ms (2021-05-20T16:20:21/2021-05-20T16:20:21)</pre>"
      ],
      "text/plain": [
       "<IPython.core.display.HTML object>"
      ]
     },
     "metadata": {},
     "output_type": "display_data"
    }
   ],
   "source": [
    "df_mds = \\\n",
    "df[(df.Classification == 2) | (df.Classification == 6)]\\\n",
    "                          [['X', 'Y', 'Z']]#\\\n",
    "# .astype({'X': 'int32', \\\n",
    "#         'Y': 'int32', \\\n",
    "#         'Z': 'int16'})"
   ]
  },
  {
   "cell_type": "code",
   "execution_count": 392,
   "id": "bfdeff57",
   "metadata": {},
   "outputs": [
    {
     "data": {
      "text/html": [
       "<pre>✔️ 4.32 ms (2021-05-20T16:20:21/2021-05-20T16:20:21)</pre>"
      ],
      "text/plain": [
       "<IPython.core.display.HTML object>"
      ]
     },
     "metadata": {},
     "output_type": "display_data"
    }
   ],
   "source": [
    "df_mdt = \\\n",
    "df[df.Classification == 2][['X', 'Y', 'Z']]"
   ]
  },
  {
   "cell_type": "code",
   "execution_count": 393,
   "id": "25183a25",
   "metadata": {},
   "outputs": [
    {
     "data": {
      "text/html": [
       "<pre>✔️ 16 ms (2021-05-20T16:20:21/2021-05-20T16:20:21)</pre>"
      ],
      "text/plain": [
       "<IPython.core.display.HTML object>"
      ]
     },
     "metadata": {},
     "output_type": "display_data"
    },
    {
     "data": {
      "text/html": [
       "<div>\n",
       "<style scoped>\n",
       "    .dataframe tbody tr th:only-of-type {\n",
       "        vertical-align: middle;\n",
       "    }\n",
       "\n",
       "    .dataframe tbody tr th {\n",
       "        vertical-align: top;\n",
       "    }\n",
       "\n",
       "    .dataframe thead th {\n",
       "        text-align: right;\n",
       "    }\n",
       "</style>\n",
       "<table border=\"1\" class=\"dataframe\">\n",
       "  <thead>\n",
       "    <tr style=\"text-align: right;\">\n",
       "      <th></th>\n",
       "      <th>X</th>\n",
       "      <th>Y</th>\n",
       "      <th>Z</th>\n",
       "      <th>Intensity</th>\n",
       "      <th>ReturnNumber</th>\n",
       "      <th>NumberOfReturns</th>\n",
       "      <th>ScanDirectionFlag</th>\n",
       "      <th>EdgeOfFlightLine</th>\n",
       "      <th>Classification</th>\n",
       "      <th>ScanAngleRank</th>\n",
       "      <th>UserData</th>\n",
       "      <th>PointSourceId</th>\n",
       "      <th>GpsTime</th>\n",
       "    </tr>\n",
       "  </thead>\n",
       "  <tbody>\n",
       "    <tr>\n",
       "      <th>0</th>\n",
       "      <td>333499.29</td>\n",
       "      <td>7395564.35</td>\n",
       "      <td>735.34</td>\n",
       "      <td>18</td>\n",
       "      <td>1</td>\n",
       "      <td>1</td>\n",
       "      <td>0</td>\n",
       "      <td>0</td>\n",
       "      <td>6</td>\n",
       "      <td>-14.0</td>\n",
       "      <td>17</td>\n",
       "      <td>6</td>\n",
       "      <td>356569.366065</td>\n",
       "    </tr>\n",
       "    <tr>\n",
       "      <th>1</th>\n",
       "      <td>333499.23</td>\n",
       "      <td>7395565.79</td>\n",
       "      <td>735.41</td>\n",
       "      <td>18</td>\n",
       "      <td>1</td>\n",
       "      <td>1</td>\n",
       "      <td>0</td>\n",
       "      <td>0</td>\n",
       "      <td>6</td>\n",
       "      <td>-14.0</td>\n",
       "      <td>17</td>\n",
       "      <td>6</td>\n",
       "      <td>356569.366090</td>\n",
       "    </tr>\n",
       "    <tr>\n",
       "      <th>2</th>\n",
       "      <td>333499.20</td>\n",
       "      <td>7395566.79</td>\n",
       "      <td>735.25</td>\n",
       "      <td>15</td>\n",
       "      <td>1</td>\n",
       "      <td>1</td>\n",
       "      <td>0</td>\n",
       "      <td>0</td>\n",
       "      <td>6</td>\n",
       "      <td>-14.0</td>\n",
       "      <td>17</td>\n",
       "      <td>6</td>\n",
       "      <td>356569.366105</td>\n",
       "    </tr>\n",
       "    <tr>\n",
       "      <th>3</th>\n",
       "      <td>333499.15</td>\n",
       "      <td>7395568.21</td>\n",
       "      <td>735.37</td>\n",
       "      <td>14</td>\n",
       "      <td>1</td>\n",
       "      <td>1</td>\n",
       "      <td>0</td>\n",
       "      <td>0</td>\n",
       "      <td>6</td>\n",
       "      <td>-14.0</td>\n",
       "      <td>17</td>\n",
       "      <td>6</td>\n",
       "      <td>356569.366129</td>\n",
       "    </tr>\n",
       "    <tr>\n",
       "      <th>4</th>\n",
       "      <td>333499.10</td>\n",
       "      <td>7395569.68</td>\n",
       "      <td>735.30</td>\n",
       "      <td>17</td>\n",
       "      <td>1</td>\n",
       "      <td>1</td>\n",
       "      <td>0</td>\n",
       "      <td>0</td>\n",
       "      <td>6</td>\n",
       "      <td>-15.0</td>\n",
       "      <td>17</td>\n",
       "      <td>6</td>\n",
       "      <td>356569.366153</td>\n",
       "    </tr>\n",
       "    <tr>\n",
       "      <th>...</th>\n",
       "      <td>...</td>\n",
       "      <td>...</td>\n",
       "      <td>...</td>\n",
       "      <td>...</td>\n",
       "      <td>...</td>\n",
       "      <td>...</td>\n",
       "      <td>...</td>\n",
       "      <td>...</td>\n",
       "      <td>...</td>\n",
       "      <td>...</td>\n",
       "      <td>...</td>\n",
       "      <td>...</td>\n",
       "      <td>...</td>\n",
       "    </tr>\n",
       "    <tr>\n",
       "      <th>471957</th>\n",
       "      <td>333523.36</td>\n",
       "      <td>7395570.78</td>\n",
       "      <td>735.52</td>\n",
       "      <td>2</td>\n",
       "      <td>1</td>\n",
       "      <td>2</td>\n",
       "      <td>1</td>\n",
       "      <td>0</td>\n",
       "      <td>19</td>\n",
       "      <td>13.0</td>\n",
       "      <td>40</td>\n",
       "      <td>6</td>\n",
       "      <td>363044.324524</td>\n",
       "    </tr>\n",
       "    <tr>\n",
       "      <th>471958</th>\n",
       "      <td>333521.03</td>\n",
       "      <td>7395570.91</td>\n",
       "      <td>731.07</td>\n",
       "      <td>5</td>\n",
       "      <td>1</td>\n",
       "      <td>1</td>\n",
       "      <td>1</td>\n",
       "      <td>0</td>\n",
       "      <td>6</td>\n",
       "      <td>13.0</td>\n",
       "      <td>40</td>\n",
       "      <td>6</td>\n",
       "      <td>363044.342732</td>\n",
       "    </tr>\n",
       "    <tr>\n",
       "      <th>471959</th>\n",
       "      <td>333520.96</td>\n",
       "      <td>7395571.00</td>\n",
       "      <td>732.50</td>\n",
       "      <td>8</td>\n",
       "      <td>1</td>\n",
       "      <td>1</td>\n",
       "      <td>1</td>\n",
       "      <td>0</td>\n",
       "      <td>6</td>\n",
       "      <td>13.0</td>\n",
       "      <td>40</td>\n",
       "      <td>6</td>\n",
       "      <td>363044.342740</td>\n",
       "    </tr>\n",
       "    <tr>\n",
       "      <th>471960</th>\n",
       "      <td>333521.09</td>\n",
       "      <td>7395571.84</td>\n",
       "      <td>731.83</td>\n",
       "      <td>18</td>\n",
       "      <td>1</td>\n",
       "      <td>1</td>\n",
       "      <td>1</td>\n",
       "      <td>0</td>\n",
       "      <td>6</td>\n",
       "      <td>13.0</td>\n",
       "      <td>40</td>\n",
       "      <td>6</td>\n",
       "      <td>363044.360909</td>\n",
       "    </tr>\n",
       "    <tr>\n",
       "      <th>471961</th>\n",
       "      <td>333520.95</td>\n",
       "      <td>7395571.91</td>\n",
       "      <td>729.86</td>\n",
       "      <td>18</td>\n",
       "      <td>1</td>\n",
       "      <td>1</td>\n",
       "      <td>0</td>\n",
       "      <td>0</td>\n",
       "      <td>6</td>\n",
       "      <td>13.0</td>\n",
       "      <td>40</td>\n",
       "      <td>6</td>\n",
       "      <td>363044.364125</td>\n",
       "    </tr>\n",
       "  </tbody>\n",
       "</table>\n",
       "<p>471962 rows × 13 columns</p>\n",
       "</div>"
      ],
      "text/plain": [
       "                X           Y       Z  Intensity  ReturnNumber  \\\n",
       "0       333499.29  7395564.35  735.34         18             1   \n",
       "1       333499.23  7395565.79  735.41         18             1   \n",
       "2       333499.20  7395566.79  735.25         15             1   \n",
       "3       333499.15  7395568.21  735.37         14             1   \n",
       "4       333499.10  7395569.68  735.30         17             1   \n",
       "...           ...         ...     ...        ...           ...   \n",
       "471957  333523.36  7395570.78  735.52          2             1   \n",
       "471958  333521.03  7395570.91  731.07          5             1   \n",
       "471959  333520.96  7395571.00  732.50          8             1   \n",
       "471960  333521.09  7395571.84  731.83         18             1   \n",
       "471961  333520.95  7395571.91  729.86         18             1   \n",
       "\n",
       "        NumberOfReturns  ScanDirectionFlag  EdgeOfFlightLine  Classification  \\\n",
       "0                     1                  0                 0               6   \n",
       "1                     1                  0                 0               6   \n",
       "2                     1                  0                 0               6   \n",
       "3                     1                  0                 0               6   \n",
       "4                     1                  0                 0               6   \n",
       "...                 ...                ...               ...             ...   \n",
       "471957                2                  1                 0              19   \n",
       "471958                1                  1                 0               6   \n",
       "471959                1                  1                 0               6   \n",
       "471960                1                  1                 0               6   \n",
       "471961                1                  0                 0               6   \n",
       "\n",
       "        ScanAngleRank  UserData  PointSourceId        GpsTime  \n",
       "0               -14.0        17              6  356569.366065  \n",
       "1               -14.0        17              6  356569.366090  \n",
       "2               -14.0        17              6  356569.366105  \n",
       "3               -14.0        17              6  356569.366129  \n",
       "4               -15.0        17              6  356569.366153  \n",
       "...               ...       ...            ...            ...  \n",
       "471957           13.0        40              6  363044.324524  \n",
       "471958           13.0        40              6  363044.342732  \n",
       "471959           13.0        40              6  363044.342740  \n",
       "471960           13.0        40              6  363044.360909  \n",
       "471961           13.0        40              6  363044.364125  \n",
       "\n",
       "[471962 rows x 13 columns]"
      ]
     },
     "execution_count": 393,
     "metadata": {},
     "output_type": "execute_result"
    }
   ],
   "source": [
    "df"
   ]
  },
  {
   "cell_type": "code",
   "execution_count": 394,
   "id": "0d3d92f4",
   "metadata": {},
   "outputs": [
    {
     "data": {
      "text/html": [
       "<pre>✔️ 3.34 ms (2021-05-20T16:20:21/2021-05-20T16:20:21)</pre>"
      ],
      "text/plain": [
       "<IPython.core.display.HTML object>"
      ]
     },
     "metadata": {},
     "output_type": "display_data"
    }
   ],
   "source": [
    "distance = np.sqrt((df_mdt.X - pt_obs[0])**2 + (df_mdt.Y - pt_obs[1])**2)"
   ]
  },
  {
   "cell_type": "code",
   "execution_count": 395,
   "id": "92f1ea64",
   "metadata": {},
   "outputs": [
    {
     "data": {
      "text/html": [
       "<pre>✔️ 4.61 ms (2021-05-20T16:20:21/2021-05-20T16:20:21)</pre>"
      ],
      "text/plain": [
       "<IPython.core.display.HTML object>"
      ]
     },
     "metadata": {},
     "output_type": "display_data"
    },
    {
     "data": {
      "text/plain": [
       "Int64Index([237624, 238187, 237180], dtype='int64')"
      ]
     },
     "execution_count": 395,
     "metadata": {},
     "output_type": "execute_result"
    }
   ],
   "source": [
    "distance.sort_values()[:3].index"
   ]
  },
  {
   "cell_type": "code",
   "execution_count": 396,
   "id": "4a805e0f",
   "metadata": {
    "scrolled": true
   },
   "outputs": [
    {
     "data": {
      "text/html": [
       "<pre>✔️ 9.09 ms (2021-05-20T16:20:22/2021-05-20T16:20:22)</pre>"
      ],
      "text/plain": [
       "<IPython.core.display.HTML object>"
      ]
     },
     "metadata": {},
     "output_type": "display_data"
    },
    {
     "data": {
      "text/html": [
       "<div>\n",
       "<style scoped>\n",
       "    .dataframe tbody tr th:only-of-type {\n",
       "        vertical-align: middle;\n",
       "    }\n",
       "\n",
       "    .dataframe tbody tr th {\n",
       "        vertical-align: top;\n",
       "    }\n",
       "\n",
       "    .dataframe thead th {\n",
       "        text-align: right;\n",
       "    }\n",
       "</style>\n",
       "<table border=\"1\" class=\"dataframe\">\n",
       "  <thead>\n",
       "    <tr style=\"text-align: right;\">\n",
       "      <th></th>\n",
       "      <th>X</th>\n",
       "      <th>Y</th>\n",
       "      <th>Z</th>\n",
       "    </tr>\n",
       "  </thead>\n",
       "  <tbody>\n",
       "    <tr>\n",
       "      <th>18</th>\n",
       "      <td>333499.25</td>\n",
       "      <td>7395550.72</td>\n",
       "      <td>724.76</td>\n",
       "    </tr>\n",
       "    <tr>\n",
       "      <th>20</th>\n",
       "      <td>333499.14</td>\n",
       "      <td>7395553.60</td>\n",
       "      <td>724.86</td>\n",
       "    </tr>\n",
       "    <tr>\n",
       "      <th>26</th>\n",
       "      <td>333498.88</td>\n",
       "      <td>7395560.92</td>\n",
       "      <td>724.87</td>\n",
       "    </tr>\n",
       "    <tr>\n",
       "      <th>38</th>\n",
       "      <td>333498.72</td>\n",
       "      <td>7395562.04</td>\n",
       "      <td>725.02</td>\n",
       "    </tr>\n",
       "    <tr>\n",
       "      <th>77</th>\n",
       "      <td>333498.36</td>\n",
       "      <td>7395551.34</td>\n",
       "      <td>724.89</td>\n",
       "    </tr>\n",
       "    <tr>\n",
       "      <th>...</th>\n",
       "      <td>...</td>\n",
       "      <td>...</td>\n",
       "      <td>...</td>\n",
       "    </tr>\n",
       "    <tr>\n",
       "      <th>471680</th>\n",
       "      <td>333563.96</td>\n",
       "      <td>7395552.14</td>\n",
       "      <td>724.30</td>\n",
       "    </tr>\n",
       "    <tr>\n",
       "      <th>471723</th>\n",
       "      <td>333558.16</td>\n",
       "      <td>7395554.04</td>\n",
       "      <td>724.33</td>\n",
       "    </tr>\n",
       "    <tr>\n",
       "      <th>471739</th>\n",
       "      <td>333556.44</td>\n",
       "      <td>7395554.74</td>\n",
       "      <td>724.53</td>\n",
       "    </tr>\n",
       "    <tr>\n",
       "      <th>471792</th>\n",
       "      <td>333530.38</td>\n",
       "      <td>7395555.62</td>\n",
       "      <td>724.47</td>\n",
       "    </tr>\n",
       "    <tr>\n",
       "      <th>471830</th>\n",
       "      <td>333561.42</td>\n",
       "      <td>7395560.70</td>\n",
       "      <td>724.59</td>\n",
       "    </tr>\n",
       "  </tbody>\n",
       "</table>\n",
       "<p>15890 rows × 3 columns</p>\n",
       "</div>"
      ],
      "text/plain": [
       "                X           Y       Z\n",
       "18      333499.25  7395550.72  724.76\n",
       "20      333499.14  7395553.60  724.86\n",
       "26      333498.88  7395560.92  724.87\n",
       "38      333498.72  7395562.04  725.02\n",
       "77      333498.36  7395551.34  724.89\n",
       "...           ...         ...     ...\n",
       "471680  333563.96  7395552.14  724.30\n",
       "471723  333558.16  7395554.04  724.33\n",
       "471739  333556.44  7395554.74  724.53\n",
       "471792  333530.38  7395555.62  724.47\n",
       "471830  333561.42  7395560.70  724.59\n",
       "\n",
       "[15890 rows x 3 columns]"
      ]
     },
     "execution_count": 396,
     "metadata": {},
     "output_type": "execute_result"
    }
   ],
   "source": [
    "df_mdt"
   ]
  },
  {
   "cell_type": "markdown",
   "id": "c22edeae",
   "metadata": {},
   "source": [
    "## Inferindo o Z do ponto escolhido"
   ]
  },
  {
   "cell_type": "code",
   "execution_count": 397,
   "id": "75964dbb",
   "metadata": {},
   "outputs": [
    {
     "data": {
      "text/html": [
       "<pre>✔️ 4.09 ms (2021-05-20T16:20:22/2021-05-20T16:20:22)</pre>"
      ],
      "text/plain": [
       "<IPython.core.display.HTML object>"
      ]
     },
     "metadata": {},
     "output_type": "display_data"
    }
   ],
   "source": [
    "pt_obs_z = df.iloc[distance.sort_values()[:3].index].Z.mean()"
   ]
  },
  {
   "cell_type": "code",
   "execution_count": 398,
   "id": "940c537d",
   "metadata": {},
   "outputs": [
    {
     "data": {
      "text/html": [
       "<pre>✔️ 2.56 ms (2021-05-20T16:20:22/2021-05-20T16:20:22)</pre>"
      ],
      "text/plain": [
       "<IPython.core.display.HTML object>"
      ]
     },
     "metadata": {},
     "output_type": "display_data"
    },
    {
     "data": {
      "text/plain": [
       "725.0866666666667"
      ]
     },
     "execution_count": 398,
     "metadata": {},
     "output_type": "execute_result"
    }
   ],
   "source": [
    "pt_obs_z"
   ]
  },
  {
   "cell_type": "code",
   "execution_count": 399,
   "id": "da0908a2",
   "metadata": {},
   "outputs": [
    {
     "data": {
      "text/html": [
       "<pre>✔️ 2.8 ms (2021-05-20T16:20:22/2021-05-20T16:20:22)</pre>"
      ],
      "text/plain": [
       "<IPython.core.display.HTML object>"
      ]
     },
     "metadata": {},
     "output_type": "display_data"
    },
    {
     "data": {
      "text/plain": [
       "(333344.32172328787, 7395282.674381973)"
      ]
     },
     "execution_count": 399,
     "metadata": {},
     "output_type": "execute_result"
    }
   ],
   "source": [
    "pt_obs"
   ]
  },
  {
   "cell_type": "markdown",
   "id": "e11809f8",
   "metadata": {},
   "source": [
    "## Dividindo o domo celeste"
   ]
  },
  {
   "cell_type": "code",
   "execution_count": 400,
   "id": "5821f39b",
   "metadata": {},
   "outputs": [
    {
     "data": {
      "text/html": [
       "<pre>✔️ 535 µs (2021-05-20T16:20:22/2021-05-20T16:20:22)</pre>"
      ],
      "text/plain": [
       "<IPython.core.display.HTML object>"
      ]
     },
     "metadata": {},
     "output_type": "display_data"
    }
   ],
   "source": [
    "fusos = 60\n",
    "meridianos = 30"
   ]
  },
  {
   "cell_type": "code",
   "execution_count": 401,
   "id": "9f7c2ea7",
   "metadata": {},
   "outputs": [
    {
     "data": {
      "text/html": [
       "<pre>✔️ 3.24 ms (2021-05-20T16:20:22/2021-05-20T16:20:22)</pre>"
      ],
      "text/plain": [
       "<IPython.core.display.HTML object>"
      ]
     },
     "metadata": {},
     "output_type": "display_data"
    },
    {
     "data": {
      "text/plain": [
       "array([-3.14159265, -3.0368729 , -2.93215314, -2.82743339, -2.72271363,\n",
       "       -2.61799388, -2.51327412, -2.40855437, -2.30383461, -2.19911486,\n",
       "       -2.0943951 , -1.98967535, -1.88495559, -1.78023584, -1.67551608,\n",
       "       -1.57079633, -1.46607657, -1.36135682, -1.25663706, -1.15191731,\n",
       "       -1.04719755, -0.9424778 , -0.83775804, -0.73303829, -0.62831853,\n",
       "       -0.52359878, -0.41887902, -0.31415927, -0.20943951, -0.10471976,\n",
       "        0.        ,  0.10471976,  0.20943951,  0.31415927,  0.41887902,\n",
       "        0.52359878,  0.62831853,  0.73303829,  0.83775804,  0.9424778 ,\n",
       "        1.04719755,  1.15191731,  1.25663706,  1.36135682,  1.46607657,\n",
       "        1.57079633,  1.67551608,  1.78023584,  1.88495559,  1.98967535,\n",
       "        2.0943951 ,  2.19911486,  2.30383461,  2.40855437,  2.51327412,\n",
       "        2.61799388,  2.72271363,  2.82743339,  2.93215314,  3.0368729 ])"
      ]
     },
     "execution_count": 401,
     "metadata": {},
     "output_type": "execute_result"
    }
   ],
   "source": [
    "thetas, delta_theta = np.linspace(-np.pi, np.pi, fusos, retstep=True, endpoint=False)\n",
    "thetas"
   ]
  },
  {
   "cell_type": "code",
   "execution_count": 402,
   "id": "a9ea3747",
   "metadata": {},
   "outputs": [
    {
     "data": {
      "text/html": [
       "<pre>✔️ 3.24 ms (2021-05-20T16:20:22/2021-05-20T16:20:22)</pre>"
      ],
      "text/plain": [
       "<IPython.core.display.HTML object>"
      ]
     },
     "metadata": {},
     "output_type": "display_data"
    },
    {
     "data": {
      "text/plain": [
       "(array([1.        , 0.96666667, 0.93333333, 0.9       , 0.86666667,\n",
       "        0.83333333, 0.8       , 0.76666667, 0.73333333, 0.7       ,\n",
       "        0.66666667, 0.63333333, 0.6       , 0.56666667, 0.53333333,\n",
       "        0.5       , 0.46666667, 0.43333333, 0.4       , 0.36666667,\n",
       "        0.33333333, 0.3       , 0.26666667, 0.23333333, 0.2       ,\n",
       "        0.16666667, 0.13333333, 0.1       , 0.06666667, 0.03333333]),\n",
       " -0.03333333333333333)"
      ]
     },
     "execution_count": 402,
     "metadata": {},
     "output_type": "execute_result"
    }
   ],
   "source": [
    "phis = np.linspace(1., 0., meridianos, retstep=True, endpoint=False)\n",
    "phis"
   ]
  },
  {
   "cell_type": "code",
   "execution_count": 403,
   "id": "c411ce24",
   "metadata": {},
   "outputs": [
    {
     "data": {
      "text/html": [
       "<pre>✔️ 2.79 ms (2021-05-20T16:20:23/2021-05-20T16:20:23)</pre>"
      ],
      "text/plain": [
       "<IPython.core.display.HTML object>"
      ]
     },
     "metadata": {},
     "output_type": "display_data"
    },
    {
     "data": {
      "text/plain": [
       "array([0.        , 0.25892154, 0.36720802, 0.45102681, 0.52231482,\n",
       "       0.58568554, 0.64350111, 0.69716313, 0.74758435, 0.79539883,\n",
       "       0.84106867, 0.88494336, 0.92729522, 0.96834169, 1.00826008,\n",
       "       1.04719755, 1.0852782 , 1.12260819, 1.15927948, 1.19537272,\n",
       "       1.23095942, 1.26610367, 1.30086353, 1.33529209, 1.36943841,\n",
       "       1.40334825, 1.43706474, 1.47062891, 1.50408018, 1.53745682])"
      ]
     },
     "execution_count": 403,
     "metadata": {},
     "output_type": "execute_result"
    }
   ],
   "source": [
    "np.arccos(phis[0])"
   ]
  },
  {
   "cell_type": "markdown",
   "id": "38fd8de1",
   "metadata": {},
   "source": [
    "## Discretizando $\\theta$ e $\\phi$"
   ]
  },
  {
   "cell_type": "code",
   "execution_count": 404,
   "id": "c0c06b91",
   "metadata": {},
   "outputs": [
    {
     "data": {
      "text/html": [
       "<pre>✔️ 2.72 ms (2021-05-20T16:20:23/2021-05-20T16:20:23)</pre>"
      ],
      "text/plain": [
       "<IPython.core.display.HTML object>"
      ]
     },
     "metadata": {},
     "output_type": "display_data"
    },
    {
     "data": {
      "text/plain": [
       "60"
      ]
     },
     "execution_count": 404,
     "metadata": {},
     "output_type": "execute_result"
    }
   ],
   "source": [
    "## Dado um angulo theta t em radianos qual seu indice em \n",
    "## uma divisão de fusos a cada delta_theta\n",
    "\n",
    "t = np.pi - 0.000000001\n",
    "t = np.arctan2(0,-1)\n",
    "np.floor((t + np.pi)/delta_theta).astype('int')"
   ]
  },
  {
   "cell_type": "code",
   "execution_count": 405,
   "id": "64503265",
   "metadata": {},
   "outputs": [
    {
     "data": {
      "text/html": [
       "<pre>✔️ 2.53 ms (2021-05-20T16:20:23/2021-05-20T16:20:23)</pre>"
      ],
      "text/plain": [
       "<IPython.core.display.HTML object>"
      ]
     },
     "metadata": {},
     "output_type": "display_data"
    },
    {
     "data": {
      "text/plain": [
       "29"
      ]
     },
     "execution_count": 405,
     "metadata": {},
     "output_type": "execute_result"
    }
   ],
   "source": [
    "## Dado um angulo phi f em radianos qual seu indice em\n",
    "## uma divisão de meridianos\n",
    "\n",
    "f = np.pi/2\n",
    "indice = np.floor(meridianos - (np.cos(f) / (1 / meridianos))).astype('int')\n",
    "indice"
   ]
  },
  {
   "cell_type": "markdown",
   "id": "31e22257",
   "metadata": {},
   "source": [
    "## Calculando $\\theta$ e $\\phi$ para todos os pontos"
   ]
  },
  {
   "cell_type": "code",
   "execution_count": 406,
   "id": "69c227f6",
   "metadata": {},
   "outputs": [
    {
     "data": {
      "text/html": [
       "<pre>✔️ 5.53 ms (2021-05-20T16:20:23/2021-05-20T16:20:23)</pre>"
      ],
      "text/plain": [
       "<IPython.core.display.HTML object>"
      ]
     },
     "metadata": {},
     "output_type": "display_data"
    }
   ],
   "source": [
    "df_mds = df_mds.loc[df_mds.Z >= pt_obs_z]"
   ]
  },
  {
   "cell_type": "code",
   "execution_count": 407,
   "id": "eae3c47f",
   "metadata": {},
   "outputs": [
    {
     "data": {
      "text/html": [
       "<pre>✔️ 14 ms (2021-05-20T16:20:23/2021-05-20T16:20:23)</pre>"
      ],
      "text/plain": [
       "<IPython.core.display.HTML object>"
      ]
     },
     "metadata": {},
     "output_type": "display_data"
    }
   ],
   "source": [
    "df_mds['theta_idx'] = \\\n",
    "np.floor(np.arctan2(\\\n",
    "          df_mds.X - pt_obs[0],\n",
    "          df_mds.Y - pt_obs[1])/delta_theta).astype('int')"
   ]
  },
  {
   "cell_type": "code",
   "execution_count": 442,
   "id": "90713589",
   "metadata": {},
   "outputs": [
    {
     "data": {
      "text/html": [
       "<pre>✔️ 39.9 ms (2021-05-20T16:31:41/2021-05-20T16:31:41)</pre>"
      ],
      "text/plain": [
       "<IPython.core.display.HTML object>"
      ]
     },
     "metadata": {},
     "output_type": "display_data"
    }
   ],
   "source": [
    "df_mds['phi_idx'] = \\\n",
    "np.floor(meridianos - (np.cos(\\\n",
    "np.arctan2(\\\n",
    "           np.sqrt((df_mds.X - pt_obs[0])**2 + \\\n",
    "                   (df_mds.Y - pt_obs[1])**2), \\\n",
    "           df_mds.Z - pt_obs_z)) / \\\n",
    "                       (1 / meridianos))).astype('int')\n"
   ]
  },
  {
   "cell_type": "code",
   "execution_count": 444,
   "id": "bd75f1fa",
   "metadata": {},
   "outputs": [
    {
     "data": {
      "text/html": [
       "<pre>✔️ 25.5 ms (2021-05-20T16:32:48/2021-05-20T16:32:48)</pre>"
      ],
      "text/plain": [
       "<IPython.core.display.HTML object>"
      ]
     },
     "metadata": {},
     "output_type": "display_data"
    },
    {
     "data": {
      "text/plain": [
       "1442"
      ]
     },
     "execution_count": 444,
     "metadata": {},
     "output_type": "execute_result"
    }
   ],
   "source": [
    "df_mds.groupby(['theta_idx', 'phi_idx']).ngroups"
   ]
  },
  {
   "cell_type": "code",
   "execution_count": 445,
   "id": "06d4f670",
   "metadata": {},
   "outputs": [
    {
     "data": {
      "text/html": [
       "<pre>✔️ 7.95 ms (2021-05-20T16:34:01/2021-05-20T16:34:01)</pre>"
      ],
      "text/plain": [
       "<IPython.core.display.HTML object>"
      ]
     },
     "metadata": {},
     "output_type": "display_data"
    },
    {
     "data": {
      "text/plain": [
       "1800"
      ]
     },
     "execution_count": 445,
     "metadata": {},
     "output_type": "execute_result"
    }
   ],
   "source": [
    "fusos * meridianos"
   ]
  },
  {
   "cell_type": "code",
   "execution_count": 447,
   "id": "e8c8fda8",
   "metadata": {},
   "outputs": [
    {
     "data": {
      "text/html": [
       "<pre>✔️ 25.9 ms (2021-05-20T16:34:51/2021-05-20T16:34:51)</pre>"
      ],
      "text/plain": [
       "<IPython.core.display.HTML object>"
      ]
     },
     "metadata": {},
     "output_type": "display_data"
    },
    {
     "data": {
      "text/plain": [
       "0.1988888888888889"
      ]
     },
     "execution_count": 447,
     "metadata": {},
     "output_type": "execute_result"
    }
   ],
   "source": [
    "## FAtor de Visão de céu\n",
    "1. - (df_mds.groupby(['theta_idx', 'phi_idx']).ngroups / (fusos * meridianos))"
   ]
  },
  {
   "cell_type": "code",
   "execution_count": null,
   "id": "4e7782fb",
   "metadata": {},
   "outputs": [],
   "source": []
  }
 ],
 "metadata": {
  "kernelspec": {
   "display_name": "Python 3",
   "language": "python",
   "name": "python3"
  },
  "language_info": {
   "codemirror_mode": {
    "name": "ipython",
    "version": 3
   },
   "file_extension": ".py",
   "mimetype": "text/x-python",
   "name": "python",
   "nbconvert_exporter": "python",
   "pygments_lexer": "ipython3",
   "version": "3.8.5"
  }
 },
 "nbformat": 4,
 "nbformat_minor": 5
}
