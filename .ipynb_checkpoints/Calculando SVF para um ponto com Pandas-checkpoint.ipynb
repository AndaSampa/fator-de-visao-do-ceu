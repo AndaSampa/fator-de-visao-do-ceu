{
 "cells": [
  {
   "cell_type": "markdown",
   "id": "f86f68b1",
   "metadata": {},
   "source": [
    "# Calculando SVF para um ponto com Pandas\n",
    "\n",
    "Neste experimento vamos calcular para um ponto definido o SVF utilizando Pandas. Para isso será utilizado uma técnica de calcular para cada ponto o $\\theta$ e o $\\phi$ a partir do ponto escolhido e então agrupar pelo particionamento da semiesfera definida"
   ]
  },
  {
   "cell_type": "code",
   "execution_count": 13,
   "id": "f0dc0fa7",
   "metadata": {},
   "outputs": [
    {
     "data": {
      "text/html": [
       "<pre>✔️ 989 µs (2021-06-08T17:15:04/2021-06-08T17:15:04)</pre>"
      ],
      "text/plain": [
       "<IPython.core.display.HTML object>"
      ]
     },
     "metadata": {},
     "output_type": "display_data"
    }
   ],
   "source": [
    "import pandas as pd\n",
    "import geopandas as gpd\n",
    "import pdal\n",
    "import numpy as np"
   ]
  },
  {
   "cell_type": "code",
   "execution_count": 14,
   "id": "b91d2d83",
   "metadata": {},
   "outputs": [
    {
     "data": {
      "text/html": [
       "<pre>✔️ 1.35 ms (2021-06-08T17:15:04/2021-06-08T17:15:04)</pre>"
      ],
      "text/plain": [
       "<IPython.core.display.HTML object>"
      ]
     },
     "metadata": {},
     "output_type": "display_data"
    },
    {
     "name": "stdout",
     "output_type": "stream",
     "text": [
      "The autotime extension is already loaded. To reload it, use:\n",
      "  %reload_ext autotime\n"
     ]
    }
   ],
   "source": [
    "%load_ext autotime"
   ]
  },
  {
   "cell_type": "code",
   "execution_count": 15,
   "id": "5231981e",
   "metadata": {},
   "outputs": [
    {
     "data": {
      "text/html": [
       "<pre>✔️ 540 µs (2021-06-08T17:15:04/2021-06-08T17:15:04)</pre>"
      ],
      "text/plain": [
       "<IPython.core.display.HTML object>"
      ]
     },
     "metadata": {},
     "output_type": "display_data"
    }
   ],
   "source": [
    "pipeline=\"\"\"{\n",
    "  \"pipeline\": [\n",
    "    {\n",
    "        \"type\": \"readers.las\",\n",
    "        \"filename\": \"arquivos/MDS/MDS_3314-231.laz\"\n",
    "    },\n",
    "    {\n",
    "        \"type\": \"filters.sample\",\n",
    "        \"radius\": 1\n",
    "    }\n",
    "  ]\n",
    "}\"\"\"\n",
    "\n",
    "# pipeline=\"\"\"{\n",
    "#   \"pipeline\": [\n",
    "#     {\n",
    "#         \"type\": \"readers.las\",\n",
    "#         \"filename\": \"arquivos/MDS/MDS_3314-231.laz\"\n",
    "#     }\n",
    "#   ]\n",
    "# }\"\"\""
   ]
  },
  {
   "cell_type": "code",
   "execution_count": 16,
   "id": "0b57968a",
   "metadata": {},
   "outputs": [
    {
     "data": {
      "text/html": [
       "<pre>✔️ 36.9 ms (2021-06-08T17:15:04/2021-06-08T17:15:04)</pre>"
      ],
      "text/plain": [
       "<IPython.core.display.HTML object>"
      ]
     },
     "metadata": {},
     "output_type": "display_data"
    }
   ],
   "source": [
    "gdf_observ = gpd.read_file('arquivos/pontos_validacao/pontos_preliminares.gpkg')"
   ]
  },
  {
   "cell_type": "code",
   "execution_count": 17,
   "id": "449ebbed",
   "metadata": {},
   "outputs": [
    {
     "data": {
      "text/html": [
       "<pre>✔️ 347 µs (2021-06-08T17:15:04/2021-06-08T17:15:04)</pre>"
      ],
      "text/plain": [
       "<IPython.core.display.HTML object>"
      ]
     },
     "metadata": {},
     "output_type": "display_data"
    }
   ],
   "source": [
    "# gdf_observ = gdf_observ.to_crs(31983)"
   ]
  },
  {
   "cell_type": "code",
   "execution_count": 18,
   "id": "23f7659c",
   "metadata": {},
   "outputs": [
    {
     "data": {
      "text/html": [
       "<pre>✔️ 12.1 ms (2021-06-08T17:15:04/2021-06-08T17:15:04)</pre>"
      ],
      "text/plain": [
       "<IPython.core.display.HTML object>"
      ]
     },
     "metadata": {},
     "output_type": "display_data"
    },
    {
     "data": {
      "text/html": [
       "<div>\n",
       "<style scoped>\n",
       "    .dataframe tbody tr th:only-of-type {\n",
       "        vertical-align: middle;\n",
       "    }\n",
       "\n",
       "    .dataframe tbody tr th {\n",
       "        vertical-align: top;\n",
       "    }\n",
       "\n",
       "    .dataframe thead th {\n",
       "        text-align: right;\n",
       "    }\n",
       "</style>\n",
       "<table border=\"1\" class=\"dataframe\">\n",
       "  <thead>\n",
       "    <tr style=\"text-align: right;\">\n",
       "      <th></th>\n",
       "      <th>SCM</th>\n",
       "      <th>geometry</th>\n",
       "    </tr>\n",
       "  </thead>\n",
       "  <tbody>\n",
       "    <tr>\n",
       "      <th>0</th>\n",
       "      <td>3314-231</td>\n",
       "      <td>POINT Z (333344.322 7395282.674 724.891)</td>\n",
       "    </tr>\n",
       "    <tr>\n",
       "      <th>1</th>\n",
       "      <td>3331-132</td>\n",
       "      <td>POINT Z (324531.390 7385905.216 757.406)</td>\n",
       "    </tr>\n",
       "    <tr>\n",
       "      <th>2</th>\n",
       "      <td>4431-222</td>\n",
       "      <td>POINT Z (352135.100 7386243.508 789.996)</td>\n",
       "    </tr>\n",
       "    <tr>\n",
       "      <th>3</th>\n",
       "      <td>3314-231</td>\n",
       "      <td>POINT Z (333349.447 7395315.760 724.728)</td>\n",
       "    </tr>\n",
       "    <tr>\n",
       "      <th>4</th>\n",
       "      <td>3314-231</td>\n",
       "      <td>POINT Z (333353.608 7395345.881 724.915)</td>\n",
       "    </tr>\n",
       "    <tr>\n",
       "      <th>5</th>\n",
       "      <td>3314-231</td>\n",
       "      <td>POINT Z (333367.084 7395363.517 724.698)</td>\n",
       "    </tr>\n",
       "    <tr>\n",
       "      <th>6</th>\n",
       "      <td>3314-231</td>\n",
       "      <td>POINT Z (333354.996 7395284.648 724.802)</td>\n",
       "    </tr>\n",
       "    <tr>\n",
       "      <th>7</th>\n",
       "      <td>3314-231</td>\n",
       "      <td>POINT Z (333357.175 7395273.947 724.968)</td>\n",
       "    </tr>\n",
       "    <tr>\n",
       "      <th>8</th>\n",
       "      <td>3314-231</td>\n",
       "      <td>POINT Z (333347.862 7395272.560 724.917)</td>\n",
       "    </tr>\n",
       "    <tr>\n",
       "      <th>9</th>\n",
       "      <td>3314-231</td>\n",
       "      <td>POINT Z (333361.337 7395326.659 724.808)</td>\n",
       "    </tr>\n",
       "    <tr>\n",
       "      <th>10</th>\n",
       "      <td>3314-231</td>\n",
       "      <td>POINT Z (333399.384 7395358.365 724.752)</td>\n",
       "    </tr>\n",
       "    <tr>\n",
       "      <th>11</th>\n",
       "      <td>3314-231</td>\n",
       "      <td>POINT Z (333403.546 7395323.488 724.803)</td>\n",
       "    </tr>\n",
       "    <tr>\n",
       "      <th>12</th>\n",
       "      <td>3314-231</td>\n",
       "      <td>POINT Z (333409.689 7395362.527 724.963)</td>\n",
       "    </tr>\n",
       "    <tr>\n",
       "      <th>13</th>\n",
       "      <td>3314-231</td>\n",
       "      <td>POINT Z (333398.195 7395286.630 724.802)</td>\n",
       "    </tr>\n",
       "    <tr>\n",
       "      <th>14</th>\n",
       "      <td>3314-231</td>\n",
       "      <td>POINT Z (333388.683 7395285.837 724.789)</td>\n",
       "    </tr>\n",
       "    <tr>\n",
       "      <th>15</th>\n",
       "      <td>3314-231</td>\n",
       "      <td>POINT Z (333395.421 7395324.083 724.485)</td>\n",
       "    </tr>\n",
       "    <tr>\n",
       "      <th>16</th>\n",
       "      <td>3314-231</td>\n",
       "      <td>POINT Z (333297.132 7395248.582 732.816)</td>\n",
       "    </tr>\n",
       "    <tr>\n",
       "      <th>17</th>\n",
       "      <td>3314-231</td>\n",
       "      <td>POINT Z (333278.752 7395273.204 733.648)</td>\n",
       "    </tr>\n",
       "    <tr>\n",
       "      <th>18</th>\n",
       "      <td>3314-231</td>\n",
       "      <td>POINT Z (333315.511 7395366.490 732.297)</td>\n",
       "    </tr>\n",
       "    <tr>\n",
       "      <th>19</th>\n",
       "      <td>3314-231</td>\n",
       "      <td>POINT Z (333355.342 7395357.275 724.759)</td>\n",
       "    </tr>\n",
       "    <tr>\n",
       "      <th>20</th>\n",
       "      <td>3314-231</td>\n",
       "      <td>POINT Z (333297.578 7395383.334 737.970)</td>\n",
       "    </tr>\n",
       "    <tr>\n",
       "      <th>21</th>\n",
       "      <td>3314-231</td>\n",
       "      <td>POINT Z (333389.129 7395201.816 724.964)</td>\n",
       "    </tr>\n",
       "    <tr>\n",
       "      <th>22</th>\n",
       "      <td>3314-231</td>\n",
       "      <td>POINT Z (333382.194 7395193.493 724.968)</td>\n",
       "    </tr>\n",
       "    <tr>\n",
       "      <th>23</th>\n",
       "      <td>3314-231</td>\n",
       "      <td>POINT Z (333394.083 7395191.907 725.206)</td>\n",
       "    </tr>\n",
       "  </tbody>\n",
       "</table>\n",
       "</div>"
      ],
      "text/plain": [
       "         SCM                                  geometry\n",
       "0   3314-231  POINT Z (333344.322 7395282.674 724.891)\n",
       "1   3331-132  POINT Z (324531.390 7385905.216 757.406)\n",
       "2   4431-222  POINT Z (352135.100 7386243.508 789.996)\n",
       "3   3314-231  POINT Z (333349.447 7395315.760 724.728)\n",
       "4   3314-231  POINT Z (333353.608 7395345.881 724.915)\n",
       "5   3314-231  POINT Z (333367.084 7395363.517 724.698)\n",
       "6   3314-231  POINT Z (333354.996 7395284.648 724.802)\n",
       "7   3314-231  POINT Z (333357.175 7395273.947 724.968)\n",
       "8   3314-231  POINT Z (333347.862 7395272.560 724.917)\n",
       "9   3314-231  POINT Z (333361.337 7395326.659 724.808)\n",
       "10  3314-231  POINT Z (333399.384 7395358.365 724.752)\n",
       "11  3314-231  POINT Z (333403.546 7395323.488 724.803)\n",
       "12  3314-231  POINT Z (333409.689 7395362.527 724.963)\n",
       "13  3314-231  POINT Z (333398.195 7395286.630 724.802)\n",
       "14  3314-231  POINT Z (333388.683 7395285.837 724.789)\n",
       "15  3314-231  POINT Z (333395.421 7395324.083 724.485)\n",
       "16  3314-231  POINT Z (333297.132 7395248.582 732.816)\n",
       "17  3314-231  POINT Z (333278.752 7395273.204 733.648)\n",
       "18  3314-231  POINT Z (333315.511 7395366.490 732.297)\n",
       "19  3314-231  POINT Z (333355.342 7395357.275 724.759)\n",
       "20  3314-231  POINT Z (333297.578 7395383.334 737.970)\n",
       "21  3314-231  POINT Z (333389.129 7395201.816 724.964)\n",
       "22  3314-231  POINT Z (333382.194 7395193.493 724.968)\n",
       "23  3314-231  POINT Z (333394.083 7395191.907 725.206)"
      ]
     },
     "execution_count": 18,
     "metadata": {},
     "output_type": "execute_result"
    }
   ],
   "source": [
    "gdf_observ"
   ]
  },
  {
   "cell_type": "code",
   "execution_count": 19,
   "id": "e57b4cb2",
   "metadata": {},
   "outputs": [
    {
     "data": {
      "text/html": [
       "<pre>✔️ 3.88 ms (2021-06-08T17:15:05/2021-06-08T17:15:05)</pre>"
      ],
      "text/plain": [
       "<IPython.core.display.HTML object>"
      ]
     },
     "metadata": {},
     "output_type": "display_data"
    },
    {
     "data": {
      "text/plain": [
       "[724.8905029296875,\n",
       " 757.4063110351562,\n",
       " 789.9957275390625,\n",
       " 724.7280883789062,\n",
       " 724.9146118164062,\n",
       " 724.698486328125,\n",
       " 724.8023071289062,\n",
       " 724.9680786132812,\n",
       " 724.916748046875,\n",
       " 724.8078002929688,\n",
       " 724.7515258789062,\n",
       " 724.8031005859375,\n",
       " 724.9634399414062,\n",
       " 724.8020629882812,\n",
       " 724.7892456054688,\n",
       " 724.4847412109375,\n",
       " 732.81640625,\n",
       " 733.6478271484375,\n",
       " 732.2969360351562,\n",
       " 724.7593383789062,\n",
       " 737.9701538085938,\n",
       " 724.9641723632812,\n",
       " 724.968017578125,\n",
       " 725.2062377929688]"
      ]
     },
     "execution_count": 19,
     "metadata": {},
     "output_type": "execute_result"
    }
   ],
   "source": [
    "[list(x.coords)[0][2] for x in gdf_observ.geometry]"
   ]
  },
  {
   "cell_type": "code",
   "execution_count": 20,
   "id": "960a6e05",
   "metadata": {},
   "outputs": [
    {
     "data": {
      "text/html": [
       "<pre>✔️ 8.02 ms (2021-06-08T17:15:05/2021-06-08T17:15:05)</pre>"
      ],
      "text/plain": [
       "<IPython.core.display.HTML object>"
      ]
     },
     "metadata": {},
     "output_type": "display_data"
    }
   ],
   "source": [
    "pt_obs = gdf_observ[gdf_observ.SCM == '3314-231'].geometry#.coords[:]"
   ]
  },
  {
   "cell_type": "code",
   "execution_count": 21,
   "id": "0157b41f",
   "metadata": {},
   "outputs": [
    {
     "data": {
      "text/html": [
       "<pre>✔️ 4.23 ms (2021-06-08T17:15:05/2021-06-08T17:15:05)</pre>"
      ],
      "text/plain": [
       "<IPython.core.display.HTML object>"
      ]
     },
     "metadata": {},
     "output_type": "display_data"
    },
    {
     "data": {
      "text/plain": [
       "[(333344.32172328787, 7395282.674381973, 724.8905029296875),\n",
       " (333349.4469259395, 7395315.759854813, 724.7280883789062),\n",
       " (333353.60836743616, 7395345.880764694, 724.9146118164062),\n",
       " (333367.0835113299, 7395363.517350084, 724.698486328125),\n",
       " (333354.99551460164, 7395284.648125529, 724.8023071289062),\n",
       " (333357.17531729036, 7395273.947275966, 724.9680786132812),\n",
       " (333347.8616148932, 7395272.5601288015, 724.916748046875),\n",
       " (333361.336758787, 7395326.658868257, 724.8078002929688),\n",
       " (333399.3842238988, 7395358.365089184, 724.7515258789062),\n",
       " (333403.5456653954, 7395323.488246164, 724.8031005859375),\n",
       " (333409.68874569994, 7395362.52653068, 724.9634399414062),\n",
       " (333398.19524061406, 7395286.629764337, 724.8020629882812),\n",
       " (333388.6833743361, 7395285.837108814, 724.7892456054688),\n",
       " (333395.420946283, 7395324.082737806, 724.4847412109375),\n",
       " (333297.13166141073, 7395248.582299229, 732.81640625),\n",
       " (333278.7519614674, 7395273.204161419, 733.6478271484375),\n",
       " (333315.5113613541, 7395366.489808304, 732.2969360351562),\n",
       " (333355.34230139304, 7395357.275187847, 724.7593383789062),\n",
       " (333297.57753014256, 7395383.3337381715, 737.9701538085938),\n",
       " (333389.1292430679, 7395201.815623365, 724.9641723632812),\n",
       " (333382.1935072402, 7395193.492740372, 724.968017578125),\n",
       " (333394.0833400877, 7395191.907429325, 725.2062377929688)]"
      ]
     },
     "execution_count": 21,
     "metadata": {},
     "output_type": "execute_result"
    }
   ],
   "source": [
    "[list(x.coords)[0] for x in pt_obs.geometry]"
   ]
  },
  {
   "cell_type": "code",
   "execution_count": 22,
   "id": "abad9b81",
   "metadata": {},
   "outputs": [
    {
     "data": {
      "text/html": [
       "<pre>✔️ 402 µs (2021-06-08T17:15:05/2021-06-08T17:15:05)</pre>"
      ],
      "text/plain": [
       "<IPython.core.display.HTML object>"
      ]
     },
     "metadata": {},
     "output_type": "display_data"
    }
   ],
   "source": [
    "# pt_obs"
   ]
  },
  {
   "cell_type": "markdown",
   "id": "58f94657",
   "metadata": {},
   "source": [
    "## Carregando dados LiDAR 3D"
   ]
  },
  {
   "cell_type": "code",
   "execution_count": 23,
   "id": "3bbc8640",
   "metadata": {},
   "outputs": [
    {
     "data": {
      "text/html": [
       "<pre>✔️ 10.9 s (2021-06-08T17:15:05/2021-06-08T17:15:16)</pre>"
      ],
      "text/plain": [
       "<IPython.core.display.HTML object>"
      ]
     },
     "metadata": {},
     "output_type": "display_data"
    }
   ],
   "source": [
    "r = pdal.Pipeline(pipeline)\n",
    "r.validate()\n",
    "r.execute()\n",
    "arrays = r.arrays"
   ]
  },
  {
   "cell_type": "code",
   "execution_count": 24,
   "id": "542da262",
   "metadata": {},
   "outputs": [
    {
     "data": {
      "text/html": [
       "<pre>✔️ 34.9 ms (2021-06-08T17:15:16/2021-06-08T17:15:16)</pre>"
      ],
      "text/plain": [
       "<IPython.core.display.HTML object>"
      ]
     },
     "metadata": {},
     "output_type": "display_data"
    }
   ],
   "source": [
    "df = pd.DataFrame(arrays[0])"
   ]
  },
  {
   "cell_type": "code",
   "execution_count": 25,
   "id": "e3e07a7b",
   "metadata": {},
   "outputs": [
    {
     "data": {
      "text/html": [
       "<pre>✔️ 18.3 ms (2021-06-08T17:15:16/2021-06-08T17:15:16)</pre>"
      ],
      "text/plain": [
       "<IPython.core.display.HTML object>"
      ]
     },
     "metadata": {},
     "output_type": "display_data"
    }
   ],
   "source": [
    "df_mds = \\\n",
    "df[(df.Classification == 2) | (df.Classification == 6)]\\\n",
    "                          [['X', 'Y', 'Z']]#\\\n",
    "# .astype({'X': 'int32', \\\n",
    "#         'Y': 'int32', \\\n",
    "#         'Z': 'int16'})"
   ]
  },
  {
   "cell_type": "code",
   "execution_count": 26,
   "id": "bfdeff57",
   "metadata": {},
   "outputs": [
    {
     "data": {
      "text/html": [
       "<pre>✔️ 4.67 ms (2021-06-08T17:15:16/2021-06-08T17:15:16)</pre>"
      ],
      "text/plain": [
       "<IPython.core.display.HTML object>"
      ]
     },
     "metadata": {},
     "output_type": "display_data"
    }
   ],
   "source": [
    "df_mdt = \\\n",
    "df[df.Classification == 2][['X', 'Y', 'Z']]"
   ]
  },
  {
   "cell_type": "code",
   "execution_count": 27,
   "id": "25183a25",
   "metadata": {},
   "outputs": [
    {
     "data": {
      "text/html": [
       "<pre>✔️ 19.4 ms (2021-06-08T17:15:17/2021-06-08T17:15:17)</pre>"
      ],
      "text/plain": [
       "<IPython.core.display.HTML object>"
      ]
     },
     "metadata": {},
     "output_type": "display_data"
    },
    {
     "data": {
      "text/html": [
       "<div>\n",
       "<style scoped>\n",
       "    .dataframe tbody tr th:only-of-type {\n",
       "        vertical-align: middle;\n",
       "    }\n",
       "\n",
       "    .dataframe tbody tr th {\n",
       "        vertical-align: top;\n",
       "    }\n",
       "\n",
       "    .dataframe thead th {\n",
       "        text-align: right;\n",
       "    }\n",
       "</style>\n",
       "<table border=\"1\" class=\"dataframe\">\n",
       "  <thead>\n",
       "    <tr style=\"text-align: right;\">\n",
       "      <th></th>\n",
       "      <th>X</th>\n",
       "      <th>Y</th>\n",
       "      <th>Z</th>\n",
       "      <th>Intensity</th>\n",
       "      <th>ReturnNumber</th>\n",
       "      <th>NumberOfReturns</th>\n",
       "      <th>ScanDirectionFlag</th>\n",
       "      <th>EdgeOfFlightLine</th>\n",
       "      <th>Classification</th>\n",
       "      <th>ScanAngleRank</th>\n",
       "      <th>UserData</th>\n",
       "      <th>PointSourceId</th>\n",
       "      <th>GpsTime</th>\n",
       "    </tr>\n",
       "  </thead>\n",
       "  <tbody>\n",
       "    <tr>\n",
       "      <th>0</th>\n",
       "      <td>333499.29</td>\n",
       "      <td>7395564.35</td>\n",
       "      <td>735.34</td>\n",
       "      <td>18</td>\n",
       "      <td>1</td>\n",
       "      <td>1</td>\n",
       "      <td>0</td>\n",
       "      <td>0</td>\n",
       "      <td>6</td>\n",
       "      <td>-14.0</td>\n",
       "      <td>17</td>\n",
       "      <td>6</td>\n",
       "      <td>356569.366065</td>\n",
       "    </tr>\n",
       "    <tr>\n",
       "      <th>1</th>\n",
       "      <td>333499.23</td>\n",
       "      <td>7395565.79</td>\n",
       "      <td>735.41</td>\n",
       "      <td>18</td>\n",
       "      <td>1</td>\n",
       "      <td>1</td>\n",
       "      <td>0</td>\n",
       "      <td>0</td>\n",
       "      <td>6</td>\n",
       "      <td>-14.0</td>\n",
       "      <td>17</td>\n",
       "      <td>6</td>\n",
       "      <td>356569.366090</td>\n",
       "    </tr>\n",
       "    <tr>\n",
       "      <th>2</th>\n",
       "      <td>333499.20</td>\n",
       "      <td>7395566.79</td>\n",
       "      <td>735.25</td>\n",
       "      <td>15</td>\n",
       "      <td>1</td>\n",
       "      <td>1</td>\n",
       "      <td>0</td>\n",
       "      <td>0</td>\n",
       "      <td>6</td>\n",
       "      <td>-14.0</td>\n",
       "      <td>17</td>\n",
       "      <td>6</td>\n",
       "      <td>356569.366105</td>\n",
       "    </tr>\n",
       "    <tr>\n",
       "      <th>3</th>\n",
       "      <td>333499.15</td>\n",
       "      <td>7395568.21</td>\n",
       "      <td>735.37</td>\n",
       "      <td>14</td>\n",
       "      <td>1</td>\n",
       "      <td>1</td>\n",
       "      <td>0</td>\n",
       "      <td>0</td>\n",
       "      <td>6</td>\n",
       "      <td>-14.0</td>\n",
       "      <td>17</td>\n",
       "      <td>6</td>\n",
       "      <td>356569.366129</td>\n",
       "    </tr>\n",
       "    <tr>\n",
       "      <th>4</th>\n",
       "      <td>333499.10</td>\n",
       "      <td>7395569.68</td>\n",
       "      <td>735.30</td>\n",
       "      <td>17</td>\n",
       "      <td>1</td>\n",
       "      <td>1</td>\n",
       "      <td>0</td>\n",
       "      <td>0</td>\n",
       "      <td>6</td>\n",
       "      <td>-15.0</td>\n",
       "      <td>17</td>\n",
       "      <td>6</td>\n",
       "      <td>356569.366153</td>\n",
       "    </tr>\n",
       "    <tr>\n",
       "      <th>...</th>\n",
       "      <td>...</td>\n",
       "      <td>...</td>\n",
       "      <td>...</td>\n",
       "      <td>...</td>\n",
       "      <td>...</td>\n",
       "      <td>...</td>\n",
       "      <td>...</td>\n",
       "      <td>...</td>\n",
       "      <td>...</td>\n",
       "      <td>...</td>\n",
       "      <td>...</td>\n",
       "      <td>...</td>\n",
       "      <td>...</td>\n",
       "    </tr>\n",
       "    <tr>\n",
       "      <th>471957</th>\n",
       "      <td>333523.36</td>\n",
       "      <td>7395570.78</td>\n",
       "      <td>735.52</td>\n",
       "      <td>2</td>\n",
       "      <td>1</td>\n",
       "      <td>2</td>\n",
       "      <td>1</td>\n",
       "      <td>0</td>\n",
       "      <td>19</td>\n",
       "      <td>13.0</td>\n",
       "      <td>40</td>\n",
       "      <td>6</td>\n",
       "      <td>363044.324524</td>\n",
       "    </tr>\n",
       "    <tr>\n",
       "      <th>471958</th>\n",
       "      <td>333521.03</td>\n",
       "      <td>7395570.91</td>\n",
       "      <td>731.07</td>\n",
       "      <td>5</td>\n",
       "      <td>1</td>\n",
       "      <td>1</td>\n",
       "      <td>1</td>\n",
       "      <td>0</td>\n",
       "      <td>6</td>\n",
       "      <td>13.0</td>\n",
       "      <td>40</td>\n",
       "      <td>6</td>\n",
       "      <td>363044.342732</td>\n",
       "    </tr>\n",
       "    <tr>\n",
       "      <th>471959</th>\n",
       "      <td>333520.96</td>\n",
       "      <td>7395571.00</td>\n",
       "      <td>732.50</td>\n",
       "      <td>8</td>\n",
       "      <td>1</td>\n",
       "      <td>1</td>\n",
       "      <td>1</td>\n",
       "      <td>0</td>\n",
       "      <td>6</td>\n",
       "      <td>13.0</td>\n",
       "      <td>40</td>\n",
       "      <td>6</td>\n",
       "      <td>363044.342740</td>\n",
       "    </tr>\n",
       "    <tr>\n",
       "      <th>471960</th>\n",
       "      <td>333521.09</td>\n",
       "      <td>7395571.84</td>\n",
       "      <td>731.83</td>\n",
       "      <td>18</td>\n",
       "      <td>1</td>\n",
       "      <td>1</td>\n",
       "      <td>1</td>\n",
       "      <td>0</td>\n",
       "      <td>6</td>\n",
       "      <td>13.0</td>\n",
       "      <td>40</td>\n",
       "      <td>6</td>\n",
       "      <td>363044.360909</td>\n",
       "    </tr>\n",
       "    <tr>\n",
       "      <th>471961</th>\n",
       "      <td>333520.95</td>\n",
       "      <td>7395571.91</td>\n",
       "      <td>729.86</td>\n",
       "      <td>18</td>\n",
       "      <td>1</td>\n",
       "      <td>1</td>\n",
       "      <td>0</td>\n",
       "      <td>0</td>\n",
       "      <td>6</td>\n",
       "      <td>13.0</td>\n",
       "      <td>40</td>\n",
       "      <td>6</td>\n",
       "      <td>363044.364125</td>\n",
       "    </tr>\n",
       "  </tbody>\n",
       "</table>\n",
       "<p>471962 rows × 13 columns</p>\n",
       "</div>"
      ],
      "text/plain": [
       "                X           Y       Z  Intensity  ReturnNumber  \\\n",
       "0       333499.29  7395564.35  735.34         18             1   \n",
       "1       333499.23  7395565.79  735.41         18             1   \n",
       "2       333499.20  7395566.79  735.25         15             1   \n",
       "3       333499.15  7395568.21  735.37         14             1   \n",
       "4       333499.10  7395569.68  735.30         17             1   \n",
       "...           ...         ...     ...        ...           ...   \n",
       "471957  333523.36  7395570.78  735.52          2             1   \n",
       "471958  333521.03  7395570.91  731.07          5             1   \n",
       "471959  333520.96  7395571.00  732.50          8             1   \n",
       "471960  333521.09  7395571.84  731.83         18             1   \n",
       "471961  333520.95  7395571.91  729.86         18             1   \n",
       "\n",
       "        NumberOfReturns  ScanDirectionFlag  EdgeOfFlightLine  Classification  \\\n",
       "0                     1                  0                 0               6   \n",
       "1                     1                  0                 0               6   \n",
       "2                     1                  0                 0               6   \n",
       "3                     1                  0                 0               6   \n",
       "4                     1                  0                 0               6   \n",
       "...                 ...                ...               ...             ...   \n",
       "471957                2                  1                 0              19   \n",
       "471958                1                  1                 0               6   \n",
       "471959                1                  1                 0               6   \n",
       "471960                1                  1                 0               6   \n",
       "471961                1                  0                 0               6   \n",
       "\n",
       "        ScanAngleRank  UserData  PointSourceId        GpsTime  \n",
       "0               -14.0        17              6  356569.366065  \n",
       "1               -14.0        17              6  356569.366090  \n",
       "2               -14.0        17              6  356569.366105  \n",
       "3               -14.0        17              6  356569.366129  \n",
       "4               -15.0        17              6  356569.366153  \n",
       "...               ...       ...            ...            ...  \n",
       "471957           13.0        40              6  363044.324524  \n",
       "471958           13.0        40              6  363044.342732  \n",
       "471959           13.0        40              6  363044.342740  \n",
       "471960           13.0        40              6  363044.360909  \n",
       "471961           13.0        40              6  363044.364125  \n",
       "\n",
       "[471962 rows x 13 columns]"
      ]
     },
     "execution_count": 27,
     "metadata": {},
     "output_type": "execute_result"
    }
   ],
   "source": [
    "df"
   ]
  },
  {
   "cell_type": "code",
   "execution_count": 28,
   "id": "0d3d92f4",
   "metadata": {},
   "outputs": [
    {
     "data": {
      "text/html": [
       "<pre>✔️ 402 µs (2021-06-08T17:15:17/2021-06-08T17:15:17)</pre>"
      ],
      "text/plain": [
       "<IPython.core.display.HTML object>"
      ]
     },
     "metadata": {},
     "output_type": "display_data"
    }
   ],
   "source": [
    "# distance = np.sqrt((df_mdt.X - pt_obs[0])**2 + (df_mdt.Y - pt_obs[1])**2)"
   ]
  },
  {
   "cell_type": "code",
   "execution_count": 29,
   "id": "92f1ea64",
   "metadata": {},
   "outputs": [
    {
     "data": {
      "text/html": [
       "<pre>✔️ 367 µs (2021-06-08T17:15:17/2021-06-08T17:15:17)</pre>"
      ],
      "text/plain": [
       "<IPython.core.display.HTML object>"
      ]
     },
     "metadata": {},
     "output_type": "display_data"
    }
   ],
   "source": [
    "# distance.sort_values()[:3].index"
   ]
  },
  {
   "cell_type": "code",
   "execution_count": 30,
   "id": "4a805e0f",
   "metadata": {
    "scrolled": true
   },
   "outputs": [
    {
     "data": {
      "text/html": [
       "<pre>✔️ 808 µs (2021-06-08T17:15:17/2021-06-08T17:15:17)</pre>"
      ],
      "text/plain": [
       "<IPython.core.display.HTML object>"
      ]
     },
     "metadata": {},
     "output_type": "display_data"
    }
   ],
   "source": [
    "# df_mdt"
   ]
  },
  {
   "cell_type": "markdown",
   "id": "e11809f8",
   "metadata": {},
   "source": [
    "## Dividindo o domo celeste"
   ]
  },
  {
   "cell_type": "code",
   "execution_count": 31,
   "id": "5821f39b",
   "metadata": {},
   "outputs": [
    {
     "data": {
      "text/html": [
       "<pre>✔️ 533 µs (2021-06-08T17:15:17/2021-06-08T17:15:17)</pre>"
      ],
      "text/plain": [
       "<IPython.core.display.HTML object>"
      ]
     },
     "metadata": {},
     "output_type": "display_data"
    }
   ],
   "source": [
    "fusos = 60\n",
    "meridianos = 30"
   ]
  },
  {
   "cell_type": "code",
   "execution_count": 32,
   "id": "9f7c2ea7",
   "metadata": {},
   "outputs": [
    {
     "data": {
      "text/html": [
       "<pre>✔️ 3.68 ms (2021-06-08T17:15:17/2021-06-08T17:15:17)</pre>"
      ],
      "text/plain": [
       "<IPython.core.display.HTML object>"
      ]
     },
     "metadata": {},
     "output_type": "display_data"
    },
    {
     "data": {
      "text/plain": [
       "array([-3.14159265, -3.0368729 , -2.93215314, -2.82743339, -2.72271363,\n",
       "       -2.61799388, -2.51327412, -2.40855437, -2.30383461, -2.19911486,\n",
       "       -2.0943951 , -1.98967535, -1.88495559, -1.78023584, -1.67551608,\n",
       "       -1.57079633, -1.46607657, -1.36135682, -1.25663706, -1.15191731,\n",
       "       -1.04719755, -0.9424778 , -0.83775804, -0.73303829, -0.62831853,\n",
       "       -0.52359878, -0.41887902, -0.31415927, -0.20943951, -0.10471976,\n",
       "        0.        ,  0.10471976,  0.20943951,  0.31415927,  0.41887902,\n",
       "        0.52359878,  0.62831853,  0.73303829,  0.83775804,  0.9424778 ,\n",
       "        1.04719755,  1.15191731,  1.25663706,  1.36135682,  1.46607657,\n",
       "        1.57079633,  1.67551608,  1.78023584,  1.88495559,  1.98967535,\n",
       "        2.0943951 ,  2.19911486,  2.30383461,  2.40855437,  2.51327412,\n",
       "        2.61799388,  2.72271363,  2.82743339,  2.93215314,  3.0368729 ])"
      ]
     },
     "execution_count": 32,
     "metadata": {},
     "output_type": "execute_result"
    }
   ],
   "source": [
    "thetas, delta_theta = np.linspace(-np.pi, np.pi, fusos, retstep=True, endpoint=False)\n",
    "thetas"
   ]
  },
  {
   "cell_type": "code",
   "execution_count": 33,
   "id": "a9ea3747",
   "metadata": {},
   "outputs": [
    {
     "data": {
      "text/html": [
       "<pre>✔️ 2.67 ms (2021-06-08T17:15:18/2021-06-08T17:15:18)</pre>"
      ],
      "text/plain": [
       "<IPython.core.display.HTML object>"
      ]
     },
     "metadata": {},
     "output_type": "display_data"
    },
    {
     "data": {
      "text/plain": [
       "(array([1.        , 0.96666667, 0.93333333, 0.9       , 0.86666667,\n",
       "        0.83333333, 0.8       , 0.76666667, 0.73333333, 0.7       ,\n",
       "        0.66666667, 0.63333333, 0.6       , 0.56666667, 0.53333333,\n",
       "        0.5       , 0.46666667, 0.43333333, 0.4       , 0.36666667,\n",
       "        0.33333333, 0.3       , 0.26666667, 0.23333333, 0.2       ,\n",
       "        0.16666667, 0.13333333, 0.1       , 0.06666667, 0.03333333]),\n",
       " -0.03333333333333333)"
      ]
     },
     "execution_count": 33,
     "metadata": {},
     "output_type": "execute_result"
    }
   ],
   "source": [
    "phis = np.linspace(1., 0., meridianos, retstep=True, endpoint=False)\n",
    "phis"
   ]
  },
  {
   "cell_type": "code",
   "execution_count": 34,
   "id": "c411ce24",
   "metadata": {},
   "outputs": [
    {
     "data": {
      "text/html": [
       "<pre>✔️ 2.67 ms (2021-06-08T17:15:18/2021-06-08T17:15:18)</pre>"
      ],
      "text/plain": [
       "<IPython.core.display.HTML object>"
      ]
     },
     "metadata": {},
     "output_type": "display_data"
    },
    {
     "data": {
      "text/plain": [
       "array([0.        , 0.25892154, 0.36720802, 0.45102681, 0.52231482,\n",
       "       0.58568554, 0.64350111, 0.69716313, 0.74758435, 0.79539883,\n",
       "       0.84106867, 0.88494336, 0.92729522, 0.96834169, 1.00826008,\n",
       "       1.04719755, 1.0852782 , 1.12260819, 1.15927948, 1.19537272,\n",
       "       1.23095942, 1.26610367, 1.30086353, 1.33529209, 1.36943841,\n",
       "       1.40334825, 1.43706474, 1.47062891, 1.50408018, 1.53745682])"
      ]
     },
     "execution_count": 34,
     "metadata": {},
     "output_type": "execute_result"
    }
   ],
   "source": [
    "np.arccos(phis[0])"
   ]
  },
  {
   "cell_type": "markdown",
   "id": "38fd8de1",
   "metadata": {},
   "source": [
    "## Discretizando $\\theta$ e $\\phi$"
   ]
  },
  {
   "cell_type": "code",
   "execution_count": 35,
   "id": "c0c06b91",
   "metadata": {},
   "outputs": [
    {
     "data": {
      "text/html": [
       "<pre>✔️ 2.92 ms (2021-06-08T17:15:18/2021-06-08T17:15:18)</pre>"
      ],
      "text/plain": [
       "<IPython.core.display.HTML object>"
      ]
     },
     "metadata": {},
     "output_type": "display_data"
    },
    {
     "data": {
      "text/plain": [
       "60"
      ]
     },
     "execution_count": 35,
     "metadata": {},
     "output_type": "execute_result"
    }
   ],
   "source": [
    "## Dado um angulo theta t em radianos qual seu indice em \n",
    "## uma divisão de fusos a cada delta_theta\n",
    "\n",
    "t = np.pi - 0.000000001\n",
    "t = np.arctan2(0,-1)\n",
    "np.floor((t + np.pi)/delta_theta).astype('int')"
   ]
  },
  {
   "cell_type": "code",
   "execution_count": 36,
   "id": "64503265",
   "metadata": {},
   "outputs": [
    {
     "data": {
      "text/html": [
       "<pre>✔️ 3.25 ms (2021-06-08T17:15:18/2021-06-08T17:15:18)</pre>"
      ],
      "text/plain": [
       "<IPython.core.display.HTML object>"
      ]
     },
     "metadata": {},
     "output_type": "display_data"
    },
    {
     "data": {
      "text/plain": [
       "29"
      ]
     },
     "execution_count": 36,
     "metadata": {},
     "output_type": "execute_result"
    }
   ],
   "source": [
    "## Dado um angulo phi f em radianos qual seu indice em\n",
    "## uma divisão de meridianos\n",
    "\n",
    "f = np.pi/2\n",
    "indice = np.floor(meridianos - (np.cos(f) / (1 / meridianos))).astype('int')\n",
    "indice"
   ]
  },
  {
   "cell_type": "markdown",
   "id": "31e22257",
   "metadata": {},
   "source": [
    "## Calculando $\\theta$ e $\\phi$ para todos os pontos\n",
    "\n",
    "Método por contagem de numero de grupos de $\\theta$ e $\\phi$"
   ]
  },
  {
   "cell_type": "code",
   "execution_count": 37,
   "id": "35a03b81",
   "metadata": {},
   "outputs": [
    {
     "data": {
      "text/html": [
       "<pre>✔️ 1.1 ms (2021-06-08T17:15:18/2021-06-08T17:15:18)</pre>"
      ],
      "text/plain": [
       "<IPython.core.display.HTML object>"
      ]
     },
     "metadata": {},
     "output_type": "display_data"
    }
   ],
   "source": [
    "def svf_observ(x):\n",
    "    coords = x.coords\n",
    "    \n",
    "    x_mds = df_mds.loc[df_mds.Z >= coords[0][2]].reset_index()\n",
    "    \n",
    "    x_mds['theta_idx'] = \\\n",
    "    np.floor(np.arctan2(\\\n",
    "              x_mds.X - coords[0][0],\n",
    "              x_mds.Y - coords[0][1])/delta_theta).astype('int')\n",
    "    \n",
    "    x_mds['phi_idx'] = \\\n",
    "    np.floor(meridianos - (np.cos(\\\n",
    "    np.arctan2(\\\n",
    "               np.sqrt((x_mds.X - coords[0][0])**2 + \\\n",
    "                       (x_mds.Y - coords[0][1])**2), \\\n",
    "               x_mds.Z - coords[0][2])) / \\\n",
    "                           (1 / meridianos))).astype('int')\n",
    "\n",
    "    \n",
    "    svf = 1. - (x_mds.groupby(['theta_idx', 'phi_idx'])\\\n",
    "                .ngroups / (fusos * meridianos))\n",
    "    \n",
    "    return svf"
   ]
  },
  {
   "cell_type": "code",
   "execution_count": 38,
   "id": "a1d35cc3",
   "metadata": {},
   "outputs": [
    {
     "data": {
      "text/html": [
       "<pre>✔️ 901 ms (2021-06-08T17:15:18/2021-06-08T17:15:19)</pre>"
      ],
      "text/plain": [
       "<IPython.core.display.HTML object>"
      ]
     },
     "metadata": {},
     "output_type": "display_data"
    },
    {
     "data": {
      "text/plain": [
       "0     0.200000\n",
       "3     0.256667\n",
       "4     0.316667\n",
       "5     0.316667\n",
       "6     0.207222\n",
       "7     0.215000\n",
       "8     0.206111\n",
       "9     0.253333\n",
       "10    0.212222\n",
       "11    0.167222\n",
       "12    0.226667\n",
       "13    0.203333\n",
       "14    0.191111\n",
       "15    0.161111\n",
       "16    0.124444\n",
       "17    0.109444\n",
       "18    0.145556\n",
       "19    0.315556\n",
       "20    0.139444\n",
       "21    0.438333\n",
       "22    0.419444\n",
       "23    0.507222\n",
       "Name: geometry, dtype: float64"
      ]
     },
     "execution_count": 38,
     "metadata": {},
     "output_type": "execute_result"
    }
   ],
   "source": [
    "pt_obs.apply(lambda x: svf_observ(x))"
   ]
  },
  {
   "cell_type": "markdown",
   "id": "370bbb41",
   "metadata": {},
   "source": [
    "### Calculando o polígono de visibilidade"
   ]
  },
  {
   "cell_type": "code",
   "execution_count": 51,
   "id": "9879ac5e",
   "metadata": {},
   "outputs": [
    {
     "data": {
      "text/html": [
       "<pre>✔️ 2.86 ms (2021-06-08T17:57:39/2021-06-08T17:57:39)</pre>"
      ],
      "text/plain": [
       "<IPython.core.display.HTML object>"
      ]
     },
     "metadata": {},
     "output_type": "display_data"
    }
   ],
   "source": [
    "def svf_polygon(x):\n",
    "    coords = x.coords\n",
    "    x_mds = df_mds.loc[df_mds.Z >= coords[0][2]].reset_index()\n",
    "    \n",
    "    x_mds['theta'] = \\\n",
    "    thetas[\\\n",
    "    (np.floor(np.arctan2(\\\n",
    "              x_mds.X - coords[0][0],\n",
    "              x_mds.Y - coords[0][1])/delta_theta) + (fusos / 2)).astype('int')]\n",
    "    \n",
    "    x_mds['phi'] = \\\n",
    "    np.floor(meridianos - (np.cos(\\\n",
    "    np.arctan2(\\\n",
    "               np.sqrt((x_mds.X - coords[0][0])**2 + \\\n",
    "                       (x_mds.Y - coords[0][1])**2), \\\n",
    "               x_mds.Z - coords[0][2])) / \\\n",
    "                           (1 / meridianos))).astype('int')\n",
    "    \n",
    "    x_mds['distance'] = \\\n",
    "    np.sqrt((x_mds.X - coords[0][0])**2 + \\\n",
    "            (x_mds.Y - coords[0][1])**2)\n",
    "    \n",
    "    return x_mds.sort_values(by=['theta'])[['theta', 'X', 'Y']]\\\n",
    "    .groupby(['theta']).min('phi')\n",
    "    \n",
    "#     return x_mds"
   ]
  },
  {
   "cell_type": "code",
   "execution_count": 52,
   "id": "928cf455",
   "metadata": {},
   "outputs": [
    {
     "data": {
      "text/html": [
       "<pre>✔️ 111 ms (2021-06-08T17:57:40/2021-06-08T17:57:40)</pre>"
      ],
      "text/plain": [
       "<IPython.core.display.HTML object>"
      ]
     },
     "metadata": {},
     "output_type": "display_data"
    },
    {
     "data": {
      "text/html": [
       "<div>\n",
       "<style scoped>\n",
       "    .dataframe tbody tr th:only-of-type {\n",
       "        vertical-align: middle;\n",
       "    }\n",
       "\n",
       "    .dataframe tbody tr th {\n",
       "        vertical-align: top;\n",
       "    }\n",
       "\n",
       "    .dataframe thead th {\n",
       "        text-align: right;\n",
       "    }\n",
       "</style>\n",
       "<table border=\"1\" class=\"dataframe\">\n",
       "  <thead>\n",
       "    <tr style=\"text-align: right;\">\n",
       "      <th></th>\n",
       "      <th>X</th>\n",
       "      <th>Y</th>\n",
       "    </tr>\n",
       "    <tr>\n",
       "      <th>theta</th>\n",
       "      <th></th>\n",
       "      <th></th>\n",
       "    </tr>\n",
       "  </thead>\n",
       "  <tbody>\n",
       "    <tr>\n",
       "      <th>-3.141593</th>\n",
       "      <td>333313.76</td>\n",
       "      <td>7394985.29</td>\n",
       "    </tr>\n",
       "    <tr>\n",
       "      <th>-3.036873</th>\n",
       "      <td>333281.68</td>\n",
       "      <td>7394985.28</td>\n",
       "    </tr>\n",
       "    <tr>\n",
       "      <th>-2.932153</th>\n",
       "      <td>333248.10</td>\n",
       "      <td>7394985.28</td>\n",
       "    </tr>\n",
       "    <tr>\n",
       "      <th>-2.827433</th>\n",
       "      <td>333212.73</td>\n",
       "      <td>7394985.28</td>\n",
       "    </tr>\n",
       "    <tr>\n",
       "      <th>-2.722714</th>\n",
       "      <td>333173.52</td>\n",
       "      <td>7394985.30</td>\n",
       "    </tr>\n",
       "    <tr>\n",
       "      <th>-2.617994</th>\n",
       "      <td>333128.69</td>\n",
       "      <td>7394985.29</td>\n",
       "    </tr>\n",
       "    <tr>\n",
       "      <th>-2.513274</th>\n",
       "      <td>333076.87</td>\n",
       "      <td>7394985.28</td>\n",
       "    </tr>\n",
       "    <tr>\n",
       "      <th>-2.408554</th>\n",
       "      <td>333058.67</td>\n",
       "      <td>7394985.35</td>\n",
       "    </tr>\n",
       "    <tr>\n",
       "      <th>-2.303835</th>\n",
       "      <td>333058.67</td>\n",
       "      <td>7395026.36</td>\n",
       "    </tr>\n",
       "    <tr>\n",
       "      <th>-2.199115</th>\n",
       "      <td>333058.67</td>\n",
       "      <td>7395075.52</td>\n",
       "    </tr>\n",
       "    <tr>\n",
       "      <th>-2.094395</th>\n",
       "      <td>333058.67</td>\n",
       "      <td>7395118.78</td>\n",
       "    </tr>\n",
       "    <tr>\n",
       "      <th>-1.989675</th>\n",
       "      <td>333058.67</td>\n",
       "      <td>7395156.34</td>\n",
       "    </tr>\n",
       "    <tr>\n",
       "      <th>-1.884956</th>\n",
       "      <td>333058.68</td>\n",
       "      <td>7395190.01</td>\n",
       "    </tr>\n",
       "    <tr>\n",
       "      <th>-1.780236</th>\n",
       "      <td>333058.68</td>\n",
       "      <td>7395221.98</td>\n",
       "    </tr>\n",
       "    <tr>\n",
       "      <th>-1.675516</th>\n",
       "      <td>333058.67</td>\n",
       "      <td>7395252.74</td>\n",
       "    </tr>\n",
       "    <tr>\n",
       "      <th>-1.570796</th>\n",
       "      <td>333058.69</td>\n",
       "      <td>7395282.68</td>\n",
       "    </tr>\n",
       "    <tr>\n",
       "      <th>-1.466077</th>\n",
       "      <td>333059.04</td>\n",
       "      <td>7395283.59</td>\n",
       "    </tr>\n",
       "    <tr>\n",
       "      <th>-1.361357</th>\n",
       "      <td>333059.07</td>\n",
       "      <td>7395283.76</td>\n",
       "    </tr>\n",
       "    <tr>\n",
       "      <th>-1.256637</th>\n",
       "      <td>333058.83</td>\n",
       "      <td>7395284.29</td>\n",
       "    </tr>\n",
       "    <tr>\n",
       "      <th>-1.151917</th>\n",
       "      <td>333059.95</td>\n",
       "      <td>7395284.69</td>\n",
       "    </tr>\n",
       "    <tr>\n",
       "      <th>-1.047198</th>\n",
       "      <td>333058.84</td>\n",
       "      <td>7395285.57</td>\n",
       "    </tr>\n",
       "    <tr>\n",
       "      <th>-0.942478</th>\n",
       "      <td>333058.67</td>\n",
       "      <td>7395286.08</td>\n",
       "    </tr>\n",
       "    <tr>\n",
       "      <th>-0.837758</th>\n",
       "      <td>333058.67</td>\n",
       "      <td>7395286.03</td>\n",
       "    </tr>\n",
       "    <tr>\n",
       "      <th>-0.733038</th>\n",
       "      <td>333086.46</td>\n",
       "      <td>7395287.29</td>\n",
       "    </tr>\n",
       "    <tr>\n",
       "      <th>-0.628319</th>\n",
       "      <td>333134.80</td>\n",
       "      <td>7395286.93</td>\n",
       "    </tr>\n",
       "    <tr>\n",
       "      <th>-0.523599</th>\n",
       "      <td>333178.15</td>\n",
       "      <td>7395288.33</td>\n",
       "    </tr>\n",
       "    <tr>\n",
       "      <th>-0.418879</th>\n",
       "      <td>333215.83</td>\n",
       "      <td>7395289.38</td>\n",
       "    </tr>\n",
       "    <tr>\n",
       "      <th>-0.314159</th>\n",
       "      <td>333251.35</td>\n",
       "      <td>7395292.81</td>\n",
       "    </tr>\n",
       "    <tr>\n",
       "      <th>-0.209440</th>\n",
       "      <td>333283.06</td>\n",
       "      <td>7395296.02</td>\n",
       "    </tr>\n",
       "    <tr>\n",
       "      <th>-0.104720</th>\n",
       "      <td>333314.08</td>\n",
       "      <td>7395285.92</td>\n",
       "    </tr>\n",
       "    <tr>\n",
       "      <th>0.000000</th>\n",
       "      <td>333344.33</td>\n",
       "      <td>7395313.21</td>\n",
       "    </tr>\n",
       "    <tr>\n",
       "      <th>0.104720</th>\n",
       "      <td>333352.90</td>\n",
       "      <td>7395362.83</td>\n",
       "    </tr>\n",
       "    <tr>\n",
       "      <th>0.209440</th>\n",
       "      <td>333373.10</td>\n",
       "      <td>7395376.79</td>\n",
       "    </tr>\n",
       "    <tr>\n",
       "      <th>0.314159</th>\n",
       "      <td>333365.10</td>\n",
       "      <td>7395329.49</td>\n",
       "    </tr>\n",
       "    <tr>\n",
       "      <th>0.418879</th>\n",
       "      <td>333363.19</td>\n",
       "      <td>7395315.49</td>\n",
       "    </tr>\n",
       "    <tr>\n",
       "      <th>0.523599</th>\n",
       "      <td>333359.74</td>\n",
       "      <td>7395303.90</td>\n",
       "    </tr>\n",
       "    <tr>\n",
       "      <th>0.628319</th>\n",
       "      <td>333359.51</td>\n",
       "      <td>7395300.62</td>\n",
       "    </tr>\n",
       "    <tr>\n",
       "      <th>0.733038</th>\n",
       "      <td>333359.20</td>\n",
       "      <td>7395296.56</td>\n",
       "    </tr>\n",
       "    <tr>\n",
       "      <th>0.837758</th>\n",
       "      <td>333356.34</td>\n",
       "      <td>7395291.74</td>\n",
       "    </tr>\n",
       "    <tr>\n",
       "      <th>0.942478</th>\n",
       "      <td>333357.95</td>\n",
       "      <td>7395291.36</td>\n",
       "    </tr>\n",
       "    <tr>\n",
       "      <th>1.047198</th>\n",
       "      <td>333357.57</td>\n",
       "      <td>7395289.24</td>\n",
       "    </tr>\n",
       "    <tr>\n",
       "      <th>1.151917</th>\n",
       "      <td>333357.20</td>\n",
       "      <td>7395286.92</td>\n",
       "    </tr>\n",
       "    <tr>\n",
       "      <th>1.256637</th>\n",
       "      <td>333357.35</td>\n",
       "      <td>7395285.47</td>\n",
       "    </tr>\n",
       "    <tr>\n",
       "      <th>1.361357</th>\n",
       "      <td>333358.67</td>\n",
       "      <td>7395284.57</td>\n",
       "    </tr>\n",
       "    <tr>\n",
       "      <th>1.466077</th>\n",
       "      <td>333358.95</td>\n",
       "      <td>7395282.69</td>\n",
       "    </tr>\n",
       "    <tr>\n",
       "      <th>1.570796</th>\n",
       "      <td>333360.33</td>\n",
       "      <td>7395259.05</td>\n",
       "    </tr>\n",
       "    <tr>\n",
       "      <th>1.675516</th>\n",
       "      <td>333391.87</td>\n",
       "      <td>7395228.36</td>\n",
       "    </tr>\n",
       "    <tr>\n",
       "      <th>1.780236</th>\n",
       "      <td>333379.28</td>\n",
       "      <td>7395202.56</td>\n",
       "    </tr>\n",
       "    <tr>\n",
       "      <th>1.884956</th>\n",
       "      <td>333359.83</td>\n",
       "      <td>7395171.95</td>\n",
       "    </tr>\n",
       "    <tr>\n",
       "      <th>1.989675</th>\n",
       "      <td>333355.97</td>\n",
       "      <td>7395136.01</td>\n",
       "    </tr>\n",
       "    <tr>\n",
       "      <th>2.094395</th>\n",
       "      <td>333364.16</td>\n",
       "      <td>7395096.97</td>\n",
       "    </tr>\n",
       "    <tr>\n",
       "      <th>2.199115</th>\n",
       "      <td>333352.13</td>\n",
       "      <td>7395054.63</td>\n",
       "    </tr>\n",
       "    <tr>\n",
       "      <th>2.303835</th>\n",
       "      <td>333356.88</td>\n",
       "      <td>7394998.75</td>\n",
       "    </tr>\n",
       "    <tr>\n",
       "      <th>2.408554</th>\n",
       "      <td>333352.63</td>\n",
       "      <td>7394985.28</td>\n",
       "    </tr>\n",
       "    <tr>\n",
       "      <th>2.513274</th>\n",
       "      <td>333360.71</td>\n",
       "      <td>7394985.30</td>\n",
       "    </tr>\n",
       "    <tr>\n",
       "      <th>2.617994</th>\n",
       "      <td>333357.80</td>\n",
       "      <td>7394985.28</td>\n",
       "    </tr>\n",
       "    <tr>\n",
       "      <th>2.722714</th>\n",
       "      <td>333357.91</td>\n",
       "      <td>7394985.31</td>\n",
       "    </tr>\n",
       "    <tr>\n",
       "      <th>2.827433</th>\n",
       "      <td>333347.17</td>\n",
       "      <td>7394985.39</td>\n",
       "    </tr>\n",
       "    <tr>\n",
       "      <th>2.932153</th>\n",
       "      <td>333346.04</td>\n",
       "      <td>7394985.38</td>\n",
       "    </tr>\n",
       "    <tr>\n",
       "      <th>3.036873</th>\n",
       "      <td>333344.33</td>\n",
       "      <td>7394985.30</td>\n",
       "    </tr>\n",
       "  </tbody>\n",
       "</table>\n",
       "</div>"
      ],
      "text/plain": [
       "                   X           Y\n",
       "theta                           \n",
       "-3.141593  333313.76  7394985.29\n",
       "-3.036873  333281.68  7394985.28\n",
       "-2.932153  333248.10  7394985.28\n",
       "-2.827433  333212.73  7394985.28\n",
       "-2.722714  333173.52  7394985.30\n",
       "-2.617994  333128.69  7394985.29\n",
       "-2.513274  333076.87  7394985.28\n",
       "-2.408554  333058.67  7394985.35\n",
       "-2.303835  333058.67  7395026.36\n",
       "-2.199115  333058.67  7395075.52\n",
       "-2.094395  333058.67  7395118.78\n",
       "-1.989675  333058.67  7395156.34\n",
       "-1.884956  333058.68  7395190.01\n",
       "-1.780236  333058.68  7395221.98\n",
       "-1.675516  333058.67  7395252.74\n",
       "-1.570796  333058.69  7395282.68\n",
       "-1.466077  333059.04  7395283.59\n",
       "-1.361357  333059.07  7395283.76\n",
       "-1.256637  333058.83  7395284.29\n",
       "-1.151917  333059.95  7395284.69\n",
       "-1.047198  333058.84  7395285.57\n",
       "-0.942478  333058.67  7395286.08\n",
       "-0.837758  333058.67  7395286.03\n",
       "-0.733038  333086.46  7395287.29\n",
       "-0.628319  333134.80  7395286.93\n",
       "-0.523599  333178.15  7395288.33\n",
       "-0.418879  333215.83  7395289.38\n",
       "-0.314159  333251.35  7395292.81\n",
       "-0.209440  333283.06  7395296.02\n",
       "-0.104720  333314.08  7395285.92\n",
       " 0.000000  333344.33  7395313.21\n",
       " 0.104720  333352.90  7395362.83\n",
       " 0.209440  333373.10  7395376.79\n",
       " 0.314159  333365.10  7395329.49\n",
       " 0.418879  333363.19  7395315.49\n",
       " 0.523599  333359.74  7395303.90\n",
       " 0.628319  333359.51  7395300.62\n",
       " 0.733038  333359.20  7395296.56\n",
       " 0.837758  333356.34  7395291.74\n",
       " 0.942478  333357.95  7395291.36\n",
       " 1.047198  333357.57  7395289.24\n",
       " 1.151917  333357.20  7395286.92\n",
       " 1.256637  333357.35  7395285.47\n",
       " 1.361357  333358.67  7395284.57\n",
       " 1.466077  333358.95  7395282.69\n",
       " 1.570796  333360.33  7395259.05\n",
       " 1.675516  333391.87  7395228.36\n",
       " 1.780236  333379.28  7395202.56\n",
       " 1.884956  333359.83  7395171.95\n",
       " 1.989675  333355.97  7395136.01\n",
       " 2.094395  333364.16  7395096.97\n",
       " 2.199115  333352.13  7395054.63\n",
       " 2.303835  333356.88  7394998.75\n",
       " 2.408554  333352.63  7394985.28\n",
       " 2.513274  333360.71  7394985.30\n",
       " 2.617994  333357.80  7394985.28\n",
       " 2.722714  333357.91  7394985.31\n",
       " 2.827433  333347.17  7394985.39\n",
       " 2.932153  333346.04  7394985.38\n",
       " 3.036873  333344.33  7394985.30"
      ]
     },
     "execution_count": 52,
     "metadata": {},
     "output_type": "execute_result"
    }
   ],
   "source": [
    "svf_polygon(pt_obs.iloc[0])#\\\n",
    "# .sort_values(by=['theta'])[['theta', 'X', 'Y']]\\\n",
    "# .groupby(['theta']).min('phi')"
   ]
  },
  {
   "cell_type": "code",
   "execution_count": null,
   "id": "0ad47b00",
   "metadata": {},
   "outputs": [],
   "source": [
    "len(pt_obs)"
   ]
  },
  {
   "cell_type": "code",
   "execution_count": null,
   "id": "2d2f8aac",
   "metadata": {},
   "outputs": [],
   "source": []
  },
  {
   "cell_type": "code",
   "execution_count": null,
   "id": "db8dc115",
   "metadata": {},
   "outputs": [],
   "source": []
  }
 ],
 "metadata": {
  "kernelspec": {
   "display_name": "Python 3",
   "language": "python",
   "name": "python3"
  },
  "language_info": {
   "codemirror_mode": {
    "name": "ipython",
    "version": 3
   },
   "file_extension": ".py",
   "mimetype": "text/x-python",
   "name": "python",
   "nbconvert_exporter": "python",
   "pygments_lexer": "ipython3",
   "version": "3.8.5"
  }
 },
 "nbformat": 4,
 "nbformat_minor": 5
}
