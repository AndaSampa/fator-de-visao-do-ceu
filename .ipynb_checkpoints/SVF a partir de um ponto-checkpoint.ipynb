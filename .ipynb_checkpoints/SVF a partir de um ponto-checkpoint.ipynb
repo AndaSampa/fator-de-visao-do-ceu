{
 "cells": [
  {
   "cell_type": "code",
   "execution_count": 1,
   "metadata": {},
   "outputs": [],
   "source": [
    "import pdal\n",
    "import numpy as np"
   ]
  },
  {
   "cell_type": "code",
   "execution_count": 2,
   "metadata": {},
   "outputs": [
    {
     "data": {
      "text/html": [
       "<pre>✔️ 244 µs (2021-02-01T15:08:54/2021-02-01T15:08:54)</pre>"
      ],
      "text/plain": [
       "<IPython.core.display.HTML object>"
      ]
     },
     "metadata": {},
     "output_type": "display_data"
    }
   ],
   "source": [
    "%load_ext autotime"
   ]
  },
  {
   "cell_type": "code",
   "execution_count": 3,
   "metadata": {},
   "outputs": [
    {
     "data": {
      "text/html": [
       "<pre>✔️ 290 µs (2021-02-01T15:08:55/2021-02-01T15:08:55)</pre>"
      ],
      "text/plain": [
       "<IPython.core.display.HTML object>"
      ]
     },
     "metadata": {},
     "output_type": "display_data"
    }
   ],
   "source": [
    "pipeline=\"\"\"{\n",
    "  \"pipeline\": [\n",
    "    {\n",
    "        \"type\": \"readers.las\",\n",
    "        \"filename\": \"arquivos/MDS/MDS_3314-231.laz\"\n",
    "    },\n",
    "    {\n",
    "        \"type\": \"filters.sample\",\n",
    "        \"radius\": 5\n",
    "    }\n",
    "  ]\n",
    "}\"\"\""
   ]
  },
  {
   "cell_type": "code",
   "execution_count": 4,
   "metadata": {},
   "outputs": [
    {
     "data": {
      "text/html": [
       "<pre>✔️ 8.55 s (2021-02-01T15:08:55/2021-02-01T15:09:03)</pre>"
      ],
      "text/plain": [
       "<IPython.core.display.HTML object>"
      ]
     },
     "metadata": {},
     "output_type": "display_data"
    }
   ],
   "source": [
    "r = pdal.Pipeline(pipeline)\n",
    "r.validate()\n",
    "r.execute()\n",
    "pts = r.arrays[0]"
   ]
  },
  {
   "cell_type": "code",
   "execution_count": 5,
   "metadata": {},
   "outputs": [
    {
     "data": {
      "text/html": [
       "<pre>✔️ 4.98 ms (2021-02-01T15:09:04/2021-02-01T15:09:04)</pre>"
      ],
      "text/plain": [
       "<IPython.core.display.HTML object>"
      ]
     },
     "metadata": {},
     "output_type": "display_data"
    },
    {
     "data": {
      "text/plain": [
       "array([(333499.29, 7395564.35, 735.34, 18, 1, 1, 0, 0,  6, -14., 17, 6, 356569.36606547),\n",
       "       (333499.1 , 7395569.68, 735.3 , 17, 1, 1, 0, 0,  6, -15., 17, 6, 356569.36615345),\n",
       "       (333499.29, 7395521.99, 751.69, 10, 1, 1, 0, 0,  6, -11., 17, 6, 356569.38359445),\n",
       "       ...,\n",
       "       (333520.06, 7395558.13, 729.85,  2, 1, 2, 1, 0, 19,  13., 40, 6, 363044.03373891),\n",
       "       (333587.32, 7395563.87, 744.67, 14, 1, 1, 1, 0,  6,   7., 40, 6, 363044.06873989),\n",
       "       (333563.24, 7395571.79, 729.03,  5, 2, 2, 0, 0,  6,   9., 40, 6, 363044.3104589 )],\n",
       "      dtype=[('X', '<f8'), ('Y', '<f8'), ('Z', '<f8'), ('Intensity', '<u2'), ('ReturnNumber', 'u1'), ('NumberOfReturns', 'u1'), ('ScanDirectionFlag', 'u1'), ('EdgeOfFlightLine', 'u1'), ('Classification', 'u1'), ('ScanAngleRank', '<f4'), ('UserData', 'u1'), ('PointSourceId', '<u2'), ('GpsTime', '<f8')])"
      ]
     },
     "execution_count": 5,
     "metadata": {},
     "output_type": "execute_result"
    }
   ],
   "source": [
    "pts"
   ]
  },
  {
   "cell_type": "code",
   "execution_count": 6,
   "metadata": {},
   "outputs": [
    {
     "data": {
      "text/html": [
       "<pre>✔️ 2.37 ms (2021-02-01T15:09:04/2021-02-01T15:09:04)</pre>"
      ],
      "text/plain": [
       "<IPython.core.display.HTML object>"
      ]
     },
     "metadata": {},
     "output_type": "display_data"
    },
    {
     "data": {
      "text/plain": [
       "18835"
      ]
     },
     "execution_count": 6,
     "metadata": {},
     "output_type": "execute_result"
    }
   ],
   "source": [
    "pt_edif = pts['Classification'] == 6\n",
    "len(pts[pt_edif])"
   ]
  },
  {
   "cell_type": "code",
   "execution_count": 7,
   "metadata": {},
   "outputs": [
    {
     "data": {
      "text/html": [
       "<pre>✔️ 2.46 ms (2021-02-01T15:09:04/2021-02-01T15:09:04)</pre>"
      ],
      "text/plain": [
       "<IPython.core.display.HTML object>"
      ]
     },
     "metadata": {},
     "output_type": "display_data"
    },
    {
     "data": {
      "text/plain": [
       "983"
      ]
     },
     "execution_count": 7,
     "metadata": {},
     "output_type": "execute_result"
    }
   ],
   "source": [
    "pt_ground = pts['Classification'] == 2\n",
    "len(pts[pt_ground])"
   ]
  },
  {
   "cell_type": "code",
   "execution_count": 8,
   "metadata": {},
   "outputs": [
    {
     "data": {
      "text/html": [
       "<pre>✔️ 2.48 ms (2021-02-01T15:09:04/2021-02-01T15:09:04)</pre>"
      ],
      "text/plain": [
       "<IPython.core.display.HTML object>"
      ]
     },
     "metadata": {},
     "output_type": "display_data"
    },
    {
     "data": {
      "text/plain": [
       "19818"
      ]
     },
     "execution_count": 8,
     "metadata": {},
     "output_type": "execute_result"
    }
   ],
   "source": [
    "len(pts[pt_ground | pt_edif])"
   ]
  },
  {
   "cell_type": "code",
   "execution_count": 9,
   "metadata": {},
   "outputs": [
    {
     "data": {
      "text/html": [
       "<pre>✔️ 1.13 ms (2021-02-01T15:09:04/2021-02-01T15:09:04)</pre>"
      ],
      "text/plain": [
       "<IPython.core.display.HTML object>"
      ]
     },
     "metadata": {},
     "output_type": "display_data"
    }
   ],
   "source": [
    "# Escolhendo um ponto aleatório no Ground\n",
    "\n",
    "pt = np.random.choice(pts[pt_ground])"
   ]
  },
  {
   "cell_type": "code",
   "execution_count": 10,
   "metadata": {},
   "outputs": [
    {
     "data": {
      "text/html": [
       "<pre>✔️ 317 µs (2021-02-01T15:09:04/2021-02-01T15:09:04)</pre>"
      ],
      "text/plain": [
       "<IPython.core.display.HTML object>"
      ]
     },
     "metadata": {},
     "output_type": "display_data"
    }
   ],
   "source": [
    "coord = ['X', 'Y', 'Z']"
   ]
  },
  {
   "cell_type": "code",
   "execution_count": 11,
   "metadata": {},
   "outputs": [
    {
     "data": {
      "text/html": [
       "<pre>✔️ 2.48 ms (2021-02-01T15:09:04/2021-02-01T15:09:04)</pre>"
      ],
      "text/plain": [
       "<IPython.core.display.HTML object>"
      ]
     },
     "metadata": {},
     "output_type": "display_data"
    },
    {
     "data": {
      "text/plain": [
       "(333514.61, 7395521.34, 724.69)"
      ]
     },
     "execution_count": 11,
     "metadata": {},
     "output_type": "execute_result"
    }
   ],
   "source": [
    "pt[coord]"
   ]
  },
  {
   "cell_type": "code",
   "execution_count": 12,
   "metadata": {},
   "outputs": [
    {
     "data": {
      "text/html": [
       "<pre>✔️ 2.46 ms (2021-02-01T15:09:04/2021-02-01T15:09:04)</pre>"
      ],
      "text/plain": [
       "<IPython.core.display.HTML object>"
      ]
     },
     "metadata": {},
     "output_type": "display_data"
    }
   ],
   "source": [
    "# Centralizando a visão em 1.5 metros acima do solo do ponto escolhido\n",
    "\n",
    "pts_0 = np.array([pts[pt_ground | pt_edif]['X'] - pt['X'],\n",
    "         pts[pt_ground | pt_edif]['Y'] - pt['Y'],\n",
    "         pts[pt_ground | pt_edif]['Z'] - (pt['Z'] + 1.5)]).T"
   ]
  },
  {
   "cell_type": "code",
   "execution_count": 13,
   "metadata": {},
   "outputs": [
    {
     "data": {
      "text/html": [
       "<pre>✔️ 1.39 ms (2021-02-01T15:09:05/2021-02-01T15:09:05)</pre>"
      ],
      "text/plain": [
       "<IPython.core.display.HTML object>"
      ]
     },
     "metadata": {},
     "output_type": "display_data"
    }
   ],
   "source": [
    "pts_0 = pts_0[pts_0[:, 2] >= 0.0]"
   ]
  },
  {
   "cell_type": "code",
   "execution_count": 14,
   "metadata": {},
   "outputs": [
    {
     "data": {
      "text/html": [
       "<pre>✔️ 2.57 ms (2021-02-01T15:09:05/2021-02-01T15:09:05)</pre>"
      ],
      "text/plain": [
       "<IPython.core.display.HTML object>"
      ]
     },
     "metadata": {},
     "output_type": "display_data"
    },
    {
     "data": {
      "text/plain": [
       "array([ 90.,   0., -90., 180.])"
      ]
     },
     "execution_count": 14,
     "metadata": {},
     "output_type": "execute_result"
    }
   ],
   "source": [
    "# Calcluando Azimute, ou melhor, um angulo começando Leste \n",
    "# crescendo no sentido anti-horario e negativo para todo Y < 0\n",
    "\n",
    "teste_az = [[0., 1],\n",
    "           [1., 0.],\n",
    "           [0., -1.],\n",
    "           [-1., 0.]]\n",
    "\n",
    "teste_az = np.array(teste_az)\n",
    "\n",
    "az = np.arctan2(teste_az[:, 1], teste_az[:, 0]) * 180 / np.pi\n",
    "az"
   ]
  },
  {
   "cell_type": "code",
   "execution_count": 15,
   "metadata": {},
   "outputs": [
    {
     "data": {
      "text/html": [
       "<pre>✔️ 1.09 ms (2021-02-01T15:09:05/2021-02-01T15:09:05)</pre>"
      ],
      "text/plain": [
       "<IPython.core.display.HTML object>"
      ]
     },
     "metadata": {},
     "output_type": "display_data"
    }
   ],
   "source": [
    "# Calculando o angulo de orientação de cada ponto\n",
    "\n",
    "orient = np.arctan2(pts_0[:, 1], pts_0[:, 0]) * 180 / np.pi\n",
    "# orient"
   ]
  },
  {
   "cell_type": "code",
   "execution_count": 16,
   "metadata": {},
   "outputs": [
    {
     "data": {
      "text/html": [
       "<pre>✔️ 1.92 ms (2021-02-01T15:09:05/2021-02-01T15:09:05)</pre>"
      ],
      "text/plain": [
       "<IPython.core.display.HTML object>"
      ]
     },
     "metadata": {},
     "output_type": "display_data"
    }
   ],
   "source": [
    "# Calculando o angulo de altura de cada ponto\n",
    "\n",
    "# np.arctan2(10, 1000) * 180 / np.pi\n",
    "# np.sqrt(np.square(4) + np.square(3))\n",
    "\n",
    "inclin = np.arctan2(pts_0[:, 2], np.sqrt(np.square(pts_0[:, 0]) + np.square(pts_0[:, 1]))) * 180 / np.pi"
   ]
  },
  {
   "cell_type": "code",
   "execution_count": 17,
   "metadata": {},
   "outputs": [
    {
     "data": {
      "text/html": [
       "<pre>✔️ 529 µs (2021-02-01T15:09:05/2021-02-01T15:09:05)</pre>"
      ],
      "text/plain": [
       "<IPython.core.display.HTML object>"
      ]
     },
     "metadata": {},
     "output_type": "display_data"
    }
   ],
   "source": [
    "# sorted(inclin, reverse=True)"
   ]
  },
  {
   "cell_type": "code",
   "execution_count": 18,
   "metadata": {},
   "outputs": [
    {
     "data": {
      "text/html": [
       "<pre>✔️ 2 ms (2021-02-01T15:09:05/2021-02-01T15:09:05)</pre>"
      ],
      "text/plain": [
       "<IPython.core.display.HTML object>"
      ]
     },
     "metadata": {},
     "output_type": "display_data"
    },
    {
     "data": {
      "text/plain": [
       "array([109.60570757, 107.78895763, 177.57050042, ...,  30.83862436,\n",
       "        30.3244931 ,  46.05234752])"
      ]
     },
     "execution_count": 18,
     "metadata": {},
     "output_type": "execute_result"
    }
   ],
   "source": [
    "orient\n"
   ]
  },
  {
   "cell_type": "code",
   "execution_count": 19,
   "metadata": {},
   "outputs": [
    {
     "data": {
      "text/html": [
       "<pre>✔️ 1.46 ms (2021-02-01T15:09:05/2021-02-01T15:09:05)</pre>"
      ],
      "text/plain": [
       "<IPython.core.display.HTML object>"
      ]
     },
     "metadata": {},
     "output_type": "display_data"
    }
   ],
   "source": [
    "# Separando em fases\n",
    "\n",
    "qt_fases = 60\n",
    "fases = np.arange(-180., 180., 360./qt_fases)\n",
    "\n",
    "pt_bins = np.digitize(orient, fases)"
   ]
  },
  {
   "cell_type": "code",
   "execution_count": 20,
   "metadata": {},
   "outputs": [
    {
     "data": {
      "text/html": [
       "<pre>✔️ 5.82 ms (2021-02-01T15:09:06/2021-02-01T15:09:06)</pre>"
      ],
      "text/plain": [
       "<IPython.core.display.HTML object>"
      ]
     },
     "metadata": {},
     "output_type": "display_data"
    },
    {
     "data": {
      "text/plain": [
       "(array([ 779,  436,  657,  434,  646,  871, 1912, 2089, 2295, 2084, 1979,\n",
       "        1407,  430,  239,  530,  308,  292,  136,  115,   84,   76,   54,\n",
       "          31,   16,   15,   15,   17,   14,   17,   13,   22,   20,   24,\n",
       "          29,   45,   52,   28,   15,   16,    7,    2,    3,    3,    4,\n",
       "           3,    7,    4,    6,    6,    7,    8,   14,   25,   26,   43,\n",
       "          33,   62,  176,  408]),\n",
       " array([-180., -174., -168., -162., -156., -150., -144., -138., -132.,\n",
       "        -126., -120., -114., -108., -102.,  -96.,  -90.,  -84.,  -78.,\n",
       "         -72.,  -66.,  -60.,  -54.,  -48.,  -42.,  -36.,  -30.,  -24.,\n",
       "         -18.,  -12.,   -6.,    0.,    6.,   12.,   18.,   24.,   30.,\n",
       "          36.,   42.,   48.,   54.,   60.,   66.,   72.,   78.,   84.,\n",
       "          90.,   96.,  102.,  108.,  114.,  120.,  126.,  132.,  138.,\n",
       "         144.,  150.,  156.,  162.,  168.,  174.]))"
      ]
     },
     "execution_count": 20,
     "metadata": {},
     "output_type": "execute_result"
    }
   ],
   "source": [
    "np.histogram(orient, fases)"
   ]
  },
  {
   "cell_type": "code",
   "execution_count": 21,
   "metadata": {},
   "outputs": [
    {
     "data": {
      "text/html": [
       "<pre>✔️ 2.27 ms (2021-02-01T15:09:06/2021-02-01T15:09:06)</pre>"
      ],
      "text/plain": [
       "<IPython.core.display.HTML object>"
      ]
     },
     "metadata": {},
     "output_type": "display_data"
    },
    {
     "data": {
      "text/plain": [
       "array([ 1,  2,  3,  4,  5,  6,  7,  8,  9, 10, 11, 12, 13, 14, 15, 16, 17,\n",
       "       18, 19, 20, 21, 22, 23, 24, 25, 26, 27, 28, 29, 30, 31, 32, 33, 34,\n",
       "       35, 36, 37, 38, 39, 40, 41, 42, 43, 44, 45, 46, 47, 48, 49, 50, 51,\n",
       "       52, 53, 54, 55, 56, 57, 58, 59, 60])"
      ]
     },
     "execution_count": 21,
     "metadata": {},
     "output_type": "execute_result"
    }
   ],
   "source": [
    "np.unique(pt_bins)"
   ]
  },
  {
   "cell_type": "code",
   "execution_count": 22,
   "metadata": {},
   "outputs": [
    {
     "data": {
      "text/html": [
       "<pre>✔️ 2.57 ms (2021-02-01T15:09:06/2021-02-01T15:09:06)</pre>"
      ],
      "text/plain": [
       "<IPython.core.display.HTML object>"
      ]
     },
     "metadata": {},
     "output_type": "display_data"
    },
    {
     "data": {
      "text/plain": [
       "array([ 1,  2,  3,  4,  5,  6,  7,  8,  9, 10, 11, 12, 13, 14, 15, 16, 17,\n",
       "       18, 19, 20, 21, 22, 23, 24, 25, 26, 27, 28, 29, 30, 31, 32, 33, 34,\n",
       "       35, 36, 37, 38, 39, 40, 41, 42, 43, 44, 45, 46, 47, 48, 49, 50, 51,\n",
       "       52, 53, 54, 55, 56, 57, 58, 59, 60])"
      ]
     },
     "execution_count": 22,
     "metadata": {},
     "output_type": "execute_result"
    }
   ],
   "source": [
    "np.arange(1, qt_fases + 1)"
   ]
  },
  {
   "cell_type": "code",
   "execution_count": 23,
   "metadata": {},
   "outputs": [
    {
     "data": {
      "text/html": [
       "<pre>✔️ 6.45 ms (2021-02-01T15:09:06/2021-02-01T15:09:06)</pre>"
      ],
      "text/plain": [
       "<IPython.core.display.HTML object>"
      ]
     },
     "metadata": {},
     "output_type": "display_data"
    },
    {
     "data": {
      "text/plain": [
       "[[1, 41.91268000999039],\n",
       " [2, 53.19991260916583],\n",
       " [3, 66.15632916377024],\n",
       " [4, 57.544333817976195],\n",
       " [5, 80.11703035579167],\n",
       " [6, 54.201798274744284],\n",
       " [7, 69.50214730388267],\n",
       " [8, 60.56380572263649],\n",
       " [9, 44.25372347150889],\n",
       " [10, 48.341954724022486],\n",
       " [11, 53.588784001995826],\n",
       " [12, 71.25683793608374],\n",
       " [13, 51.02115112139041],\n",
       " [14, 57.20184370096776],\n",
       " [15, 43.21549186333322],\n",
       " [16, 80.42461143810172],\n",
       " [17, 55.783778406005034],\n",
       " [18, 69.7686290442735],\n",
       " [19, 27.583282612556193],\n",
       " [20, 66.29528143219662],\n",
       " [21, 27.1545342495594],\n",
       " [22, 30.270950606661348],\n",
       " [23, 27.818898395059442],\n",
       " [24, 41.81791677129059],\n",
       " [25, 33.35733937182092],\n",
       " [26, 69.2340866608744],\n",
       " [27, 41.143571421561134],\n",
       " [28, 82.09274553369916],\n",
       " [29, 44.25018524462059],\n",
       " [30, 45.35039588114663],\n",
       " [31, 34.87376908418777],\n",
       " [32, 40.44760143733766],\n",
       " [33, 35.591337397359695],\n",
       " [34, 53.93171697418687],\n",
       " [35, 56.19038713714204],\n",
       " [36, 56.6317592506008],\n",
       " [37, 55.85065007156487],\n",
       " [38, 53.79565447603187],\n",
       " [39, 49.55567815130015],\n",
       " [40, 76.91198453885086],\n",
       " [41, 11.243614221950827],\n",
       " [42, 73.28310847291011],\n",
       " [43, 54.026895209082426],\n",
       " [44, 44.877607040032366],\n",
       " [45, 19.373419940954093],\n",
       " [46, 85.08033531603891],\n",
       " [47, 43.954812687470856],\n",
       " [48, 26.345156264189583],\n",
       " [49, 56.596440172409274],\n",
       " [50, 48.53590660810533],\n",
       " [51, 28.29342369657721],\n",
       " [52, 36.330648231979936],\n",
       " [53, 73.55113519979467],\n",
       " [54, 40.37606398221935],\n",
       " [55, 35.99608798739955],\n",
       " [56, 78.12001196836574],\n",
       " [57, 70.10354684335978],\n",
       " [58, 67.19025068545193],\n",
       " [59, 73.44034426950046],\n",
       " [60, 58.98046232608147]]"
      ]
     },
     "execution_count": 23,
     "metadata": {},
     "output_type": "execute_result"
    }
   ],
   "source": [
    "list(map(lambda x: [x, np.nanmax(inclin[pt_bins == x])] if len(inclin[pt_bins == x]) > 0 else [x, 0.], np.arange(1, qt_fases + 1)))\n",
    "# list(map(lambda x: len(orient[pt_bins == x]), fases))\n",
    "# np.nanmax(inclin[pt_bins == 3]) if len(inclin[pt_bins == 3]) > 0"
   ]
  },
  {
   "cell_type": "code",
   "execution_count": 43,
   "metadata": {},
   "outputs": [
    {
     "data": {
      "text/html": [
       "<pre>✔️ 4.59 ms (2021-02-01T15:45:36/2021-02-01T15:45:36)</pre>"
      ],
      "text/plain": [
       "<IPython.core.display.HTML object>"
      ]
     },
     "metadata": {},
     "output_type": "display_data"
    },
    {
     "data": {
      "text/plain": [
       "53.13010235415598"
      ]
     },
     "execution_count": 43,
     "metadata": {},
     "output_type": "execute_result"
    }
   ],
   "source": [
    "# A relação entre a densidade de pontos e a distância para obstrução do céu visível\n",
    "# Quanto mais próximo um ponto está do observador, maior a obstrução que ele deve promover\n",
    "# Os parâmetros portanto são distância ao observador e a distância máxima entre pontos\n",
    "\n",
    "# Os bins então vão responder não mais a um angulo, mas uma faixa de angulos\n",
    "\n",
    "# o Angulo é dado por arctan2(dist_max_entre_pontos/2, distancia_do_observador)\n",
    "\n",
    "np.degrees(np.arctan2(1/2, 1)*2)\n",
    "\n",
    "# Depois refatorar a função de máximo ângulo da fase"
   ]
  },
  {
   "cell_type": "code",
   "execution_count": 44,
   "metadata": {},
   "outputs": [
    {
     "data": {
      "text/html": [
       "<pre>✔️ 1.15 ms (2021-02-01T16:07:45/2021-02-01T16:07:45)</pre>"
      ],
      "text/plain": [
       "<IPython.core.display.HTML object>"
      ]
     },
     "metadata": {},
     "output_type": "display_data"
    }
   ],
   "source": [
    "# Calcular o percentual de cada fuso\n",
    "# Sendo que a área do fuso é a área da esfera 4 x Pi x r x r dividido pela quantidade de fusos\n",
    "# em cada fuso subtrair a quantidade de céu visível, dao pela fórmula da calota da esfera\n",
    "# 2 x Pi x r x h (sendo necessário calcular h e considenrando r constante)"
   ]
  },
  {
   "cell_type": "code",
   "execution_count": null,
   "metadata": {},
   "outputs": [],
   "source": [
    "## TODO\n",
    "# Pensar em como iterar sobre as folhas!"
   ]
  }
 ],
 "metadata": {
  "kernelspec": {
   "display_name": "Python 3",
   "language": "python",
   "name": "python3"
  },
  "language_info": {
   "codemirror_mode": {
    "name": "ipython",
    "version": 3
   },
   "file_extension": ".py",
   "mimetype": "text/x-python",
   "name": "python",
   "nbconvert_exporter": "python",
   "pygments_lexer": "ipython3",
   "version": "3.8.6"
  }
 },
 "nbformat": 4,
 "nbformat_minor": 4
}
