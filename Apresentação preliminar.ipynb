{
 "cells": [
  {
   "cell_type": "markdown",
   "id": "bfd0efe4",
   "metadata": {
    "slideshow": {
     "slide_type": "slide"
    }
   },
   "source": [
    "# Sky View Factor From ALS LiDAR 3D Survey in Large Cities"
   ]
  },
  {
   "cell_type": "markdown",
   "id": "fa7a74f3",
   "metadata": {
    "slideshow": {
     "slide_type": "subslide"
    }
   },
   "source": [
    "## Introduction\n",
    "\n",
    "### Definition\n",
    "\n",
    "> Sky View Factor (SVF) is a \"reduced dimension\" of urban form (Middel et al., 2017), estimating from a given point perspective, of the sky’s amount which can be seen (Oke, 1982; Watson and Johnson, 1987)."
   ]
  },
  {
   "cell_type": "markdown",
   "id": "7cf24294",
   "metadata": {
    "slideshow": {
     "slide_type": "subslide"
    }
   },
   "source": [
    "### Environment and Climatology\n",
    "\n",
    "> SVF affects the surface energy balance, local air circulation, and outdoor thermal comfort (Heet al., 2015) and its estimate from LiDAR ALS can easily be obtained over a large area,  potentially improving the use of such data in atmospheric and meteorological models (Kidd and Chapman, 2012)"
   ]
  },
  {
   "cell_type": "markdown",
   "id": "1cda275b",
   "metadata": {
    "slideshow": {
     "slide_type": "subslide"
    }
   },
   "source": [
    "### GNSS\n",
    "\n",
    ">Accurate positioning using the Global Positioning System (GPS) is essential to urban mobility and transportation (Goletz and Ehebrecht, 2020; Zhu et al., 2018),  mapping Urban Canyons and possibly no-signal areas, can prevent inaccuracy of positioning (Fouque and Bonnifait, 2007; Ben-Moshe et al.; Wang et al., 2012)"
   ]
  },
  {
   "cell_type": "markdown",
   "id": "43f7b210",
   "metadata": {},
   "source": [
    "### Urban Planning\n",
    "\n",
    "> Estimate SVF  can  be  used  to  analyse  and  qualify  simulated  Urban built and proposed  scenarios (Rafieian  et  al.,2014) from the pedestrian perspective. This new paradigm has the potencial to lead us to an unprecedented mapping perspective, from the top-down bird view to a human driven urban planning"
   ]
  },
  {
   "cell_type": "markdown",
   "id": "9165cf71",
   "metadata": {},
   "source": [
    "## Materials and Methods"
   ]
  },
  {
   "cell_type": "markdown",
   "id": "fd511f03",
   "metadata": {},
   "source": [
    "### Urban ALS LiDAR Datasets\n",
    "\n",
    "* Copenhagen, Denmark; \n",
    "* São Paulo, Brasil; \n",
    "* Amsterdam, Netherlands; \n",
    "* NYC, USA"
   ]
  },
  {
   "cell_type": "markdown",
   "id": "c4a14045",
   "metadata": {},
   "source": [
    "### Theorical Model\n",
    "\n",
    "* A virtual hemisphere dome is centered from a perspective of a point. The hemispere is divided into fuses and each fuse into meridians of equal areas. The points are properly clustered in fuses and meridians and the ratio of filled clusters over empty ones is the SVF. "
   ]
  },
  {
   "cell_type": "markdown",
   "id": "fdc4dd3d",
   "metadata": {},
   "source": [
    "### Ray Casting\n",
    "\n",
    "* All the points of the survey, as a matrix, are projected from the perpective of a ray, into a plane. Then, for each projected pixel just the maximum value of Z receive the sum of 1. The process is repeated for every meridian of every zone, then, for each point the SVF is calculated from the ratio of all maximum Z values over total of iterations.\n"
   ]
  },
  {
   "cell_type": "markdown",
   "id": "a03e3c43",
   "metadata": {},
   "source": [
    "### Parameters consideration\n",
    "\n",
    "* $\\Delta\\theta$ e $\\Delta\\phi$\n",
    "* Parameters must consider survey density of points.\n",
    "* Points density decreases as far as they are from the perspective point\n",
    "* Result's spectral range can drive the parameters"
   ]
  },
  {
   "cell_type": "markdown",
   "id": "67d30868",
   "metadata": {},
   "source": [
    "## Results"
   ]
  },
  {
   "cell_type": "markdown",
   "id": "4be7ad66",
   "metadata": {},
   "source": [
    "### Specific points estimation"
   ]
  },
  {
   "cell_type": "markdown",
   "id": "b47c56cf",
   "metadata": {},
   "source": [
    "### Large Areas Processing\n",
    "\n",
    "* Sample on CloudCompare\n",
    "* Entire São Paulo City dataset estimation time processing were 127 days, after code refactoring is 8 to 36 hour"
   ]
  },
  {
   "cell_type": "markdown",
   "id": "3f0bacf7",
   "metadata": {},
   "source": [
    "### Cloud Computing Processing \n",
    "\n",
    "* Paralell Processing 16 VCPus\n",
    "* Amazon EC2 (Cloud Computing)\n",
    "* Estimating compute processing cost is USD 0,77 per hour times 8-36 hour => from USD 6,16 up to USD 27,72"
   ]
  },
  {
   "cell_type": "markdown",
   "id": "72670adc",
   "metadata": {},
   "source": [
    "### Comparing Methods results (with other methods?)\n",
    "\n",
    "* Google Street View!?!?!?!? (TO BE DONE!)\n",
    "* Evaluete or Validate"
   ]
  },
  {
   "cell_type": "markdown",
   "id": "1375b44e",
   "metadata": {},
   "source": [
    "## Discussion\n"
   ]
  },
  {
   "cell_type": "markdown",
   "id": "59ce356a",
   "metadata": {},
   "source": [
    "### Limitations of use\n",
    "\n",
    "* Do we consider vegetation? Or just built environement?\n",
    "* Earth Curvature matters ont this discrete model?\n",
    "* Peripheral SVF areas could not be acuratted as central areas, but We can measure that inaccuracy?"
   ]
  },
  {
   "cell_type": "markdown",
   "id": "aac6d8c7",
   "metadata": {},
   "source": [
    "### Aplicability\n",
    "\n",
    "* Local Metheorology models and researchs\n",
    "* Walkability dimension ***\n",
    "* Urban planning simulation ***\n",
    "* GNSS routing models <--\n"
   ]
  },
  {
   "cell_type": "markdown",
   "id": "3bae730c",
   "metadata": {},
   "source": [
    "### Future Works\n",
    "\n",
    "* Sun hours calculation can use the same method\n",
    "* Study the impact of new buildings form and height in the SVF\n",
    "* Online SVF Dome visualizares can be done, and can help researches, city planners and urbanists to consider this aspect"
   ]
  },
  {
   "cell_type": "code",
   "execution_count": null,
   "id": "9f7ef3c3",
   "metadata": {},
   "outputs": [],
   "source": []
  }
 ],
 "metadata": {
  "celltoolbar": "Slideshow",
  "kernelspec": {
   "display_name": "Python 3",
   "language": "python",
   "name": "python3"
  },
  "language_info": {
   "codemirror_mode": {
    "name": "ipython",
    "version": 3
   },
   "file_extension": ".py",
   "mimetype": "text/x-python",
   "name": "python",
   "nbconvert_exporter": "python",
   "pygments_lexer": "ipython3",
   "version": "3.8.5"
  }
 },
 "nbformat": 4,
 "nbformat_minor": 5
}
