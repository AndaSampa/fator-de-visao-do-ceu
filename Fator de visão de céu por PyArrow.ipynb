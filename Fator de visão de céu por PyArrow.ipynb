{
 "cells": [
  {
   "cell_type": "code",
   "execution_count": 1,
   "metadata": {
    "_cell_guid": "b1076dfc-b9ad-4769-8c92-a6c4dae69d19",
    "_uuid": "8f2839f25d086af736a60e9eeb907d3b93b6e0e5",
    "execution": {
     "iopub.execute_input": "2022-04-02T15:19:18.142675Z",
     "iopub.status.busy": "2022-04-02T15:19:18.142082Z",
     "iopub.status.idle": "2022-04-02T15:19:18.147153Z",
     "shell.execute_reply": "2022-04-02T15:19:18.146459Z",
     "shell.execute_reply.started": "2022-04-02T15:19:18.142637Z"
    }
   },
   "outputs": [],
   "source": [
    "import pyarrow as pa\n",
    "import pyarrow.compute as pc\n",
    "import pyarrow.dataset as ds\n",
    "import rasterio\n",
    "from rasterio.windows import Window\n",
    "import vaex\n",
    "import numpy as np\n",
    "import gc"
   ]
  },
  {
   "cell_type": "code",
   "execution_count": 2,
   "metadata": {
    "execution": {
     "iopub.execute_input": "2022-04-02T15:18:49.983242Z",
     "iopub.status.busy": "2022-04-02T15:18:49.982925Z",
     "iopub.status.idle": "2022-04-02T15:18:49.988444Z",
     "shell.execute_reply": "2022-04-02T15:18:49.987520Z",
     "shell.execute_reply.started": "2022-04-02T15:18:49.983207Z"
    }
   },
   "outputs": [
    {
     "name": "stdout",
     "output_type": "stream",
     "text": [
      "7.0.0\n"
     ]
    }
   ],
   "source": [
    "print(pa.__version__)"
   ]
  },
  {
   "cell_type": "code",
   "execution_count": null,
   "metadata": {},
   "outputs": [],
   "source": [
    "ds = ds.dataset(\"sample_dataset\", format=\"parquet\")"
   ]
  },
  {
   "cell_type": "code",
   "execution_count": null,
   "metadata": {},
   "outputs": [],
   "source": [
    "p = ds.to_table()"
   ]
  },
  {
   "cell_type": "code",
   "execution_count": null,
   "metadata": {},
   "outputs": [],
   "source": []
  },
  {
   "cell_type": "code",
   "execution_count": null,
   "metadata": {},
   "outputs": [],
   "source": []
  },
  {
   "cell_type": "code",
   "execution_count": 3,
   "metadata": {},
   "outputs": [],
   "source": [
    "x_off, y_off = 8000, 8000"
   ]
  },
  {
   "cell_type": "code",
   "execution_count": 4,
   "metadata": {
    "execution": {
     "iopub.execute_input": "2022-04-02T14:20:11.313129Z",
     "iopub.status.busy": "2022-04-02T14:20:11.312222Z",
     "iopub.status.idle": "2022-04-02T14:20:11.444601Z",
     "shell.execute_reply": "2022-04-02T14:20:11.443376Z",
     "shell.execute_reply.started": "2022-04-02T14:20:11.313073Z"
    }
   },
   "outputs": [],
   "source": [
    "mdt = rasterio.open('/media/feromes/FEROMES/MDT_sampa-ZSTD.tif')"
   ]
  },
  {
   "cell_type": "code",
   "execution_count": 5,
   "metadata": {
    "execution": {
     "iopub.execute_input": "2022-04-02T14:20:25.695719Z",
     "iopub.status.busy": "2022-04-02T14:20:25.695447Z",
     "iopub.status.idle": "2022-04-02T14:20:25.701172Z",
     "shell.execute_reply": "2022-04-02T14:20:25.699943Z",
     "shell.execute_reply.started": "2022-04-02T14:20:25.695689Z"
    }
   },
   "outputs": [],
   "source": [
    "window = rasterio.windows.from_bounds(331242.0, 7389124.0, 331242. + x_off/2, 7389124.0 + y_off/2, transform=mdt.transform)"
   ]
  },
  {
   "cell_type": "code",
   "execution_count": 6,
   "metadata": {
    "execution": {
     "iopub.execute_input": "2022-04-02T14:20:34.904426Z",
     "iopub.status.busy": "2022-04-02T14:20:34.903157Z",
     "iopub.status.idle": "2022-04-02T14:20:43.313651Z",
     "shell.execute_reply": "2022-04-02T14:20:43.312886Z",
     "shell.execute_reply.started": "2022-04-02T14:20:34.904380Z"
    }
   },
   "outputs": [],
   "source": [
    "mdt_dataset = mdt.read(1, window=window)"
   ]
  },
  {
   "cell_type": "code",
   "execution_count": 7,
   "metadata": {
    "execution": {
     "iopub.execute_input": "2022-04-02T14:20:43.831077Z",
     "iopub.status.busy": "2022-04-02T14:20:43.829982Z",
     "iopub.status.idle": "2022-04-02T14:20:43.840852Z",
     "shell.execute_reply": "2022-04-02T14:20:43.839889Z",
     "shell.execute_reply.started": "2022-04-02T14:20:43.831026Z"
    }
   },
   "outputs": [
    {
     "data": {
      "text/plain": [
       "(8000, 8000)"
      ]
     },
     "execution_count": 7,
     "metadata": {},
     "output_type": "execute_result"
    }
   ],
   "source": [
    "mdt_dataset.shape"
   ]
  },
  {
   "cell_type": "code",
   "execution_count": 8,
   "metadata": {
    "execution": {
     "iopub.execute_input": "2022-04-02T14:21:06.505913Z",
     "iopub.status.busy": "2022-04-02T14:21:06.505606Z",
     "iopub.status.idle": "2022-04-02T14:21:06.557528Z",
     "shell.execute_reply": "2022-04-02T14:21:06.556536Z",
     "shell.execute_reply.started": "2022-04-02T14:21:06.505877Z"
    }
   },
   "outputs": [],
   "source": [
    "bhm = rasterio.open('/media/feromes/FEROMES/BHM/0-BHM-sao-paulo-city.tif')"
   ]
  },
  {
   "cell_type": "code",
   "execution_count": 9,
   "metadata": {
    "execution": {
     "iopub.execute_input": "2022-04-02T14:21:14.129708Z",
     "iopub.status.busy": "2022-04-02T14:21:14.129431Z",
     "iopub.status.idle": "2022-04-02T14:21:20.351896Z",
     "shell.execute_reply": "2022-04-02T14:21:20.350816Z",
     "shell.execute_reply.started": "2022-04-02T14:21:14.129677Z"
    }
   },
   "outputs": [],
   "source": [
    "bhm_dataset = bhm.read(1, window=window)"
   ]
  },
  {
   "cell_type": "code",
   "execution_count": 10,
   "metadata": {
    "execution": {
     "iopub.execute_input": "2022-04-02T14:21:21.274312Z",
     "iopub.status.busy": "2022-04-02T14:21:21.274007Z",
     "iopub.status.idle": "2022-04-02T14:21:21.281271Z",
     "shell.execute_reply": "2022-04-02T14:21:21.280160Z",
     "shell.execute_reply.started": "2022-04-02T14:21:21.274281Z"
    }
   },
   "outputs": [
    {
     "data": {
      "text/plain": [
       "(8000, 8000)"
      ]
     },
     "execution_count": 10,
     "metadata": {},
     "output_type": "execute_result"
    }
   ],
   "source": [
    "bhm_dataset.shape"
   ]
  },
  {
   "cell_type": "code",
   "execution_count": 11,
   "metadata": {},
   "outputs": [
    {
     "data": {
      "text/plain": [
       "array([[814.1647 , 814.1461 , 814.1408 , ..., 726.4734 , 726.48505,\n",
       "        726.4966 ],\n",
       "       [814.16846, 814.1529 , 814.1526 , ..., 726.48486, 726.49567,\n",
       "        726.50604],\n",
       "       [814.1693 , 814.15576, 814.15955, ..., 726.4981 , 726.5075 ,\n",
       "        726.5161 ],\n",
       "       ...,\n",
       "       [751.9352 , 752.0173 , 752.08356, ..., 790.6649 , 790.68054,\n",
       "        790.69446],\n",
       "       [752.0068 , 752.0829 , 752.14294, ..., 790.66376, 790.6782 ,\n",
       "        790.69086],\n",
       "       [752.07446, 752.1454 , 752.1998 , ..., 790.6666 , 790.6798 ,\n",
       "        790.69086]], dtype=float32)"
      ]
     },
     "execution_count": 11,
     "metadata": {},
     "output_type": "execute_result"
    }
   ],
   "source": [
    "mdt_dataset"
   ]
  },
  {
   "cell_type": "code",
   "execution_count": null,
   "metadata": {},
   "outputs": [],
   "source": []
  },
  {
   "cell_type": "code",
   "execution_count": 12,
   "metadata": {
    "execution": {
     "iopub.execute_input": "2022-04-02T14:21:30.427474Z",
     "iopub.status.busy": "2022-04-02T14:21:30.427109Z",
     "iopub.status.idle": "2022-04-02T14:21:30.440541Z",
     "shell.execute_reply": "2022-04-02T14:21:30.439469Z",
     "shell.execute_reply.started": "2022-04-02T14:21:30.427421Z"
    }
   },
   "outputs": [],
   "source": [
    "mds_dataset = bhm_dataset + mdt_dataset"
   ]
  },
  {
   "cell_type": "code",
   "execution_count": 13,
   "metadata": {},
   "outputs": [
    {
     "data": {
      "text/plain": [
       "744"
      ]
     },
     "execution_count": 13,
     "metadata": {},
     "output_type": "execute_result"
    }
   ],
   "source": [
    "del mdt_dataset\n",
    "del bhm_dataset\n",
    "gc.collect()"
   ]
  },
  {
   "cell_type": "code",
   "execution_count": 14,
   "metadata": {},
   "outputs": [
    {
     "data": {
      "text/plain": [
       "0"
      ]
     },
     "execution_count": 14,
     "metadata": {},
     "output_type": "execute_result"
    }
   ],
   "source": [
    "gc.collect()"
   ]
  },
  {
   "cell_type": "code",
   "execution_count": 15,
   "metadata": {
    "execution": {
     "iopub.execute_input": "2022-04-02T14:22:04.809270Z",
     "iopub.status.busy": "2022-04-02T14:22:04.808834Z",
     "iopub.status.idle": "2022-04-02T14:22:04.945131Z",
     "shell.execute_reply": "2022-04-02T14:22:04.944484Z",
     "shell.execute_reply.started": "2022-04-02T14:22:04.809236Z"
    }
   },
   "outputs": [],
   "source": [
    "mds_indices = np.array([np.where(mds_dataset > 0.)[0], np.where(mds_dataset > 0.)[1]]).transpose()"
   ]
  },
  {
   "cell_type": "code",
   "execution_count": 16,
   "metadata": {
    "execution": {
     "iopub.execute_input": "2022-04-02T14:22:15.641164Z",
     "iopub.status.busy": "2022-04-02T14:22:15.640795Z",
     "iopub.status.idle": "2022-04-02T14:22:15.755279Z",
     "shell.execute_reply": "2022-04-02T14:22:15.754346Z",
     "shell.execute_reply.started": "2022-04-02T14:22:15.641127Z"
    }
   },
   "outputs": [],
   "source": [
    "t = bhm.transform\n",
    "mds_xy = mds_indices * (t[0], t[4]) + (t[2], t[5]) + (t[0]/2, t[4]/2)"
   ]
  },
  {
   "cell_type": "code",
   "execution_count": 17,
   "metadata": {
    "execution": {
     "iopub.execute_input": "2022-04-02T14:22:35.905923Z",
     "iopub.status.busy": "2022-04-02T14:22:35.905627Z",
     "iopub.status.idle": "2022-04-02T14:22:35.958616Z",
     "shell.execute_reply": "2022-04-02T14:22:35.957729Z",
     "shell.execute_reply.started": "2022-04-02T14:22:35.905890Z"
    }
   },
   "outputs": [
    {
     "data": {
      "text/plain": [
       "array([814.1647 , 814.1461 , 814.1408 , ..., 855.16187, 855.17505,\n",
       "       855.27295], dtype=float32)"
      ]
     },
     "execution_count": 17,
     "metadata": {},
     "output_type": "execute_result"
    }
   ],
   "source": [
    "mds_z = mds_dataset[mds_indices[:, 0], mds_indices[:, 1]]\n",
    "mds_z"
   ]
  },
  {
   "cell_type": "code",
   "execution_count": 18,
   "metadata": {},
   "outputs": [
    {
     "data": {
      "text/plain": [
       "0"
      ]
     },
     "execution_count": 18,
     "metadata": {},
     "output_type": "execute_result"
    }
   ],
   "source": [
    "del mds_indices\n",
    "gc.collect()"
   ]
  },
  {
   "cell_type": "code",
   "execution_count": 19,
   "metadata": {
    "execution": {
     "iopub.execute_input": "2022-04-02T14:24:22.801545Z",
     "iopub.status.busy": "2022-04-02T14:24:22.800693Z",
     "iopub.status.idle": "2022-04-02T14:24:22.809156Z",
     "shell.execute_reply": "2022-04-02T14:24:22.808039Z",
     "shell.execute_reply.started": "2022-04-02T14:24:22.801496Z"
    }
   },
   "outputs": [
    {
     "data": {
      "text/plain": [
       "array([[ 313487.34, 7416122.63],\n",
       "       [ 313487.34, 7416122.13],\n",
       "       [ 313487.34, 7416121.63],\n",
       "       ...,\n",
       "       [ 317486.84, 7412124.13],\n",
       "       [ 317486.84, 7412123.63],\n",
       "       [ 317486.84, 7412123.13]])"
      ]
     },
     "execution_count": 19,
     "metadata": {},
     "output_type": "execute_result"
    }
   ],
   "source": [
    "mds_xy"
   ]
  },
  {
   "cell_type": "code",
   "execution_count": null,
   "metadata": {},
   "outputs": [],
   "source": [
    "ds.write_dataset(p, \"sample_dataset\", format=\"parquet\")"
   ]
  },
  {
   "cell_type": "code",
   "execution_count": null,
   "metadata": {
    "execution": {
     "iopub.execute_input": "2022-04-02T15:17:06.612133Z",
     "iopub.status.busy": "2022-04-02T15:17:06.611839Z",
     "iopub.status.idle": "2022-04-02T15:17:06.620275Z",
     "shell.execute_reply": "2022-04-02T15:17:06.618781Z",
     "shell.execute_reply.started": "2022-04-02T15:17:06.612103Z"
    }
   },
   "outputs": [],
   "source": [
    "p.shape"
   ]
  },
  {
   "cell_type": "code",
   "execution_count": 20,
   "metadata": {},
   "outputs": [
    {
     "data": {
      "text/plain": [
       "<pyarrow.lib.DoubleArray object at 0x7f9fa82c1940>\n",
       "[\n",
       "  814.1646728515625,\n",
       "  814.1461181640625,\n",
       "  814.1408081054688,\n",
       "  814.1514282226562,\n",
       "  814.1804809570312,\n",
       "  814.2273559570312,\n",
       "  814.2882690429688,\n",
       "  814.3591918945312,\n",
       "  814.4362182617188,\n",
       "  814.5153198242188,\n",
       "  ...\n",
       "  797.6015625,\n",
       "  797.765625,\n",
       "  797.9115600585938,\n",
       "  800.1697387695312,\n",
       "  800.1930541992188,\n",
       "  798.2294921875,\n",
       "  798.3817749023438,\n",
       "  855.161865234375,\n",
       "  855.175048828125,\n",
       "  855.27294921875\n",
       "]"
      ]
     },
     "execution_count": 20,
     "metadata": {},
     "output_type": "execute_result"
    }
   ],
   "source": [
    "pa.array(mds_z).cast('double')"
   ]
  },
  {
   "cell_type": "code",
   "execution_count": 21,
   "metadata": {},
   "outputs": [
    {
     "data": {
      "text/plain": [
       "<pyarrow.lib.DoubleArray object at 0x7f9fa82c1ac0>\n",
       "[\n",
       "  313487.5,\n",
       "  313487.5,\n",
       "  313487.5,\n",
       "  313487.5,\n",
       "  313487.5,\n",
       "  313487.5,\n",
       "  313487.5,\n",
       "  313487.5,\n",
       "  313487.5,\n",
       "  313487.5,\n",
       "  ...\n",
       "  317487,\n",
       "  317487,\n",
       "  317487,\n",
       "  317487,\n",
       "  317487,\n",
       "  317487,\n",
       "  317487,\n",
       "  317487,\n",
       "  317487,\n",
       "  317487\n",
       "]"
      ]
     },
     "execution_count": 21,
     "metadata": {},
     "output_type": "execute_result"
    }
   ],
   "source": [
    "pc.round_to_multiple(pa.array(mds_xy[:, 0]), multiple=0.5)"
   ]
  },
  {
   "cell_type": "code",
   "execution_count": 22,
   "metadata": {
    "execution": {
     "iopub.execute_input": "2022-04-02T15:17:04.628037Z",
     "iopub.status.busy": "2022-04-02T15:17:04.627541Z",
     "iopub.status.idle": "2022-04-02T15:17:04.635743Z",
     "shell.execute_reply": "2022-04-02T15:17:04.634698Z",
     "shell.execute_reply.started": "2022-04-02T15:17:04.627985Z"
    }
   },
   "outputs": [],
   "source": [
    "p = pa.table([pc.round_to_multiple(pa.array(mds_xy[:, 0]), multiple=0.5), \n",
    "             pc.round_to_multiple(pa.array(mds_xy[:, 1]), multiple=0.5), \n",
    "             pa.array(mds_z).cast('double')], names=['x', 'y', 'z'])"
   ]
  },
  {
   "cell_type": "code",
   "execution_count": 23,
   "metadata": {},
   "outputs": [
    {
     "data": {
      "text/plain": [
       "pyarrow.Table\n",
       "x: double\n",
       "y: double\n",
       "z: double\n",
       "----\n",
       "x: [[313487.5,313487.5,313487.5,313487.5,313487.5,313487.5,313487.5,313487.5,313487.5,313487.5,...,317487,317487,317487,317487,317487,317487,317487,317487,317487,317487]]\n",
       "y: [[7416122.5,7416122,7416121.5,7416121,7416120.5,7416120,7416119.5,7416119,7416118.5,7416118,...,7412127.5,7412127,7412126.5,7412126,7412125.5,7412125,7412124.5,7412124,7412123.5,7412123]]\n",
       "z: [[814.1646728515625,814.1461181640625,814.1408081054688,814.1514282226562,814.1804809570312,814.2273559570312,814.2882690429688,814.3591918945312,814.4362182617188,814.5153198242188,...,797.6015625,797.765625,797.9115600585938,800.1697387695312,800.1930541992188,798.2294921875,798.3817749023438,855.161865234375,855.175048828125,855.27294921875]]"
      ]
     },
     "execution_count": 23,
     "metadata": {},
     "output_type": "execute_result"
    }
   ],
   "source": [
    "p"
   ]
  },
  {
   "cell_type": "code",
   "execution_count": 24,
   "metadata": {},
   "outputs": [],
   "source": [
    "# DEve-se Considerar o resultado final em Bits\n",
    "# 8 bits = 256 nuances\n",
    "# 10 bits = 1024 nuances\n",
    "# representacoes binarias com raiz quadradas inteiras e como 16 e 32\n",
    "# Podem gerar uma divisao homogenea da semi esfera\n",
    "# Por exemplo 256 resultaria em 32 fusos e 8 meridianos\n",
    "# Por exemplo 1024 resultaria em 64 fusos e 16 meridianos\n",
    "\n",
    "fusos = 32\n",
    "meridianos = 8\n",
    "altura_observador = 1.20"
   ]
  },
  {
   "cell_type": "code",
   "execution_count": 25,
   "metadata": {},
   "outputs": [
    {
     "data": {
      "text/plain": [
       "array([ 1.57079633,  1.47262156,  1.37444679,  1.27627202,  1.17809725,\n",
       "        1.07992247,  0.9817477 ,  0.88357293,  0.78539816,  0.68722339,\n",
       "        0.58904862,  0.49087385,  0.39269908,  0.29452431,  0.19634954,\n",
       "        0.09817477,  0.        , -0.09817477, -0.19634954, -0.29452431,\n",
       "       -0.39269908, -0.49087385, -0.58904862, -0.68722339, -0.78539816,\n",
       "       -0.88357293, -0.9817477 , -1.07992247, -1.17809725, -1.27627202,\n",
       "       -1.37444679, -1.47262156])"
      ]
     },
     "execution_count": 25,
     "metadata": {},
     "output_type": "execute_result"
    }
   ],
   "source": [
    "thetas, delta_theta = np.linspace(np.pi/2, -np.pi/2, fusos, retstep=True, endpoint=False)\n",
    "thetas"
   ]
  },
  {
   "cell_type": "code",
   "execution_count": 26,
   "metadata": {},
   "outputs": [
    {
     "data": {
      "text/plain": [
       "array([0.3554212 , 0.62236849, 0.81275556, 0.97338991, 1.11797973,\n",
       "       1.25297262, 1.38217994, 1.50825556])"
      ]
     },
     "execution_count": 26,
     "metadata": {},
     "output_type": "execute_result"
    }
   ],
   "source": [
    "phis, delta_phi = np.linspace(1., 0., meridianos, retstep=True, endpoint=False)\n",
    "phis = np.arccos(phis + delta_phi/2)\n",
    "phis"
   ]
  },
  {
   "cell_type": "code",
   "execution_count": 27,
   "metadata": {},
   "outputs": [
    {
     "data": {
      "text/plain": [
       "array([ 0.37118429,  0.7174907 ,  1.05626819,  1.46986184,  2.05535637,\n",
       "        3.03973683,  5.23874455, 15.96871942])"
      ]
     },
     "execution_count": 27,
     "metadata": {},
     "output_type": "execute_result"
    }
   ],
   "source": [
    "np.tan(phis)"
   ]
  },
  {
   "cell_type": "code",
   "execution_count": 28,
   "metadata": {},
   "outputs": [],
   "source": [
    "p = p.append_column('z_observador', pc.add(p['z'], altura_observador))"
   ]
  },
  {
   "cell_type": "code",
   "execution_count": null,
   "metadata": {},
   "outputs": [],
   "source": []
  },
  {
   "cell_type": "code",
   "execution_count": null,
   "metadata": {},
   "outputs": [
    {
     "name": "stdout",
     "output_type": "stream",
     "text": [
      "CPU times: user 3 µs, sys: 0 ns, total: 3 µs\n",
      "Wall time: 5.25 µs\n",
      "0, 0 ..\n",
      "0, 1 ..\n",
      "0, 2 ..\n",
      "0, 3 ..\n",
      "0, 4 ..\n",
      "0, 5 ..\n",
      "0, 6 ..\n",
      "0, 7 ..\n",
      "1, 0 ..\n",
      "1, 1 ..\n",
      "1, 2 ..\n",
      "1, 3 ..\n",
      "1, 4 ..\n",
      "1, 5 ..\n",
      "1, 6 ..\n",
      "1, 7 ..\n",
      "2, 0 ..\n",
      "2, 1 ..\n"
     ]
    }
   ],
   "source": [
    "%time\n",
    "\n",
    "# x_min, y_min = \n",
    "\n",
    "for i_t, th in enumerate(thetas):\n",
    "    \n",
    "#     grid = np.zeros((x_off, y_off), dtype='uint8')\n",
    "\n",
    "    grid = np.zeros((x_off, y_off), dtype='float32')\n",
    "        \n",
    "    \n",
    "    for i_p, ph in enumerate(phis):\n",
    "        print(f'{i_t}, {i_p} ..')\n",
    "        \n",
    "        d = p.append_column(f'x{i_t}_{i_p}',\n",
    "                        pc.round_to_multiple(pc.add(pc.multiply(np.cos(th) * np.tan(ph), p['z']), p['x']), \n",
    "                                             multiple=0.5))\n",
    "        d = d.append_column(f'y{i_t}_{i_p}',\n",
    "                        pc.round_to_multiple(pc.add(pc.multiply(np.sin(th) * np.tan(ph), p['z']), p['y']), \n",
    "                                             multiple=0.5))\n",
    "        \n",
    "        \n",
    "        g = d.group_by([f'x{i_t}_{i_p}', f'y{i_t}_{i_p}']).aggregate([(\"z\", \"max\")])\n",
    "        \n",
    "        g = g.append_column(f'x',\n",
    "                            pc.multiply(pc.subtract(pc.round_to_multiple(pc.subtract(g[f'x{i_t}_{i_p}'], \n",
    "                                       pc.multiply(g['z_max'], (np.cos(th) * np.tan(ph)))), \n",
    "                                                 multiple=0.5), pc.min(p['x'])), 2).cast('int32'))\n",
    "        g = g.append_column(f'y',\n",
    "                            pc.multiply(pc.subtract(pc.round_to_multiple(pc.subtract(g[f'y{i_t}_{i_p}'], \n",
    "                                       pc.multiply(g['z_max'], (np.sin(th) * np.tan(ph)))), \n",
    "                                                 multiple=0.5), pc.min(p['y'])), 2).cast('int32'))\n",
    "        \n",
    "        grid[g['x'],g['y']] = g['z_max']\n",
    "        \n",
    "#                         pc.round_to_multiple(pc.add(pc.multiply(np.cos(th) * np.tan(ph), p['z']), p['x']), \n",
    "#                                              multiple=0.5))\n",
    "        \n",
    "        ## É Possível calcular o x, y\n",
    "\n",
    "#         pd_seila = seila.to_pandas(split_blocks=True, self_destruct=True)\n",
    "#         pd_d = d.to_pandas(split_blocks=True, self_destruct=True)\n",
    "#         joined = pd_d.join(pd_seila, how='left', rsuffix='r')\n",
    "    \n",
    "        \n",
    "#         break\n",
    "    \n",
    "#     break\n",
    "    "
   ]
  },
  {
   "cell_type": "code",
   "execution_count": null,
   "metadata": {},
   "outputs": [],
   "source": [
    "grid[g['x'],g['y']] = g['z_max']"
   ]
  },
  {
   "cell_type": "code",
   "execution_count": null,
   "metadata": {},
   "outputs": [],
   "source": []
  },
  {
   "cell_type": "code",
   "execution_count": null,
   "metadata": {},
   "outputs": [],
   "source": []
  },
  {
   "cell_type": "code",
   "execution_count": null,
   "metadata": {},
   "outputs": [],
   "source": []
  },
  {
   "cell_type": "code",
   "execution_count": null,
   "metadata": {},
   "outputs": [],
   "source": []
  },
  {
   "cell_type": "code",
   "execution_count": null,
   "metadata": {},
   "outputs": [],
   "source": []
  },
  {
   "cell_type": "code",
   "execution_count": null,
   "metadata": {},
   "outputs": [],
   "source": []
  },
  {
   "cell_type": "code",
   "execution_count": null,
   "metadata": {},
   "outputs": [],
   "source": []
  }
 ],
 "metadata": {
  "kernelspec": {
   "display_name": "Python 3 (ipykernel)",
   "language": "python",
   "name": "python3"
  },
  "language_info": {
   "codemirror_mode": {
    "name": "ipython",
    "version": 3
   },
   "file_extension": ".py",
   "mimetype": "text/x-python",
   "name": "python",
   "nbconvert_exporter": "python",
   "pygments_lexer": "ipython3",
   "version": "3.9.11"
  }
 },
 "nbformat": 4,
 "nbformat_minor": 4
}
