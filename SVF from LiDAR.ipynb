{
 "cells": [
  {
   "cell_type": "markdown",
   "metadata": {},
   "source": [
    "# Fator de Visão de Céu a partir do LiDAR\n",
    "\n",
    "Podemos determinar o Fator de Visão de céu, ou Sky View Factor diretamente do LiDAR sem gerar um raster.\n",
    "Para fins de performance podemos reduzir a densidade de pontos para cerca de 1 metro de resolução e a partir de cada ponto de Ground calcular a coordenada astronômica (Azimute e Altura) e a distância linear para cada ponto classificados como edificação.\n",
    "\n",
    "Para esse primeiro experimento vamos apenas usar uma folha SCM, sabendo que inerferências para visão de céu podem se estender muito além dos limites das dimensões de uma folha SCM."
   ]
  },
  {
   "cell_type": "code",
   "execution_count": 1,
   "metadata": {},
   "outputs": [],
   "source": [
    "import pdal"
   ]
  },
  {
   "cell_type": "code",
   "execution_count": 2,
   "metadata": {},
   "outputs": [],
   "source": [
    "pipeline=\"\"\"{\n",
    "  \"pipeline\": [\n",
    "    {\n",
    "        \"type\": \"readers.las\",\n",
    "        \"filename\": \"arquivos/MDS/MDS_3314-231.laz\"\n",
    "    },\n",
    "    {\n",
    "        \"type\": \"filters.sample\",\n",
    "        \"radius\": 5\n",
    "    }\n",
    "  ]\n",
    "}\"\"\""
   ]
  },
  {
   "cell_type": "code",
   "execution_count": 3,
   "metadata": {},
   "outputs": [],
   "source": [
    "r = pdal.Pipeline(pipeline)\n",
    "r.validate()\n",
    "r.execute()\n",
    "arrays = r.arrays"
   ]
  },
  {
   "cell_type": "code",
   "execution_count": 4,
   "metadata": {},
   "outputs": [
    {
     "data": {
      "text/plain": [
       "28449"
      ]
     },
     "execution_count": 4,
     "metadata": {},
     "output_type": "execute_result"
    }
   ],
   "source": [
    "len(arrays[0])"
   ]
  },
  {
   "cell_type": "code",
   "execution_count": 5,
   "metadata": {},
   "outputs": [
    {
     "data": {
      "text/plain": [
       "(333499.29, 7395564.35, 735.34, 18, 1, 1, 0, 0, 6, -14., 17, 6, 356569.36606547)"
      ]
     },
     "execution_count": 5,
     "metadata": {},
     "output_type": "execute_result"
    }
   ],
   "source": [
    "arrays[0][0]"
   ]
  },
  {
   "cell_type": "code",
   "execution_count": 6,
   "metadata": {},
   "outputs": [
    {
     "data": {
      "text/plain": [
       "{'schema': {'dimensions': [{'name': 'X', 'size': 8, 'type': 'floating'},\n",
       "   {'name': 'Y', 'size': 8, 'type': 'floating'},\n",
       "   {'name': 'Z', 'size': 8, 'type': 'floating'},\n",
       "   {'name': 'Intensity', 'size': 2, 'type': 'unsigned'},\n",
       "   {'name': 'ReturnNumber', 'size': 1, 'type': 'unsigned'},\n",
       "   {'name': 'NumberOfReturns', 'size': 1, 'type': 'unsigned'},\n",
       "   {'name': 'ScanDirectionFlag', 'size': 1, 'type': 'unsigned'},\n",
       "   {'name': 'EdgeOfFlightLine', 'size': 1, 'type': 'unsigned'},\n",
       "   {'name': 'Classification', 'size': 1, 'type': 'unsigned'},\n",
       "   {'name': 'ScanAngleRank', 'size': 4, 'type': 'floating'},\n",
       "   {'name': 'UserData', 'size': 1, 'type': 'unsigned'},\n",
       "   {'name': 'PointSourceId', 'size': 2, 'type': 'unsigned'},\n",
       "   {'name': 'GpsTime', 'size': 8, 'type': 'floating'}]}}"
      ]
     },
     "execution_count": 6,
     "metadata": {},
     "output_type": "execute_result"
    }
   ],
   "source": [
    "r.schema"
   ]
  },
  {
   "cell_type": "markdown",
   "metadata": {},
   "source": [
    "## Importando dados para Pandas"
   ]
  },
  {
   "cell_type": "code",
   "execution_count": 13,
   "metadata": {},
   "outputs": [],
   "source": [
    "import pandas as pd"
   ]
  },
  {
   "cell_type": "code",
   "execution_count": 14,
   "metadata": {},
   "outputs": [],
   "source": [
    "df = pd.DataFrame(arrays[0])"
   ]
  },
  {
   "cell_type": "code",
   "execution_count": 17,
   "metadata": {},
   "outputs": [
    {
     "data": {
      "text/html": [
       "<div>\n",
       "<style scoped>\n",
       "    .dataframe tbody tr th:only-of-type {\n",
       "        vertical-align: middle;\n",
       "    }\n",
       "\n",
       "    .dataframe tbody tr th {\n",
       "        vertical-align: top;\n",
       "    }\n",
       "\n",
       "    .dataframe thead th {\n",
       "        text-align: right;\n",
       "    }\n",
       "</style>\n",
       "<table border=\"1\" class=\"dataframe\">\n",
       "  <thead>\n",
       "    <tr style=\"text-align: right;\">\n",
       "      <th></th>\n",
       "      <th>X</th>\n",
       "      <th>Y</th>\n",
       "      <th>Z</th>\n",
       "      <th>Intensity</th>\n",
       "      <th>ReturnNumber</th>\n",
       "      <th>NumberOfReturns</th>\n",
       "      <th>ScanDirectionFlag</th>\n",
       "      <th>EdgeOfFlightLine</th>\n",
       "      <th>Classification</th>\n",
       "      <th>ScanAngleRank</th>\n",
       "      <th>UserData</th>\n",
       "      <th>PointSourceId</th>\n",
       "      <th>GpsTime</th>\n",
       "    </tr>\n",
       "  </thead>\n",
       "  <tbody>\n",
       "    <tr>\n",
       "      <th>0</th>\n",
       "      <td>333499.29</td>\n",
       "      <td>7395564.35</td>\n",
       "      <td>735.34</td>\n",
       "      <td>18</td>\n",
       "      <td>1</td>\n",
       "      <td>1</td>\n",
       "      <td>0</td>\n",
       "      <td>0</td>\n",
       "      <td>6</td>\n",
       "      <td>-14.0</td>\n",
       "      <td>17</td>\n",
       "      <td>6</td>\n",
       "      <td>356569.366065</td>\n",
       "    </tr>\n",
       "    <tr>\n",
       "      <th>1</th>\n",
       "      <td>333499.10</td>\n",
       "      <td>7395569.68</td>\n",
       "      <td>735.30</td>\n",
       "      <td>17</td>\n",
       "      <td>1</td>\n",
       "      <td>1</td>\n",
       "      <td>0</td>\n",
       "      <td>0</td>\n",
       "      <td>6</td>\n",
       "      <td>-15.0</td>\n",
       "      <td>17</td>\n",
       "      <td>6</td>\n",
       "      <td>356569.366153</td>\n",
       "    </tr>\n",
       "    <tr>\n",
       "      <th>2</th>\n",
       "      <td>333499.29</td>\n",
       "      <td>7395521.99</td>\n",
       "      <td>751.69</td>\n",
       "      <td>10</td>\n",
       "      <td>1</td>\n",
       "      <td>1</td>\n",
       "      <td>0</td>\n",
       "      <td>0</td>\n",
       "      <td>6</td>\n",
       "      <td>-11.0</td>\n",
       "      <td>17</td>\n",
       "      <td>6</td>\n",
       "      <td>356569.383594</td>\n",
       "    </tr>\n",
       "    <tr>\n",
       "      <th>3</th>\n",
       "      <td>333499.27</td>\n",
       "      <td>7395537.84</td>\n",
       "      <td>736.85</td>\n",
       "      <td>9</td>\n",
       "      <td>1</td>\n",
       "      <td>1</td>\n",
       "      <td>0</td>\n",
       "      <td>0</td>\n",
       "      <td>6</td>\n",
       "      <td>-12.0</td>\n",
       "      <td>17</td>\n",
       "      <td>6</td>\n",
       "      <td>356569.383810</td>\n",
       "    </tr>\n",
       "    <tr>\n",
       "      <th>4</th>\n",
       "      <td>333499.09</td>\n",
       "      <td>7395543.14</td>\n",
       "      <td>736.53</td>\n",
       "      <td>15</td>\n",
       "      <td>1</td>\n",
       "      <td>1</td>\n",
       "      <td>0</td>\n",
       "      <td>0</td>\n",
       "      <td>6</td>\n",
       "      <td>-13.0</td>\n",
       "      <td>17</td>\n",
       "      <td>6</td>\n",
       "      <td>356569.383898</td>\n",
       "    </tr>\n",
       "    <tr>\n",
       "      <th>...</th>\n",
       "      <td>...</td>\n",
       "      <td>...</td>\n",
       "      <td>...</td>\n",
       "      <td>...</td>\n",
       "      <td>...</td>\n",
       "      <td>...</td>\n",
       "      <td>...</td>\n",
       "      <td>...</td>\n",
       "      <td>...</td>\n",
       "      <td>...</td>\n",
       "      <td>...</td>\n",
       "      <td>...</td>\n",
       "      <td>...</td>\n",
       "    </tr>\n",
       "    <tr>\n",
       "      <th>28444</th>\n",
       "      <td>333592.36</td>\n",
       "      <td>7395545.25</td>\n",
       "      <td>729.15</td>\n",
       "      <td>3</td>\n",
       "      <td>1</td>\n",
       "      <td>2</td>\n",
       "      <td>1</td>\n",
       "      <td>0</td>\n",
       "      <td>19</td>\n",
       "      <td>7.0</td>\n",
       "      <td>40</td>\n",
       "      <td>6</td>\n",
       "      <td>363043.632359</td>\n",
       "    </tr>\n",
       "    <tr>\n",
       "      <th>28445</th>\n",
       "      <td>333554.39</td>\n",
       "      <td>7395545.09</td>\n",
       "      <td>741.76</td>\n",
       "      <td>33</td>\n",
       "      <td>1</td>\n",
       "      <td>1</td>\n",
       "      <td>1</td>\n",
       "      <td>0</td>\n",
       "      <td>6</td>\n",
       "      <td>10.0</td>\n",
       "      <td>40</td>\n",
       "      <td>6</td>\n",
       "      <td>363043.651367</td>\n",
       "    </tr>\n",
       "    <tr>\n",
       "      <th>28446</th>\n",
       "      <td>333520.06</td>\n",
       "      <td>7395558.13</td>\n",
       "      <td>729.85</td>\n",
       "      <td>2</td>\n",
       "      <td>1</td>\n",
       "      <td>2</td>\n",
       "      <td>1</td>\n",
       "      <td>0</td>\n",
       "      <td>19</td>\n",
       "      <td>13.0</td>\n",
       "      <td>40</td>\n",
       "      <td>6</td>\n",
       "      <td>363044.033739</td>\n",
       "    </tr>\n",
       "    <tr>\n",
       "      <th>28447</th>\n",
       "      <td>333587.32</td>\n",
       "      <td>7395563.87</td>\n",
       "      <td>744.67</td>\n",
       "      <td>14</td>\n",
       "      <td>1</td>\n",
       "      <td>1</td>\n",
       "      <td>1</td>\n",
       "      <td>0</td>\n",
       "      <td>6</td>\n",
       "      <td>7.0</td>\n",
       "      <td>40</td>\n",
       "      <td>6</td>\n",
       "      <td>363044.068740</td>\n",
       "    </tr>\n",
       "    <tr>\n",
       "      <th>28448</th>\n",
       "      <td>333563.24</td>\n",
       "      <td>7395571.79</td>\n",
       "      <td>729.03</td>\n",
       "      <td>5</td>\n",
       "      <td>2</td>\n",
       "      <td>2</td>\n",
       "      <td>0</td>\n",
       "      <td>0</td>\n",
       "      <td>6</td>\n",
       "      <td>9.0</td>\n",
       "      <td>40</td>\n",
       "      <td>6</td>\n",
       "      <td>363044.310459</td>\n",
       "    </tr>\n",
       "  </tbody>\n",
       "</table>\n",
       "<p>28449 rows × 13 columns</p>\n",
       "</div>"
      ],
      "text/plain": [
       "               X           Y       Z  Intensity  ReturnNumber  \\\n",
       "0      333499.29  7395564.35  735.34         18             1   \n",
       "1      333499.10  7395569.68  735.30         17             1   \n",
       "2      333499.29  7395521.99  751.69         10             1   \n",
       "3      333499.27  7395537.84  736.85          9             1   \n",
       "4      333499.09  7395543.14  736.53         15             1   \n",
       "...          ...         ...     ...        ...           ...   \n",
       "28444  333592.36  7395545.25  729.15          3             1   \n",
       "28445  333554.39  7395545.09  741.76         33             1   \n",
       "28446  333520.06  7395558.13  729.85          2             1   \n",
       "28447  333587.32  7395563.87  744.67         14             1   \n",
       "28448  333563.24  7395571.79  729.03          5             2   \n",
       "\n",
       "       NumberOfReturns  ScanDirectionFlag  EdgeOfFlightLine  Classification  \\\n",
       "0                    1                  0                 0               6   \n",
       "1                    1                  0                 0               6   \n",
       "2                    1                  0                 0               6   \n",
       "3                    1                  0                 0               6   \n",
       "4                    1                  0                 0               6   \n",
       "...                ...                ...               ...             ...   \n",
       "28444                2                  1                 0              19   \n",
       "28445                1                  1                 0               6   \n",
       "28446                2                  1                 0              19   \n",
       "28447                1                  1                 0               6   \n",
       "28448                2                  0                 0               6   \n",
       "\n",
       "       ScanAngleRank  UserData  PointSourceId        GpsTime  \n",
       "0              -14.0        17              6  356569.366065  \n",
       "1              -15.0        17              6  356569.366153  \n",
       "2              -11.0        17              6  356569.383594  \n",
       "3              -12.0        17              6  356569.383810  \n",
       "4              -13.0        17              6  356569.383898  \n",
       "...              ...       ...            ...            ...  \n",
       "28444            7.0        40              6  363043.632359  \n",
       "28445           10.0        40              6  363043.651367  \n",
       "28446           13.0        40              6  363044.033739  \n",
       "28447            7.0        40              6  363044.068740  \n",
       "28448            9.0        40              6  363044.310459  \n",
       "\n",
       "[28449 rows x 13 columns]"
      ]
     },
     "execution_count": 17,
     "metadata": {},
     "output_type": "execute_result"
    }
   ],
   "source": [
    "df"
   ]
  },
  {
   "cell_type": "code",
   "execution_count": 18,
   "metadata": {},
   "outputs": [
    {
     "data": {
      "text/plain": [
       "array([ 6, 20, 19,  2,  5,  9], dtype=uint8)"
      ]
     },
     "execution_count": 18,
     "metadata": {},
     "output_type": "execute_result"
    }
   ],
   "source": [
    "df.Classification.unique()"
   ]
  },
  {
   "cell_type": "markdown",
   "metadata": {},
   "source": [
    "## Calculando o Azimute entre dois pontos\n",
    "\n",
    "Suponhamos que fossemos calcular o azimute para cada ponto poderíamos fazer utilizando a seguinte função"
   ]
  },
  {
   "cell_type": "code",
   "execution_count": 20,
   "metadata": {},
   "outputs": [],
   "source": [
    "import math\n",
    "\n",
    "def Az(x1,y1,x2,y2):\n",
    "    deg = math.degrees(math.atan2((x2 - x1),(y2 - y1)))\n",
    "    if (deg < 0):\n",
    "        deg += 360.0\n",
    "    return deg"
   ]
  },
  {
   "cell_type": "code",
   "execution_count": 21,
   "metadata": {},
   "outputs": [
    {
     "data": {
      "text/plain": [
       "180.0"
      ]
     },
     "execution_count": 21,
     "metadata": {},
     "output_type": "execute_result"
    }
   ],
   "source": [
    "Az(1, 1, 1, 0)"
   ]
  },
  {
   "cell_type": "markdown",
   "metadata": {},
   "source": [
    "## Calculando a Altura ou Elevação do ponto em relação ao Zenite\n",
    "\n",
    "Da mesma forma poderíamos calcular a Altura/Elevação para cada um dos pontos usando a seguinte função"
   ]
  },
  {
   "cell_type": "code",
   "execution_count": 22,
   "metadata": {},
   "outputs": [],
   "source": [
    "from scipy.spatial import distance"
   ]
  },
  {
   "cell_type": "code",
   "execution_count": 24,
   "metadata": {},
   "outputs": [
    {
     "data": {
      "text/plain": [
       "35.264389682754654"
      ]
     },
     "execution_count": 24,
     "metadata": {},
     "output_type": "execute_result"
    }
   ],
   "source": [
    "## Calculando altura\n",
    "def altura_graus(x1, y1, z1, x2, y2, z2):\n",
    "    altura = z2 - z1\n",
    "    distancia = distance.euclidean([x1, y1], [x2, y2])\n",
    "    return math.degrees(math.atan2(altura, distancia))\n",
    "\n",
    "altura_graus(0,0,0,1,1,1)"
   ]
  },
  {
   "cell_type": "markdown",
   "metadata": {},
   "source": [
    "## Gerando pontos x,y,z \n",
    "\n",
    "Apesar de termos diversas dimensões disponíveis para os calculos vamos nos ater em X, Y e Z e na Classificação para poder agrupar o que é Ground e o Que é edificação"
   ]
  },
  {
   "cell_type": "code",
   "execution_count": 25,
   "metadata": {},
   "outputs": [],
   "source": [
    "df_ground = pd.DataFrame.from_records(df[df.Classification == 2][['X', 'Y', 'Z']].head(1000))"
   ]
  },
  {
   "cell_type": "code",
   "execution_count": 26,
   "metadata": {},
   "outputs": [
    {
     "data": {
      "text/html": [
       "<div>\n",
       "<style scoped>\n",
       "    .dataframe tbody tr th:only-of-type {\n",
       "        vertical-align: middle;\n",
       "    }\n",
       "\n",
       "    .dataframe tbody tr th {\n",
       "        vertical-align: top;\n",
       "    }\n",
       "\n",
       "    .dataframe thead th {\n",
       "        text-align: right;\n",
       "    }\n",
       "</style>\n",
       "<table border=\"1\" class=\"dataframe\">\n",
       "  <thead>\n",
       "    <tr style=\"text-align: right;\">\n",
       "      <th></th>\n",
       "      <th>X</th>\n",
       "      <th>Y</th>\n",
       "      <th>Z</th>\n",
       "    </tr>\n",
       "  </thead>\n",
       "  <tbody>\n",
       "    <tr>\n",
       "      <th>0</th>\n",
       "      <td>333475.91</td>\n",
       "      <td>7395545.19</td>\n",
       "      <td>724.75</td>\n",
       "    </tr>\n",
       "    <tr>\n",
       "      <th>1</th>\n",
       "      <td>333471.38</td>\n",
       "      <td>7395557.39</td>\n",
       "      <td>725.11</td>\n",
       "    </tr>\n",
       "    <tr>\n",
       "      <th>2</th>\n",
       "      <td>333465.71</td>\n",
       "      <td>7395556.51</td>\n",
       "      <td>725.17</td>\n",
       "    </tr>\n",
       "    <tr>\n",
       "      <th>3</th>\n",
       "      <td>333458.28</td>\n",
       "      <td>7395549.13</td>\n",
       "      <td>724.85</td>\n",
       "    </tr>\n",
       "    <tr>\n",
       "      <th>4</th>\n",
       "      <td>333454.93</td>\n",
       "      <td>7395553.02</td>\n",
       "      <td>724.84</td>\n",
       "    </tr>\n",
       "    <tr>\n",
       "      <th>...</th>\n",
       "      <td>...</td>\n",
       "      <td>...</td>\n",
       "      <td>...</td>\n",
       "    </tr>\n",
       "    <tr>\n",
       "      <th>978</th>\n",
       "      <td>333572.35</td>\n",
       "      <td>7395548.48</td>\n",
       "      <td>724.32</td>\n",
       "    </tr>\n",
       "    <tr>\n",
       "      <th>979</th>\n",
       "      <td>333589.63</td>\n",
       "      <td>7395543.64</td>\n",
       "      <td>724.11</td>\n",
       "    </tr>\n",
       "    <tr>\n",
       "      <th>980</th>\n",
       "      <td>333513.14</td>\n",
       "      <td>7395500.41</td>\n",
       "      <td>724.62</td>\n",
       "    </tr>\n",
       "    <tr>\n",
       "      <th>981</th>\n",
       "      <td>333513.53</td>\n",
       "      <td>7395510.17</td>\n",
       "      <td>724.71</td>\n",
       "    </tr>\n",
       "    <tr>\n",
       "      <th>982</th>\n",
       "      <td>333514.61</td>\n",
       "      <td>7395521.34</td>\n",
       "      <td>724.69</td>\n",
       "    </tr>\n",
       "  </tbody>\n",
       "</table>\n",
       "<p>983 rows × 3 columns</p>\n",
       "</div>"
      ],
      "text/plain": [
       "             X           Y       Z\n",
       "0    333475.91  7395545.19  724.75\n",
       "1    333471.38  7395557.39  725.11\n",
       "2    333465.71  7395556.51  725.17\n",
       "3    333458.28  7395549.13  724.85\n",
       "4    333454.93  7395553.02  724.84\n",
       "..         ...         ...     ...\n",
       "978  333572.35  7395548.48  724.32\n",
       "979  333589.63  7395543.64  724.11\n",
       "980  333513.14  7395500.41  724.62\n",
       "981  333513.53  7395510.17  724.71\n",
       "982  333514.61  7395521.34  724.69\n",
       "\n",
       "[983 rows x 3 columns]"
      ]
     },
     "execution_count": 26,
     "metadata": {},
     "output_type": "execute_result"
    }
   ],
   "source": [
    "df_ground"
   ]
  },
  {
   "cell_type": "code",
   "execution_count": 28,
   "metadata": {},
   "outputs": [],
   "source": [
    "df_building = pd.DataFrame.from_records(df[df.Classification == 6][['X', 'Y', 'Z']])\n",
    "df_building = df_building.rename(columns={'X':'X1', 'Y':'Y1', 'Z':'Z1'})"
   ]
  },
  {
   "cell_type": "code",
   "execution_count": 29,
   "metadata": {},
   "outputs": [
    {
     "data": {
      "text/html": [
       "<div>\n",
       "<style scoped>\n",
       "    .dataframe tbody tr th:only-of-type {\n",
       "        vertical-align: middle;\n",
       "    }\n",
       "\n",
       "    .dataframe tbody tr th {\n",
       "        vertical-align: top;\n",
       "    }\n",
       "\n",
       "    .dataframe thead th {\n",
       "        text-align: right;\n",
       "    }\n",
       "</style>\n",
       "<table border=\"1\" class=\"dataframe\">\n",
       "  <thead>\n",
       "    <tr style=\"text-align: right;\">\n",
       "      <th></th>\n",
       "      <th>X1</th>\n",
       "      <th>Y1</th>\n",
       "      <th>Z1</th>\n",
       "    </tr>\n",
       "  </thead>\n",
       "  <tbody>\n",
       "    <tr>\n",
       "      <th>0</th>\n",
       "      <td>333499.29</td>\n",
       "      <td>7395564.35</td>\n",
       "      <td>735.34</td>\n",
       "    </tr>\n",
       "    <tr>\n",
       "      <th>1</th>\n",
       "      <td>333499.10</td>\n",
       "      <td>7395569.68</td>\n",
       "      <td>735.30</td>\n",
       "    </tr>\n",
       "    <tr>\n",
       "      <th>2</th>\n",
       "      <td>333499.29</td>\n",
       "      <td>7395521.99</td>\n",
       "      <td>751.69</td>\n",
       "    </tr>\n",
       "    <tr>\n",
       "      <th>3</th>\n",
       "      <td>333499.27</td>\n",
       "      <td>7395537.84</td>\n",
       "      <td>736.85</td>\n",
       "    </tr>\n",
       "    <tr>\n",
       "      <th>4</th>\n",
       "      <td>333499.09</td>\n",
       "      <td>7395543.14</td>\n",
       "      <td>736.53</td>\n",
       "    </tr>\n",
       "    <tr>\n",
       "      <th>...</th>\n",
       "      <td>...</td>\n",
       "      <td>...</td>\n",
       "      <td>...</td>\n",
       "    </tr>\n",
       "    <tr>\n",
       "      <th>18830</th>\n",
       "      <td>333547.00</td>\n",
       "      <td>7395521.79</td>\n",
       "      <td>736.40</td>\n",
       "    </tr>\n",
       "    <tr>\n",
       "      <th>18831</th>\n",
       "      <td>333550.94</td>\n",
       "      <td>7395542.59</td>\n",
       "      <td>756.27</td>\n",
       "    </tr>\n",
       "    <tr>\n",
       "      <th>18832</th>\n",
       "      <td>333554.39</td>\n",
       "      <td>7395545.09</td>\n",
       "      <td>741.76</td>\n",
       "    </tr>\n",
       "    <tr>\n",
       "      <th>18833</th>\n",
       "      <td>333587.32</td>\n",
       "      <td>7395563.87</td>\n",
       "      <td>744.67</td>\n",
       "    </tr>\n",
       "    <tr>\n",
       "      <th>18834</th>\n",
       "      <td>333563.24</td>\n",
       "      <td>7395571.79</td>\n",
       "      <td>729.03</td>\n",
       "    </tr>\n",
       "  </tbody>\n",
       "</table>\n",
       "<p>18835 rows × 3 columns</p>\n",
       "</div>"
      ],
      "text/plain": [
       "              X1          Y1      Z1\n",
       "0      333499.29  7395564.35  735.34\n",
       "1      333499.10  7395569.68  735.30\n",
       "2      333499.29  7395521.99  751.69\n",
       "3      333499.27  7395537.84  736.85\n",
       "4      333499.09  7395543.14  736.53\n",
       "...          ...         ...     ...\n",
       "18830  333547.00  7395521.79  736.40\n",
       "18831  333550.94  7395542.59  756.27\n",
       "18832  333554.39  7395545.09  741.76\n",
       "18833  333587.32  7395563.87  744.67\n",
       "18834  333563.24  7395571.79  729.03\n",
       "\n",
       "[18835 rows x 3 columns]"
      ]
     },
     "execution_count": 29,
     "metadata": {},
     "output_type": "execute_result"
    }
   ],
   "source": [
    "df_building"
   ]
  },
  {
   "cell_type": "markdown",
   "metadata": {},
   "source": [
    "## Calculando o Azimute com Matriz de pontos\n",
    "\n",
    "Portanto agora que temos os pontos de origem e os pontos alvo podemos calcular o Azimute. Porém se fizermos isso ponto a ponto não vamos usar os recursos computacionais de vetorização que promovem grande eficiência computacional.\n",
    "Ainda não será exatamente essa função que vamos utilzar em produção, mas para fins didáticos e de aprendizado vamos mante-las."
   ]
  },
  {
   "cell_type": "code",
   "execution_count": 30,
   "metadata": {},
   "outputs": [],
   "source": [
    "import numpy as np\n",
    "\n",
    "def np_az(nd_building, nd_ground):\n",
    "    delta_x = nd_building[:, 0] - nd_ground[0, 0]\n",
    "    delta_y = nd_building[:, 1] - nd_ground[0, 1]\n",
    "    degree = np.arctan2(delta_x, delta_y) * 180 / np.pi\n",
    "    degree[np.less(degree, 0)] += 360.0\n",
    "    return degree"
   ]
  },
  {
   "cell_type": "code",
   "execution_count": 31,
   "metadata": {},
   "outputs": [],
   "source": [
    "## Gerando dados de teste\n",
    "test_ground = np.array([[0.,0.,0.], [1.,1.,1.]])\n",
    "test_building = np.array([[0.,2.,2.], [2.,0,2.], [0.,-2.,2.], [-2.,0,18787.], [-2.,9899.,0.1]])"
   ]
  },
  {
   "cell_type": "code",
   "execution_count": 33,
   "metadata": {},
   "outputs": [
    {
     "data": {
      "text/plain": [
       "array([  0.        ,  90.        , 180.        , 270.        ,\n",
       "       359.98842393])"
      ]
     },
     "execution_count": 33,
     "metadata": {},
     "output_type": "execute_result"
    }
   ],
   "source": [
    "az = np_az(test_building, test_ground)\n",
    "az"
   ]
  },
  {
   "cell_type": "markdown",
   "metadata": {},
   "source": [
    "## Calculando a altura/elevação com matriz de pontos\n",
    "\n",
    "Da mesma forma vamos fazer com a altura/elevação"
   ]
  },
  {
   "cell_type": "code",
   "execution_count": 34,
   "metadata": {},
   "outputs": [],
   "source": [
    "## Calculando altura/elevação\n",
    "\n",
    "from scipy.spatial import distance\n",
    "\n",
    "def np_altura(nd_building, nd_ground):\n",
    "    altura = nd_building[:, 2] - nd_ground[0, 2]\n",
    "    distancia = np.sqrt(np.sum((nd_building[:, [0,1]] - nd_ground[0, [0,1]])**2, axis=1))\n",
    "    return np.arctan2((nd_building[:, 2] - nd_ground[0, 2]), distancia) * 180 / np.pi"
   ]
  },
  {
   "cell_type": "code",
   "execution_count": 35,
   "metadata": {},
   "outputs": [
    {
     "data": {
      "text/plain": [
       "array([4.50000000e+01, 4.50000000e+01, 4.50000000e+01, 8.99939005e+01,\n",
       "       5.78803701e-04])"
      ]
     },
     "execution_count": 35,
     "metadata": {},
     "output_type": "execute_result"
    }
   ],
   "source": [
    "altura = np_altura(test_building, test_ground)\n",
    "altura"
   ]
  },
  {
   "cell_type": "code",
   "execution_count": 36,
   "metadata": {},
   "outputs": [
    {
     "data": {
      "text/plain": [
       "(5, 2)"
      ]
     },
     "execution_count": 36,
     "metadata": {},
     "output_type": "execute_result"
    }
   ],
   "source": [
    "nd_coordenadas = np.array([az, altura])\n",
    "nd_coordenadas.transpose().shape"
   ]
  },
  {
   "cell_type": "markdown",
   "metadata": {},
   "source": [
    "## Utilizando os dados de Building\n",
    "\n",
    "As funcões de calculo de Azimute e Altura/Elevação produzidas até agora aqui nesse NoteBook precisam ser iteradas sobre cada linha de ponto de ground. Portanto precisamos refatorar essas funções para trabalhar e iterar sobre cada um dos pontos utilizando o potencial computacional do NumPy, ou seja, trabalhando com vetorização."
   ]
  },
  {
   "cell_type": "code",
   "execution_count": 38,
   "metadata": {},
   "outputs": [],
   "source": [
    "#nd_building = df_building.to_numpy()\n",
    "#nd_ground = df_ground.to_numpy()"
   ]
  },
  {
   "cell_type": "code",
   "execution_count": 39,
   "metadata": {},
   "outputs": [],
   "source": [
    "#def calc_svf(nd_building, nd_ground):\n",
    "#    az = np_az(nd_building, nd_ground)\n",
    "#    altura = np_altura(nd_building, nd_ground)\n",
    "#    coordenadas = np.array([az, altura])\n",
    "#    return coordenadas.transpose()"
   ]
  },
  {
   "cell_type": "code",
   "execution_count": 43,
   "metadata": {},
   "outputs": [],
   "source": [
    "#calc_svf(nd_building, nd_ground)"
   ]
  },
  {
   "cell_type": "markdown",
   "metadata": {},
   "source": [
    "### Refatorando as funções de Azimute e Altura para trabalhar com o vetorização de Ground e Building\n",
    "\n",
    "Para fins computacionais e menos iterações de laço que tendem a não ser tão eficientes, vamos tentar usar os recursos de vetorização e evitar o laço repetitivo"
   ]
  },
  {
   "cell_type": "code",
   "execution_count": 93,
   "metadata": {},
   "outputs": [],
   "source": [
    "def np_coordenadas(nd_building, nd_ground):\n",
    "    n2d_ground_z = nd_ground[:, 2].reshape(-1, 1)\n",
    "    n2dt_building_z = nd_building[:, 2].reshape(-1, 1).transpose()\n",
    "    \n",
    "    nd_altura = np.subtract(n2dt_building_z, n2d_ground_z)\n",
    "    \n",
    "    n2d_ground_x = nd_ground[:, 0].reshape(-1, 1)\n",
    "    n2dt_building_x = nd_building[:, 0].reshape(-1, 1).transpose()\n",
    "    nd_delta_x = np.subtract(n2dt_building_x, n2d_ground_x)\n",
    "    \n",
    "    n2d_ground_y = nd_ground[:, 1].reshape(-1, 1)\n",
    "    n2dt_building_y = nd_building[:, 1].reshape(-1, 1).transpose()\n",
    "    nd_delta_y = np.subtract(n2dt_building_y, n2d_ground_y)\n",
    "    \n",
    "    nd_distancia = np.hypot(nd_delta_x, nd_delta_y)\n",
    "    \n",
    "    nd_elevacao = np.degrees(np.arctan2(nd_altura, nd_distancia))\n",
    "    #nd_elevacao[np.less(nd_elevacao, 0.)] += 360.0\n",
    "    \n",
    "    nd_azimute = np.arctan2(nd_delta_x, nd_delta_y) * 180 / np.pi\n",
    "    nd_azimute[np.less(nd_azimute, 0.)] += 360.0\n",
    "    \n",
    "    return nd_azimute, nd_elevacao"
   ]
  },
  {
   "cell_type": "code",
   "execution_count": 94,
   "metadata": {},
   "outputs": [],
   "source": [
    "## Gerando dados de teste\n",
    "test_ground = np.array([[0.,0.,0.], [-1.,-1.,-1.], [1.,1.,1.]], dtype='float32')\n",
    "test_building = np.array([[0.,2.,2.], [2.,0,2.], [0.,-2.,2.], [-2.,0,18787.], [-2.,9899.,0.1]], dtype='float32')"
   ]
  },
  {
   "cell_type": "code",
   "execution_count": 159,
   "metadata": {},
   "outputs": [
    {
     "name": "stdout",
     "output_type": "stream",
     "text": [
      "1.23 s ± 25.7 ms per loop (mean ± std. dev. of 7 runs, 1 loop each)\n",
      "Distância: \n",
      "(983, 18835)\n",
      "18514805\n",
      "Elevacao: \n",
      "(983, 18835)\n",
      "18514805\n"
     ]
    }
   ],
   "source": [
    "%timeit azimute, elevacao = np_coordenadas(nd_building, nd_ground)\n",
    "print(\"Distância: \")\n",
    "print(elevacao.shape)\n",
    "print(elevacao.size)\n",
    "print(\"Elevacao: \")\n",
    "print(azimute.shape)\n",
    "print(azimute.size)"
   ]
  },
  {
   "cell_type": "code",
   "execution_count": 140,
   "metadata": {},
   "outputs": [],
   "source": [
    "nd_coordenadas = np.stack((azimute, elevacao), axis=1)"
   ]
  },
  {
   "cell_type": "code",
   "execution_count": 141,
   "metadata": {},
   "outputs": [
    {
     "data": {
      "text/plain": [
       "array([[[ 0.0000000e+00,  9.0000000e+01,  1.8000000e+02,  2.7000000e+02,\n",
       "          3.5998843e+02],\n",
       "        [ 4.5000000e+01,  4.5000000e+01,  4.5000000e+01,  8.9993896e+01,\n",
       "          5.7880371e-04]],\n",
       "\n",
       "       [[ 1.8434948e+01,  7.1565048e+01,  1.3500000e+02,  3.1500000e+02,\n",
       "          3.5999420e+02],\n",
       "        [ 4.3491516e+01,  4.3491516e+01,  6.4760590e+01,  8.9995682e+01,\n",
       "          6.3661975e-03]],\n",
       "\n",
       "       [[ 3.1500000e+02,  1.3500000e+02,  1.9843495e+02,  2.5156505e+02,\n",
       "          3.5998264e+02],\n",
       "        [ 3.5264389e+01,  3.5264389e+01,  1.7548399e+01,  8.9990356e+01,\n",
       "         -5.2097593e-03]]], dtype=float32)"
      ]
     },
     "execution_count": 141,
     "metadata": {},
     "output_type": "execute_result"
    }
   ],
   "source": [
    "nd_coordenadas"
   ]
  },
  {
   "cell_type": "markdown",
   "metadata": {},
   "source": [
    "### Menos linhas, mais legibilidade, talvez mais eficiência\n",
    "\n",
    "Podemos ainda refatorar o código acima e reduzir algumas linhas de código, trabalhando desde o começo com 3 dimensões. Isso ainda pode acarretar alguma melhora na performance computacional mas não é a intenção por enquanto."
   ]
  },
  {
   "cell_type": "code",
   "execution_count": 142,
   "metadata": {},
   "outputs": [],
   "source": [
    "def np_coordenadas(nd_building, nd_ground):\n",
    "    n2d_ground = nd_ground[:, :].reshape(-1, 3).astype('float32')\n",
    "    n2d_ground = n2d_ground.reshape(-1, 3, 1)\n",
    "\n",
    "    n2dt_building = nd_building[:, :].reshape(-1, 3).astype('float32')\n",
    "    n2dt_building = n2dt_building.reshape(-1, 3, 1).transpose()\n",
    "\n",
    "    nd_delta = np.subtract(n2dt_building, n2d_ground)\n",
    "    \n",
    "    nd_altura = nd_delta[:,2,:]\n",
    "    \n",
    "    nd_distancia = np.hypot(nd_delta[:,0,:], nd_delta[:,1,:])\n",
    "    \n",
    "    nd_elevacao = np.degrees(np.arctan2(nd_altura, nd_distancia))\n",
    "    nd_elevacao[np.less(nd_elevacao, 0.)] += 360.0\n",
    "    \n",
    "    nd_azimute = np.arctan2(nd_delta[:,1,:], nd_delta[:,0,:]) * 180 / np.pi\n",
    "    nd_azimute[np.less(nd_azimute, 0.)] += 360.0\n",
    "    \n",
    "    return nd_azimute, nd_elevacao"
   ]
  },
  {
   "cell_type": "code",
   "execution_count": 162,
   "metadata": {},
   "outputs": [
    {
     "name": "stdout",
     "output_type": "stream",
     "text": [
      "Distância: \n",
      "(3, 5)\n",
      "15\n",
      "Elevacao: \n",
      "(3, 5)\n",
      "15\n"
     ]
    }
   ],
   "source": [
    "azimute, elevacao = np_coordenadas(test_building, test_ground)\n",
    "print(\"Distância: \")\n",
    "print(elevacao.shape)\n",
    "print(elevacao.size)\n",
    "print(\"Elevacao: \")\n",
    "print(azimute.shape)\n",
    "print(azimute.size)"
   ]
  },
  {
   "cell_type": "code",
   "execution_count": 163,
   "metadata": {},
   "outputs": [],
   "source": [
    "nd_coordenadas = np.stack((azimute, elevacao), axis=1)"
   ]
  },
  {
   "cell_type": "code",
   "execution_count": 164,
   "metadata": {},
   "outputs": [
    {
     "data": {
      "text/plain": [
       "array([[[9.0000000e+01, 0.0000000e+00, 2.7000000e+02, 1.8000000e+02,\n",
       "         9.0011566e+01],\n",
       "        [4.5000000e+01, 4.5000000e+01, 4.5000000e+01, 8.9993896e+01,\n",
       "         5.7880371e-04]],\n",
       "\n",
       "       [[7.1565048e+01, 1.8434948e+01, 3.1500000e+02, 1.3500000e+02,\n",
       "         9.0005791e+01],\n",
       "        [4.3491516e+01, 4.3491516e+01, 6.4760590e+01, 8.9995682e+01,\n",
       "         6.3661975e-03]],\n",
       "\n",
       "       [[1.3500000e+02, 3.1500000e+02, 2.5156505e+02, 1.9843495e+02,\n",
       "         9.0017357e+01],\n",
       "        [3.5264389e+01, 3.5264389e+01, 1.7548399e+01, 8.9990356e+01,\n",
       "         3.5999478e+02]]], dtype=float32)"
      ]
     },
     "execution_count": 164,
     "metadata": {},
     "output_type": "execute_result"
    }
   ],
   "source": [
    "nd_coordenadas"
   ]
  },
  {
   "cell_type": "markdown",
   "metadata": {},
   "source": [
    "## Calculando o SVF\n",
    "\n",
    "Agora para calcular o SVF vamos dividir a semi-esfera visível do céu em N fusos, definido pela variável`quantidade_de_fusos`.\n",
    "E cada um dos fusos terá uma área esférica visível definido pela função `proporcao_visivel_no fuso`.\n",
    "Depois de disponível essa função vamos iterar ela sobre todos os pontos de ground resultando no retorno da função `proporcao_visivel_total`."
   ]
  },
  {
   "cell_type": "code",
   "execution_count": 168,
   "metadata": {},
   "outputs": [],
   "source": [
    "quantidade_de_fusos = 36"
   ]
  }
 ],
 "metadata": {
  "kernelspec": {
   "display_name": "Python 3.7.6 64-bit ('base': conda)",
   "language": "python",
   "name": "python37664bitbasecondac70dd39436774ee6a3afaa8e43f4d8f6"
  },
  "language_info": {
   "codemirror_mode": {
    "name": "ipython",
    "version": 3
   },
   "file_extension": ".py",
   "mimetype": "text/x-python",
   "name": "python",
   "nbconvert_exporter": "python",
   "pygments_lexer": "ipython3",
   "version": "3.8.2"
  }
 },
 "nbformat": 4,
 "nbformat_minor": 4
}
