{
 "cells": [
  {
   "cell_type": "markdown",
   "metadata": {},
   "source": [
    "# Fator de Visão de Céu a partir do LiDAR\n",
    "\n",
    "Podemos também determinar o Fator de Visão de céu, ou Sky View Factor diretamente do LiDAR sem gerar um raster.\n",
    "Para fins de performance podemos reduzir a densidade de pontos para cerca de 1 metro de resolução e a partir de cada ponto de Ground clacular a coordenada astronômica (Azimute e ALtura) e a distância linear para cada ponto das classes de Edificação e outras feições.\n",
    "\n",
    "Para esse primeiro teste vamos apenas usar uma folha SCM, sabendo que inerferências para visão de céu podem se estender muito além dos limites das dimensões de uma folha SCM."
   ]
  },
  {
   "cell_type": "code",
   "execution_count": 130,
   "metadata": {},
   "outputs": [],
   "source": [
    "import pdal"
   ]
  },
  {
   "cell_type": "code",
   "execution_count": 131,
   "metadata": {},
   "outputs": [],
   "source": [
    "pipeline=\"\"\"{\n",
    "  \"pipeline\": [\n",
    "    {\n",
    "        \"type\": \"readers.las\",\n",
    "        \"filename\": \"arquivos/MDS/MDS_3314-231.laz\"\n",
    "    },\n",
    "    {\n",
    "        \"type\": \"filters.sample\",\n",
    "        \"radius\": 1\n",
    "    }\n",
    "  ]\n",
    "}\"\"\""
   ]
  },
  {
   "cell_type": "code",
   "execution_count": 132,
   "metadata": {},
   "outputs": [],
   "source": [
    "r = pdal.Pipeline(pipeline)\n",
    "r.validate()\n",
    "r.execute()\n",
    "arrays = r.arrays"
   ]
  },
  {
   "cell_type": "code",
   "execution_count": 133,
   "metadata": {},
   "outputs": [
    {
     "data": {
      "text/plain": [
       "471962"
      ]
     },
     "execution_count": 133,
     "metadata": {},
     "output_type": "execute_result"
    }
   ],
   "source": [
    "len(arrays[0])"
   ]
  },
  {
   "cell_type": "code",
   "execution_count": 134,
   "metadata": {},
   "outputs": [
    {
     "data": {
      "text/plain": [
       "(333486.38, 7395559.83, 725.18, 5, 1, 1, 0, 0, 2, -14., 17, 6, 356569.65684247)"
      ]
     },
     "execution_count": 134,
     "metadata": {},
     "output_type": "execute_result"
    }
   ],
   "source": [
    "arrays[0][732]"
   ]
  },
  {
   "cell_type": "code",
   "execution_count": 135,
   "metadata": {},
   "outputs": [
    {
     "data": {
      "text/plain": [
       "{'schema': {'dimensions': [{'name': 'X', 'size': 8, 'type': 'floating'},\n",
       "   {'name': 'Y', 'size': 8, 'type': 'floating'},\n",
       "   {'name': 'Z', 'size': 8, 'type': 'floating'},\n",
       "   {'name': 'Intensity', 'size': 2, 'type': 'unsigned'},\n",
       "   {'name': 'ReturnNumber', 'size': 1, 'type': 'unsigned'},\n",
       "   {'name': 'NumberOfReturns', 'size': 1, 'type': 'unsigned'},\n",
       "   {'name': 'ScanDirectionFlag', 'size': 1, 'type': 'unsigned'},\n",
       "   {'name': 'EdgeOfFlightLine', 'size': 1, 'type': 'unsigned'},\n",
       "   {'name': 'Classification', 'size': 1, 'type': 'unsigned'},\n",
       "   {'name': 'ScanAngleRank', 'size': 4, 'type': 'floating'},\n",
       "   {'name': 'UserData', 'size': 1, 'type': 'unsigned'},\n",
       "   {'name': 'PointSourceId', 'size': 2, 'type': 'unsigned'},\n",
       "   {'name': 'GpsTime', 'size': 8, 'type': 'floating'}]}}"
      ]
     },
     "execution_count": 135,
     "metadata": {},
     "output_type": "execute_result"
    }
   ],
   "source": [
    "#dir(r)\n",
    "r.schema"
   ]
  },
  {
   "cell_type": "markdown",
   "metadata": {},
   "source": [
    "## Importando dados para Pandas"
   ]
  },
  {
   "cell_type": "code",
   "execution_count": 136,
   "metadata": {},
   "outputs": [],
   "source": [
    "import pandas as pd"
   ]
  },
  {
   "cell_type": "code",
   "execution_count": 137,
   "metadata": {},
   "outputs": [],
   "source": [
    "df = pd.DataFrame(arrays[0])"
   ]
  },
  {
   "cell_type": "code",
   "execution_count": 138,
   "metadata": {},
   "outputs": [
    {
     "data": {
      "text/html": [
       "<div>\n",
       "<style scoped>\n",
       "    .dataframe tbody tr th:only-of-type {\n",
       "        vertical-align: middle;\n",
       "    }\n",
       "\n",
       "    .dataframe tbody tr th {\n",
       "        vertical-align: top;\n",
       "    }\n",
       "\n",
       "    .dataframe thead th {\n",
       "        text-align: right;\n",
       "    }\n",
       "</style>\n",
       "<table border=\"1\" class=\"dataframe\">\n",
       "  <thead>\n",
       "    <tr style=\"text-align: right;\">\n",
       "      <th></th>\n",
       "      <th>X</th>\n",
       "      <th>Y</th>\n",
       "      <th>Z</th>\n",
       "      <th>Intensity</th>\n",
       "      <th>ReturnNumber</th>\n",
       "      <th>NumberOfReturns</th>\n",
       "      <th>ScanDirectionFlag</th>\n",
       "      <th>EdgeOfFlightLine</th>\n",
       "      <th>Classification</th>\n",
       "      <th>ScanAngleRank</th>\n",
       "      <th>UserData</th>\n",
       "      <th>PointSourceId</th>\n",
       "      <th>GpsTime</th>\n",
       "    </tr>\n",
       "  </thead>\n",
       "  <tbody>\n",
       "    <tr>\n",
       "      <th>0</th>\n",
       "      <td>333499.29</td>\n",
       "      <td>7395564.35</td>\n",
       "      <td>735.34</td>\n",
       "      <td>18</td>\n",
       "      <td>1</td>\n",
       "      <td>1</td>\n",
       "      <td>0</td>\n",
       "      <td>0</td>\n",
       "      <td>6</td>\n",
       "      <td>-14.0</td>\n",
       "      <td>17</td>\n",
       "      <td>6</td>\n",
       "      <td>356569.366065</td>\n",
       "    </tr>\n",
       "    <tr>\n",
       "      <th>1</th>\n",
       "      <td>333499.23</td>\n",
       "      <td>7395565.79</td>\n",
       "      <td>735.41</td>\n",
       "      <td>18</td>\n",
       "      <td>1</td>\n",
       "      <td>1</td>\n",
       "      <td>0</td>\n",
       "      <td>0</td>\n",
       "      <td>6</td>\n",
       "      <td>-14.0</td>\n",
       "      <td>17</td>\n",
       "      <td>6</td>\n",
       "      <td>356569.366090</td>\n",
       "    </tr>\n",
       "    <tr>\n",
       "      <th>2</th>\n",
       "      <td>333499.20</td>\n",
       "      <td>7395566.79</td>\n",
       "      <td>735.25</td>\n",
       "      <td>15</td>\n",
       "      <td>1</td>\n",
       "      <td>1</td>\n",
       "      <td>0</td>\n",
       "      <td>0</td>\n",
       "      <td>6</td>\n",
       "      <td>-14.0</td>\n",
       "      <td>17</td>\n",
       "      <td>6</td>\n",
       "      <td>356569.366105</td>\n",
       "    </tr>\n",
       "    <tr>\n",
       "      <th>3</th>\n",
       "      <td>333499.15</td>\n",
       "      <td>7395568.21</td>\n",
       "      <td>735.37</td>\n",
       "      <td>14</td>\n",
       "      <td>1</td>\n",
       "      <td>1</td>\n",
       "      <td>0</td>\n",
       "      <td>0</td>\n",
       "      <td>6</td>\n",
       "      <td>-14.0</td>\n",
       "      <td>17</td>\n",
       "      <td>6</td>\n",
       "      <td>356569.366129</td>\n",
       "    </tr>\n",
       "    <tr>\n",
       "      <th>4</th>\n",
       "      <td>333499.10</td>\n",
       "      <td>7395569.68</td>\n",
       "      <td>735.30</td>\n",
       "      <td>17</td>\n",
       "      <td>1</td>\n",
       "      <td>1</td>\n",
       "      <td>0</td>\n",
       "      <td>0</td>\n",
       "      <td>6</td>\n",
       "      <td>-15.0</td>\n",
       "      <td>17</td>\n",
       "      <td>6</td>\n",
       "      <td>356569.366153</td>\n",
       "    </tr>\n",
       "    <tr>\n",
       "      <th>...</th>\n",
       "      <td>...</td>\n",
       "      <td>...</td>\n",
       "      <td>...</td>\n",
       "      <td>...</td>\n",
       "      <td>...</td>\n",
       "      <td>...</td>\n",
       "      <td>...</td>\n",
       "      <td>...</td>\n",
       "      <td>...</td>\n",
       "      <td>...</td>\n",
       "      <td>...</td>\n",
       "      <td>...</td>\n",
       "      <td>...</td>\n",
       "    </tr>\n",
       "    <tr>\n",
       "      <th>471957</th>\n",
       "      <td>333523.36</td>\n",
       "      <td>7395570.78</td>\n",
       "      <td>735.52</td>\n",
       "      <td>2</td>\n",
       "      <td>1</td>\n",
       "      <td>2</td>\n",
       "      <td>1</td>\n",
       "      <td>0</td>\n",
       "      <td>19</td>\n",
       "      <td>13.0</td>\n",
       "      <td>40</td>\n",
       "      <td>6</td>\n",
       "      <td>363044.324524</td>\n",
       "    </tr>\n",
       "    <tr>\n",
       "      <th>471958</th>\n",
       "      <td>333521.03</td>\n",
       "      <td>7395570.91</td>\n",
       "      <td>731.07</td>\n",
       "      <td>5</td>\n",
       "      <td>1</td>\n",
       "      <td>1</td>\n",
       "      <td>1</td>\n",
       "      <td>0</td>\n",
       "      <td>6</td>\n",
       "      <td>13.0</td>\n",
       "      <td>40</td>\n",
       "      <td>6</td>\n",
       "      <td>363044.342732</td>\n",
       "    </tr>\n",
       "    <tr>\n",
       "      <th>471959</th>\n",
       "      <td>333520.96</td>\n",
       "      <td>7395571.00</td>\n",
       "      <td>732.50</td>\n",
       "      <td>8</td>\n",
       "      <td>1</td>\n",
       "      <td>1</td>\n",
       "      <td>1</td>\n",
       "      <td>0</td>\n",
       "      <td>6</td>\n",
       "      <td>13.0</td>\n",
       "      <td>40</td>\n",
       "      <td>6</td>\n",
       "      <td>363044.342740</td>\n",
       "    </tr>\n",
       "    <tr>\n",
       "      <th>471960</th>\n",
       "      <td>333521.09</td>\n",
       "      <td>7395571.84</td>\n",
       "      <td>731.83</td>\n",
       "      <td>18</td>\n",
       "      <td>1</td>\n",
       "      <td>1</td>\n",
       "      <td>1</td>\n",
       "      <td>0</td>\n",
       "      <td>6</td>\n",
       "      <td>13.0</td>\n",
       "      <td>40</td>\n",
       "      <td>6</td>\n",
       "      <td>363044.360909</td>\n",
       "    </tr>\n",
       "    <tr>\n",
       "      <th>471961</th>\n",
       "      <td>333520.95</td>\n",
       "      <td>7395571.91</td>\n",
       "      <td>729.86</td>\n",
       "      <td>18</td>\n",
       "      <td>1</td>\n",
       "      <td>1</td>\n",
       "      <td>0</td>\n",
       "      <td>0</td>\n",
       "      <td>6</td>\n",
       "      <td>13.0</td>\n",
       "      <td>40</td>\n",
       "      <td>6</td>\n",
       "      <td>363044.364125</td>\n",
       "    </tr>\n",
       "  </tbody>\n",
       "</table>\n",
       "<p>471962 rows × 13 columns</p>\n",
       "</div>"
      ],
      "text/plain": [
       "                X           Y       Z  Intensity  ReturnNumber  \\\n",
       "0       333499.29  7395564.35  735.34         18             1   \n",
       "1       333499.23  7395565.79  735.41         18             1   \n",
       "2       333499.20  7395566.79  735.25         15             1   \n",
       "3       333499.15  7395568.21  735.37         14             1   \n",
       "4       333499.10  7395569.68  735.30         17             1   \n",
       "...           ...         ...     ...        ...           ...   \n",
       "471957  333523.36  7395570.78  735.52          2             1   \n",
       "471958  333521.03  7395570.91  731.07          5             1   \n",
       "471959  333520.96  7395571.00  732.50          8             1   \n",
       "471960  333521.09  7395571.84  731.83         18             1   \n",
       "471961  333520.95  7395571.91  729.86         18             1   \n",
       "\n",
       "        NumberOfReturns  ScanDirectionFlag  EdgeOfFlightLine  Classification  \\\n",
       "0                     1                  0                 0               6   \n",
       "1                     1                  0                 0               6   \n",
       "2                     1                  0                 0               6   \n",
       "3                     1                  0                 0               6   \n",
       "4                     1                  0                 0               6   \n",
       "...                 ...                ...               ...             ...   \n",
       "471957                2                  1                 0              19   \n",
       "471958                1                  1                 0               6   \n",
       "471959                1                  1                 0               6   \n",
       "471960                1                  1                 0               6   \n",
       "471961                1                  0                 0               6   \n",
       "\n",
       "        ScanAngleRank  UserData  PointSourceId        GpsTime  \n",
       "0               -14.0        17              6  356569.366065  \n",
       "1               -14.0        17              6  356569.366090  \n",
       "2               -14.0        17              6  356569.366105  \n",
       "3               -14.0        17              6  356569.366129  \n",
       "4               -15.0        17              6  356569.366153  \n",
       "...               ...       ...            ...            ...  \n",
       "471957           13.0        40              6  363044.324524  \n",
       "471958           13.0        40              6  363044.342732  \n",
       "471959           13.0        40              6  363044.342740  \n",
       "471960           13.0        40              6  363044.360909  \n",
       "471961           13.0        40              6  363044.364125  \n",
       "\n",
       "[471962 rows x 13 columns]"
      ]
     },
     "execution_count": 138,
     "metadata": {},
     "output_type": "execute_result"
    }
   ],
   "source": [
    "df"
   ]
  },
  {
   "cell_type": "code",
   "execution_count": 139,
   "metadata": {},
   "outputs": [
    {
     "data": {
      "text/plain": [
       "array([ 6, 20,  2, 19,  5,  9], dtype=uint8)"
      ]
     },
     "execution_count": 139,
     "metadata": {},
     "output_type": "execute_result"
    }
   ],
   "source": [
    "df.Classification.unique()"
   ]
  },
  {
   "cell_type": "code",
   "execution_count": 140,
   "metadata": {
    "scrolled": true
   },
   "outputs": [
    {
     "data": {
      "text/html": [
       "<div>\n",
       "<style scoped>\n",
       "    .dataframe tbody tr th:only-of-type {\n",
       "        vertical-align: middle;\n",
       "    }\n",
       "\n",
       "    .dataframe tbody tr th {\n",
       "        vertical-align: top;\n",
       "    }\n",
       "\n",
       "    .dataframe thead th {\n",
       "        text-align: right;\n",
       "    }\n",
       "</style>\n",
       "<table border=\"1\" class=\"dataframe\">\n",
       "  <thead>\n",
       "    <tr style=\"text-align: right;\">\n",
       "      <th></th>\n",
       "      <th>X</th>\n",
       "      <th>Y</th>\n",
       "      <th>Z</th>\n",
       "      <th>Intensity</th>\n",
       "      <th>ReturnNumber</th>\n",
       "      <th>NumberOfReturns</th>\n",
       "      <th>ScanDirectionFlag</th>\n",
       "      <th>EdgeOfFlightLine</th>\n",
       "      <th>Classification</th>\n",
       "      <th>ScanAngleRank</th>\n",
       "      <th>UserData</th>\n",
       "      <th>PointSourceId</th>\n",
       "      <th>GpsTime</th>\n",
       "    </tr>\n",
       "  </thead>\n",
       "  <tbody>\n",
       "    <tr>\n",
       "      <th>18</th>\n",
       "      <td>333499.25</td>\n",
       "      <td>7395550.72</td>\n",
       "      <td>724.76</td>\n",
       "      <td>6</td>\n",
       "      <td>1</td>\n",
       "      <td>1</td>\n",
       "      <td>0</td>\n",
       "      <td>0</td>\n",
       "      <td>2</td>\n",
       "      <td>-13.0</td>\n",
       "      <td>17</td>\n",
       "      <td>6</td>\n",
       "      <td>356569.383978</td>\n",
       "    </tr>\n",
       "    <tr>\n",
       "      <th>20</th>\n",
       "      <td>333499.14</td>\n",
       "      <td>7395553.60</td>\n",
       "      <td>724.86</td>\n",
       "      <td>5</td>\n",
       "      <td>1</td>\n",
       "      <td>1</td>\n",
       "      <td>0</td>\n",
       "      <td>0</td>\n",
       "      <td>2</td>\n",
       "      <td>-13.0</td>\n",
       "      <td>17</td>\n",
       "      <td>6</td>\n",
       "      <td>356569.384026</td>\n",
       "    </tr>\n",
       "    <tr>\n",
       "      <th>26</th>\n",
       "      <td>333498.88</td>\n",
       "      <td>7395560.92</td>\n",
       "      <td>724.87</td>\n",
       "      <td>5</td>\n",
       "      <td>1</td>\n",
       "      <td>1</td>\n",
       "      <td>0</td>\n",
       "      <td>0</td>\n",
       "      <td>2</td>\n",
       "      <td>-14.0</td>\n",
       "      <td>17</td>\n",
       "      <td>6</td>\n",
       "      <td>356569.384146</td>\n",
       "    </tr>\n",
       "    <tr>\n",
       "      <th>38</th>\n",
       "      <td>333498.72</td>\n",
       "      <td>7395562.04</td>\n",
       "      <td>725.02</td>\n",
       "      <td>36</td>\n",
       "      <td>1</td>\n",
       "      <td>1</td>\n",
       "      <td>1</td>\n",
       "      <td>0</td>\n",
       "      <td>2</td>\n",
       "      <td>-14.0</td>\n",
       "      <td>17</td>\n",
       "      <td>6</td>\n",
       "      <td>356569.386890</td>\n",
       "    </tr>\n",
       "    <tr>\n",
       "      <th>77</th>\n",
       "      <td>333498.36</td>\n",
       "      <td>7395551.34</td>\n",
       "      <td>724.89</td>\n",
       "      <td>17</td>\n",
       "      <td>1</td>\n",
       "      <td>1</td>\n",
       "      <td>0</td>\n",
       "      <td>0</td>\n",
       "      <td>2</td>\n",
       "      <td>-13.0</td>\n",
       "      <td>17</td>\n",
       "      <td>6</td>\n",
       "      <td>356569.402162</td>\n",
       "    </tr>\n",
       "    <tr>\n",
       "      <th>...</th>\n",
       "      <td>...</td>\n",
       "      <td>...</td>\n",
       "      <td>...</td>\n",
       "      <td>...</td>\n",
       "      <td>...</td>\n",
       "      <td>...</td>\n",
       "      <td>...</td>\n",
       "      <td>...</td>\n",
       "      <td>...</td>\n",
       "      <td>...</td>\n",
       "      <td>...</td>\n",
       "      <td>...</td>\n",
       "      <td>...</td>\n",
       "    </tr>\n",
       "    <tr>\n",
       "      <th>471680</th>\n",
       "      <td>333563.96</td>\n",
       "      <td>7395552.14</td>\n",
       "      <td>724.30</td>\n",
       "      <td>15</td>\n",
       "      <td>1</td>\n",
       "      <td>1</td>\n",
       "      <td>0</td>\n",
       "      <td>0</td>\n",
       "      <td>2</td>\n",
       "      <td>9.0</td>\n",
       "      <td>40</td>\n",
       "      <td>6</td>\n",
       "      <td>363043.837829</td>\n",
       "    </tr>\n",
       "    <tr>\n",
       "      <th>471723</th>\n",
       "      <td>333558.16</td>\n",
       "      <td>7395554.04</td>\n",
       "      <td>724.33</td>\n",
       "      <td>11</td>\n",
       "      <td>1</td>\n",
       "      <td>1</td>\n",
       "      <td>0</td>\n",
       "      <td>0</td>\n",
       "      <td>2</td>\n",
       "      <td>10.0</td>\n",
       "      <td>40</td>\n",
       "      <td>6</td>\n",
       "      <td>363043.892247</td>\n",
       "    </tr>\n",
       "    <tr>\n",
       "      <th>471739</th>\n",
       "      <td>333556.44</td>\n",
       "      <td>7395554.74</td>\n",
       "      <td>724.53</td>\n",
       "      <td>8</td>\n",
       "      <td>1</td>\n",
       "      <td>1</td>\n",
       "      <td>0</td>\n",
       "      <td>0</td>\n",
       "      <td>2</td>\n",
       "      <td>10.0</td>\n",
       "      <td>40</td>\n",
       "      <td>6</td>\n",
       "      <td>363043.910399</td>\n",
       "    </tr>\n",
       "    <tr>\n",
       "      <th>471792</th>\n",
       "      <td>333530.38</td>\n",
       "      <td>7395555.62</td>\n",
       "      <td>724.47</td>\n",
       "      <td>6</td>\n",
       "      <td>1</td>\n",
       "      <td>1</td>\n",
       "      <td>0</td>\n",
       "      <td>0</td>\n",
       "      <td>2</td>\n",
       "      <td>12.0</td>\n",
       "      <td>40</td>\n",
       "      <td>6</td>\n",
       "      <td>363043.964401</td>\n",
       "    </tr>\n",
       "    <tr>\n",
       "      <th>471830</th>\n",
       "      <td>333561.42</td>\n",
       "      <td>7395560.70</td>\n",
       "      <td>724.59</td>\n",
       "      <td>16</td>\n",
       "      <td>1</td>\n",
       "      <td>1</td>\n",
       "      <td>1</td>\n",
       "      <td>0</td>\n",
       "      <td>2</td>\n",
       "      <td>9.0</td>\n",
       "      <td>40</td>\n",
       "      <td>6</td>\n",
       "      <td>363044.051052</td>\n",
       "    </tr>\n",
       "  </tbody>\n",
       "</table>\n",
       "<p>15890 rows × 13 columns</p>\n",
       "</div>"
      ],
      "text/plain": [
       "                X           Y       Z  Intensity  ReturnNumber  \\\n",
       "18      333499.25  7395550.72  724.76          6             1   \n",
       "20      333499.14  7395553.60  724.86          5             1   \n",
       "26      333498.88  7395560.92  724.87          5             1   \n",
       "38      333498.72  7395562.04  725.02         36             1   \n",
       "77      333498.36  7395551.34  724.89         17             1   \n",
       "...           ...         ...     ...        ...           ...   \n",
       "471680  333563.96  7395552.14  724.30         15             1   \n",
       "471723  333558.16  7395554.04  724.33         11             1   \n",
       "471739  333556.44  7395554.74  724.53          8             1   \n",
       "471792  333530.38  7395555.62  724.47          6             1   \n",
       "471830  333561.42  7395560.70  724.59         16             1   \n",
       "\n",
       "        NumberOfReturns  ScanDirectionFlag  EdgeOfFlightLine  Classification  \\\n",
       "18                    1                  0                 0               2   \n",
       "20                    1                  0                 0               2   \n",
       "26                    1                  0                 0               2   \n",
       "38                    1                  1                 0               2   \n",
       "77                    1                  0                 0               2   \n",
       "...                 ...                ...               ...             ...   \n",
       "471680                1                  0                 0               2   \n",
       "471723                1                  0                 0               2   \n",
       "471739                1                  0                 0               2   \n",
       "471792                1                  0                 0               2   \n",
       "471830                1                  1                 0               2   \n",
       "\n",
       "        ScanAngleRank  UserData  PointSourceId        GpsTime  \n",
       "18              -13.0        17              6  356569.383978  \n",
       "20              -13.0        17              6  356569.384026  \n",
       "26              -14.0        17              6  356569.384146  \n",
       "38              -14.0        17              6  356569.386890  \n",
       "77              -13.0        17              6  356569.402162  \n",
       "...               ...       ...            ...            ...  \n",
       "471680            9.0        40              6  363043.837829  \n",
       "471723           10.0        40              6  363043.892247  \n",
       "471739           10.0        40              6  363043.910399  \n",
       "471792           12.0        40              6  363043.964401  \n",
       "471830            9.0        40              6  363044.051052  \n",
       "\n",
       "[15890 rows x 13 columns]"
      ]
     },
     "execution_count": 140,
     "metadata": {},
     "output_type": "execute_result"
    }
   ],
   "source": [
    "# filtrando somente os grounds == 2\n",
    "df[df.Classification == 2]"
   ]
  },
  {
   "cell_type": "markdown",
   "metadata": {},
   "source": [
    "## Calculando o Azimute entre dois pontos"
   ]
  },
  {
   "cell_type": "code",
   "execution_count": 141,
   "metadata": {},
   "outputs": [],
   "source": [
    "import math\n",
    "\n",
    "def Az(x1,y1,x2,y2):\n",
    "    deg = math.degrees(math.atan2((x2 - x1),(y2 - y1)))\n",
    "    if (deg < 0):\n",
    "        deg += 360.0\n",
    "    return deg"
   ]
  },
  {
   "cell_type": "code",
   "execution_count": 142,
   "metadata": {},
   "outputs": [
    {
     "data": {
      "text/plain": [
       "180.0"
      ]
     },
     "execution_count": 142,
     "metadata": {},
     "output_type": "execute_result"
    }
   ],
   "source": [
    "Az(1, 1, 1, 0)"
   ]
  },
  {
   "cell_type": "markdown",
   "metadata": {},
   "source": [
    "## Calculando a Altura ou Elevação do ponto em relação ao Zenite"
   ]
  },
  {
   "cell_type": "code",
   "execution_count": 143,
   "metadata": {},
   "outputs": [],
   "source": [
    "from scipy.spatial import distance"
   ]
  },
  {
   "cell_type": "code",
   "execution_count": 144,
   "metadata": {},
   "outputs": [
    {
     "data": {
      "text/plain": [
       "35.264389682754654"
      ]
     },
     "execution_count": 144,
     "metadata": {},
     "output_type": "execute_result"
    }
   ],
   "source": [
    "## Calculando altura\n",
    "def altura_graus(x1, y1, z1, x2, y2, z2):\n",
    "    altura = z2 - z1\n",
    "    distancia = distance.euclidean([x1, y1], [x2, y2])\n",
    "    return math.degrees(math.atan2(altura, distancia))\n",
    "    #return distancia\n",
    "\n",
    "altura_graus(0,0,0,1,1,1)"
   ]
  },
  {
   "cell_type": "markdown",
   "metadata": {},
   "source": [
    "## Gerando pontos x,y,z "
   ]
  },
  {
   "cell_type": "code",
   "execution_count": 145,
   "metadata": {},
   "outputs": [],
   "source": [
    "# Utilizando somente os 10 primeiros registros para fins de performance\n",
    "df_ground = pd.DataFrame.from_records(df[df.Classification == 2][['X', 'Y', 'Z']].head(1000))\n",
    "#df_ground = df_ground.set_index(['X', 'Y', 'Z'])"
   ]
  },
  {
   "cell_type": "code",
   "execution_count": 146,
   "metadata": {},
   "outputs": [
    {
     "data": {
      "text/html": [
       "<div>\n",
       "<style scoped>\n",
       "    .dataframe tbody tr th:only-of-type {\n",
       "        vertical-align: middle;\n",
       "    }\n",
       "\n",
       "    .dataframe tbody tr th {\n",
       "        vertical-align: top;\n",
       "    }\n",
       "\n",
       "    .dataframe thead th {\n",
       "        text-align: right;\n",
       "    }\n",
       "</style>\n",
       "<table border=\"1\" class=\"dataframe\">\n",
       "  <thead>\n",
       "    <tr style=\"text-align: right;\">\n",
       "      <th></th>\n",
       "      <th>X</th>\n",
       "      <th>Y</th>\n",
       "      <th>Z</th>\n",
       "    </tr>\n",
       "  </thead>\n",
       "  <tbody>\n",
       "    <tr>\n",
       "      <th>0</th>\n",
       "      <td>333499.25</td>\n",
       "      <td>7395550.72</td>\n",
       "      <td>724.76</td>\n",
       "    </tr>\n",
       "    <tr>\n",
       "      <th>1</th>\n",
       "      <td>333499.14</td>\n",
       "      <td>7395553.60</td>\n",
       "      <td>724.86</td>\n",
       "    </tr>\n",
       "    <tr>\n",
       "      <th>2</th>\n",
       "      <td>333498.88</td>\n",
       "      <td>7395560.92</td>\n",
       "      <td>724.87</td>\n",
       "    </tr>\n",
       "    <tr>\n",
       "      <th>3</th>\n",
       "      <td>333498.72</td>\n",
       "      <td>7395562.04</td>\n",
       "      <td>725.02</td>\n",
       "    </tr>\n",
       "    <tr>\n",
       "      <th>4</th>\n",
       "      <td>333498.36</td>\n",
       "      <td>7395551.34</td>\n",
       "      <td>724.89</td>\n",
       "    </tr>\n",
       "    <tr>\n",
       "      <th>...</th>\n",
       "      <td>...</td>\n",
       "      <td>...</td>\n",
       "      <td>...</td>\n",
       "    </tr>\n",
       "    <tr>\n",
       "      <th>995</th>\n",
       "      <td>333126.05</td>\n",
       "      <td>7395522.71</td>\n",
       "      <td>728.50</td>\n",
       "    </tr>\n",
       "    <tr>\n",
       "      <th>996</th>\n",
       "      <td>333125.87</td>\n",
       "      <td>7395511.48</td>\n",
       "      <td>728.59</td>\n",
       "    </tr>\n",
       "    <tr>\n",
       "      <th>997</th>\n",
       "      <td>333125.28</td>\n",
       "      <td>7395506.59</td>\n",
       "      <td>728.60</td>\n",
       "    </tr>\n",
       "    <tr>\n",
       "      <th>998</th>\n",
       "      <td>333125.02</td>\n",
       "      <td>7395513.41</td>\n",
       "      <td>728.59</td>\n",
       "    </tr>\n",
       "    <tr>\n",
       "      <th>999</th>\n",
       "      <td>333124.77</td>\n",
       "      <td>7395520.19</td>\n",
       "      <td>728.69</td>\n",
       "    </tr>\n",
       "  </tbody>\n",
       "</table>\n",
       "<p>1000 rows × 3 columns</p>\n",
       "</div>"
      ],
      "text/plain": [
       "             X           Y       Z\n",
       "0    333499.25  7395550.72  724.76\n",
       "1    333499.14  7395553.60  724.86\n",
       "2    333498.88  7395560.92  724.87\n",
       "3    333498.72  7395562.04  725.02\n",
       "4    333498.36  7395551.34  724.89\n",
       "..         ...         ...     ...\n",
       "995  333126.05  7395522.71  728.50\n",
       "996  333125.87  7395511.48  728.59\n",
       "997  333125.28  7395506.59  728.60\n",
       "998  333125.02  7395513.41  728.59\n",
       "999  333124.77  7395520.19  728.69\n",
       "\n",
       "[1000 rows x 3 columns]"
      ]
     },
     "execution_count": 146,
     "metadata": {},
     "output_type": "execute_result"
    }
   ],
   "source": [
    "df_ground"
   ]
  },
  {
   "cell_type": "code",
   "execution_count": 147,
   "metadata": {},
   "outputs": [],
   "source": [
    "df_building = pd.DataFrame.from_records(df[df.Classification == 6][['X', 'Y', 'Z']])\n",
    "df_building = df_building.rename(columns={'X':'X1', 'Y':'Y1', 'Z':'Z1'})"
   ]
  },
  {
   "cell_type": "code",
   "execution_count": 148,
   "metadata": {},
   "outputs": [
    {
     "name": "stdout",
     "output_type": "stream",
     "text": [
      "2.87 ms ± 165 µs per loop (mean ± std. dev. of 7 runs, 100 loops each)\n"
     ]
    }
   ],
   "source": [
    "%timeit df_building.to_numpy() - df_ground.to_numpy()[0, :]"
   ]
  },
  {
   "cell_type": "markdown",
   "metadata": {},
   "source": [
    "## Calculando o Azimute com Matriz de pontos"
   ]
  },
  {
   "cell_type": "code",
   "execution_count": 149,
   "metadata": {},
   "outputs": [],
   "source": [
    "import numpy as np\n",
    "\n",
    "def np_az(nd_building, nd_ground):\n",
    "    delta_x = nd_building[:, 0] - nd_ground[0, 0]\n",
    "    delta_y = nd_building[:, 1] - nd_ground[0, 1]\n",
    "    degree = np.arctan2(delta_x, delta_y) * 180 / np.pi\n",
    "    degree[np.less(degree, 0)] += 360.0\n",
    "    return degree"
   ]
  },
  {
   "cell_type": "code",
   "execution_count": 150,
   "metadata": {},
   "outputs": [],
   "source": [
    "## Gerando dados de teste\n",
    "test_ground = np.array([[0.,0.,0.], [1.,1.,1.]])\n",
    "test_building = np.array([[0.,2.,2.], [2.,0,2.], [0.,-2.,2.], [-2.,0,18787.], [-2.,9899.,0.1]])"
   ]
  },
  {
   "cell_type": "code",
   "execution_count": 151,
   "metadata": {},
   "outputs": [
    {
     "data": {
      "text/plain": [
       "array([  0.        ,  90.        , 180.        , 270.        ,\n",
       "       359.98842393])"
      ]
     },
     "execution_count": 151,
     "metadata": {},
     "output_type": "execute_result"
    }
   ],
   "source": [
    "az = np_az(test_building, test_ground)\n",
    "#df_building.to_numpy()[:, 0] - df_ground.to_numpy()[0, 0]\n",
    "az"
   ]
  },
  {
   "cell_type": "markdown",
   "metadata": {},
   "source": [
    "## Calculando a altura/elevação com matriz de pontos"
   ]
  },
  {
   "cell_type": "code",
   "execution_count": 152,
   "metadata": {},
   "outputs": [],
   "source": [
    "## Calculando altura/elevação\n",
    "\n",
    "from scipy.spatial import distance\n",
    "\n",
    "def np_altura(nd_building, nd_ground):\n",
    "    altura = nd_building[:, 2] - nd_ground[0, 2]\n",
    "    distancia = np.sqrt(np.sum((nd_building[:, [0,1]] - nd_ground[0, [0,1]])**2, axis=1))\n",
    "    return np.arctan2((nd_building[:, 2] - nd_ground[0, 2]), distancia) * 180 / np.pi"
   ]
  },
  {
   "cell_type": "code",
   "execution_count": 153,
   "metadata": {},
   "outputs": [
    {
     "data": {
      "text/plain": [
       "array([4.50000000e+01, 4.50000000e+01, 4.50000000e+01, 8.99939005e+01,\n",
       "       5.78803701e-04])"
      ]
     },
     "execution_count": 153,
     "metadata": {},
     "output_type": "execute_result"
    }
   ],
   "source": [
    "altura = np_altura(test_building, test_ground)\n",
    "altura"
   ]
  },
  {
   "cell_type": "code",
   "execution_count": 154,
   "metadata": {},
   "outputs": [
    {
     "data": {
      "text/plain": [
       "(5, 2)"
      ]
     },
     "execution_count": 154,
     "metadata": {},
     "output_type": "execute_result"
    }
   ],
   "source": [
    "nd_coordenadas = np.array([az, altura])\n",
    "nd_coordenadas.transpose().shape"
   ]
  },
  {
   "cell_type": "markdown",
   "metadata": {},
   "source": [
    "## Utilizando os dados de Building"
   ]
  },
  {
   "cell_type": "code",
   "execution_count": 155,
   "metadata": {},
   "outputs": [],
   "source": [
    "nd_building = df_building.to_numpy()\n",
    "nd_ground = df_ground.to_numpy()"
   ]
  },
  {
   "cell_type": "code",
   "execution_count": 156,
   "metadata": {},
   "outputs": [],
   "source": [
    "def calc_svf(nd_building, nd_ground):\n",
    "    az = np_az(nd_building, nd_ground)\n",
    "    altura = np_altura(nd_building, nd_ground)\n",
    "    coordenadas = np.array([az, altura])\n",
    "    return coordenadas.transpose()"
   ]
  },
  {
   "cell_type": "code",
   "execution_count": 45,
   "metadata": {},
   "outputs": [
    {
     "name": "stdout",
     "output_type": "stream",
     "text": [
      "35.8 ms ± 451 µs per loop (mean ± std. dev. of 7 runs, 10 loops each)\n"
     ]
    }
   ],
   "source": [
    "%timeit calc_svf(nd_building, nd_ground)"
   ]
  },
  {
   "cell_type": "markdown",
   "metadata": {},
   "source": [
    "## Calculando o SVF\n",
    "\n",
    "Agora para calcular o SVF vamos dividir a semi-esfera visível do céu em N fusos, definido pela variável`quantidade_de_fusos`, e cada um dos fusos terá uma área esférica visível definido pela função `proporcao_visivel_no fuso`.\n",
    "Depois de disponível essa função vamos iterar ela sobre todos os pontos de ground resultando no retorno da função `proporcao_visivel_total`."
   ]
  },
  {
   "cell_type": "markdown",
   "metadata": {},
   "source": [
    "### Refatorando as funções de Azimute e Altura para trabalhar com o vetorização de Ground e Building\n",
    "\n",
    "Para fins computacionais e menos iterações de laço que tendem a não ser tão eficientes, vamos tentar usar os recursos de vetorização e evitar o laço repetitivo"
   ]
  },
  {
   "cell_type": "code",
   "execution_count": 157,
   "metadata": {},
   "outputs": [
    {
     "data": {
      "text/plain": [
       "(1000, 3)"
      ]
     },
     "execution_count": 157,
     "metadata": {},
     "output_type": "execute_result"
    }
   ],
   "source": [
    "nd_ground.shape"
   ]
  },
  {
   "cell_type": "code",
   "execution_count": 158,
   "metadata": {},
   "outputs": [
    {
     "data": {
      "text/plain": [
       "(3, 300792)"
      ]
     },
     "execution_count": 158,
     "metadata": {},
     "output_type": "execute_result"
    }
   ],
   "source": [
    "ndt_building = nd_building.transpose()\n",
    "ndt_building.shape"
   ]
  },
  {
   "cell_type": "code",
   "execution_count": 159,
   "metadata": {},
   "outputs": [],
   "source": [
    "n2d_ground = nd_ground[:, 2].reshape(-1, 1)\n",
    "n2dt_building = ndt_building[2, :].reshape(-1, 1).transpose()\n",
    "nd_zalt = np.subtract(n2dt_building, n2d_ground)"
   ]
  },
  {
   "cell_type": "code",
   "execution_count": 160,
   "metadata": {},
   "outputs": [
    {
     "data": {
      "text/plain": [
       "(1000, 300792)"
      ]
     },
     "execution_count": 160,
     "metadata": {},
     "output_type": "execute_result"
    }
   ],
   "source": [
    "nd_zalt.shape"
   ]
  },
  {
   "cell_type": "code",
   "execution_count": 161,
   "metadata": {},
   "outputs": [],
   "source": [
    "def np_altura(nd_building, nd_ground):\n",
    "    n2d_ground_z = nd_ground[:, 2].reshape(-1, 1)\n",
    "    n2dt_building_z = ndt_building[2, :].reshape(-1, 1).transpose()\n",
    "    nd_altura = np.subtract(n2dt_building, n2d_ground)\n",
    "    return nd_altura\n",
    "    #distancia = np.sqrt(np.sum((nd_building[:, [0,1]] - nd_ground[0, [0,1]])**2, axis=1))\n",
    "    #return np.arctan2((nd_building[:, 2] - nd_ground[0, 2]), distancia) * 180 / np.pi"
   ]
  },
  {
   "cell_type": "code",
   "execution_count": 163,
   "metadata": {},
   "outputs": [
    {
     "ename": "MemoryError",
     "evalue": "Unable to allocate 2.24 GiB for an array with shape (1000, 300792) and data type float64",
     "output_type": "error",
     "traceback": [
      "\u001b[1;31m---------------------------------------------------------------------------\u001b[0m",
      "\u001b[1;31mMemoryError\u001b[0m                               Traceback (most recent call last)",
      "\u001b[1;32m<ipython-input-163-160d4ed0a9d8>\u001b[0m in \u001b[0;36m<module>\u001b[1;34m\u001b[0m\n\u001b[1;32m----> 1\u001b[1;33m \u001b[0maltura\u001b[0m \u001b[1;33m=\u001b[0m \u001b[0mnp_altura\u001b[0m\u001b[1;33m(\u001b[0m\u001b[0mnd_building\u001b[0m\u001b[1;33m,\u001b[0m \u001b[0mnd_ground\u001b[0m\u001b[1;33m)\u001b[0m\u001b[1;33m\u001b[0m\u001b[1;33m\u001b[0m\u001b[0m\n\u001b[0m\u001b[0;32m      2\u001b[0m \u001b[0maltura\u001b[0m\u001b[1;33m.\u001b[0m\u001b[0mshape\u001b[0m\u001b[1;33m\u001b[0m\u001b[1;33m\u001b[0m\u001b[0m\n",
      "\u001b[1;32m<ipython-input-161-f52aa2a62655>\u001b[0m in \u001b[0;36mnp_altura\u001b[1;34m(nd_building, nd_ground)\u001b[0m\n\u001b[0;32m      2\u001b[0m     \u001b[0mn2d_ground_z\u001b[0m \u001b[1;33m=\u001b[0m \u001b[0mnd_ground\u001b[0m\u001b[1;33m[\u001b[0m\u001b[1;33m:\u001b[0m\u001b[1;33m,\u001b[0m \u001b[1;36m2\u001b[0m\u001b[1;33m]\u001b[0m\u001b[1;33m.\u001b[0m\u001b[0mreshape\u001b[0m\u001b[1;33m(\u001b[0m\u001b[1;33m-\u001b[0m\u001b[1;36m1\u001b[0m\u001b[1;33m,\u001b[0m \u001b[1;36m1\u001b[0m\u001b[1;33m)\u001b[0m\u001b[1;33m\u001b[0m\u001b[1;33m\u001b[0m\u001b[0m\n\u001b[0;32m      3\u001b[0m     \u001b[0mn2dt_building_z\u001b[0m \u001b[1;33m=\u001b[0m \u001b[0mndt_building\u001b[0m\u001b[1;33m[\u001b[0m\u001b[1;36m2\u001b[0m\u001b[1;33m,\u001b[0m \u001b[1;33m:\u001b[0m\u001b[1;33m]\u001b[0m\u001b[1;33m.\u001b[0m\u001b[0mreshape\u001b[0m\u001b[1;33m(\u001b[0m\u001b[1;33m-\u001b[0m\u001b[1;36m1\u001b[0m\u001b[1;33m,\u001b[0m \u001b[1;36m1\u001b[0m\u001b[1;33m)\u001b[0m\u001b[1;33m.\u001b[0m\u001b[0mtranspose\u001b[0m\u001b[1;33m(\u001b[0m\u001b[1;33m)\u001b[0m\u001b[1;33m\u001b[0m\u001b[1;33m\u001b[0m\u001b[0m\n\u001b[1;32m----> 4\u001b[1;33m     \u001b[0mnd_altura\u001b[0m \u001b[1;33m=\u001b[0m \u001b[0mnp\u001b[0m\u001b[1;33m.\u001b[0m\u001b[0msubtract\u001b[0m\u001b[1;33m(\u001b[0m\u001b[0mn2dt_building\u001b[0m\u001b[1;33m,\u001b[0m \u001b[0mn2d_ground\u001b[0m\u001b[1;33m)\u001b[0m\u001b[1;33m\u001b[0m\u001b[1;33m\u001b[0m\u001b[0m\n\u001b[0m\u001b[0;32m      5\u001b[0m     \u001b[1;32mreturn\u001b[0m \u001b[0mnd_altura\u001b[0m\u001b[1;33m\u001b[0m\u001b[1;33m\u001b[0m\u001b[0m\n\u001b[0;32m      6\u001b[0m     \u001b[1;31m#distancia = np.sqrt(np.sum((nd_building[:, [0,1]] - nd_ground[0, [0,1]])**2, axis=1))\u001b[0m\u001b[1;33m\u001b[0m\u001b[1;33m\u001b[0m\u001b[1;33m\u001b[0m\u001b[0m\n",
      "\u001b[1;31mMemoryError\u001b[0m: Unable to allocate 2.24 GiB for an array with shape (1000, 300792) and data type float64"
     ]
    }
   ],
   "source": [
    "altura = np_altura(nd_building, nd_ground)\n",
    "altura.shape"
   ]
  },
  {
   "cell_type": "code",
   "execution_count": null,
   "metadata": {},
   "outputs": [],
   "source": []
  },
  {
   "cell_type": "code",
   "execution_count": 124,
   "metadata": {},
   "outputs": [
    {
     "ename": "MemoryError",
     "evalue": "Unable to allocate 2.24 GiB for an array with shape (1000, 300792) and data type float64",
     "output_type": "error",
     "traceback": [
      "\u001b[1;31m---------------------------------------------------------------------------\u001b[0m",
      "\u001b[1;31mMemoryError\u001b[0m                               Traceback (most recent call last)",
      "\u001b[1;32m<ipython-input-124-7a7a856d1f0d>\u001b[0m in \u001b[0;36m<module>\u001b[1;34m\u001b[0m\n\u001b[1;32m----> 1\u001b[1;33m \u001b[0mnd_delta_x\u001b[0m \u001b[1;33m=\u001b[0m \u001b[0mnp\u001b[0m\u001b[1;33m.\u001b[0m\u001b[0msubtract\u001b[0m\u001b[1;33m(\u001b[0m\u001b[0mndt_building\u001b[0m\u001b[1;33m[\u001b[0m\u001b[1;36m0\u001b[0m\u001b[1;33m,\u001b[0m \u001b[1;33m:\u001b[0m\u001b[1;33m]\u001b[0m\u001b[1;33m.\u001b[0m\u001b[0mreshape\u001b[0m\u001b[1;33m(\u001b[0m\u001b[1;33m-\u001b[0m\u001b[1;36m1\u001b[0m\u001b[1;33m,\u001b[0m \u001b[1;36m1\u001b[0m\u001b[1;33m)\u001b[0m\u001b[1;33m.\u001b[0m\u001b[0mtranspose\u001b[0m\u001b[1;33m(\u001b[0m\u001b[1;33m)\u001b[0m\u001b[1;33m,\u001b[0m \u001b[0mnd_ground\u001b[0m\u001b[1;33m[\u001b[0m\u001b[1;33m:\u001b[0m\u001b[1;33m,\u001b[0m \u001b[1;36m0\u001b[0m\u001b[1;33m]\u001b[0m\u001b[1;33m.\u001b[0m\u001b[0mreshape\u001b[0m\u001b[1;33m(\u001b[0m\u001b[1;33m-\u001b[0m\u001b[1;36m1\u001b[0m\u001b[1;33m,\u001b[0m \u001b[1;36m1\u001b[0m\u001b[1;33m)\u001b[0m\u001b[1;33m)\u001b[0m\u001b[1;33m\u001b[0m\u001b[1;33m\u001b[0m\u001b[0m\n\u001b[0m\u001b[0;32m      2\u001b[0m \u001b[0mnd_delta_x\u001b[0m\u001b[1;33m\u001b[0m\u001b[1;33m\u001b[0m\u001b[0m\n",
      "\u001b[1;31mMemoryError\u001b[0m: Unable to allocate 2.24 GiB for an array with shape (1000, 300792) and data type float64"
     ]
    }
   ],
   "source": [
    "nd_delta_x = np.subtract(ndt_building[0, :].reshape(-1, 1).transpose(), nd_ground[:, 0].reshape(-1, 1))\n",
    "nd_delta_x"
   ]
  },
  {
   "cell_type": "code",
   "execution_count": 126,
   "metadata": {},
   "outputs": [
    {
     "ename": "MemoryError",
     "evalue": "Unable to allocate 20.2 GiB for an array with shape (3000, 902376) and data type float64",
     "output_type": "error",
     "traceback": [
      "\u001b[1;31m---------------------------------------------------------------------------\u001b[0m",
      "\u001b[1;31mMemoryError\u001b[0m                               Traceback (most recent call last)",
      "\u001b[1;32m<ipython-input-126-9d63921e7215>\u001b[0m in \u001b[0;36m<module>\u001b[1;34m\u001b[0m\n\u001b[1;32m----> 1\u001b[1;33m \u001b[0mnd_delta_y\u001b[0m \u001b[1;33m=\u001b[0m \u001b[0mnp\u001b[0m\u001b[1;33m.\u001b[0m\u001b[0msubtract\u001b[0m\u001b[1;33m(\u001b[0m\u001b[0mndt_building\u001b[0m\u001b[1;33m.\u001b[0m\u001b[0mreshape\u001b[0m\u001b[1;33m(\u001b[0m\u001b[1;33m-\u001b[0m\u001b[1;36m1\u001b[0m\u001b[1;33m,\u001b[0m \u001b[1;36m1\u001b[0m\u001b[1;33m)\u001b[0m\u001b[1;33m.\u001b[0m\u001b[0mtranspose\u001b[0m\u001b[1;33m(\u001b[0m\u001b[1;33m)\u001b[0m\u001b[1;33m,\u001b[0m \u001b[0mnd_ground\u001b[0m\u001b[1;33m.\u001b[0m\u001b[0mreshape\u001b[0m\u001b[1;33m(\u001b[0m\u001b[1;33m-\u001b[0m\u001b[1;36m1\u001b[0m\u001b[1;33m,\u001b[0m \u001b[1;36m1\u001b[0m\u001b[1;33m)\u001b[0m\u001b[1;33m)\u001b[0m\u001b[1;33m\u001b[0m\u001b[1;33m\u001b[0m\u001b[0m\n\u001b[0m\u001b[0;32m      2\u001b[0m \u001b[0mnd_delta_y\u001b[0m\u001b[1;33m\u001b[0m\u001b[1;33m\u001b[0m\u001b[0m\n\u001b[0;32m      3\u001b[0m \u001b[1;31m#n2dt_building_z = ndt_building[2, :].reshape(-1, 1).transpose()\u001b[0m\u001b[1;33m\u001b[0m\u001b[1;33m\u001b[0m\u001b[1;33m\u001b[0m\u001b[0m\n",
      "\u001b[1;31mMemoryError\u001b[0m: Unable to allocate 20.2 GiB for an array with shape (3000, 902376) and data type float64"
     ]
    }
   ],
   "source": [
    "nd_delta_y = np.subtract(ndt_building.reshape(-1, 1).transpose(), nd_ground.reshape(-1, 1))\n",
    "nd_delta_y\n",
    "#n2dt_building_z = ndt_building[2, :].reshape(-1, 1).transpose()"
   ]
  },
  {
   "cell_type": "code",
   "execution_count": null,
   "metadata": {},
   "outputs": [],
   "source": []
  },
  {
   "cell_type": "code",
   "execution_count": null,
   "metadata": {},
   "outputs": [],
   "source": []
  },
  {
   "cell_type": "code",
   "execution_count": 227,
   "metadata": {},
   "outputs": [],
   "source": [
    "quantidade_de_fusos = 36"
   ]
  },
  {
   "cell_type": "code",
   "execution_count": null,
   "metadata": {},
   "outputs": [],
   "source": []
  },
  {
   "cell_type": "code",
   "execution_count": null,
   "metadata": {},
   "outputs": [],
   "source": []
  },
  {
   "cell_type": "code",
   "execution_count": null,
   "metadata": {},
   "outputs": [],
   "source": []
  },
  {
   "cell_type": "code",
   "execution_count": 81,
   "metadata": {},
   "outputs": [
    {
     "data": {
      "text/plain": [
       "(6, 6)"
      ]
     },
     "execution_count": 81,
     "metadata": {},
     "output_type": "execute_result"
    }
   ],
   "source": [
    "import numpy as np\n",
    "## Testando outer\n",
    "a = np.array([[1,2,3,4,5,6]])\n",
    "b = a.transpose()\n",
    "c = np.subtract(a, b)\n",
    "c.shape"
   ]
  }
 ],
 "metadata": {
  "kernelspec": {
   "display_name": "Python 3.7.6 64-bit ('base': conda)",
   "language": "python",
   "name": "python37664bitbasecondac70dd39436774ee6a3afaa8e43f4d8f6"
  },
  "language_info": {
   "codemirror_mode": {
    "name": "ipython",
    "version": 3
   },
   "file_extension": ".py",
   "mimetype": "text/x-python",
   "name": "python",
   "nbconvert_exporter": "python",
   "pygments_lexer": "ipython3",
   "version": "3.8.2"
  }
 },
 "nbformat": 4,
 "nbformat_minor": 4
}
